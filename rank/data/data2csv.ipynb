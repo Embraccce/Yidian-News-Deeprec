{
 "cells": [
  {
   "cell_type": "markdown",
   "metadata": {},
   "source": [
    "### 将所有属性整合起来变成一条条的训练数据"
   ]
  },
  {
   "cell_type": "markdown",
   "metadata": {},
   "source": [
    "### 1. 导入包"
   ]
  },
  {
   "cell_type": "code",
   "execution_count": 1,
   "metadata": {},
   "outputs": [],
   "source": [
    "import pickle\n",
    "import polars as pl\n",
    "from tqdm import tqdm\n",
    "# 训练集上得到的数据，所有缺失值的填充要按照这个字典来\n",
    "FILL_VALUES = {\n",
    "    'docid_history_count': 0.3197370642850515,\n",
    "    'docid_expose_count': 0.35353441318778134,\n",
    "    'docid_ctr': 0.006392260064240436,\n",
    "    'docid_history_duration_mean': 0.28339285217401183,\n",
    "    'category1_ctr': 0.13570003591442992,\n",
    "    'category1_popularity': 0.036799390379834,\n",
    "    'category1_history_duration_mean': 0.32981757714259613,\n",
    "    'category2_ctr': 0.13293362050565613,\n",
    "    'category2_popularity': 0.007456100573611463,\n",
    "    'category2_history_duration_mean': 0.32639158456815426,\n",
    "    'userid_category1_ctr': 0.25,\n",
    "    'userid_category1_history_duration_mean': 0.34075001249075343,\n",
    "    'userid_category2_ctr': 0.3333333333333333,\n",
    "    'userid_category2_history_duration_mean': 0.3396034216144695,\n",
    "    'userid_history_duration_mean': 0.3472170022795658,\n",
    "    'userid_history_count': 0.33148076049294156,\n",
    "    'userid_expose_count': 0.3488569631166438,\n",
    "    'userid_ctr': 0.036223160969787456\n",
    " }"
   ]
  },
  {
   "cell_type": "code",
   "execution_count": 2,
   "metadata": {},
   "outputs": [],
   "source": [
    "# 设置文件目录\n",
    "offline = True\n",
    "mode = \"offline\" if offline else \"online\"\n",
    "data_path = f\"/data3/zxh/news_rec/{mode}_data\"\n",
    "public_path = \"/data3/zxh/news_rec/public_data\""
   ]
  },
  {
   "cell_type": "markdown",
   "metadata": {},
   "source": [
    "### 2. 处理 item 数据"
   ]
  },
  {
   "cell_type": "markdown",
   "metadata": {},
   "source": [
    "#### 2.1 keywords数据"
   ]
  },
  {
   "cell_type": "code",
   "execution_count": 3,
   "metadata": {},
   "outputs": [
    {
     "data": {
      "text/html": [
       "<div><style>\n",
       ".dataframe > thead > tr,\n",
       ".dataframe > tbody > tr {\n",
       "  text-align: right;\n",
       "  white-space: pre-wrap;\n",
       "}\n",
       "</style>\n",
       "<small>shape: (9, 3)</small><table border=\"1\" class=\"dataframe\"><thead><tr><th>statistic</th><th>article_id</th><th>keywords</th></tr><tr><td>str</td><td>f64</td><td>str</td></tr></thead><tbody><tr><td>&quot;count&quot;</td><td>622407.0</td><td>&quot;622407&quot;</td></tr><tr><td>&quot;null_count&quot;</td><td>0.0</td><td>&quot;0&quot;</td></tr><tr><td>&quot;mean&quot;</td><td>4.6463e8</td><td>null</td></tr><tr><td>&quot;std&quot;</td><td>1.5653e6</td><td>null</td></tr><tr><td>&quot;min&quot;</td><td>3.34493096e8</td><td>&quot;#^^0000ff:0.032714,0000ff:0.03…</td></tr><tr><td>&quot;25%&quot;</td><td>4.6345081e8</td><td>null</td></tr><tr><td>&quot;50%&quot;</td><td>4.64632474e8</td><td>null</td></tr><tr><td>&quot;75%&quot;</td><td>4.65821561e8</td><td>null</td></tr><tr><td>&quot;max&quot;</td><td>4.67278131e8</td><td>&quot;龙泉:1.000000&quot;</td></tr></tbody></table></div>"
      ],
      "text/plain": [
       "shape: (9, 3)\n",
       "┌────────────┬──────────────┬─────────────────────────────────┐\n",
       "│ statistic  ┆ article_id   ┆ keywords                        │\n",
       "│ ---        ┆ ---          ┆ ---                             │\n",
       "│ str        ┆ f64          ┆ str                             │\n",
       "╞════════════╪══════════════╪═════════════════════════════════╡\n",
       "│ count      ┆ 622407.0     ┆ 622407                          │\n",
       "│ null_count ┆ 0.0          ┆ 0                               │\n",
       "│ mean       ┆ 4.6463e8     ┆ null                            │\n",
       "│ std        ┆ 1.5653e6     ┆ null                            │\n",
       "│ min        ┆ 3.34493096e8 ┆ #^^0000ff:0.032714,0000ff:0.03… │\n",
       "│ 25%        ┆ 4.6345081e8  ┆ null                            │\n",
       "│ 50%        ┆ 4.64632474e8 ┆ null                            │\n",
       "│ 75%        ┆ 4.65821561e8 ┆ null                            │\n",
       "│ max        ┆ 4.67278131e8 ┆ 龙泉:1.000000                   │\n",
       "└────────────┴──────────────┴─────────────────────────────────┘"
      ]
     },
     "execution_count": 3,
     "metadata": {},
     "output_type": "execute_result"
    }
   ],
   "source": [
    "doc_keywords = pl.read_ipc(f\"{public_path}/doc_keywords_feature.ipc\")\n",
    "doc_keywords.describe()"
   ]
  },
  {
   "cell_type": "markdown",
   "metadata": {},
   "source": [
    "#### 2.2 处理 item 的 sparse 特征"
   ]
  },
  {
   "cell_type": "code",
   "execution_count": 4,
   "metadata": {},
   "outputs": [
    {
     "data": {
      "text/html": [
       "<div><style>\n",
       ".dataframe > thead > tr,\n",
       ".dataframe > tbody > tr {\n",
       "  text-align: right;\n",
       "  white-space: pre-wrap;\n",
       "}\n",
       "</style>\n",
       "<small>shape: (9, 6)</small><table border=\"1\" class=\"dataframe\"><thead><tr><th>statistic</th><th>article_id</th><th>publish_time</th><th>image_count</th><th>category_level1</th><th>category_level2</th></tr><tr><td>str</td><td>f64</td><td>f64</td><td>str</td><td>str</td><td>str</td></tr></thead><tbody><tr><td>&quot;count&quot;</td><td>633388.0</td><td>633146.0</td><td>&quot;633388&quot;</td><td>&quot;633388&quot;</td><td>&quot;633388&quot;</td></tr><tr><td>&quot;null_count&quot;</td><td>0.0</td><td>242.0</td><td>&quot;0&quot;</td><td>&quot;0&quot;</td><td>&quot;0&quot;</td></tr><tr><td>&quot;mean&quot;</td><td>4.6462e8</td><td>1.6250e12</td><td>null</td><td>null</td><td>null</td></tr><tr><td>&quot;std&quot;</td><td>1.5769e6</td><td>4.4808e8</td><td>null</td><td>null</td><td>null</td></tr><tr><td>&quot;min&quot;</td><td>3.25279629e8</td><td>1.5634e12</td><td>&quot;&quot;</td><td>&quot;&quot;</td><td>&quot;&quot;</td></tr><tr><td>&quot;25%&quot;</td><td>4.6344849e8</td><td>1.6247e12</td><td>null</td><td>null</td><td>null</td></tr><tr><td>&quot;50%&quot;</td><td>4.64618782e8</td><td>1.6250e12</td><td>null</td><td>null</td><td>null</td></tr><tr><td>&quot;75%&quot;</td><td>4.65814182e8</td><td>1.6253e12</td><td>null</td><td>null</td><td>null</td></tr><tr><td>&quot;max&quot;</td><td>4.67278131e8</td><td>1.6257e12</td><td>&quot;4&quot;</td><td>&quot;颜值才艺&quot;</td><td>&quot;颜值才艺/男神&quot;</td></tr></tbody></table></div>"
      ],
      "text/plain": [
       "shape: (9, 6)\n",
       "┌────────────┬──────────────┬──────────────┬─────────────┬─────────────────┬─────────────────┐\n",
       "│ statistic  ┆ article_id   ┆ publish_time ┆ image_count ┆ category_level1 ┆ category_level2 │\n",
       "│ ---        ┆ ---          ┆ ---          ┆ ---         ┆ ---             ┆ ---             │\n",
       "│ str        ┆ f64          ┆ f64          ┆ str         ┆ str             ┆ str             │\n",
       "╞════════════╪══════════════╪══════════════╪═════════════╪═════════════════╪═════════════════╡\n",
       "│ count      ┆ 633388.0     ┆ 633146.0     ┆ 633388      ┆ 633388          ┆ 633388          │\n",
       "│ null_count ┆ 0.0          ┆ 242.0        ┆ 0           ┆ 0               ┆ 0               │\n",
       "│ mean       ┆ 4.6462e8     ┆ 1.6250e12    ┆ null        ┆ null            ┆ null            │\n",
       "│ std        ┆ 1.5769e6     ┆ 4.4808e8     ┆ null        ┆ null            ┆ null            │\n",
       "│ min        ┆ 3.25279629e8 ┆ 1.5634e12    ┆             ┆                 ┆                 │\n",
       "│ 25%        ┆ 4.6344849e8  ┆ 1.6247e12    ┆ null        ┆ null            ┆ null            │\n",
       "│ 50%        ┆ 4.64618782e8 ┆ 1.6250e12    ┆ null        ┆ null            ┆ null            │\n",
       "│ 75%        ┆ 4.65814182e8 ┆ 1.6253e12    ┆ null        ┆ null            ┆ null            │\n",
       "│ max        ┆ 4.67278131e8 ┆ 1.6257e12    ┆ 4           ┆ 颜值才艺        ┆ 颜值才艺/男神   │\n",
       "└────────────┴──────────────┴──────────────┴─────────────┴─────────────────┴─────────────────┘"
      ]
     },
     "execution_count": 4,
     "metadata": {},
     "output_type": "execute_result"
    }
   ],
   "source": [
    "doc_sparse_feature = pl.read_ipc(f\"{public_path}/doc_sparse_feature.ipc\")\n",
    "doc_sparse_feature.describe()"
   ]
  },
  {
   "cell_type": "markdown",
   "metadata": {},
   "source": [
    "#### 2.3 处理 item 的 category1 信息"
   ]
  },
  {
   "cell_type": "code",
   "execution_count": 5,
   "metadata": {},
   "outputs": [
    {
     "data": {
      "text/html": [
       "<div><style>\n",
       ".dataframe > thead > tr,\n",
       ".dataframe > tbody > tr {\n",
       "  text-align: right;\n",
       "  white-space: pre-wrap;\n",
       "}\n",
       "</style>\n",
       "<small>shape: (9, 5)</small><table border=\"1\" class=\"dataframe\"><thead><tr><th>statistic</th><th>category_level1</th><th>category1_ctr</th><th>category1_popularity</th><th>category1_history_duration_mean</th></tr><tr><td>str</td><td>str</td><td>f64</td><td>f64</td><td>f64</td></tr></thead><tbody><tr><td>&quot;count&quot;</td><td>&quot;39&quot;</td><td>39.0</td><td>39.0</td><td>38.0</td></tr><tr><td>&quot;null_count&quot;</td><td>&quot;0&quot;</td><td>0.0</td><td>0.0</td><td>1.0</td></tr><tr><td>&quot;mean&quot;</td><td>null</td><td>0.130567</td><td>0.025641</td><td>0.323439</td></tr><tr><td>&quot;std&quot;</td><td>null</td><td>0.031055</td><td>0.029587</td><td>0.03478</td></tr><tr><td>&quot;min&quot;</td><td>&quot;&quot;</td><td>0.0</td><td>0.0</td><td>0.194861</td></tr><tr><td>&quot;25%&quot;</td><td>null</td><td>0.117285</td><td>0.002096</td><td>0.31536</td></tr><tr><td>&quot;50%&quot;</td><td>null</td><td>0.129982</td><td>0.016115</td><td>0.325716</td></tr><tr><td>&quot;75%&quot;</td><td>null</td><td>0.145029</td><td>0.03891</td><td>0.342276</td></tr><tr><td>&quot;max&quot;</td><td>&quot;颜值才艺&quot;</td><td>0.203812</td><td>0.108771</td><td>0.393342</td></tr></tbody></table></div>"
      ],
      "text/plain": [
       "shape: (9, 5)\n",
       "┌────────────┬─────────────────┬───────────────┬──────────────────────┬────────────────────────────┐\n",
       "│ statistic  ┆ category_level1 ┆ category1_ctr ┆ category1_popularity ┆ category1_history_duration │\n",
       "│ ---        ┆ ---             ┆ ---           ┆ ---                  ┆ _mea…                      │\n",
       "│ str        ┆ str             ┆ f64           ┆ f64                  ┆ ---                        │\n",
       "│            ┆                 ┆               ┆                      ┆ f64                        │\n",
       "╞════════════╪═════════════════╪═══════════════╪══════════════════════╪════════════════════════════╡\n",
       "│ count      ┆ 39              ┆ 39.0          ┆ 39.0                 ┆ 38.0                       │\n",
       "│ null_count ┆ 0               ┆ 0.0           ┆ 0.0                  ┆ 1.0                        │\n",
       "│ mean       ┆ null            ┆ 0.130567      ┆ 0.025641             ┆ 0.323439                   │\n",
       "│ std        ┆ null            ┆ 0.031055      ┆ 0.029587             ┆ 0.03478                    │\n",
       "│ min        ┆                 ┆ 0.0           ┆ 0.0                  ┆ 0.194861                   │\n",
       "│ 25%        ┆ null            ┆ 0.117285      ┆ 0.002096             ┆ 0.31536                    │\n",
       "│ 50%        ┆ null            ┆ 0.129982      ┆ 0.016115             ┆ 0.325716                   │\n",
       "│ 75%        ┆ null            ┆ 0.145029      ┆ 0.03891              ┆ 0.342276                   │\n",
       "│ max        ┆ 颜值才艺        ┆ 0.203812      ┆ 0.108771             ┆ 0.393342                   │\n",
       "└────────────┴─────────────────┴───────────────┴──────────────────────┴────────────────────────────┘"
      ]
     },
     "execution_count": 5,
     "metadata": {},
     "output_type": "execute_result"
    }
   ],
   "source": [
    "doc_category1_stats = pl.read_ipc(f\"{data_path}/doc_category1_stats_{mode}.ipc\").drop([\"category1_history_count\"])\n",
    "doc_category1_stats.describe()"
   ]
  },
  {
   "cell_type": "markdown",
   "metadata": {},
   "source": [
    "#### 2.4 处理 item 的 category2 信息"
   ]
  },
  {
   "cell_type": "code",
   "execution_count": 6,
   "metadata": {},
   "outputs": [
    {
     "data": {
      "text/html": [
       "<div><style>\n",
       ".dataframe > thead > tr,\n",
       ".dataframe > tbody > tr {\n",
       "  text-align: right;\n",
       "  white-space: pre-wrap;\n",
       "}\n",
       "</style>\n",
       "<small>shape: (196, 4)</small><table border=\"1\" class=\"dataframe\"><thead><tr><th>category_level2</th><th>category2_ctr</th><th>category2_popularity</th><th>category2_history_duration_mean</th></tr><tr><td>str</td><td>f64</td><td>f64</td><td>f64</td></tr></thead><tbody><tr><td>&quot;情感/婚姻与家庭&quot;</td><td>0.15524</td><td>0.082245</td><td>0.378103</td></tr><tr><td>&quot;娱乐/内地明星&quot;</td><td>0.135735</td><td>0.076843</td><td>0.342274</td></tr><tr><td>&quot;军事/军事新闻&quot;</td><td>0.170171</td><td>0.040931</td><td>0.343934</td></tr><tr><td>&quot;健康/疾病防护治疗及西医用药&quot;</td><td>0.128846</td><td>0.039994</td><td>0.329711</td></tr><tr><td>&quot;星座运势/风水与算命&quot;</td><td>0.201543</td><td>0.036544</td><td>0.251788</td></tr><tr><td>&hellip;</td><td>&hellip;</td><td>&hellip;</td><td>&hellip;</td></tr><tr><td>&quot;综艺/欧美综艺&quot;</td><td>0.0</td><td>0.0</td><td>null</td></tr><tr><td>&quot;音乐/韩国音乐&quot;</td><td>0.0</td><td>0.0</td><td>null</td></tr><tr><td>&quot;颜值才艺/民间大神&quot;</td><td>0.0</td><td>0.0</td><td>null</td></tr><tr><td>&quot;正能量/慈善公益&quot;</td><td>0.0</td><td>0.0</td><td>null</td></tr><tr><td>&quot;汽车/其他&quot;</td><td>0.0</td><td>0.0</td><td>null</td></tr></tbody></table></div>"
      ],
      "text/plain": [
       "shape: (196, 4)\n",
       "┌─────────────────────────────┬───────────────┬──────────────────────┬─────────────────────────────┐\n",
       "│ category_level2             ┆ category2_ctr ┆ category2_popularity ┆ category2_history_duration_ │\n",
       "│ ---                         ┆ ---           ┆ ---                  ┆ mea…                        │\n",
       "│ str                         ┆ f64           ┆ f64                  ┆ ---                         │\n",
       "│                             ┆               ┆                      ┆ f64                         │\n",
       "╞═════════════════════════════╪═══════════════╪══════════════════════╪═════════════════════════════╡\n",
       "│ 情感/婚姻与家庭             ┆ 0.15524       ┆ 0.082245             ┆ 0.378103                    │\n",
       "│ 娱乐/内地明星               ┆ 0.135735      ┆ 0.076843             ┆ 0.342274                    │\n",
       "│ 军事/军事新闻               ┆ 0.170171      ┆ 0.040931             ┆ 0.343934                    │\n",
       "│ 健康/疾病防护治疗及西医用药 ┆ 0.128846      ┆ 0.039994             ┆ 0.329711                    │\n",
       "│ 星座运势/风水与算命         ┆ 0.201543      ┆ 0.036544             ┆ 0.251788                    │\n",
       "│ …                           ┆ …             ┆ …                    ┆ …                           │\n",
       "│ 综艺/欧美综艺               ┆ 0.0           ┆ 0.0                  ┆ null                        │\n",
       "│ 音乐/韩国音乐               ┆ 0.0           ┆ 0.0                  ┆ null                        │\n",
       "│ 颜值才艺/民间大神           ┆ 0.0           ┆ 0.0                  ┆ null                        │\n",
       "│ 正能量/慈善公益             ┆ 0.0           ┆ 0.0                  ┆ null                        │\n",
       "│ 汽车/其他                   ┆ 0.0           ┆ 0.0                  ┆ null                        │\n",
       "└─────────────────────────────┴───────────────┴──────────────────────┴─────────────────────────────┘"
      ]
     },
     "execution_count": 6,
     "metadata": {},
     "output_type": "execute_result"
    }
   ],
   "source": [
    "doc_category2_stats = pl.read_ipc(f\"{data_path}/doc_category2_stats_{mode}.ipc\").drop([\"category2_history_count\"])\n",
    "doc_category2_stats"
   ]
  },
  {
   "cell_type": "markdown",
   "metadata": {},
   "source": [
    "#### 2.5 处理doc_ctr"
   ]
  },
  {
   "cell_type": "code",
   "execution_count": 7,
   "metadata": {},
   "outputs": [
    {
     "data": {
      "text/html": [
       "<div><style>\n",
       ".dataframe > thead > tr,\n",
       ".dataframe > tbody > tr {\n",
       "  text-align: right;\n",
       "  white-space: pre-wrap;\n",
       "}\n",
       "</style>\n",
       "<small>shape: (9, 5)</small><table border=\"1\" class=\"dataframe\"><thead><tr><th>statistic</th><th>article_id</th><th>docid_history_count</th><th>docid_expose_count</th><th>docid_ctr</th></tr><tr><td>str</td><td>f64</td><td>f64</td><td>f64</td><td>f64</td></tr></thead><tbody><tr><td>&quot;count&quot;</td><td>510422.0</td><td>510422.0</td><td>510422.0</td><td>510422.0</td></tr><tr><td>&quot;null_count&quot;</td><td>0.0</td><td>0.0</td><td>0.0</td><td>0.0</td></tr><tr><td>&quot;mean&quot;</td><td>4.6414e8</td><td>0.321515</td><td>0.368326</td><td>0.042859</td></tr><tr><td>&quot;std&quot;</td><td>1.3534e6</td><td>0.350572</td><td>0.272477</td><td>0.065692</td></tr><tr><td>&quot;min&quot;</td><td>3.25279629e8</td><td>0.0</td><td>0.0</td><td>-0.000457</td></tr><tr><td>&quot;25%&quot;</td><td>4.63212725e8</td><td>0.0</td><td>0.103044</td><td>0.0</td></tr><tr><td>&quot;50%&quot;</td><td>4.64168668e8</td><td>0.319737</td><td>0.353534</td><td>0.006393</td></tr><tr><td>&quot;75%&quot;</td><td>4.6509324e8</td><td>0.631201</td><td>0.591203</td><td>0.065915</td></tr><tr><td>&quot;max&quot;</td><td>4.66163727e8</td><td>1.0</td><td>1.0</td><td>0.639767</td></tr></tbody></table></div>"
      ],
      "text/plain": [
       "shape: (9, 5)\n",
       "┌────────────┬──────────────┬─────────────────────┬────────────────────┬───────────┐\n",
       "│ statistic  ┆ article_id   ┆ docid_history_count ┆ docid_expose_count ┆ docid_ctr │\n",
       "│ ---        ┆ ---          ┆ ---                 ┆ ---                ┆ ---       │\n",
       "│ str        ┆ f64          ┆ f64                 ┆ f64                ┆ f64       │\n",
       "╞════════════╪══════════════╪═════════════════════╪════════════════════╪═══════════╡\n",
       "│ count      ┆ 510422.0     ┆ 510422.0            ┆ 510422.0           ┆ 510422.0  │\n",
       "│ null_count ┆ 0.0          ┆ 0.0                 ┆ 0.0                ┆ 0.0       │\n",
       "│ mean       ┆ 4.6414e8     ┆ 0.321515            ┆ 0.368326           ┆ 0.042859  │\n",
       "│ std        ┆ 1.3534e6     ┆ 0.350572            ┆ 0.272477           ┆ 0.065692  │\n",
       "│ min        ┆ 3.25279629e8 ┆ 0.0                 ┆ 0.0                ┆ -0.000457 │\n",
       "│ 25%        ┆ 4.63212725e8 ┆ 0.0                 ┆ 0.103044           ┆ 0.0       │\n",
       "│ 50%        ┆ 4.64168668e8 ┆ 0.319737            ┆ 0.353534           ┆ 0.006393  │\n",
       "│ 75%        ┆ 4.6509324e8  ┆ 0.631201            ┆ 0.591203           ┆ 0.065915  │\n",
       "│ max        ┆ 4.66163727e8 ┆ 1.0                 ┆ 1.0                ┆ 0.639767  │\n",
       "└────────────┴──────────────┴─────────────────────┴────────────────────┴───────────┘"
      ]
     },
     "execution_count": 7,
     "metadata": {},
     "output_type": "execute_result"
    }
   ],
   "source": [
    "doc_ctr = pl.read_ipc(f\"{data_path}/doc_ctr_{mode}.ipc\")\n",
    "doc_ctr = doc_ctr.with_columns(\n",
    "    pl.col(\"docid_wilson_ctr\").alias(\"docid_ctr\"),\n",
    "    pl.col(\"docid_expose_count_transformed_box\").alias(\"docid_expose_count\"),\n",
    "    pl.col(\"docid_history_count_transformed_box\").alias(\"docid_history_count\")\n",
    ").drop([\"docid_wilson_ctr\", \"docid_expose_count_transformed_box\", \"docid_history_count_transformed_box\"])\n",
    "doc_ctr.describe()"
   ]
  },
  {
   "cell_type": "markdown",
   "metadata": {},
   "source": [
    "#### 2.6 处理doc_duration_mean"
   ]
  },
  {
   "cell_type": "code",
   "execution_count": 8,
   "metadata": {},
   "outputs": [
    {
     "data": {
      "text/html": [
       "<div><style>\n",
       ".dataframe > thead > tr,\n",
       ".dataframe > tbody > tr {\n",
       "  text-align: right;\n",
       "  white-space: pre-wrap;\n",
       "}\n",
       "</style>\n",
       "<small>shape: (263_897, 2)</small><table border=\"1\" class=\"dataframe\"><thead><tr><th>article_id</th><th>docid_history_duration_mean</th></tr><tr><td>i64</td><td>f64</td></tr></thead><tbody><tr><td>465886092</td><td>0.240756</td></tr><tr><td>465139463</td><td>0.234646</td></tr><tr><td>463371324</td><td>0.248754</td></tr><tr><td>463798514</td><td>0.314775</td></tr><tr><td>463028025</td><td>0.219942</td></tr><tr><td>&hellip;</td><td>&hellip;</td></tr><tr><td>466054392</td><td>0.333897</td></tr><tr><td>464730092</td><td>0.304147</td></tr><tr><td>464346290</td><td>0.342493</td></tr><tr><td>462280997</td><td>0.358856</td></tr><tr><td>464227401</td><td>0.077115</td></tr></tbody></table></div>"
      ],
      "text/plain": [
       "shape: (263_897, 2)\n",
       "┌────────────┬─────────────────────────────┐\n",
       "│ article_id ┆ docid_history_duration_mean │\n",
       "│ ---        ┆ ---                         │\n",
       "│ i64        ┆ f64                         │\n",
       "╞════════════╪═════════════════════════════╡\n",
       "│ 465886092  ┆ 0.240756                    │\n",
       "│ 465139463  ┆ 0.234646                    │\n",
       "│ 463371324  ┆ 0.248754                    │\n",
       "│ 463798514  ┆ 0.314775                    │\n",
       "│ 463028025  ┆ 0.219942                    │\n",
       "│ …          ┆ …                           │\n",
       "│ 466054392  ┆ 0.333897                    │\n",
       "│ 464730092  ┆ 0.304147                    │\n",
       "│ 464346290  ┆ 0.342493                    │\n",
       "│ 462280997  ┆ 0.358856                    │\n",
       "│ 464227401  ┆ 0.077115                    │\n",
       "└────────────┴─────────────────────────────┘"
      ]
     },
     "execution_count": 8,
     "metadata": {},
     "output_type": "execute_result"
    }
   ],
   "source": [
    "doc_duration_mean = pl.read_ipc(f\"{data_path}/doc_duration_mean_{mode}.ipc\")\n",
    "doc_duration_mean"
   ]
  },
  {
   "cell_type": "markdown",
   "metadata": {},
   "source": [
    "#### 2.7 合并为 doc_columns"
   ]
  },
  {
   "cell_type": "code",
   "execution_count": 9,
   "metadata": {},
   "outputs": [
    {
     "data": {
      "text/html": [
       "<div><style>\n",
       ".dataframe > thead > tr,\n",
       ".dataframe > tbody > tr {\n",
       "  text-align: right;\n",
       "  white-space: pre-wrap;\n",
       "}\n",
       "</style>\n",
       "<small>shape: (9, 17)</small><table border=\"1\" class=\"dataframe\"><thead><tr><th>statistic</th><th>article_id</th><th>keywords</th><th>publish_time</th><th>image_count</th><th>category_level1</th><th>category_level2</th><th>docid_history_count</th><th>docid_expose_count</th><th>docid_ctr</th><th>docid_history_duration_mean</th><th>category1_ctr</th><th>category1_popularity</th><th>category1_history_duration_mean</th><th>category2_ctr</th><th>category2_popularity</th><th>category2_history_duration_mean</th></tr><tr><td>str</td><td>f64</td><td>str</td><td>f64</td><td>str</td><td>str</td><td>str</td><td>f64</td><td>f64</td><td>f64</td><td>f64</td><td>f64</td><td>f64</td><td>f64</td><td>f64</td><td>f64</td><td>f64</td></tr></thead><tbody><tr><td>&quot;count&quot;</td><td>633391.0</td><td>&quot;622407&quot;</td><td>633146.0</td><td>&quot;633388&quot;</td><td>&quot;633391&quot;</td><td>&quot;633391&quot;</td><td>510422.0</td><td>510422.0</td><td>510422.0</td><td>263897.0</td><td>633391.0</td><td>633391.0</td><td>633371.0</td><td>633385.0</td><td>633385.0</td><td>633317.0</td></tr><tr><td>&quot;null_count&quot;</td><td>0.0</td><td>&quot;10984&quot;</td><td>245.0</td><td>&quot;3&quot;</td><td>&quot;0&quot;</td><td>&quot;0&quot;</td><td>122969.0</td><td>122969.0</td><td>122969.0</td><td>369494.0</td><td>0.0</td><td>0.0</td><td>20.0</td><td>6.0</td><td>6.0</td><td>74.0</td></tr><tr><td>&quot;mean&quot;</td><td>4.6462e8</td><td>null</td><td>1.6250e12</td><td>null</td><td>null</td><td>null</td><td>0.321515</td><td>0.368326</td><td>0.042859</td><td>0.276945</td><td>0.139</td><td>0.044158</td><td>0.324469</td><td>0.135475</td><td>0.015962</td><td>0.319449</td></tr><tr><td>&quot;std&quot;</td><td>1.5769e6</td><td>null</td><td>4.4808e8</td><td>null</td><td>null</td><td>null</td><td>0.350572</td><td>0.272477</td><td>0.065692</td><td>0.092258</td><td>0.021447</td><td>0.032997</td><td>0.035638</td><td>0.031786</td><td>0.020485</td><td>0.03857</td></tr><tr><td>&quot;min&quot;</td><td>3.25279629e8</td><td>&quot;#^^0000ff:0.032714,0000ff:0.03…</td><td>1.5634e12</td><td>&quot;&quot;</td><td>&quot;&quot;</td><td>&quot;&quot;</td><td>0.0</td><td>0.0</td><td>-0.000457</td><td>0.029607</td><td>0.0</td><td>0.0</td><td>0.194861</td><td>0.0</td><td>0.0</td><td>0.064567</td></tr><tr><td>&quot;25%&quot;</td><td>4.63448492e8</td><td>null</td><td>1.6247e12</td><td>null</td><td>null</td><td>null</td><td>0.0</td><td>0.103044</td><td>0.0</td><td>0.216367</td><td>0.12763</td><td>0.018259</td><td>0.31536</td><td>0.118006</td><td>0.003806</td><td>0.302457</td></tr><tr><td>&quot;50%&quot;</td><td>4.64618782e8</td><td>null</td><td>1.6250e12</td><td>null</td><td>null</td><td>null</td><td>0.319737</td><td>0.353534</td><td>0.006393</td><td>0.283393</td><td>0.1357</td><td>0.036799</td><td>0.329818</td><td>0.132934</td><td>0.007456</td><td>0.326392</td></tr><tr><td>&quot;75%&quot;</td><td>4.65814182e8</td><td>null</td><td>1.6253e12</td><td>null</td><td>null</td><td>null</td><td>0.631201</td><td>0.591203</td><td>0.065915</td><td>0.338884</td><td>0.145029</td><td>0.073908</td><td>0.342276</td><td>0.14895</td><td>0.023202</td><td>0.341365</td></tr><tr><td>&quot;max&quot;</td><td>4.67278131e8</td><td>&quot;龙泉:1.000000&quot;</td><td>1.6257e12</td><td>&quot;4&quot;</td><td>&quot;颜值才艺&quot;</td><td>&quot;颜值才艺/男神&quot;</td><td>1.0</td><td>1.0</td><td>0.639767</td><td>0.959917</td><td>0.203812</td><td>0.108771</td><td>0.393342</td><td>0.5</td><td>0.082245</td><td>0.43561</td></tr></tbody></table></div>"
      ],
      "text/plain": [
       "shape: (9, 17)\n",
       "┌───────────┬───────────┬───────────┬───────────┬───┬───────────┬───────────┬───────────┬──────────┐\n",
       "│ statistic ┆ article_i ┆ keywords  ┆ publish_t ┆ … ┆ category1 ┆ category2 ┆ category2 ┆ category │\n",
       "│ ---       ┆ d         ┆ ---       ┆ ime       ┆   ┆ _history_ ┆ _ctr      ┆ _populari ┆ 2_histor │\n",
       "│ str       ┆ ---       ┆ str       ┆ ---       ┆   ┆ duration_ ┆ ---       ┆ ty        ┆ y_durati │\n",
       "│           ┆ f64       ┆           ┆ f64       ┆   ┆ mea…      ┆ f64       ┆ ---       ┆ on_mea…  │\n",
       "│           ┆           ┆           ┆           ┆   ┆ ---       ┆           ┆ f64       ┆ ---      │\n",
       "│           ┆           ┆           ┆           ┆   ┆ f64       ┆           ┆           ┆ f64      │\n",
       "╞═══════════╪═══════════╪═══════════╪═══════════╪═══╪═══════════╪═══════════╪═══════════╪══════════╡\n",
       "│ count     ┆ 633391.0  ┆ 622407    ┆ 633146.0  ┆ … ┆ 633371.0  ┆ 633385.0  ┆ 633385.0  ┆ 633317.0 │\n",
       "│ null_coun ┆ 0.0       ┆ 10984     ┆ 245.0     ┆ … ┆ 20.0      ┆ 6.0       ┆ 6.0       ┆ 74.0     │\n",
       "│ t         ┆           ┆           ┆           ┆   ┆           ┆           ┆           ┆          │\n",
       "│ mean      ┆ 4.6462e8  ┆ null      ┆ 1.6250e12 ┆ … ┆ 0.324469  ┆ 0.135475  ┆ 0.015962  ┆ 0.319449 │\n",
       "│ std       ┆ 1.5769e6  ┆ null      ┆ 4.4808e8  ┆ … ┆ 0.035638  ┆ 0.031786  ┆ 0.020485  ┆ 0.03857  │\n",
       "│ min       ┆ 3.2527962 ┆ #^^0000ff ┆ 1.5634e12 ┆ … ┆ 0.194861  ┆ 0.0       ┆ 0.0       ┆ 0.064567 │\n",
       "│           ┆ 9e8       ┆ :0.032714 ┆           ┆   ┆           ┆           ┆           ┆          │\n",
       "│           ┆           ┆ ,0000ff:0 ┆           ┆   ┆           ┆           ┆           ┆          │\n",
       "│           ┆           ┆ .03…      ┆           ┆   ┆           ┆           ┆           ┆          │\n",
       "│ 25%       ┆ 4.6344849 ┆ null      ┆ 1.6247e12 ┆ … ┆ 0.31536   ┆ 0.118006  ┆ 0.003806  ┆ 0.302457 │\n",
       "│           ┆ 2e8       ┆           ┆           ┆   ┆           ┆           ┆           ┆          │\n",
       "│ 50%       ┆ 4.6461878 ┆ null      ┆ 1.6250e12 ┆ … ┆ 0.329818  ┆ 0.132934  ┆ 0.007456  ┆ 0.326392 │\n",
       "│           ┆ 2e8       ┆           ┆           ┆   ┆           ┆           ┆           ┆          │\n",
       "│ 75%       ┆ 4.6581418 ┆ null      ┆ 1.6253e12 ┆ … ┆ 0.342276  ┆ 0.14895   ┆ 0.023202  ┆ 0.341365 │\n",
       "│           ┆ 2e8       ┆           ┆           ┆   ┆           ┆           ┆           ┆          │\n",
       "│ max       ┆ 4.6727813 ┆ 龙泉:1.00 ┆ 1.6257e12 ┆ … ┆ 0.393342  ┆ 0.5       ┆ 0.082245  ┆ 0.43561  │\n",
       "│           ┆ 1e8       ┆ 0000      ┆           ┆   ┆           ┆           ┆           ┆          │\n",
       "└───────────┴───────────┴───────────┴───────────┴───┴───────────┴───────────┴───────────┴──────────┘"
      ]
     },
     "execution_count": 9,
     "metadata": {},
     "output_type": "execute_result"
    }
   ],
   "source": [
    "doc_columns = (\n",
    "    doc_keywords.join(doc_sparse_feature, on=\"article_id\", how=\"full\")\n",
    "    # 在 join 过程中直接处理 article_id\n",
    "    .with_columns(\n",
    "        pl.coalesce([\"article_id\", \"article_id_right\"]).alias(\"article_id\")\n",
    "    )\n",
    "    .drop(\"article_id_right\")  # 如果不需要，删除临时列\n",
    ")\n",
    "\n",
    "doc_columns = (\n",
    "    doc_columns.join(doc_ctr, on=\"article_id\", how=\"full\")\n",
    "    # 在 join 过程中直接处理 article_id\n",
    "    .with_columns(\n",
    "        pl.coalesce([\"article_id\", \"article_id_right\"]).alias(\"article_id\"),\n",
    "        pl.col(\"category_level1\").fill_null(\"\"),\n",
    "        pl.col(\"category_level2\").fill_null(\"\")\n",
    "    )\n",
    "    .drop(\"article_id_right\")  # 如果不需要，删除临时列\n",
    ")\n",
    "\n",
    "doc_columns = (\n",
    "    doc_columns.join(doc_duration_mean, on=\"article_id\", how=\"full\")\n",
    "    # 在 join 过程中直接处理 article_id\n",
    "    .with_columns(\n",
    "        pl.coalesce([\"article_id\", \"article_id_right\"]).alias(\"article_id\"),\n",
    "    )\n",
    "    .drop(\"article_id_right\")  # 删除临时列\n",
    ")\n",
    "\n",
    "doc_columns = (\n",
    "    doc_columns\n",
    "    .join(doc_category1_stats, on=\"category_level1\", how=\"left\")\n",
    "    .join(doc_category2_stats, on=\"category_level2\", how=\"left\")\n",
    ")\n",
    "\n",
    "\n",
    "doc_columns.describe()"
   ]
  },
  {
   "cell_type": "code",
   "execution_count": 10,
   "metadata": {},
   "outputs": [
    {
     "data": {
      "text/html": [
       "<div><style>\n",
       ".dataframe > thead > tr,\n",
       ".dataframe > tbody > tr {\n",
       "  text-align: right;\n",
       "  white-space: pre-wrap;\n",
       "}\n",
       "</style>\n",
       "<small>shape: (633_391, 16)</small><table border=\"1\" class=\"dataframe\"><thead><tr><th>article_id</th><th>keywords</th><th>publish_time</th><th>image_count</th><th>category_level1</th><th>category_level2</th><th>docid_history_count</th><th>docid_expose_count</th><th>docid_ctr</th><th>docid_history_duration_mean</th><th>category1_ctr</th><th>category1_popularity</th><th>category1_history_duration_mean</th><th>category2_ctr</th><th>category2_popularity</th><th>category2_history_duration_mean</th></tr><tr><td>i64</td><td>str</td><td>i64</td><td>str</td><td>str</td><td>str</td><td>f64</td><td>f64</td><td>f64</td><td>f64</td><td>f64</td><td>f64</td><td>f64</td><td>f64</td><td>f64</td><td>f64</td></tr></thead><tbody><tr><td>349635709</td><td>&quot;上班族:0.052498,买车:0.050440,二手车:0…</td><td>1572519971000</td><td>&quot;4&quot;</td><td>&quot;汽车&quot;</td><td>&quot;汽车/用车&quot;</td><td>0.0</td><td>0.0</td><td>0.0</td><td>null</td><td>0.117285</td><td>0.018259</td><td>0.307542</td><td>0.114759</td><td>0.005196</td><td>0.326605</td></tr><tr><td>361653323</td><td>&quot;医生:0.133734,吸烟:0.149266,板蓝根:0.…</td><td>1624522285000</td><td>&quot;1&quot;</td><td>&quot;健康&quot;</td><td>&quot;健康/疾病防护治疗及西医用药&quot;</td><td>0.0</td><td>0.528662</td><td>-1.2302e-17</td><td>null</td><td>0.1361</td><td>0.075243</td><td>0.3257</td><td>0.128846</td><td>0.039994</td><td>0.329711</td></tr><tr><td>426732705</td><td>&quot;155n:0.033340,polo:0.029521,中控…</td><td>1610808303000</td><td>&quot;4&quot;</td><td>&quot;汽车&quot;</td><td>&quot;汽车/买车&quot;</td><td>0.0</td><td>0.0</td><td>0.0</td><td>null</td><td>0.117285</td><td>0.018259</td><td>0.307542</td><td>0.126386</td><td>0.007456</td><td>0.28925</td></tr><tr><td>430221183</td><td>&quot;etc:0.038040,代表:0.028015,内饰:0.…</td><td>1612581556000</td><td>&quot;2&quot;</td><td>&quot;汽车&quot;</td><td>&quot;汽车/买车&quot;</td><td>0.0</td><td>0.0</td><td>0.0</td><td>null</td><td>0.117285</td><td>0.018259</td><td>0.307542</td><td>0.126386</td><td>0.007456</td><td>0.28925</td></tr><tr><td>441756326</td><td>&quot;丰田凯美瑞:0.089051,充电器:0.058525,品牌…</td><td>1618825835000</td><td>&quot;4&quot;</td><td>&quot;汽车&quot;</td><td>&quot;汽车/买车&quot;</td><td>0.0</td><td>0.0</td><td>0.0</td><td>null</td><td>0.117285</td><td>0.018259</td><td>0.307542</td><td>0.126386</td><td>0.007456</td><td>0.28925</td></tr><tr><td>&hellip;</td><td>&hellip;</td><td>&hellip;</td><td>&hellip;</td><td>&hellip;</td><td>&hellip;</td><td>&hellip;</td><td>&hellip;</td><td>&hellip;</td><td>&hellip;</td><td>&hellip;</td><td>&hellip;</td><td>&hellip;</td><td>&hellip;</td><td>&hellip;</td><td>&hellip;</td></tr><tr><td>467278115</td><td>&quot;cj:0.048329,三巨头:0.027688,争冠:0.…</td><td>1625672111000</td><td>&quot;4&quot;</td><td>&quot;体育&quot;</td><td>&quot;体育/NBA&quot;</td><td>null</td><td>null</td><td>null</td><td>null</td><td>0.171307</td><td>0.086241</td><td>0.329818</td><td>0.200853</td><td>0.02414</td><td>0.328701</td></tr><tr><td>467278124</td><td>&quot;t恤:0.031757,主理人:0.025905,优雅:0.…</td><td>1625672116000</td><td>&quot;4&quot;</td><td>&quot;时尚&quot;</td><td>&quot;时尚/明星时尚&quot;</td><td>null</td><td>null</td><td>null</td><td>null</td><td>0.14042</td><td>0.028536</td><td>0.194861</td><td>0.096845</td><td>0.006064</td><td>0.222068</td></tr><tr><td>463642111</td><td>null</td><td>null</td><td>null</td><td>&quot;&quot;</td><td>&quot;&quot;</td><td>0.591687</td><td>0.504615</td><td>0.064033</td><td>0.200082</td><td>0.107493</td><td>0.000024</td><td>0.316754</td><td>0.107472</td><td>0.000024</td><td>0.316754</td></tr><tr><td>465493907</td><td>null</td><td>null</td><td>null</td><td>&quot;&quot;</td><td>&quot;&quot;</td><td>0.0</td><td>0.256481</td><td>-3.1392e-17</td><td>null</td><td>0.107493</td><td>0.000024</td><td>0.316754</td><td>0.107472</td><td>0.000024</td><td>0.316754</td></tr><tr><td>465726799</td><td>null</td><td>null</td><td>null</td><td>&quot;&quot;</td><td>&quot;&quot;</td><td>0.661634</td><td>0.558482</td><td>0.074438</td><td>0.178285</td><td>0.107493</td><td>0.000024</td><td>0.316754</td><td>0.107472</td><td>0.000024</td><td>0.316754</td></tr></tbody></table></div>"
      ],
      "text/plain": [
       "shape: (633_391, 16)\n",
       "┌───────────┬───────────┬───────────┬───────────┬───┬───────────┬───────────┬───────────┬──────────┐\n",
       "│ article_i ┆ keywords  ┆ publish_t ┆ image_cou ┆ … ┆ category1 ┆ category2 ┆ category2 ┆ category │\n",
       "│ d         ┆ ---       ┆ ime       ┆ nt        ┆   ┆ _history_ ┆ _ctr      ┆ _populari ┆ 2_histor │\n",
       "│ ---       ┆ str       ┆ ---       ┆ ---       ┆   ┆ duration_ ┆ ---       ┆ ty        ┆ y_durati │\n",
       "│ i64       ┆           ┆ i64       ┆ str       ┆   ┆ mea…      ┆ f64       ┆ ---       ┆ on_mea…  │\n",
       "│           ┆           ┆           ┆           ┆   ┆ ---       ┆           ┆ f64       ┆ ---      │\n",
       "│           ┆           ┆           ┆           ┆   ┆ f64       ┆           ┆           ┆ f64      │\n",
       "╞═══════════╪═══════════╪═══════════╪═══════════╪═══╪═══════════╪═══════════╪═══════════╪══════════╡\n",
       "│ 349635709 ┆ 上班族:0. ┆ 157251997 ┆ 4         ┆ … ┆ 0.307542  ┆ 0.114759  ┆ 0.005196  ┆ 0.326605 │\n",
       "│           ┆ 052498,买 ┆ 1000      ┆           ┆   ┆           ┆           ┆           ┆          │\n",
       "│           ┆ 车:0.0504 ┆           ┆           ┆   ┆           ┆           ┆           ┆          │\n",
       "│           ┆ 40,二手车 ┆           ┆           ┆   ┆           ┆           ┆           ┆          │\n",
       "│           ┆ :0…       ┆           ┆           ┆   ┆           ┆           ┆           ┆          │\n",
       "│ 361653323 ┆ 医生:0.13 ┆ 162452228 ┆ 1         ┆ … ┆ 0.3257    ┆ 0.128846  ┆ 0.039994  ┆ 0.329711 │\n",
       "│           ┆ 3734,吸烟 ┆ 5000      ┆           ┆   ┆           ┆           ┆           ┆          │\n",
       "│           ┆ :0.149266 ┆           ┆           ┆   ┆           ┆           ┆           ┆          │\n",
       "│           ┆ ,板蓝根:0 ┆           ┆           ┆   ┆           ┆           ┆           ┆          │\n",
       "│           ┆ .…        ┆           ┆           ┆   ┆           ┆           ┆           ┆          │\n",
       "│ 426732705 ┆ 155n:0.03 ┆ 161080830 ┆ 4         ┆ … ┆ 0.307542  ┆ 0.126386  ┆ 0.007456  ┆ 0.28925  │\n",
       "│           ┆ 3340,polo ┆ 3000      ┆           ┆   ┆           ┆           ┆           ┆          │\n",
       "│           ┆ :0.029521 ┆           ┆           ┆   ┆           ┆           ┆           ┆          │\n",
       "│           ┆ ,中控…    ┆           ┆           ┆   ┆           ┆           ┆           ┆          │\n",
       "│ 430221183 ┆ etc:0.038 ┆ 161258155 ┆ 2         ┆ … ┆ 0.307542  ┆ 0.126386  ┆ 0.007456  ┆ 0.28925  │\n",
       "│           ┆ 040,代表: ┆ 6000      ┆           ┆   ┆           ┆           ┆           ┆          │\n",
       "│           ┆ 0.028015, ┆           ┆           ┆   ┆           ┆           ┆           ┆          │\n",
       "│           ┆ 内饰:0.…  ┆           ┆           ┆   ┆           ┆           ┆           ┆          │\n",
       "│ 441756326 ┆ 丰田凯美  ┆ 161882583 ┆ 4         ┆ … ┆ 0.307542  ┆ 0.126386  ┆ 0.007456  ┆ 0.28925  │\n",
       "│           ┆ 瑞:0.0890 ┆ 5000      ┆           ┆   ┆           ┆           ┆           ┆          │\n",
       "│           ┆ 51,充电器 ┆           ┆           ┆   ┆           ┆           ┆           ┆          │\n",
       "│           ┆ :0.058525 ┆           ┆           ┆   ┆           ┆           ┆           ┆          │\n",
       "│           ┆ ,品牌…    ┆           ┆           ┆   ┆           ┆           ┆           ┆          │\n",
       "│ …         ┆ …         ┆ …         ┆ …         ┆ … ┆ …         ┆ …         ┆ …         ┆ …        │\n",
       "│ 467278115 ┆ cj:0.0483 ┆ 162567211 ┆ 4         ┆ … ┆ 0.329818  ┆ 0.200853  ┆ 0.02414   ┆ 0.328701 │\n",
       "│           ┆ 29,三巨头 ┆ 1000      ┆           ┆   ┆           ┆           ┆           ┆          │\n",
       "│           ┆ :0.027688 ┆           ┆           ┆   ┆           ┆           ┆           ┆          │\n",
       "│           ┆ ,争冠:0.… ┆           ┆           ┆   ┆           ┆           ┆           ┆          │\n",
       "│ 467278124 ┆ t恤:0.031 ┆ 162567211 ┆ 4         ┆ … ┆ 0.194861  ┆ 0.096845  ┆ 0.006064  ┆ 0.222068 │\n",
       "│           ┆ 757,主理  ┆ 6000      ┆           ┆   ┆           ┆           ┆           ┆          │\n",
       "│           ┆ 人:0.0259 ┆           ┆           ┆   ┆           ┆           ┆           ┆          │\n",
       "│           ┆ 05,优雅:0 ┆           ┆           ┆   ┆           ┆           ┆           ┆          │\n",
       "│           ┆ .…        ┆           ┆           ┆   ┆           ┆           ┆           ┆          │\n",
       "│ 463642111 ┆ null      ┆ null      ┆ null      ┆ … ┆ 0.316754  ┆ 0.107472  ┆ 0.000024  ┆ 0.316754 │\n",
       "│ 465493907 ┆ null      ┆ null      ┆ null      ┆ … ┆ 0.316754  ┆ 0.107472  ┆ 0.000024  ┆ 0.316754 │\n",
       "│ 465726799 ┆ null      ┆ null      ┆ null      ┆ … ┆ 0.316754  ┆ 0.107472  ┆ 0.000024  ┆ 0.316754 │\n",
       "└───────────┴───────────┴───────────┴───────────┴───┴───────────┴───────────┴───────────┴──────────┘"
      ]
     },
     "execution_count": 10,
     "metadata": {},
     "output_type": "execute_result"
    }
   ],
   "source": [
    "doc_columns"
   ]
  },
  {
   "cell_type": "markdown",
   "metadata": {},
   "source": [
    "### 3. 处理 user 数据"
   ]
  },
  {
   "cell_type": "markdown",
   "metadata": {},
   "source": [
    "#### 3.1 处理 user_sparse"
   ]
  },
  {
   "cell_type": "code",
   "execution_count": 11,
   "metadata": {},
   "outputs": [],
   "source": [
    "user_sparse_feature = pl.read_ipc(f\"{public_path}/user_sparse_feature.ipc\")"
   ]
  },
  {
   "cell_type": "markdown",
   "metadata": {},
   "source": [
    "#### 3.2 处理 user_duration_mean"
   ]
  },
  {
   "cell_type": "code",
   "execution_count": 12,
   "metadata": {},
   "outputs": [
    {
     "data": {
      "text/html": [
       "<div><style>\n",
       ".dataframe > thead > tr,\n",
       ".dataframe > tbody > tr {\n",
       "  text-align: right;\n",
       "  white-space: pre-wrap;\n",
       "}\n",
       "</style>\n",
       "<small>shape: (869_946, 2)</small><table border=\"1\" class=\"dataframe\"><thead><tr><th>user_id</th><th>userid_history_duration_mean</th></tr><tr><td>i64</td><td>f64</td></tr></thead><tbody><tr><td>2428862566</td><td>0.329776</td></tr><tr><td>1628826228</td><td>0.261558</td></tr><tr><td>2425081826</td><td>0.340964</td></tr><tr><td>2327646976</td><td>0.220498</td></tr><tr><td>2420880976</td><td>0.300819</td></tr><tr><td>&hellip;</td><td>&hellip;</td></tr><tr><td>2309825734</td><td>0.394413</td></tr><tr><td>2395993612</td><td>0.453946</td></tr><tr><td>1515669388</td><td>0.246478</td></tr><tr><td>2393402292</td><td>0.377204</td></tr><tr><td>2398768446</td><td>0.37626</td></tr></tbody></table></div>"
      ],
      "text/plain": [
       "shape: (869_946, 2)\n",
       "┌────────────┬──────────────────────────────┐\n",
       "│ user_id    ┆ userid_history_duration_mean │\n",
       "│ ---        ┆ ---                          │\n",
       "│ i64        ┆ f64                          │\n",
       "╞════════════╪══════════════════════════════╡\n",
       "│ 2428862566 ┆ 0.329776                     │\n",
       "│ 1628826228 ┆ 0.261558                     │\n",
       "│ 2425081826 ┆ 0.340964                     │\n",
       "│ 2327646976 ┆ 0.220498                     │\n",
       "│ 2420880976 ┆ 0.300819                     │\n",
       "│ …          ┆ …                            │\n",
       "│ 2309825734 ┆ 0.394413                     │\n",
       "│ 2395993612 ┆ 0.453946                     │\n",
       "│ 1515669388 ┆ 0.246478                     │\n",
       "│ 2393402292 ┆ 0.377204                     │\n",
       "│ 2398768446 ┆ 0.37626                      │\n",
       "└────────────┴──────────────────────────────┘"
      ]
     },
     "execution_count": 12,
     "metadata": {},
     "output_type": "execute_result"
    }
   ],
   "source": [
    "user_duration_mean = pl.read_ipc(f\"{data_path}/user_duration_mean_{mode}.ipc\")\n",
    "user_duration_mean"
   ]
  },
  {
   "cell_type": "markdown",
   "metadata": {},
   "source": [
    "#### 3.3 处理 user_category1_stats"
   ]
  },
  {
   "cell_type": "code",
   "execution_count": 13,
   "metadata": {},
   "outputs": [
    {
     "data": {
      "text/html": [
       "<div><style>\n",
       ".dataframe > thead > tr,\n",
       ".dataframe > tbody > tr {\n",
       "  text-align: right;\n",
       "  white-space: pre-wrap;\n",
       "}\n",
       "</style>\n",
       "<small>shape: (5_223_291, 5)</small><table border=\"1\" class=\"dataframe\"><thead><tr><th>user_id</th><th>category_level1</th><th>userid_category1_history_count</th><th>userid_category1_ctr</th><th>userid_category1_history_duration_mean</th></tr><tr><td>i64</td><td>str</td><td>str</td><td>f64</td><td>f64</td></tr></thead><tbody><tr><td>2392908568</td><td>&quot;文化艺术&quot;</td><td>&quot;2&quot;</td><td>0.333333</td><td>0.431503</td></tr><tr><td>1677034496</td><td>&quot;案件&quot;</td><td>&quot;1&quot;</td><td>1.0</td><td>0.434322</td></tr><tr><td>2408807906</td><td>&quot;娱乐&quot;</td><td>&quot;1&quot;</td><td>0.5</td><td>0.46306</td></tr><tr><td>2229132736</td><td>&quot;情感&quot;</td><td>&quot;2&quot;</td><td>0.010526</td><td>0.254821</td></tr><tr><td>1283875834</td><td>&quot;科学&quot;</td><td>&quot;1&quot;</td><td>1.0</td><td>0.352306</td></tr><tr><td>&hellip;</td><td>&hellip;</td><td>&hellip;</td><td>&hellip;</td><td>&hellip;</td></tr><tr><td>1395900392</td><td>&quot;农村&quot;</td><td>&quot;1&quot;</td><td>0.5</td><td>0.264268</td></tr><tr><td>2137389826</td><td>&quot;国内&quot;</td><td>&quot;1&quot;</td><td>0.333333</td><td>0.34384</td></tr><tr><td>1346437114</td><td>&quot;健康&quot;</td><td>&quot;2&quot;</td><td>0.4</td><td>0.408096</td></tr><tr><td>2284854470</td><td>&quot;财经&quot;</td><td>&quot;1&quot;</td><td>0.333333</td><td>0.366142</td></tr><tr><td>1157260388</td><td>&quot;文化艺术&quot;</td><td>&quot;1&quot;</td><td>0.1</td><td>0.305896</td></tr></tbody></table></div>"
      ],
      "text/plain": [
       "shape: (5_223_291, 5)\n",
       "┌────────────┬─────────────────┬──────────────────────┬──────────────────────┬─────────────────────┐\n",
       "│ user_id    ┆ category_level1 ┆ userid_category1_his ┆ userid_category1_ctr ┆ userid_category1_hi │\n",
       "│ ---        ┆ ---             ┆ tory_count           ┆ ---                  ┆ story_durat…        │\n",
       "│ i64        ┆ str             ┆ ---                  ┆ f64                  ┆ ---                 │\n",
       "│            ┆                 ┆ str                  ┆                      ┆ f64                 │\n",
       "╞════════════╪═════════════════╪══════════════════════╪══════════════════════╪═════════════════════╡\n",
       "│ 2392908568 ┆ 文化艺术        ┆ 2                    ┆ 0.333333             ┆ 0.431503            │\n",
       "│ 1677034496 ┆ 案件            ┆ 1                    ┆ 1.0                  ┆ 0.434322            │\n",
       "│ 2408807906 ┆ 娱乐            ┆ 1                    ┆ 0.5                  ┆ 0.46306             │\n",
       "│ 2229132736 ┆ 情感            ┆ 2                    ┆ 0.010526             ┆ 0.254821            │\n",
       "│ 1283875834 ┆ 科学            ┆ 1                    ┆ 1.0                  ┆ 0.352306            │\n",
       "│ …          ┆ …               ┆ …                    ┆ …                    ┆ …                   │\n",
       "│ 1395900392 ┆ 农村            ┆ 1                    ┆ 0.5                  ┆ 0.264268            │\n",
       "│ 2137389826 ┆ 国内            ┆ 1                    ┆ 0.333333             ┆ 0.34384             │\n",
       "│ 1346437114 ┆ 健康            ┆ 2                    ┆ 0.4                  ┆ 0.408096            │\n",
       "│ 2284854470 ┆ 财经            ┆ 1                    ┆ 0.333333             ┆ 0.366142            │\n",
       "│ 1157260388 ┆ 文化艺术        ┆ 1                    ┆ 0.1                  ┆ 0.305896            │\n",
       "└────────────┴─────────────────┴──────────────────────┴──────────────────────┴─────────────────────┘"
      ]
     },
     "execution_count": 13,
     "metadata": {},
     "output_type": "execute_result"
    }
   ],
   "source": [
    "user_category1_stats = pl.read_ipc(f\"{data_path}/user_category1_stats_{mode}.ipc\")\n",
    "user_category1_stats"
   ]
  },
  {
   "cell_type": "markdown",
   "metadata": {},
   "source": [
    "#### 3.4 处理 user_category2_stats"
   ]
  },
  {
   "cell_type": "code",
   "execution_count": 14,
   "metadata": {},
   "outputs": [
    {
     "data": {
      "text/html": [
       "<div><style>\n",
       ".dataframe > thead > tr,\n",
       ".dataframe > tbody > tr {\n",
       "  text-align: right;\n",
       "  white-space: pre-wrap;\n",
       "}\n",
       "</style>\n",
       "<small>shape: (7_684_950, 5)</small><table border=\"1\" class=\"dataframe\"><thead><tr><th>user_id</th><th>category_level2</th><th>userid_category2_history_count</th><th>userid_category2_ctr</th><th>userid_category2_history_duration_mean</th></tr><tr><td>i64</td><td>str</td><td>str</td><td>f64</td><td>f64</td></tr></thead><tbody><tr><td>2416668718</td><td>&quot;国际/国际事件&quot;</td><td>&quot;2&quot;</td><td>0.666667</td><td>0.251545</td></tr><tr><td>2413148662</td><td>&quot;娱乐/内地明星&quot;</td><td>&quot;2&quot;</td><td>0.25</td><td>0.417218</td></tr><tr><td>2370463616</td><td>&quot;育儿/儿童健康与安全&quot;</td><td>&quot;3&quot;</td><td>0.3125</td><td>0.485823</td></tr><tr><td>2432203626</td><td>&quot;综艺/内地综艺&quot;</td><td>&quot;1&quot;</td><td>0.333333</td><td>0.087878</td></tr><tr><td>2209119430</td><td>&quot;美食/美酒&quot;</td><td>&quot;1&quot;</td><td>0.1</td><td>0.303089</td></tr><tr><td>&hellip;</td><td>&hellip;</td><td>&hellip;</td><td>&hellip;</td><td>&hellip;</td></tr><tr><td>509048864</td><td>&quot;健康/中医药&quot;</td><td>&quot;3&quot;</td><td>0.153846</td><td>0.270139</td></tr><tr><td>1466667146</td><td>&quot;军事/武器&quot;</td><td>&quot;3&quot;</td><td>0.444444</td><td>0.360275</td></tr><tr><td>2289702632</td><td>&quot;时尚/女性时尚&quot;</td><td>&quot;1&quot;</td><td>0.2</td><td>0.19389</td></tr><tr><td>1411826622</td><td>&quot;情感/婚姻与家庭&quot;</td><td>&quot;1&quot;</td><td>0.5</td><td>0.448627</td></tr><tr><td>961475112</td><td>&quot;综艺/内地综艺&quot;</td><td>&quot;3&quot;</td><td>0.140351</td><td>0.287421</td></tr></tbody></table></div>"
      ],
      "text/plain": [
       "shape: (7_684_950, 5)\n",
       "┌────────────┬─────────────────────┬─────────────────────┬────────────────────┬────────────────────┐\n",
       "│ user_id    ┆ category_level2     ┆ userid_category2_hi ┆ userid_category2_c ┆ userid_category2_h │\n",
       "│ ---        ┆ ---                 ┆ story_count         ┆ tr                 ┆ istory_durat…      │\n",
       "│ i64        ┆ str                 ┆ ---                 ┆ ---                ┆ ---                │\n",
       "│            ┆                     ┆ str                 ┆ f64                ┆ f64                │\n",
       "╞════════════╪═════════════════════╪═════════════════════╪════════════════════╪════════════════════╡\n",
       "│ 2416668718 ┆ 国际/国际事件       ┆ 2                   ┆ 0.666667           ┆ 0.251545           │\n",
       "│ 2413148662 ┆ 娱乐/内地明星       ┆ 2                   ┆ 0.25               ┆ 0.417218           │\n",
       "│ 2370463616 ┆ 育儿/儿童健康与安全 ┆ 3                   ┆ 0.3125             ┆ 0.485823           │\n",
       "│ 2432203626 ┆ 综艺/内地综艺       ┆ 1                   ┆ 0.333333           ┆ 0.087878           │\n",
       "│ 2209119430 ┆ 美食/美酒           ┆ 1                   ┆ 0.1                ┆ 0.303089           │\n",
       "│ …          ┆ …                   ┆ …                   ┆ …                  ┆ …                  │\n",
       "│ 509048864  ┆ 健康/中医药         ┆ 3                   ┆ 0.153846           ┆ 0.270139           │\n",
       "│ 1466667146 ┆ 军事/武器           ┆ 3                   ┆ 0.444444           ┆ 0.360275           │\n",
       "│ 2289702632 ┆ 时尚/女性时尚       ┆ 1                   ┆ 0.2                ┆ 0.19389            │\n",
       "│ 1411826622 ┆ 情感/婚姻与家庭     ┆ 1                   ┆ 0.5                ┆ 0.448627           │\n",
       "│ 961475112  ┆ 综艺/内地综艺       ┆ 3                   ┆ 0.140351           ┆ 0.287421           │\n",
       "└────────────┴─────────────────────┴─────────────────────┴────────────────────┴────────────────────┘"
      ]
     },
     "execution_count": 14,
     "metadata": {},
     "output_type": "execute_result"
    }
   ],
   "source": [
    "user_category2_stats = pl.read_ipc(f\"{data_path}/user_category2_stats_{mode}.ipc\")\n",
    "user_category2_stats"
   ]
  },
  {
   "cell_type": "markdown",
   "metadata": {},
   "source": [
    "#### 3.5 处理 user_ctr"
   ]
  },
  {
   "cell_type": "code",
   "execution_count": 15,
   "metadata": {},
   "outputs": [
    {
     "data": {
      "text/html": [
       "<div><style>\n",
       ".dataframe > thead > tr,\n",
       ".dataframe > tbody > tr {\n",
       "  text-align: right;\n",
       "  white-space: pre-wrap;\n",
       "}\n",
       "</style>\n",
       "<small>shape: (9, 5)</small><table border=\"1\" class=\"dataframe\"><thead><tr><th>statistic</th><th>user_id</th><th>userid_history_count</th><th>userid_expose_count</th><th>userid_ctr</th></tr><tr><td>str</td><td>f64</td><td>f64</td><td>f64</td><td>f64</td></tr></thead><tbody><tr><td>&quot;count&quot;</td><td>1.354232e6</td><td>1.354232e6</td><td>1.354232e6</td><td>1.354232e6</td></tr><tr><td>&quot;null_count&quot;</td><td>0.0</td><td>0.0</td><td>0.0</td><td>0.0</td></tr><tr><td>&quot;mean&quot;</td><td>1.9772e9</td><td>0.341694</td><td>0.352287</td><td>0.074834</td></tr><tr><td>&quot;std&quot;</td><td>4.8213e8</td><td>0.309706</td><td>0.259966</td><td>0.097211</td></tr><tr><td>&quot;min&quot;</td><td>17340.0</td><td>0.0</td><td>0.0</td><td>-3.1392e-17</td></tr><tr><td>&quot;25%&quot;</td><td>1.5616e9</td><td>0.0</td><td>0.079144</td><td>0.0</td></tr><tr><td>&quot;50%&quot;</td><td>2.2152e9</td><td>0.331481</td><td>0.348857</td><td>0.036223</td></tr><tr><td>&quot;75%&quot;</td><td>2.4096e9</td><td>0.631879</td><td>0.576362</td><td>0.117301</td></tr><tr><td>&quot;max&quot;</td><td>2.4471e9</td><td>1.0</td><td>1.0</td><td>0.860241</td></tr></tbody></table></div>"
      ],
      "text/plain": [
       "shape: (9, 5)\n",
       "┌────────────┬────────────┬──────────────────────┬─────────────────────┬─────────────┐\n",
       "│ statistic  ┆ user_id    ┆ userid_history_count ┆ userid_expose_count ┆ userid_ctr  │\n",
       "│ ---        ┆ ---        ┆ ---                  ┆ ---                 ┆ ---         │\n",
       "│ str        ┆ f64        ┆ f64                  ┆ f64                 ┆ f64         │\n",
       "╞════════════╪════════════╪══════════════════════╪═════════════════════╪═════════════╡\n",
       "│ count      ┆ 1.354232e6 ┆ 1.354232e6           ┆ 1.354232e6          ┆ 1.354232e6  │\n",
       "│ null_count ┆ 0.0        ┆ 0.0                  ┆ 0.0                 ┆ 0.0         │\n",
       "│ mean       ┆ 1.9772e9   ┆ 0.341694             ┆ 0.352287            ┆ 0.074834    │\n",
       "│ std        ┆ 4.8213e8   ┆ 0.309706             ┆ 0.259966            ┆ 0.097211    │\n",
       "│ min        ┆ 17340.0    ┆ 0.0                  ┆ 0.0                 ┆ -3.1392e-17 │\n",
       "│ 25%        ┆ 1.5616e9   ┆ 0.0                  ┆ 0.079144            ┆ 0.0         │\n",
       "│ 50%        ┆ 2.2152e9   ┆ 0.331481             ┆ 0.348857            ┆ 0.036223    │\n",
       "│ 75%        ┆ 2.4096e9   ┆ 0.631879             ┆ 0.576362            ┆ 0.117301    │\n",
       "│ max        ┆ 2.4471e9   ┆ 1.0                  ┆ 1.0                 ┆ 0.860241    │\n",
       "└────────────┴────────────┴──────────────────────┴─────────────────────┴─────────────┘"
      ]
     },
     "execution_count": 15,
     "metadata": {},
     "output_type": "execute_result"
    }
   ],
   "source": [
    "user_ctr = pl.read_ipc(f\"{data_path}/user_ctr_{mode}.ipc\")\n",
    "user_ctr = user_ctr.with_columns(\n",
    "    pl.col(\"userid_wilson_ctr\").alias(\"userid_ctr\"),\n",
    "    pl.col(\"userid_expose_count_transformed_box\").alias(\"userid_expose_count\"),\n",
    "    pl.col(\"userid_history_count_transformed_box\").alias(\"userid_history_count\")\n",
    ").drop([\"userid_wilson_ctr\", \"userid_expose_count_transformed_box\", \"userid_history_count_transformed_box\"])\n",
    "user_ctr.describe()"
   ]
  },
  {
   "cell_type": "code",
   "execution_count": 16,
   "metadata": {},
   "outputs": [
    {
     "data": {
      "text/html": [
       "<div><style>\n",
       ".dataframe > thead > tr,\n",
       ".dataframe > tbody > tr {\n",
       "  text-align: right;\n",
       "  white-space: pre-wrap;\n",
       "}\n",
       "</style>\n",
       "<small>shape: (1_354_232, 4)</small><table border=\"1\" class=\"dataframe\"><thead><tr><th>user_id</th><th>userid_history_count</th><th>userid_expose_count</th><th>userid_ctr</th></tr><tr><td>i64</td><td>f64</td><td>f64</td><td>f64</td></tr></thead><tbody><tr><td>2440268878</td><td>0.0</td><td>0.229427</td><td>0.0</td></tr><tr><td>2205581550</td><td>0.44868</td><td>0.421419</td><td>0.066786</td></tr><tr><td>1617945812</td><td>0.853049</td><td>0.813712</td><td>0.081448</td></tr><tr><td>1333304062</td><td>0.485887</td><td>0.647512</td><td>0.012778</td></tr><tr><td>1687507300</td><td>0.0</td><td>0.0</td><td>0.0</td></tr><tr><td>&hellip;</td><td>&hellip;</td><td>&hellip;</td><td>&hellip;</td></tr><tr><td>1636920014</td><td>0.44868</td><td>0.327487</td><td>0.138118</td></tr><tr><td>2446151344</td><td>0.223077</td><td>0.57892</td><td>0.002009</td></tr><tr><td>1617225520</td><td>0.816019</td><td>0.763416</td><td>0.091939</td></tr><tr><td>1610473070</td><td>0.921774</td><td>0.812951</td><td>0.270241</td></tr><tr><td>2394351704</td><td>0.560921</td><td>0.426758</td><td>0.17205</td></tr></tbody></table></div>"
      ],
      "text/plain": [
       "shape: (1_354_232, 4)\n",
       "┌────────────┬──────────────────────┬─────────────────────┬────────────┐\n",
       "│ user_id    ┆ userid_history_count ┆ userid_expose_count ┆ userid_ctr │\n",
       "│ ---        ┆ ---                  ┆ ---                 ┆ ---        │\n",
       "│ i64        ┆ f64                  ┆ f64                 ┆ f64        │\n",
       "╞════════════╪══════════════════════╪═════════════════════╪════════════╡\n",
       "│ 2440268878 ┆ 0.0                  ┆ 0.229427            ┆ 0.0        │\n",
       "│ 2205581550 ┆ 0.44868              ┆ 0.421419            ┆ 0.066786   │\n",
       "│ 1617945812 ┆ 0.853049             ┆ 0.813712            ┆ 0.081448   │\n",
       "│ 1333304062 ┆ 0.485887             ┆ 0.647512            ┆ 0.012778   │\n",
       "│ 1687507300 ┆ 0.0                  ┆ 0.0                 ┆ 0.0        │\n",
       "│ …          ┆ …                    ┆ …                   ┆ …          │\n",
       "│ 1636920014 ┆ 0.44868              ┆ 0.327487            ┆ 0.138118   │\n",
       "│ 2446151344 ┆ 0.223077             ┆ 0.57892             ┆ 0.002009   │\n",
       "│ 1617225520 ┆ 0.816019             ┆ 0.763416            ┆ 0.091939   │\n",
       "│ 1610473070 ┆ 0.921774             ┆ 0.812951            ┆ 0.270241   │\n",
       "│ 2394351704 ┆ 0.560921             ┆ 0.426758            ┆ 0.17205    │\n",
       "└────────────┴──────────────────────┴─────────────────────┴────────────┘"
      ]
     },
     "execution_count": 16,
     "metadata": {},
     "output_type": "execute_result"
    }
   ],
   "source": [
    "user_ctr"
   ]
  },
  {
   "cell_type": "markdown",
   "metadata": {},
   "source": [
    "#### 3.6 合并为 训练数据"
   ]
  },
  {
   "cell_type": "code",
   "execution_count": 17,
   "metadata": {},
   "outputs": [
    {
     "data": {
      "text/html": [
       "<div><style>\n",
       ".dataframe > thead > tr,\n",
       ".dataframe > tbody > tr {\n",
       "  text-align: right;\n",
       "  white-space: pre-wrap;\n",
       "}\n",
       "</style>\n",
       "<small>shape: (159_283_939, 8)</small><table border=\"1\" class=\"dataframe\"><thead><tr><th>user_id</th><th>article_id</th><th>expose_time</th><th>network_env</th><th>refresh_count</th><th>expose_pos</th><th>is_clicked</th><th>duration</th></tr><tr><td>i64</td><td>i64</td><td>i64</td><td>i64</td><td>f64</td><td>i64</td><td>i64</td><td>f64</td></tr></thead><tbody><tr><td>2317493554</td><td>462921731</td><td>1624632635106</td><td>2</td><td>0.469308</td><td>111</td><td>0</td><td>0.0</td></tr><tr><td>2440811304</td><td>464761325</td><td>1625148494143</td><td>2</td><td>0.0</td><td>16</td><td>0</td><td>0.0</td></tr><tr><td>1489396294</td><td>463086468</td><td>1624730702499</td><td>2</td><td>0.426303</td><td>12</td><td>0</td><td>0.0</td></tr><tr><td>2378924896</td><td>463542557</td><td>1624779192681</td><td>2</td><td>0.0</td><td>17</td><td>1</td><td>0.516152</td></tr><tr><td>1607562824</td><td>466018342</td><td>1625438899443</td><td>2</td><td>0.30748</td><td>47</td><td>0</td><td>0.0</td></tr><tr><td>&hellip;</td><td>&hellip;</td><td>&hellip;</td><td>&hellip;</td><td>&hellip;</td><td>&hellip;</td><td>&hellip;</td><td>&hellip;</td></tr><tr><td>2207664466</td><td>465969570</td><td>1625440853917</td><td>2</td><td>0.565787</td><td>48</td><td>0</td><td>0.0</td></tr><tr><td>2389035156</td><td>462689382</td><td>1624594863130</td><td>5</td><td>0.339484</td><td>12</td><td>0</td><td>0.0</td></tr><tr><td>2439009808</td><td>464021624</td><td>1624891814619</td><td>2</td><td>0.589187</td><td>71</td><td>0</td><td>0.0</td></tr><tr><td>2217371040</td><td>462652228</td><td>1624695820851</td><td>5</td><td>0.366121</td><td>12</td><td>1</td><td>0.487154</td></tr><tr><td>1226673280</td><td>463240386</td><td>1624813291297</td><td>5</td><td>0.366121</td><td>54</td><td>0</td><td>0.0</td></tr></tbody></table></div>"
      ],
      "text/plain": [
       "shape: (159_283_939, 8)\n",
       "┌────────────┬────────────┬────────────┬────────────┬───────────┬───────────┬───────────┬──────────┐\n",
       "│ user_id    ┆ article_id ┆ expose_tim ┆ network_en ┆ refresh_c ┆ expose_po ┆ is_clicke ┆ duration │\n",
       "│ ---        ┆ ---        ┆ e          ┆ v          ┆ ount      ┆ s         ┆ d         ┆ ---      │\n",
       "│ i64        ┆ i64        ┆ ---        ┆ ---        ┆ ---       ┆ ---       ┆ ---       ┆ f64      │\n",
       "│            ┆            ┆ i64        ┆ i64        ┆ f64       ┆ i64       ┆ i64       ┆          │\n",
       "╞════════════╪════════════╪════════════╪════════════╪═══════════╪═══════════╪═══════════╪══════════╡\n",
       "│ 2317493554 ┆ 462921731  ┆ 1624632635 ┆ 2          ┆ 0.469308  ┆ 111       ┆ 0         ┆ 0.0      │\n",
       "│            ┆            ┆ 106        ┆            ┆           ┆           ┆           ┆          │\n",
       "│ 2440811304 ┆ 464761325  ┆ 1625148494 ┆ 2          ┆ 0.0       ┆ 16        ┆ 0         ┆ 0.0      │\n",
       "│            ┆            ┆ 143        ┆            ┆           ┆           ┆           ┆          │\n",
       "│ 1489396294 ┆ 463086468  ┆ 1624730702 ┆ 2          ┆ 0.426303  ┆ 12        ┆ 0         ┆ 0.0      │\n",
       "│            ┆            ┆ 499        ┆            ┆           ┆           ┆           ┆          │\n",
       "│ 2378924896 ┆ 463542557  ┆ 1624779192 ┆ 2          ┆ 0.0       ┆ 17        ┆ 1         ┆ 0.516152 │\n",
       "│            ┆            ┆ 681        ┆            ┆           ┆           ┆           ┆          │\n",
       "│ 1607562824 ┆ 466018342  ┆ 1625438899 ┆ 2          ┆ 0.30748   ┆ 47        ┆ 0         ┆ 0.0      │\n",
       "│            ┆            ┆ 443        ┆            ┆           ┆           ┆           ┆          │\n",
       "│ …          ┆ …          ┆ …          ┆ …          ┆ …         ┆ …         ┆ …         ┆ …        │\n",
       "│ 2207664466 ┆ 465969570  ┆ 1625440853 ┆ 2          ┆ 0.565787  ┆ 48        ┆ 0         ┆ 0.0      │\n",
       "│            ┆            ┆ 917        ┆            ┆           ┆           ┆           ┆          │\n",
       "│ 2389035156 ┆ 462689382  ┆ 1624594863 ┆ 5          ┆ 0.339484  ┆ 12        ┆ 0         ┆ 0.0      │\n",
       "│            ┆            ┆ 130        ┆            ┆           ┆           ┆           ┆          │\n",
       "│ 2439009808 ┆ 464021624  ┆ 1624891814 ┆ 2          ┆ 0.589187  ┆ 71        ┆ 0         ┆ 0.0      │\n",
       "│            ┆            ┆ 619        ┆            ┆           ┆           ┆           ┆          │\n",
       "│ 2217371040 ┆ 462652228  ┆ 1624695820 ┆ 5          ┆ 0.366121  ┆ 12        ┆ 1         ┆ 0.487154 │\n",
       "│            ┆            ┆ 851        ┆            ┆           ┆           ┆           ┆          │\n",
       "│ 1226673280 ┆ 463240386  ┆ 1624813291 ┆ 5          ┆ 0.366121  ┆ 54        ┆ 0         ┆ 0.0      │\n",
       "│            ┆            ┆ 297        ┆            ┆           ┆           ┆           ┆          │\n",
       "└────────────┴────────────┴────────────┴────────────┴───────────┴───────────┴───────────┴──────────┘"
      ]
     },
     "execution_count": 17,
     "metadata": {},
     "output_type": "execute_result"
    }
   ],
   "source": [
    "train_data = pl.read_ipc(f\"{data_path}/train_data_{mode}.ipc\")\n",
    "train_data = train_data.with_columns(\n",
    "    pl.col(\"duration_transformed_box\").alias(\"duration\"),\n",
    "    pl.col(\"refresh_count_transformed_box\").alias(\"refresh_count\"),\n",
    ").drop([\"duration_transformed_box\", \"refresh_count_transformed_box\"])\n",
    "train_data"
   ]
  },
  {
   "cell_type": "code",
   "execution_count": 18,
   "metadata": {},
   "outputs": [
    {
     "data": {
      "text/html": [
       "<div><style>\n",
       ".dataframe > thead > tr,\n",
       ".dataframe > tbody > tr {\n",
       "  text-align: right;\n",
       "  white-space: pre-wrap;\n",
       "}\n",
       "</style>\n",
       "<small>shape: (159_283_939, 41)</small><table border=\"1\" class=\"dataframe\"><thead><tr><th>user_id</th><th>article_id</th><th>expose_time</th><th>network_env</th><th>refresh_count</th><th>expose_pos</th><th>is_clicked</th><th>duration</th><th>device_name</th><th>os</th><th>province</th><th>city</th><th>age</th><th>gender</th><th>userid_history_duration_mean</th><th>userid_history_count</th><th>userid_expose_count</th><th>userid_ctr</th><th>keywords</th><th>image_count</th><th>category_level1</th><th>category_level2</th><th>docid_history_count</th><th>docid_expose_count</th><th>docid_ctr</th><th>docid_history_duration_mean</th><th>category1_ctr</th><th>category1_popularity</th><th>category1_history_duration_mean</th><th>category2_ctr</th><th>category2_popularity</th><th>category2_history_duration_mean</th><th>userid_category1_history_count</th><th>userid_category1_ctr</th><th>userid_category1_history_duration_mean</th><th>userid_category2_history_count</th><th>userid_category2_ctr</th><th>userid_category2_history_duration_mean</th><th>expose_hourdiff</th><th>expose_hour</th><th>is_converted</th></tr><tr><td>i64</td><td>i64</td><td>i64</td><td>i64</td><td>f64</td><td>i64</td><td>i64</td><td>f64</td><td>str</td><td>str</td><td>str</td><td>str</td><td>str</td><td>str</td><td>f64</td><td>f64</td><td>f64</td><td>f64</td><td>str</td><td>str</td><td>str</td><td>str</td><td>f64</td><td>f64</td><td>f64</td><td>f64</td><td>f64</td><td>f64</td><td>f64</td><td>f64</td><td>f64</td><td>f64</td><td>str</td><td>f64</td><td>f64</td><td>str</td><td>f64</td><td>f64</td><td>i32</td><td>i8</td><td>i8</td></tr></thead><tbody><tr><td>2317493554</td><td>462921731</td><td>1624632635106</td><td>2</td><td>0.469308</td><td>111</td><td>0</td><td>0.0</td><td>&quot;ARE-AL10&quot;</td><td>&quot;Android&quot;</td><td>&quot;广东&quot;</td><td>&quot;中山&quot;</td><td>&quot;A_0_24:0.157357,A_25_29:0.2262…</td><td>&quot;female:0.482044,male:0.517956&quot;</td><td>0.297346</td><td>0.820895</td><td>0.850557</td><td>0.031359</td><td>&quot;a53:0.034701,a55:0.032022,cpu:…</td><td>&quot;4&quot;</td><td>&quot;科技&quot;</td><td>&quot;科技/数码产品&quot;</td><td>0.95027</td><td>0.899628</td><td>0.047699</td><td>0.346577</td><td>0.140858</td><td>0.022642</td><td>0.316223</td><td>0.072288</td><td>0.001068</td><td>0.290893</td><td>&quot;2&quot;</td><td>0.05</td><td>0.315946</td><td>null</td><td>0.333333</td><td>0.339603</td><td>29</td><td>14</td><td>0</td></tr><tr><td>2440811304</td><td>464761325</td><td>1625148494143</td><td>2</td><td>0.0</td><td>16</td><td>0</td><td>0.0</td><td>&quot;PBFM00&quot;</td><td>&quot;Android&quot;</td><td>&quot;河北&quot;</td><td>&quot;邯郸&quot;</td><td>&quot;A_0_24:0.117757,A_25_29:0.0378…</td><td>&quot;female:1.0,male:0.0&quot;</td><td>0.297753</td><td>0.594452</td><td>0.535231</td><td>0.093131</td><td>&quot;五官:0.018150,保养:0.027471,修图:0.0…</td><td>&quot;3&quot;</td><td>&quot;娱乐&quot;</td><td>&quot;娱乐/内地明星&quot;</td><td>0.986718</td><td>0.936446</td><td>0.150558</td><td>0.232901</td><td>0.1357</td><td>0.101556</td><td>0.342276</td><td>0.135735</td><td>0.076843</td><td>0.342274</td><td>&quot;2&quot;</td><td>0.105263</td><td>0.336492</td><td>null</td><td>0.333333</td><td>0.339603</td><td>34</td><td>14</td><td>0</td></tr><tr><td>1489396294</td><td>463086468</td><td>1624730702499</td><td>2</td><td>0.426303</td><td>12</td><td>0</td><td>0.0</td><td>&quot;PBAM00&quot;</td><td>&quot;Android&quot;</td><td>&quot;山西&quot;</td><td>&quot;大同&quot;</td><td>&quot;A_0_24:0.269228,A_25_29:0.0745…</td><td>&quot;female:0.0,male:1.0&quot;</td><td>0.366736</td><td>0.651339</td><td>0.628817</td><td>0.066012</td><td>&quot;一国两制:0.033800,中央政府:0.040037,传媒…</td><td>&quot;1&quot;</td><td>&quot;国内&quot;</td><td>&quot;国内/港澳台&quot;</td><td>0.995593</td><td>0.972368</td><td>0.154125</td><td>0.27921</td><td>0.12763</td><td>0.03891</td><td>0.311547</td><td>0.148351</td><td>0.013164</td><td>0.318563</td><td>&quot;1&quot;</td><td>0.066667</td><td>0.325422</td><td>null</td><td>0.333333</td><td>0.339603</td><td>37</td><td>18</td><td>0</td></tr><tr><td>2378924896</td><td>463542557</td><td>1624779192681</td><td>2</td><td>0.0</td><td>17</td><td>1</td><td>0.516152</td><td>&quot;HLK-AL00&quot;</td><td>&quot;Android&quot;</td><td>&quot;辽宁&quot;</td><td>&quot;大连&quot;</td><td>&quot;A_0_24:0.041074,A_25_29:0.0335…</td><td>&quot;female:0.448847,male:0.551153&quot;</td><td>0.363969</td><td>0.816019</td><td>0.637311</td><td>0.370589</td><td>&quot;健康:0.035787,养狗:0.050002,天天:0.0…</td><td>&quot;4&quot;</td><td>&quot;宠物&quot;</td><td>&quot;宠物/宠物狗&quot;</td><td>0.985059</td><td>0.95428</td><td>0.066942</td><td>0.383461</td><td>0.110343</td><td>0.00153</td><td>0.324651</td><td>0.105987</td><td>0.001138</td><td>0.333547</td><td>&quot;1&quot;</td><td>0.2</td><td>0.516152</td><td>&quot;1&quot;</td><td>0.25</td><td>0.516152</td><td>19</td><td>7</td><td>1</td></tr><tr><td>1607562824</td><td>466018342</td><td>1625438899443</td><td>2</td><td>0.30748</td><td>47</td><td>0</td><td>0.0</td><td>&quot;PBCM10&quot;</td><td>&quot;Android&quot;</td><td>&quot;河北&quot;</td><td>&quot;石家庄&quot;</td><td>&quot;A_0_24:0.776097,A_25_29:0.0909…</td><td>&quot;female:0.707423,male:0.292577&quot;</td><td>0.278953</td><td>0.793707</td><td>0.713613</td><td>0.123409</td><td>&quot;ktv:0.044719,交房:0.041619,儿童房:0…</td><td>&quot;4&quot;</td><td>&quot;生活&quot;</td><td>&quot;生活/家居&quot;</td><td>0.888204</td><td>0.752088</td><td>0.139554</td><td>0.294483</td><td>0.120128</td><td>0.010926</td><td>0.324877</td><td>0.126324</td><td>0.005211</td><td>0.315534</td><td>&quot;2&quot;</td><td>0.074074</td><td>0.295731</td><td>&quot;2&quot;</td><td>0.083333</td><td>0.295731</td><td>17</td><td>22</td><td>0</td></tr><tr><td>&hellip;</td><td>&hellip;</td><td>&hellip;</td><td>&hellip;</td><td>&hellip;</td><td>&hellip;</td><td>&hellip;</td><td>&hellip;</td><td>&hellip;</td><td>&hellip;</td><td>&hellip;</td><td>&hellip;</td><td>&hellip;</td><td>&hellip;</td><td>&hellip;</td><td>&hellip;</td><td>&hellip;</td><td>&hellip;</td><td>&hellip;</td><td>&hellip;</td><td>&hellip;</td><td>&hellip;</td><td>&hellip;</td><td>&hellip;</td><td>&hellip;</td><td>&hellip;</td><td>&hellip;</td><td>&hellip;</td><td>&hellip;</td><td>&hellip;</td><td>&hellip;</td><td>&hellip;</td><td>&hellip;</td><td>&hellip;</td><td>&hellip;</td><td>&hellip;</td><td>&hellip;</td><td>&hellip;</td><td>&hellip;</td><td>&hellip;</td><td>&hellip;</td></tr><tr><td>2207664466</td><td>465969570</td><td>1625440853917</td><td>2</td><td>0.565787</td><td>48</td><td>0</td><td>0.0</td><td>&quot;PACM00&quot;</td><td>&quot;Android&quot;</td><td>&quot;江西&quot;</td><td>&quot;宜春&quot;</td><td>&quot;A_0_24:0.09648,A_25_29:0.18005…</td><td>&quot;female:0.049749,male:0.950251&quot;</td><td>0.268773</td><td>0.801979</td><td>0.831539</td><td>0.032069</td><td>&quot;led:0.032229,suv:0.031098,亚洲龙:…</td><td>&quot;4&quot;</td><td>&quot;汽车&quot;</td><td>&quot;汽车/汽车资讯&quot;</td><td>0.800729</td><td>0.681905</td><td>0.091145</td><td>0.299059</td><td>0.117285</td><td>0.018259</td><td>0.307542</td><td>0.109067</td><td>0.005608</td><td>0.314201</td><td>&quot;3&quot;</td><td>0.070336</td><td>0.271314</td><td>&quot;2&quot;</td><td>0.034483</td><td>0.324509</td><td>19</td><td>23</td><td>0</td></tr><tr><td>2389035156</td><td>462689382</td><td>1624594863130</td><td>5</td><td>0.339484</td><td>12</td><td>0</td><td>0.0</td><td>&quot;V2023A&quot;</td><td>&quot;Android&quot;</td><td>&quot;辽宁&quot;</td><td>&quot;沈阳&quot;</td><td>&quot;A_0_24:0.030006,A_25_29:0.4185…</td><td>&quot;female:0.0,male:1.0&quot;</td><td>0.379414</td><td>0.90848</td><td>0.818934</td><td>0.191759</td><td>&quot;中山服:0.017268,伟人:0.026915,南宁:0.…</td><td>&quot;4&quot;</td><td>&quot;娱乐&quot;</td><td>&quot;娱乐/内地明星&quot;</td><td>0.994006</td><td>0.972543</td><td>0.108115</td><td>0.418052</td><td>0.1357</td><td>0.101556</td><td>0.342276</td><td>0.135735</td><td>0.076843</td><td>0.342274</td><td>&quot;3&quot;</td><td>0.166667</td><td>0.315576</td><td>&quot;3&quot;</td><td>0.148936</td><td>0.286464</td><td>24</td><td>4</td><td>0</td></tr><tr><td>2439009808</td><td>464021624</td><td>1624891814619</td><td>2</td><td>0.589187</td><td>71</td><td>0</td><td>0.0</td><td>&quot;OPPOA83&quot;</td><td>&quot;Android&quot;</td><td>&quot;广东&quot;</td><td>&quot;河源&quot;</td><td>&quot;A_0_24:0.091429,A_25_29:0.0567…</td><td>&quot;female:0.448526,male:0.551474&quot;</td><td>0.283166</td><td>0.746262</td><td>0.785496</td><td>0.030597</td><td>&quot;为人处世:0.044559,主权:0.059941,化干戈为…</td><td>&quot;3&quot;</td><td>&quot;星座运势&quot;</td><td>&quot;星座运势/星座与占卜&quot;</td><td>0.319737</td><td>0.2871</td><td>0.030053</td><td>0.105847</td><td>0.203812</td><td>0.040131</td><td>0.248182</td><td>0.230204</td><td>0.003587</td><td>0.211447</td><td>&quot;3&quot;</td><td>0.095238</td><td>0.272323</td><td>null</td><td>0.333333</td><td>0.339603</td><td>12</td><td>14</td><td>0</td></tr><tr><td>2217371040</td><td>462652228</td><td>1624695820851</td><td>5</td><td>0.366121</td><td>12</td><td>1</td><td>0.487154</td><td>&quot;PBFM00&quot;</td><td>&quot;Android&quot;</td><td>&quot;河南&quot;</td><td>&quot;南阳&quot;</td><td>&quot;A_0_24:0.331022,A_25_29:0.2138…</td><td>&quot;female:0.185992,male:0.814008&quot;</td><td>0.433817</td><td>0.869543</td><td>0.698619</td><td>0.421443</td><td>&quot;保密局:0.023960,兰州:0.022771,农民:0.…</td><td>&quot;3&quot;</td><td>&quot;历史&quot;</td><td>&quot;历史/中国史&quot;</td><td>0.976103</td><td>0.913046</td><td>0.12025</td><td>0.463448</td><td>0.128401</td><td>0.036799</td><td>0.393342</td><td>0.124567</td><td>0.030694</td><td>0.399198</td><td>&quot;3&quot;</td><td>0.530303</td><td>0.486017</td><td>&quot;3&quot;</td><td>0.533333</td><td>0.495366</td><td>53</td><td>8</td><td>1</td></tr><tr><td>1226673280</td><td>463240386</td><td>1624813291297</td><td>5</td><td>0.366121</td><td>54</td><td>0</td><td>0.0</td><td>&quot;V2055A&quot;</td><td>&quot;Android&quot;</td><td>&quot;新疆&quot;</td><td>&quot;乌鲁木齐&quot;</td><td>&quot;A_0_24:0.988872,A_25_29:0.0096…</td><td>&quot;female:0.0,male:1.0&quot;</td><td>0.347626</td><td>0.825427</td><td>0.868976</td><td>0.025492</td><td>&quot;专业级:0.040830,再生棉:0.074344,利润:0…</td><td>&quot;4&quot;</td><td>&quot;农村&quot;</td><td>&quot;农村/农业资讯&quot;</td><td>0.97776</td><td>0.942656</td><td>0.054426</td><td>0.382896</td><td>0.122851</td><td>0.016115</td><td>0.350322</td><td>0.125106</td><td>0.013183</td><td>0.34282</td><td>null</td><td>0.25</td><td>0.34075</td><td>null</td><td>0.333333</td><td>0.339603</td><td>52</td><td>17</td><td>0</td></tr></tbody></table></div>"
      ],
      "text/plain": [
       "shape: (159_283_939, 41)\n",
       "┌───────────┬───────────┬───────────┬───────────┬───┬───────────┬───────────┬───────────┬──────────┐\n",
       "│ user_id   ┆ article_i ┆ expose_ti ┆ network_e ┆ … ┆ userid_ca ┆ expose_ho ┆ expose_ho ┆ is_conve │\n",
       "│ ---       ┆ d         ┆ me        ┆ nv        ┆   ┆ tegory2_h ┆ urdiff    ┆ ur        ┆ rted     │\n",
       "│ i64       ┆ ---       ┆ ---       ┆ ---       ┆   ┆ istory_du ┆ ---       ┆ ---       ┆ ---      │\n",
       "│           ┆ i64       ┆ i64       ┆ i64       ┆   ┆ rat…      ┆ i32       ┆ i8        ┆ i8       │\n",
       "│           ┆           ┆           ┆           ┆   ┆ ---       ┆           ┆           ┆          │\n",
       "│           ┆           ┆           ┆           ┆   ┆ f64       ┆           ┆           ┆          │\n",
       "╞═══════════╪═══════════╪═══════════╪═══════════╪═══╪═══════════╪═══════════╪═══════════╪══════════╡\n",
       "│ 231749355 ┆ 462921731 ┆ 162463263 ┆ 2         ┆ … ┆ 0.339603  ┆ 29        ┆ 14        ┆ 0        │\n",
       "│ 4         ┆           ┆ 5106      ┆           ┆   ┆           ┆           ┆           ┆          │\n",
       "│ 244081130 ┆ 464761325 ┆ 162514849 ┆ 2         ┆ … ┆ 0.339603  ┆ 34        ┆ 14        ┆ 0        │\n",
       "│ 4         ┆           ┆ 4143      ┆           ┆   ┆           ┆           ┆           ┆          │\n",
       "│ 148939629 ┆ 463086468 ┆ 162473070 ┆ 2         ┆ … ┆ 0.339603  ┆ 37        ┆ 18        ┆ 0        │\n",
       "│ 4         ┆           ┆ 2499      ┆           ┆   ┆           ┆           ┆           ┆          │\n",
       "│ 237892489 ┆ 463542557 ┆ 162477919 ┆ 2         ┆ … ┆ 0.516152  ┆ 19        ┆ 7         ┆ 1        │\n",
       "│ 6         ┆           ┆ 2681      ┆           ┆   ┆           ┆           ┆           ┆          │\n",
       "│ 160756282 ┆ 466018342 ┆ 162543889 ┆ 2         ┆ … ┆ 0.295731  ┆ 17        ┆ 22        ┆ 0        │\n",
       "│ 4         ┆           ┆ 9443      ┆           ┆   ┆           ┆           ┆           ┆          │\n",
       "│ …         ┆ …         ┆ …         ┆ …         ┆ … ┆ …         ┆ …         ┆ …         ┆ …        │\n",
       "│ 220766446 ┆ 465969570 ┆ 162544085 ┆ 2         ┆ … ┆ 0.324509  ┆ 19        ┆ 23        ┆ 0        │\n",
       "│ 6         ┆           ┆ 3917      ┆           ┆   ┆           ┆           ┆           ┆          │\n",
       "│ 238903515 ┆ 462689382 ┆ 162459486 ┆ 5         ┆ … ┆ 0.286464  ┆ 24        ┆ 4         ┆ 0        │\n",
       "│ 6         ┆           ┆ 3130      ┆           ┆   ┆           ┆           ┆           ┆          │\n",
       "│ 243900980 ┆ 464021624 ┆ 162489181 ┆ 2         ┆ … ┆ 0.339603  ┆ 12        ┆ 14        ┆ 0        │\n",
       "│ 8         ┆           ┆ 4619      ┆           ┆   ┆           ┆           ┆           ┆          │\n",
       "│ 221737104 ┆ 462652228 ┆ 162469582 ┆ 5         ┆ … ┆ 0.495366  ┆ 53        ┆ 8         ┆ 1        │\n",
       "│ 0         ┆           ┆ 0851      ┆           ┆   ┆           ┆           ┆           ┆          │\n",
       "│ 122667328 ┆ 463240386 ┆ 162481329 ┆ 5         ┆ … ┆ 0.339603  ┆ 52        ┆ 17        ┆ 0        │\n",
       "│ 0         ┆           ┆ 1297      ┆           ┆   ┆           ┆           ┆           ┆          │\n",
       "└───────────┴───────────┴───────────┴───────────┴───┴───────────┴───────────┴───────────┴──────────┘"
      ]
     },
     "execution_count": 18,
     "metadata": {},
     "output_type": "execute_result"
    }
   ],
   "source": [
    "train_data = (\n",
    "    train_data\n",
    "    .join(user_sparse_feature, on=\"user_id\", how=\"left\")\n",
    "    .join(user_duration_mean, on=\"user_id\", how=\"left\")\n",
    "    .join(user_ctr, on=\"user_id\", how=\"left\")\n",
    "    .join(doc_columns, on=\"article_id\", how=\"left\")\n",
    "    .join(user_category1_stats, on=[\"user_id\", \"category_level1\"], how=\"left\")\n",
    "    .join(user_category2_stats, on=[\"user_id\", \"category_level2\"], how=\"left\")\n",
    ")\n",
    "\n",
    "# 处理出版时间 和 统计特征的缺失值（使用中位数填充）\n",
    "train_data = train_data.with_columns([\n",
    "    pl.col(col).fill_null(value) for col, value in FILL_VALUES.items() if col in train_data.columns\n",
    "] + [\n",
    "    pl.col(\"publish_time\").fill_null(pl.col(\"publish_time\").median())  # 处理 publish_time 单独计算中位数\n",
    "])\n",
    "\n",
    "# 计算小时级差距（毫秒差 / 3600000），生成转换标签(is_converted)\n",
    "train_data = train_data.with_columns(\n",
    "    (abs(train_data[\"expose_time\"] - train_data[\"publish_time\"]) // 3_600_000).cast(pl.Int32).alias(\"expose_hourdiff\"),\n",
    "    (train_data[\"expose_time\"].cast(pl.Datetime(\"ms\")).dt.hour()).alias(\"expose_hour\"),\n",
    "    (train_data[\"duration\"] >= train_data[\"docid_history_duration_mean\"]).cast(pl.Int8).alias(\"is_converted\")\n",
    ").drop([\"publish_time\"])\n",
    "train_data"
   ]
  },
  {
   "cell_type": "markdown",
   "metadata": {},
   "source": [
    "#### 3.7 合并为 验证数据"
   ]
  },
  {
   "cell_type": "code",
   "execution_count": 19,
   "metadata": {},
   "outputs": [
    {
     "data": {
      "text/html": [
       "<div><style>\n",
       ".dataframe > thead > tr,\n",
       ".dataframe > tbody > tr {\n",
       "  text-align: right;\n",
       "  white-space: pre-wrap;\n",
       "}\n",
       "</style>\n",
       "<small>shape: (15_730_319, 8)</small><table border=\"1\" class=\"dataframe\"><thead><tr><th>user_id</th><th>article_id</th><th>expose_time</th><th>network_env</th><th>refresh_count</th><th>expose_pos</th><th>is_clicked</th><th>duration</th></tr><tr><td>i64</td><td>i64</td><td>i64</td><td>i64</td><td>f64</td><td>i64</td><td>i64</td><td>f64</td></tr></thead><tbody><tr><td>2383845382</td><td>465985940</td><td>1625460168905</td><td>2</td><td>0.138112</td><td>21</td><td>0</td><td>0.0</td></tr><tr><td>2215407536</td><td>466378681</td><td>1625528402502</td><td>5</td><td>0.339484</td><td>27</td><td>1</td><td>0.260483</td></tr><tr><td>1260176960</td><td>466045087</td><td>1625446747728</td><td>5</td><td>0.0</td><td>11</td><td>0</td><td>0.0</td></tr><tr><td>1615719778</td><td>466155787</td><td>1625467188140</td><td>2</td><td>0.138112</td><td>17</td><td>1</td><td>0.529495</td></tr><tr><td>1427811750</td><td>465777995</td><td>1625458586984</td><td>5</td><td>0.388887</td><td>82</td><td>0</td><td>0.0</td></tr><tr><td>&hellip;</td><td>&hellip;</td><td>&hellip;</td><td>&hellip;</td><td>&hellip;</td><td>&hellip;</td><td>&hellip;</td><td>&hellip;</td></tr><tr><td>515410694</td><td>465561543</td><td>1625447398704</td><td>2</td><td>0.502604</td><td>19</td><td>0</td><td>0.0</td></tr><tr><td>2446184828</td><td>466313181</td><td>1625467927386</td><td>2</td><td>0.692836</td><td>134</td><td>0</td><td>0.0</td></tr><tr><td>2214642936</td><td>465783406</td><td>1625509881385</td><td>5</td><td>0.138112</td><td>20</td><td>0</td><td>0.0</td></tr><tr><td>2424557914</td><td>466255306</td><td>1625492184976</td><td>2</td><td>0.502604</td><td>157</td><td>0</td><td>0.0</td></tr><tr><td>2403572530</td><td>466001791</td><td>1625453000923</td><td>2</td><td>0.68254</td><td>497</td><td>0</td><td>0.0</td></tr></tbody></table></div>"
      ],
      "text/plain": [
       "shape: (15_730_319, 8)\n",
       "┌────────────┬────────────┬────────────┬────────────┬───────────┬───────────┬───────────┬──────────┐\n",
       "│ user_id    ┆ article_id ┆ expose_tim ┆ network_en ┆ refresh_c ┆ expose_po ┆ is_clicke ┆ duration │\n",
       "│ ---        ┆ ---        ┆ e          ┆ v          ┆ ount      ┆ s         ┆ d         ┆ ---      │\n",
       "│ i64        ┆ i64        ┆ ---        ┆ ---        ┆ ---       ┆ ---       ┆ ---       ┆ f64      │\n",
       "│            ┆            ┆ i64        ┆ i64        ┆ f64       ┆ i64       ┆ i64       ┆          │\n",
       "╞════════════╪════════════╪════════════╪════════════╪═══════════╪═══════════╪═══════════╪══════════╡\n",
       "│ 2383845382 ┆ 465985940  ┆ 1625460168 ┆ 2          ┆ 0.138112  ┆ 21        ┆ 0         ┆ 0.0      │\n",
       "│            ┆            ┆ 905        ┆            ┆           ┆           ┆           ┆          │\n",
       "│ 2215407536 ┆ 466378681  ┆ 1625528402 ┆ 5          ┆ 0.339484  ┆ 27        ┆ 1         ┆ 0.260483 │\n",
       "│            ┆            ┆ 502        ┆            ┆           ┆           ┆           ┆          │\n",
       "│ 1260176960 ┆ 466045087  ┆ 1625446747 ┆ 5          ┆ 0.0       ┆ 11        ┆ 0         ┆ 0.0      │\n",
       "│            ┆            ┆ 728        ┆            ┆           ┆           ┆           ┆          │\n",
       "│ 1615719778 ┆ 466155787  ┆ 1625467188 ┆ 2          ┆ 0.138112  ┆ 17        ┆ 1         ┆ 0.529495 │\n",
       "│            ┆            ┆ 140        ┆            ┆           ┆           ┆           ┆          │\n",
       "│ 1427811750 ┆ 465777995  ┆ 1625458586 ┆ 5          ┆ 0.388887  ┆ 82        ┆ 0         ┆ 0.0      │\n",
       "│            ┆            ┆ 984        ┆            ┆           ┆           ┆           ┆          │\n",
       "│ …          ┆ …          ┆ …          ┆ …          ┆ …         ┆ …         ┆ …         ┆ …        │\n",
       "│ 515410694  ┆ 465561543  ┆ 1625447398 ┆ 2          ┆ 0.502604  ┆ 19        ┆ 0         ┆ 0.0      │\n",
       "│            ┆            ┆ 704        ┆            ┆           ┆           ┆           ┆          │\n",
       "│ 2446184828 ┆ 466313181  ┆ 1625467927 ┆ 2          ┆ 0.692836  ┆ 134       ┆ 0         ┆ 0.0      │\n",
       "│            ┆            ┆ 386        ┆            ┆           ┆           ┆           ┆          │\n",
       "│ 2214642936 ┆ 465783406  ┆ 1625509881 ┆ 5          ┆ 0.138112  ┆ 20        ┆ 0         ┆ 0.0      │\n",
       "│            ┆            ┆ 385        ┆            ┆           ┆           ┆           ┆          │\n",
       "│ 2424557914 ┆ 466255306  ┆ 1625492184 ┆ 2          ┆ 0.502604  ┆ 157       ┆ 0         ┆ 0.0      │\n",
       "│            ┆            ┆ 976        ┆            ┆           ┆           ┆           ┆          │\n",
       "│ 2403572530 ┆ 466001791  ┆ 1625453000 ┆ 2          ┆ 0.68254   ┆ 497       ┆ 0         ┆ 0.0      │\n",
       "│            ┆            ┆ 923        ┆            ┆           ┆           ┆           ┆          │\n",
       "└────────────┴────────────┴────────────┴────────────┴───────────┴───────────┴───────────┴──────────┘"
      ]
     },
     "execution_count": 19,
     "metadata": {},
     "output_type": "execute_result"
    }
   ],
   "source": [
    "val_data = pl.read_ipc(f\"{data_path}/val_data_{mode}.ipc\")\n",
    "val_data = val_data.with_columns(\n",
    "    pl.col(\"duration_transformed_box\").alias(\"duration\"),\n",
    "    pl.col(\"refresh_count_transformed_box\").alias(\"refresh_count\"),\n",
    ").drop([\"duration_transformed_box\", \"refresh_count_transformed_box\"])\n",
    "val_data"
   ]
  },
  {
   "cell_type": "code",
   "execution_count": 20,
   "metadata": {},
   "outputs": [
    {
     "data": {
      "text/html": [
       "<div><style>\n",
       ".dataframe > thead > tr,\n",
       ".dataframe > tbody > tr {\n",
       "  text-align: right;\n",
       "  white-space: pre-wrap;\n",
       "}\n",
       "</style>\n",
       "<small>shape: (15_730_319, 41)</small><table border=\"1\" class=\"dataframe\"><thead><tr><th>user_id</th><th>article_id</th><th>expose_time</th><th>network_env</th><th>refresh_count</th><th>expose_pos</th><th>is_clicked</th><th>duration</th><th>device_name</th><th>os</th><th>province</th><th>city</th><th>age</th><th>gender</th><th>userid_history_duration_mean</th><th>userid_history_count</th><th>userid_expose_count</th><th>userid_ctr</th><th>keywords</th><th>image_count</th><th>category_level1</th><th>category_level2</th><th>docid_history_count</th><th>docid_expose_count</th><th>docid_ctr</th><th>docid_history_duration_mean</th><th>category1_ctr</th><th>category1_popularity</th><th>category1_history_duration_mean</th><th>category2_ctr</th><th>category2_popularity</th><th>category2_history_duration_mean</th><th>userid_category1_history_count</th><th>userid_category1_ctr</th><th>userid_category1_history_duration_mean</th><th>userid_category2_history_count</th><th>userid_category2_ctr</th><th>userid_category2_history_duration_mean</th><th>expose_hourdiff</th><th>expose_hour</th><th>is_converted</th></tr><tr><td>i64</td><td>i64</td><td>i64</td><td>i64</td><td>f64</td><td>i64</td><td>i64</td><td>f64</td><td>str</td><td>str</td><td>str</td><td>str</td><td>str</td><td>str</td><td>f64</td><td>f64</td><td>f64</td><td>f64</td><td>str</td><td>str</td><td>str</td><td>str</td><td>f64</td><td>f64</td><td>f64</td><td>f64</td><td>f64</td><td>f64</td><td>f64</td><td>f64</td><td>f64</td><td>f64</td><td>str</td><td>f64</td><td>f64</td><td>str</td><td>f64</td><td>f64</td><td>i32</td><td>i8</td><td>i8</td></tr></thead><tbody><tr><td>2383845382</td><td>465985940</td><td>1625460168905</td><td>2</td><td>0.138112</td><td>21</td><td>0</td><td>0.0</td><td>&quot;PCHM10&quot;</td><td>&quot;Android&quot;</td><td>&quot;重庆&quot;</td><td>&quot;重庆&quot;</td><td>&quot;A_0_24:0.002771,A_25_29:0.0928…</td><td>&quot;female:0.0,male:1.0&quot;</td><td>0.227837</td><td>0.898302</td><td>0.85615</td><td>0.094584</td><td>&quot;中国^^航天员:0.052351,乘组:0.017802,全…</td><td>&quot;3&quot;</td><td>&quot;科学&quot;</td><td>&quot;科学/天文与航天&quot;</td><td>0.982858</td><td>0.967861</td><td>0.030923</td><td>0.259218</td><td>0.11512</td><td>0.029508</td><td>0.347674</td><td>0.110944</td><td>0.014636</td><td>0.345441</td><td>&quot;2&quot;</td><td>0.1</td><td>0.17992</td><td>null</td><td>0.333333</td><td>0.339603</td><td>24</td><td>4</td><td>0</td></tr><tr><td>2215407536</td><td>466378681</td><td>1625528402502</td><td>5</td><td>0.339484</td><td>27</td><td>1</td><td>0.260483</td><td>&quot;OPPOR11&quot;</td><td>&quot;Android&quot;</td><td>&quot;广东&quot;</td><td>&quot;江门&quot;</td><td>&quot;A_0_24:0.277652,A_25_29:0.4459…</td><td>&quot;female:0.37388,male:0.62612&quot;</td><td>0.3532</td><td>0.868</td><td>0.777326</td><td>0.163133</td><td>&quot;供人:0.057777,再见面:0.059943,出远门:0…</td><td>&quot;4&quot;</td><td>&quot;情感&quot;</td><td>&quot;情感/恋爱&quot;</td><td>0.319737</td><td>0.353534</td><td>0.006392</td><td>0.283393</td><td>0.157579</td><td>0.108771</td><td>0.363147</td><td>0.166305</td><td>0.025819</td><td>0.315326</td><td>&quot;3&quot;</td><td>0.30198</td><td>0.404764</td><td>&quot;3&quot;</td><td>0.375</td><td>0.360559</td><td>14</td><td>23</td><td>0</td></tr><tr><td>1260176960</td><td>466045087</td><td>1625446747728</td><td>5</td><td>0.0</td><td>11</td><td>0</td><td>0.0</td><td>&quot;PDHM00&quot;</td><td>&quot;Android&quot;</td><td>&quot;山东&quot;</td><td>&quot;烟台&quot;</td><td>&quot;A_0_24:0.582324,A_25_29:0.2575…</td><td>&quot;female:0.0,male:1.0&quot;</td><td>0.334894</td><td>0.83733</td><td>0.792809</td><td>0.085206</td><td>&quot;14k^^社团:0.025448,何家驹:0.028568,…</td><td>&quot;4&quot;</td><td>&quot;娱乐&quot;</td><td>&quot;娱乐/港台明星&quot;</td><td>0.878188</td><td>0.750653</td><td>0.118985</td><td>0.34902</td><td>0.1357</td><td>0.101556</td><td>0.342276</td><td>0.137973</td><td>0.023426</td><td>0.344025</td><td>&quot;3&quot;</td><td>0.095</td><td>0.348529</td><td>&quot;3&quot;</td><td>0.093023</td><td>0.366876</td><td>17</td><td>0</td><td>0</td></tr><tr><td>1615719778</td><td>466155787</td><td>1625467188140</td><td>2</td><td>0.138112</td><td>17</td><td>1</td><td>0.529495</td><td>&quot;OPPOR11t&quot;</td><td>&quot;Android&quot;</td><td>&quot;广东&quot;</td><td>&quot;广州&quot;</td><td>&quot;A_0_24:0.793802,A_25_29:0.0974…</td><td>&quot;female:0.305407,male:0.694593&quot;</td><td>0.438484</td><td>0.89421</td><td>0.725989</td><td>0.469599</td><td>&quot;中学生:0.043649,中考:0.032858,传播:0.…</td><td>&quot;4&quot;</td><td>&quot;教育&quot;</td><td>&quot;教育/小学&quot;</td><td>0.879769</td><td>0.728644</td><td>0.162053</td><td>0.334396</td><td>0.136538</td><td>0.073908</td><td>0.335691</td><td>0.124498</td><td>0.00633</td><td>0.326392</td><td>&quot;3&quot;</td><td>0.5</td><td>0.517112</td><td>&quot;1&quot;</td><td>1.0</td><td>0.487647</td><td>21</td><td>6</td><td>1</td></tr><tr><td>1427811750</td><td>465777995</td><td>1625458586984</td><td>5</td><td>0.388887</td><td>82</td><td>0</td><td>0.0</td><td>&quot;PADM00&quot;</td><td>&quot;Android&quot;</td><td>&quot;广东&quot;</td><td>&quot;清远&quot;</td><td>&quot;A_0_24:0.346819,A_25_29:0.4642…</td><td>&quot;female:0.448829,male:0.551171&quot;</td><td>0.264521</td><td>0.728176</td><td>0.757346</td><td>0.035519</td><td>&quot;上市:0.016848,云峰:0.038264,云峰^^基金…</td><td>&quot;3&quot;</td><td>&quot;财经&quot;</td><td>&quot;财经/财经人物&quot;</td><td>0.685976</td><td>0.613667</td><td>0.056711</td><td>0.267602</td><td>0.129982</td><td>0.024365</td><td>0.335007</td><td>0.140624</td><td>0.004679</td><td>0.354351</td><td>null</td><td>0.25</td><td>0.34075</td><td>null</td><td>0.333333</td><td>0.339603</td><td>44</td><td>4</td><td>0</td></tr><tr><td>&hellip;</td><td>&hellip;</td><td>&hellip;</td><td>&hellip;</td><td>&hellip;</td><td>&hellip;</td><td>&hellip;</td><td>&hellip;</td><td>&hellip;</td><td>&hellip;</td><td>&hellip;</td><td>&hellip;</td><td>&hellip;</td><td>&hellip;</td><td>&hellip;</td><td>&hellip;</td><td>&hellip;</td><td>&hellip;</td><td>&hellip;</td><td>&hellip;</td><td>&hellip;</td><td>&hellip;</td><td>&hellip;</td><td>&hellip;</td><td>&hellip;</td><td>&hellip;</td><td>&hellip;</td><td>&hellip;</td><td>&hellip;</td><td>&hellip;</td><td>&hellip;</td><td>&hellip;</td><td>&hellip;</td><td>&hellip;</td><td>&hellip;</td><td>&hellip;</td><td>&hellip;</td><td>&hellip;</td><td>&hellip;</td><td>&hellip;</td><td>&hellip;</td></tr><tr><td>515410694</td><td>465561543</td><td>1625447398704</td><td>2</td><td>0.502604</td><td>19</td><td>0</td><td>0.0</td><td>&quot;vivoX7&quot;</td><td>&quot;Android&quot;</td><td>&quot;山东&quot;</td><td>&quot;菏泽&quot;</td><td>&quot;A_0_24:0.746378,A_25_29:0.1259…</td><td>&quot;female:0.232203,male:0.767797&quot;</td><td>0.294714</td><td>0.810751</td><td>0.822878</td><td>0.040298</td><td>&quot;bug:0.019445,中生代:0.031304,主旋律:…</td><td>&quot;4&quot;</td><td>&quot;电视剧&quot;</td><td>&quot;电视剧/内地剧&quot;</td><td>0.968496</td><td>0.888075</td><td>0.14212</td><td>0.327064</td><td>0.128803</td><td>0.012889</td><td>0.34675</td><td>0.129062</td><td>0.012683</td><td>0.347359</td><td>null</td><td>0.25</td><td>0.34075</td><td>null</td><td>0.333333</td><td>0.339603</td><td>60</td><td>1</td><td>0</td></tr><tr><td>2446184828</td><td>466313181</td><td>1625467927386</td><td>2</td><td>0.692836</td><td>134</td><td>0</td><td>0.0</td><td>&quot;OPPOA77&quot;</td><td>&quot;Android&quot;</td><td>&quot;湖南&quot;</td><td>&quot;怀化&quot;</td><td>&quot;A_0_24:0.383825,A_25_29:0.1571…</td><td>&quot;female:0.594218,male:0.405782&quot;</td><td>0.314527</td><td>0.861923</td><td>0.852267</td><td>0.054768</td><td>&quot;t恤:0.026438,上衣:0.023783,亲子装:0.…</td><td>&quot;4&quot;</td><td>&quot;娱乐&quot;</td><td>&quot;娱乐/港台明星&quot;</td><td>0.319737</td><td>0.353534</td><td>0.006392</td><td>0.283393</td><td>0.1357</td><td>0.101556</td><td>0.342276</td><td>0.137973</td><td>0.023426</td><td>0.344025</td><td>&quot;3&quot;</td><td>0.081744</td><td>0.32667</td><td>&quot;3&quot;</td><td>0.09596</td><td>0.371868</td><td>0</td><td>6</td><td>0</td></tr><tr><td>2214642936</td><td>465783406</td><td>1625509881385</td><td>5</td><td>0.138112</td><td>20</td><td>0</td><td>0.0</td><td>&quot;OPPOR11s&quot;</td><td>&quot;Android&quot;</td><td>&quot;广东&quot;</td><td>&quot;广州&quot;</td><td>&quot;A_0_24:0.353158,A_25_29:0.2370…</td><td>&quot;female:0.446355,male:0.553645&quot;</td><td>0.365194</td><td>0.694381</td><td>0.599319</td><td>0.133388</td><td>&quot;ps:0.036133,vera:0.046340,vera…</td><td>&quot;4&quot;</td><td>&quot;时尚&quot;</td><td>&quot;时尚/明星时尚&quot;</td><td>0.993026</td><td>0.960108</td><td>0.154406</td><td>0.256949</td><td>0.14042</td><td>0.028536</td><td>0.194861</td><td>0.096845</td><td>0.006064</td><td>0.222068</td><td>null</td><td>0.25</td><td>0.34075</td><td>null</td><td>0.333333</td><td>0.339603</td><td>58</td><td>18</td><td>0</td></tr><tr><td>2424557914</td><td>466255306</td><td>1625492184976</td><td>2</td><td>0.502604</td><td>157</td><td>0</td><td>0.0</td><td>&quot;PBBM30&quot;</td><td>&quot;Android&quot;</td><td>&quot;湖南&quot;</td><td>&quot;常德&quot;</td><td>&quot;A_0_24:0.19411,A_25_29:0.19916…</td><td>&quot;female:1.0,male:0.0&quot;</td><td>0.241192</td><td>0.803522</td><td>0.742156</td><td>0.100754</td><td>&quot;买彩票:0.034427,人脉:0.020407,人际关系:…</td><td>&quot;1&quot;</td><td>&quot;星座运势&quot;</td><td>&quot;星座运势/风水与算命&quot;</td><td>0.319737</td><td>0.353534</td><td>0.006392</td><td>0.283393</td><td>0.203812</td><td>0.040131</td><td>0.248182</td><td>0.201543</td><td>0.036544</td><td>0.251788</td><td>&quot;3&quot;</td><td>0.245614</td><td>0.209516</td><td>&quot;3&quot;</td><td>0.245614</td><td>0.209516</td><td>13</td><td>13</td><td>0</td></tr><tr><td>2403572530</td><td>466001791</td><td>1625453000923</td><td>2</td><td>0.68254</td><td>497</td><td>0</td><td>0.0</td><td>&quot;HMA-AL00&quot;</td><td>&quot;Android&quot;</td><td>&quot;湖南&quot;</td><td>&quot;娄底&quot;</td><td>&quot;A_0_24:0.134873,A_25_29:0.0666…</td><td>&quot;female:0.112886,male:0.887114&quot;</td><td>0.373253</td><td>0.798787</td><td>0.821914</td><td>0.035111</td><td>&quot;iau:0.020606,sd:0.018282,两弹一星:…</td><td>&quot;4&quot;</td><td>&quot;科学&quot;</td><td>&quot;科学/科学新闻&quot;</td><td>0.95864</td><td>0.896042</td><td>0.072741</td><td>0.289918</td><td>0.11512</td><td>0.029508</td><td>0.347674</td><td>0.119242</td><td>0.003806</td><td>0.353363</td><td>null</td><td>0.25</td><td>0.34075</td><td>null</td><td>0.333333</td><td>0.339603</td><td>21</td><td>2</td><td>0</td></tr></tbody></table></div>"
      ],
      "text/plain": [
       "shape: (15_730_319, 41)\n",
       "┌───────────┬───────────┬───────────┬───────────┬───┬───────────┬───────────┬───────────┬──────────┐\n",
       "│ user_id   ┆ article_i ┆ expose_ti ┆ network_e ┆ … ┆ userid_ca ┆ expose_ho ┆ expose_ho ┆ is_conve │\n",
       "│ ---       ┆ d         ┆ me        ┆ nv        ┆   ┆ tegory2_h ┆ urdiff    ┆ ur        ┆ rted     │\n",
       "│ i64       ┆ ---       ┆ ---       ┆ ---       ┆   ┆ istory_du ┆ ---       ┆ ---       ┆ ---      │\n",
       "│           ┆ i64       ┆ i64       ┆ i64       ┆   ┆ rat…      ┆ i32       ┆ i8        ┆ i8       │\n",
       "│           ┆           ┆           ┆           ┆   ┆ ---       ┆           ┆           ┆          │\n",
       "│           ┆           ┆           ┆           ┆   ┆ f64       ┆           ┆           ┆          │\n",
       "╞═══════════╪═══════════╪═══════════╪═══════════╪═══╪═══════════╪═══════════╪═══════════╪══════════╡\n",
       "│ 238384538 ┆ 465985940 ┆ 162546016 ┆ 2         ┆ … ┆ 0.339603  ┆ 24        ┆ 4         ┆ 0        │\n",
       "│ 2         ┆           ┆ 8905      ┆           ┆   ┆           ┆           ┆           ┆          │\n",
       "│ 221540753 ┆ 466378681 ┆ 162552840 ┆ 5         ┆ … ┆ 0.360559  ┆ 14        ┆ 23        ┆ 0        │\n",
       "│ 6         ┆           ┆ 2502      ┆           ┆   ┆           ┆           ┆           ┆          │\n",
       "│ 126017696 ┆ 466045087 ┆ 162544674 ┆ 5         ┆ … ┆ 0.366876  ┆ 17        ┆ 0         ┆ 0        │\n",
       "│ 0         ┆           ┆ 7728      ┆           ┆   ┆           ┆           ┆           ┆          │\n",
       "│ 161571977 ┆ 466155787 ┆ 162546718 ┆ 2         ┆ … ┆ 0.487647  ┆ 21        ┆ 6         ┆ 1        │\n",
       "│ 8         ┆           ┆ 8140      ┆           ┆   ┆           ┆           ┆           ┆          │\n",
       "│ 142781175 ┆ 465777995 ┆ 162545858 ┆ 5         ┆ … ┆ 0.339603  ┆ 44        ┆ 4         ┆ 0        │\n",
       "│ 0         ┆           ┆ 6984      ┆           ┆   ┆           ┆           ┆           ┆          │\n",
       "│ …         ┆ …         ┆ …         ┆ …         ┆ … ┆ …         ┆ …         ┆ …         ┆ …        │\n",
       "│ 515410694 ┆ 465561543 ┆ 162544739 ┆ 2         ┆ … ┆ 0.339603  ┆ 60        ┆ 1         ┆ 0        │\n",
       "│           ┆           ┆ 8704      ┆           ┆   ┆           ┆           ┆           ┆          │\n",
       "│ 244618482 ┆ 466313181 ┆ 162546792 ┆ 2         ┆ … ┆ 0.371868  ┆ 0         ┆ 6         ┆ 0        │\n",
       "│ 8         ┆           ┆ 7386      ┆           ┆   ┆           ┆           ┆           ┆          │\n",
       "│ 221464293 ┆ 465783406 ┆ 162550988 ┆ 5         ┆ … ┆ 0.339603  ┆ 58        ┆ 18        ┆ 0        │\n",
       "│ 6         ┆           ┆ 1385      ┆           ┆   ┆           ┆           ┆           ┆          │\n",
       "│ 242455791 ┆ 466255306 ┆ 162549218 ┆ 2         ┆ … ┆ 0.209516  ┆ 13        ┆ 13        ┆ 0        │\n",
       "│ 4         ┆           ┆ 4976      ┆           ┆   ┆           ┆           ┆           ┆          │\n",
       "│ 240357253 ┆ 466001791 ┆ 162545300 ┆ 2         ┆ … ┆ 0.339603  ┆ 21        ┆ 2         ┆ 0        │\n",
       "│ 0         ┆           ┆ 0923      ┆           ┆   ┆           ┆           ┆           ┆          │\n",
       "└───────────┴───────────┴───────────┴───────────┴───┴───────────┴───────────┴───────────┴──────────┘"
      ]
     },
     "execution_count": 20,
     "metadata": {},
     "output_type": "execute_result"
    }
   ],
   "source": [
    "val_data = (\n",
    "    val_data\n",
    "    .join(user_sparse_feature, on=\"user_id\", how=\"left\")\n",
    "    .join(user_duration_mean, on=\"user_id\", how=\"left\")\n",
    "    .join(user_ctr, on=\"user_id\", how=\"left\")\n",
    "    .join(doc_columns, on=\"article_id\", how=\"left\")\n",
    "    .join(user_category1_stats, on=[\"user_id\", \"category_level1\"], how=\"left\")\n",
    "    .join(user_category2_stats, on=[\"user_id\", \"category_level2\"], how=\"left\")\n",
    ")\n",
    "\n",
    "# 处理出版时间 和 统计特征的缺失值（使用中位数填充）\n",
    "val_data = val_data.with_columns([\n",
    "    pl.col(col).fill_null(value) for col, value in FILL_VALUES.items() if col in val_data.columns\n",
    "] + [\n",
    "    pl.col(\"publish_time\").fill_null(pl.col(\"publish_time\").median())  # 处理 publish_time 单独计算中位数\n",
    "])\n",
    "\n",
    "# 计算小时级差距（毫秒差 / 3600000），生成转换标签(is_converted)\n",
    "val_data = val_data.with_columns(\n",
    "    (abs(val_data[\"expose_time\"] - val_data[\"publish_time\"]) // 3_600_000).cast(pl.Int32).alias(\"expose_hourdiff\"),\n",
    "    (val_data[\"expose_time\"].cast(pl.Datetime(\"ms\")).dt.hour()).alias(\"expose_hour\"),\n",
    "    (val_data[\"duration\"] >= val_data[\"docid_history_duration_mean\"]).cast(pl.Int8).alias(\"is_converted\")\n",
    ").drop([\"publish_time\"])\n",
    "val_data"
   ]
  },
  {
   "cell_type": "markdown",
   "metadata": {},
   "source": [
    "##### 序列推荐专用"
   ]
  },
  {
   "cell_type": "code",
   "execution_count": 29,
   "metadata": {},
   "outputs": [],
   "source": [
    "# 序列推荐模型专用\n",
    "merge_data = pl.concat([train_data, val_data],how=\"vertical\")\n",
    "merge_data = (merge_data\n",
    "              .select([\"user_id\", \"article_id\", \"expose_time\", \"expose_pos\", \"category_level1\", \"category_level2\", \"is_clicked\"])\n",
    "              .sort([\"user_id\",\"expose_time\",\"expose_pos\"])\n",
    "             )\n",
    "def build_hist_features_str(group_df: pl.DataFrame) -> pl.DataFrame:\n",
    "\n",
    "    # 最终的历史序列列\n",
    "    hist_article_ids = []\n",
    "    hist_cat1s = []\n",
    "    hist_cat2s = []\n",
    "    hist_hourdiffs = []\n",
    "\n",
    "    # 提前转成列表提高速度\n",
    "    article_ids = group_df[\"article_id\"].to_list()\n",
    "    cat1s = group_df[\"category_level1\"].to_list()\n",
    "    cat2s = group_df[\"category_level2\"].to_list()\n",
    "    expose_times = group_df[\"expose_time\"].to_list()  # 毫秒时间戳\n",
    "    clicks = group_df[\"is_clicked\"].to_list()\n",
    "\n",
    "    # 存储点击记录的历史索引\n",
    "    clicked_indices = []\n",
    "\n",
    "    for i in range(len(group_df)):\n",
    "        now_time = expose_times[i]\n",
    "\n",
    "        # 回溯点击记录（点击索引必须 < 当前 i）\n",
    "        hist_click_idx = [idx for idx in clicked_indices if idx < i]\n",
    "        hist_click_idx = hist_click_idx[-50:]  # 只保留最近的 50 条点击\n",
    "\n",
    "        hist_aid = [article_ids[idx] for idx in hist_click_idx]\n",
    "        hist_c1 = [cat1s[idx] for idx in hist_click_idx]\n",
    "        hist_c2 = [cat2s[idx] for idx in hist_click_idx]\n",
    "        hist_time = [expose_times[idx] for idx in hist_click_idx]\n",
    "        hist_diff = [int((now_time - t) / 1000 / 3600) for t in hist_time]\n",
    "\n",
    "        # 拼接为字符串\n",
    "        hist_article_ids.append(\",\".join(map(str, hist_aid)))\n",
    "        hist_cat1s.append(\",\".join(map(str, hist_c1)))\n",
    "        hist_cat2s.append(\",\".join(map(str, hist_c2)))\n",
    "        hist_hourdiffs.append(\",\".join(map(str, hist_diff)))\n",
    "\n",
    "        # 如果当前记录是点击，则加入点击索引池\n",
    "        if clicks[i] == 1:\n",
    "            clicked_indices.append(i)\n",
    "\n",
    "    # 返回带有新列的 DataFrame\n",
    "    return group_df.with_columns([\n",
    "        pl.Series(\"hist_article_id\", hist_article_ids),\n",
    "        pl.Series(\"hist_category_level1\", hist_cat1s),\n",
    "        pl.Series(\"hist_category_level2\", hist_cat2s),\n",
    "        pl.Series(\"hist_hourdiff\", hist_hourdiffs),\n",
    "    ])"
   ]
  },
  {
   "cell_type": "code",
   "execution_count": 31,
   "metadata": {},
   "outputs": [
    {
     "name": "stdout",
     "output_type": "stream",
     "text": [
      "Saved train_csv_00001-of-00300.csv in [0, 95768), rows = 95768\n",
      "Saved train_csv_00002-of-00300.csv in [95768, 210518), rows = 114750\n",
      "Saved train_csv_00003-of-00300.csv in [210518, 323341), rows = 112823\n",
      "Saved train_csv_00004-of-00300.csv in [323341, 439196), rows = 115855\n",
      "Saved train_csv_00005-of-00300.csv in [439196, 526424), rows = 87228\n",
      "Saved train_csv_00006-of-00300.csv in [526424, 609661), rows = 83237\n",
      "Saved train_csv_00007-of-00300.csv in [609661, 686307), rows = 76646\n",
      "Saved train_csv_00008-of-00300.csv in [686307, 781146), rows = 94839\n",
      "Saved train_csv_00009-of-00300.csv in [781146, 868586), rows = 87440\n",
      "Saved train_csv_00010-of-00300.csv in [868586, 958337), rows = 89751\n",
      "Saved train_csv_00011-of-00300.csv in [958337, 1074797), rows = 116460\n",
      "Saved train_csv_00012-of-00300.csv in [1074797, 1186580), rows = 111783\n",
      "Saved train_csv_00013-of-00300.csv in [1186580, 1292558), rows = 105978\n",
      "Saved train_csv_00014-of-00300.csv in [1292558, 1416625), rows = 124067\n",
      "Saved train_csv_00015-of-00300.csv in [1416625, 1512621), rows = 95996\n",
      "Saved train_csv_00016-of-00300.csv in [1512621, 1603069), rows = 90448\n",
      "Saved train_csv_00017-of-00300.csv in [1603069, 1662259), rows = 59190\n",
      "Saved train_csv_00018-of-00300.csv in [1662259, 1715089), rows = 52830\n",
      "Saved train_csv_00019-of-00300.csv in [1715089, 1769613), rows = 54524\n",
      "Saved train_csv_00020-of-00300.csv in [1769613, 1806436), rows = 36823\n",
      "Saved train_csv_00021-of-00300.csv in [1806436, 1857815), rows = 51379\n",
      "Saved train_csv_00022-of-00300.csv in [1857815, 1916131), rows = 58316\n",
      "Saved train_csv_00023-of-00300.csv in [1916131, 1983556), rows = 67425\n",
      "Saved train_csv_00024-of-00300.csv in [1983556, 2059577), rows = 76021\n",
      "Saved train_csv_00025-of-00300.csv in [2059577, 2102446), rows = 42869\n",
      "Saved train_csv_00026-of-00300.csv in [2102446, 2144932), rows = 42486\n",
      "Saved train_csv_00027-of-00300.csv in [2144932, 2189630), rows = 44698\n",
      "Saved train_csv_00028-of-00300.csv in [2189630, 2279972), rows = 90342\n",
      "Saved train_csv_00029-of-00300.csv in [2279972, 2355716), rows = 75744\n",
      "Saved train_csv_00030-of-00300.csv in [2355716, 2439522), rows = 83806\n",
      "Saved train_csv_00031-of-00300.csv in [2439522, 2519343), rows = 79821\n",
      "Saved train_csv_00032-of-00300.csv in [2519343, 2600847), rows = 81504\n",
      "Saved train_csv_00033-of-00300.csv in [2600847, 2654935), rows = 54088\n",
      "Saved train_csv_00034-of-00300.csv in [2654935, 2720030), rows = 65095\n",
      "Saved train_csv_00035-of-00300.csv in [2720030, 2783395), rows = 63365\n",
      "Saved train_csv_00036-of-00300.csv in [2783395, 2847412), rows = 64017\n",
      "Saved train_csv_00037-of-00300.csv in [2847412, 2907676), rows = 60264\n",
      "Saved train_csv_00038-of-00300.csv in [2907676, 2973499), rows = 65823\n",
      "Saved train_csv_00039-of-00300.csv in [2973499, 3047472), rows = 73973\n",
      "Saved train_csv_00040-of-00300.csv in [3047472, 3132811), rows = 85339\n",
      "Saved train_csv_00041-of-00300.csv in [3132811, 3225481), rows = 92670\n",
      "Saved train_csv_00042-of-00300.csv in [3225481, 3314282), rows = 88801\n",
      "Saved train_csv_00043-of-00300.csv in [3314282, 3389636), rows = 75354\n",
      "Saved train_csv_00044-of-00300.csv in [3389636, 3475370), rows = 85734\n",
      "Saved train_csv_00045-of-00300.csv in [3475370, 3578200), rows = 102830\n",
      "Saved train_csv_00046-of-00300.csv in [3578200, 3648845), rows = 70645\n",
      "Saved train_csv_00047-of-00300.csv in [3648845, 3740197), rows = 91352\n",
      "Saved train_csv_00048-of-00300.csv in [3740197, 3836270), rows = 96073\n",
      "Saved train_csv_00049-of-00300.csv in [3836270, 3940086), rows = 103816\n",
      "Saved train_csv_00050-of-00300.csv in [3940086, 4055207), rows = 115121\n",
      "Saved train_csv_00051-of-00300.csv in [4055207, 4215735), rows = 160528\n",
      "Saved train_csv_00052-of-00300.csv in [4215735, 4360600), rows = 144865\n",
      "Saved train_csv_00053-of-00300.csv in [4360600, 4432984), rows = 72384\n",
      "Saved train_csv_00054-of-00300.csv in [4432984, 4538158), rows = 105174\n",
      "Saved train_csv_00055-of-00300.csv in [4538158, 4651732), rows = 113574\n",
      "Saved train_csv_00056-of-00300.csv in [4651732, 4770716), rows = 118984\n",
      "Saved train_csv_00057-of-00300.csv in [4770716, 4821617), rows = 50901\n",
      "Saved train_csv_00058-of-00300.csv in [4821617, 4924604), rows = 102987\n",
      "Saved train_csv_00059-of-00300.csv in [4924604, 5023185), rows = 98581\n",
      "Saved train_csv_00060-of-00300.csv in [5023185, 5172091), rows = 148906\n",
      "Saved train_csv_00061-of-00300.csv in [5172091, 5308906), rows = 136815\n",
      "Saved train_csv_00062-of-00300.csv in [5308906, 5460489), rows = 151583\n",
      "Saved train_csv_00063-of-00300.csv in [5460489, 5632545), rows = 172056\n",
      "Saved train_csv_00064-of-00300.csv in [5632545, 5770543), rows = 137998\n",
      "Saved train_csv_00065-of-00300.csv in [5770543, 5889322), rows = 118779\n",
      "Saved train_csv_00066-of-00300.csv in [5889322, 5912601), rows = 23279\n",
      "Saved train_csv_00067-of-00300.csv in [5912601, 5924231), rows = 11630\n",
      "Saved train_csv_00068-of-00300.csv in [5924231, 6016750), rows = 92519\n",
      "Saved train_csv_00069-of-00300.csv in [6016750, 6185343), rows = 168593\n",
      "Saved train_csv_00070-of-00300.csv in [6185343, 6344853), rows = 159510\n",
      "Saved train_csv_00071-of-00300.csv in [6344853, 6400540), rows = 55687\n",
      "Saved train_csv_00072-of-00300.csv in [6400540, 6407840), rows = 7300\n",
      "Saved train_csv_00073-of-00300.csv in [6407840, 6413525), rows = 5685\n",
      "Saved train_csv_00074-of-00300.csv in [6413525, 6427949), rows = 14424\n",
      "Saved train_csv_00075-of-00300.csv in [6427949, 6429057), rows = 1108\n",
      "Saved train_csv_00076-of-00300.csv in [6429057, 6440374), rows = 11317\n",
      "Saved train_csv_00077-of-00300.csv in [6440374, 6454623), rows = 14249\n",
      "Saved train_csv_00078-of-00300.csv in [6454623, 6458575), rows = 3952\n",
      "Saved train_csv_00079-of-00300.csv in [6458575, 6474636), rows = 16061\n",
      "Saved train_csv_00080-of-00300.csv in [6474636, 6477245), rows = 2609\n",
      "Saved train_csv_00081-of-00300.csv in [6477245, 6495037), rows = 17792\n",
      "Saved train_csv_00082-of-00300.csv in [6495037, 6495931), rows = 894\n",
      "Saved train_csv_00083-of-00300.csv in [6495931, 6500186), rows = 4255\n",
      "Saved train_csv_00084-of-00300.csv in [6500186, 6506434), rows = 6248\n",
      "Saved train_csv_00085-of-00300.csv in [6506434, 6513717), rows = 7283\n",
      "Saved train_csv_00086-of-00300.csv in [6513717, 6520434), rows = 6717\n",
      "Saved train_csv_00087-of-00300.csv in [6520434, 6531594), rows = 11160\n",
      "Saved train_csv_00088-of-00300.csv in [6531594, 6604608), rows = 73014\n",
      "Saved train_csv_00089-of-00300.csv in [6604608, 6667341), rows = 62733\n",
      "Saved train_csv_00090-of-00300.csv in [6667341, 6745733), rows = 78392\n",
      "Saved train_csv_00091-of-00300.csv in [6745733, 6792547), rows = 46814\n",
      "Saved train_csv_00092-of-00300.csv in [6792547, 6859832), rows = 67285\n",
      "Saved train_csv_00093-of-00300.csv in [6859832, 6911039), rows = 51207\n",
      "Saved train_csv_00094-of-00300.csv in [6911039, 6916040), rows = 5001\n",
      "Saved train_csv_00095-of-00300.csv in [6916040, 6942745), rows = 26705\n",
      "Saved train_csv_00096-of-00300.csv in [6942745, 6985900), rows = 43155\n",
      "Saved train_csv_00097-of-00300.csv in [6985900, 7079035), rows = 93135\n",
      "Saved train_csv_00098-of-00300.csv in [7079035, 7153768), rows = 74733\n",
      "Saved train_csv_00099-of-00300.csv in [7153768, 7260624), rows = 106856\n",
      "Saved train_csv_00100-of-00300.csv in [7260624, 7371798), rows = 111174\n",
      "Saved train_csv_00101-of-00300.csv in [7371798, 7420366), rows = 48568\n",
      "Saved train_csv_00102-of-00300.csv in [7420366, 7498537), rows = 78171\n",
      "Saved train_csv_00103-of-00300.csv in [7498537, 7508337), rows = 9800\n",
      "Saved train_csv_00104-of-00300.csv in [7508337, 7517009), rows = 8672\n",
      "Saved train_csv_00105-of-00300.csv in [7517009, 7526398), rows = 9389\n",
      "Saved train_csv_00106-of-00300.csv in [7526398, 7536875), rows = 10477\n",
      "Saved train_csv_00107-of-00300.csv in [7536875, 7544038), rows = 7163\n",
      "Saved train_csv_00108-of-00300.csv in [7544038, 7553015), rows = 8977\n",
      "Saved train_csv_00109-of-00300.csv in [7553015, 7568028), rows = 15013\n",
      "Saved train_csv_00110-of-00300.csv in [7568028, 7575640), rows = 7612\n",
      "Saved train_csv_00111-of-00300.csv in [7575640, 7584984), rows = 9344\n",
      "Saved train_csv_00112-of-00300.csv in [7584984, 7589265), rows = 4281\n",
      "Saved train_csv_00113-of-00300.csv in [7589265, 7605842), rows = 16577\n",
      "Saved train_csv_00114-of-00300.csv in [7605842, 7631999), rows = 26157\n",
      "Saved train_csv_00115-of-00300.csv in [7631999, 7649404), rows = 17405\n",
      "Saved train_csv_00116-of-00300.csv in [7649404, 7669945), rows = 20541\n",
      "Saved train_csv_00117-of-00300.csv in [7669945, 7685885), rows = 15940\n",
      "Saved train_csv_00118-of-00300.csv in [7685885, 7796975), rows = 111090\n",
      "Saved train_csv_00119-of-00300.csv in [7796975, 7977278), rows = 180303\n",
      "Saved train_csv_00120-of-00300.csv in [7977278, 8226186), rows = 248908\n",
      "Saved train_csv_00121-of-00300.csv in [8226186, 8517985), rows = 291799\n",
      "Saved train_csv_00122-of-00300.csv in [8517985, 8801454), rows = 283469\n",
      "Saved train_csv_00123-of-00300.csv in [8801454, 9083159), rows = 281705\n",
      "Saved train_csv_00124-of-00300.csv in [9083159, 9235982), rows = 152823\n",
      "Saved train_csv_00125-of-00300.csv in [9235982, 9408495), rows = 172513\n",
      "Saved train_csv_00126-of-00300.csv in [9408495, 9442617), rows = 34122\n",
      "Saved train_csv_00127-of-00300.csv in [9442617, 9480601), rows = 37984\n",
      "Saved train_csv_00128-of-00300.csv in [9480601, 9513489), rows = 32888\n",
      "Saved train_csv_00129-of-00300.csv in [9513489, 9548463), rows = 34974\n",
      "Saved train_csv_00130-of-00300.csv in [9548463, 9600275), rows = 51812\n",
      "Saved train_csv_00131-of-00300.csv in [9600275, 9629567), rows = 29292\n",
      "Saved train_csv_00132-of-00300.csv in [9629567, 9686377), rows = 56810\n",
      "Saved train_csv_00133-of-00300.csv in [9686377, 9729152), rows = 42775\n",
      "Saved train_csv_00134-of-00300.csv in [9729152, 9783713), rows = 54561\n",
      "Saved train_csv_00135-of-00300.csv in [9783713, 9859563), rows = 75850\n",
      "Saved train_csv_00136-of-00300.csv in [9859563, 9945352), rows = 85789\n",
      "Saved train_csv_00137-of-00300.csv in [9945352, 10152218), rows = 206866\n",
      "Saved train_csv_00138-of-00300.csv in [10152218, 10385171), rows = 232953\n",
      "Saved train_csv_00139-of-00300.csv in [10385171, 10713875), rows = 328704\n",
      "Saved train_csv_00140-of-00300.csv in [10713875, 11122296), rows = 408421\n",
      "Saved train_csv_00141-of-00300.csv in [11122296, 11593401), rows = 471105\n",
      "Saved train_csv_00142-of-00300.csv in [11593401, 12011649), rows = 418248\n",
      "Saved train_csv_00143-of-00300.csv in [12011649, 12454563), rows = 442914\n",
      "Saved train_csv_00144-of-00300.csv in [12454563, 12866458), rows = 411895\n",
      "Saved train_csv_00145-of-00300.csv in [12866458, 13241317), rows = 374859\n",
      "Saved train_csv_00146-of-00300.csv in [13241317, 13598610), rows = 357293\n",
      "Saved train_csv_00147-of-00300.csv in [13598610, 13789886), rows = 191276\n",
      "Saved train_csv_00148-of-00300.csv in [13789886, 13952148), rows = 162262\n",
      "Saved train_csv_00149-of-00300.csv in [13952148, 14080141), rows = 127993\n",
      "Saved train_csv_00150-of-00300.csv in [14080141, 14532038), rows = 451897\n",
      "Saved train_csv_00151-of-00300.csv in [14532038, 14994962), rows = 462924\n",
      "Saved train_csv_00152-of-00300.csv in [14994962, 15427197), rows = 432235\n",
      "Saved train_csv_00153-of-00300.csv in [15427197, 16028651), rows = 601454\n",
      "Saved train_csv_00154-of-00300.csv in [16028651, 16783683), rows = 755032\n",
      "Saved train_csv_00155-of-00300.csv in [16783683, 17589262), rows = 805579\n",
      "Saved train_csv_00156-of-00300.csv in [17589262, 18343489), rows = 754227\n",
      "Saved train_csv_00157-of-00300.csv in [18343489, 19138401), rows = 794912\n",
      "Saved train_csv_00158-of-00300.csv in [19138401, 20055670), rows = 917269\n",
      "Saved train_csv_00159-of-00300.csv in [20055670, 21153826), rows = 1098156\n",
      "Saved train_csv_00160-of-00300.csv in [21153826, 22370440), rows = 1216614\n",
      "Saved train_csv_00161-of-00300.csv in [22370440, 23301660), rows = 931220\n",
      "Saved train_csv_00162-of-00300.csv in [23301660, 24259096), rows = 957436\n",
      "Saved train_csv_00163-of-00300.csv in [24259096, 25197399), rows = 938303\n",
      "Saved train_csv_00164-of-00300.csv in [25197399, 26208594), rows = 1011195\n",
      "Saved train_csv_00165-of-00300.csv in [26208594, 27217942), rows = 1009348\n",
      "Saved train_csv_00166-of-00300.csv in [27217942, 28397814), rows = 1179872\n",
      "Saved train_csv_00167-of-00300.csv in [28397814, 29453676), rows = 1055862\n",
      "Saved train_csv_00168-of-00300.csv in [29453676, 30445918), rows = 992242\n",
      "Saved train_csv_00169-of-00300.csv in [30445918, 31819396), rows = 1373478\n",
      "Saved train_csv_00170-of-00300.csv in [31819396, 32961161), rows = 1141765\n",
      "Saved train_csv_00171-of-00300.csv in [32961161, 33930976), rows = 969815\n",
      "Saved train_csv_00172-of-00300.csv in [33930976, 35005059), rows = 1074083\n",
      "Saved train_csv_00173-of-00300.csv in [35005059, 36081858), rows = 1076799\n",
      "Saved train_csv_00174-of-00300.csv in [36081858, 36934532), rows = 852674\n",
      "Saved train_csv_00175-of-00300.csv in [36934532, 38010655), rows = 1076123\n",
      "Saved train_csv_00176-of-00300.csv in [38010655, 38724202), rows = 713547\n",
      "Saved train_csv_00177-of-00300.csv in [38724202, 40697157), rows = 1972955\n",
      "Saved train_csv_00178-of-00300.csv in [40697157, 41729321), rows = 1032164\n",
      "Saved train_csv_00179-of-00300.csv in [41729321, 42708567), rows = 979246\n",
      "Saved train_csv_00180-of-00300.csv in [42708567, 44201603), rows = 1493036\n",
      "Saved train_csv_00181-of-00300.csv in [44201603, 45562220), rows = 1360617\n",
      "Saved train_csv_00182-of-00300.csv in [45562220, 47084079), rows = 1521859\n",
      "Saved train_csv_00183-of-00300.csv in [47084079, 48957596), rows = 1873517\n",
      "Saved train_csv_00184-of-00300.csv in [48957596, 50560228), rows = 1602632\n",
      "Saved train_csv_00185-of-00300.csv in [50560228, 51848408), rows = 1288180\n",
      "Saved train_csv_00186-of-00300.csv in [51848408, 53318529), rows = 1470121\n",
      "Saved train_csv_00187-of-00300.csv in [53318529, 54164078), rows = 845549\n",
      "Saved train_csv_00188-of-00300.csv in [54164078, 54192350), rows = 28272\n",
      "Saved train_csv_00189-of-00300.csv in [54192350, 54280234), rows = 87884\n",
      "Saved train_csv_00190-of-00300.csv in [54280234, 54996223), rows = 715989\n",
      "Saved train_csv_00191-of-00300.csv in [54996223, 55167673), rows = 171450\n",
      "Saved train_csv_00192-of-00300.csv in [55167673, 56107633), rows = 939960\n",
      "Saved train_csv_00193-of-00300.csv in [56107633, 56551486), rows = 443853\n",
      "Saved train_csv_00194-of-00300.csv in [56551486, 56691089), rows = 139603\n",
      "Saved train_csv_00195-of-00300.csv in [56691089, 56865729), rows = 174640\n",
      "Saved train_csv_00196-of-00300.csv in [56865729, 57148454), rows = 282725\n",
      "Saved train_csv_00197-of-00300.csv in [57148454, 57992683), rows = 844229\n",
      "Saved train_csv_00198-of-00300.csv in [57992683, 60444033), rows = 2451350\n",
      "Saved train_csv_00199-of-00300.csv in [60444033, 62720745), rows = 2276712\n",
      "Saved train_csv_00200-of-00300.csv in [62720745, 64683169), rows = 1962424\n",
      "Saved train_csv_00201-of-00300.csv in [64683169, 66748544), rows = 2065375\n",
      "Saved train_csv_00202-of-00300.csv in [66748544, 68273110), rows = 1524566\n",
      "Saved train_csv_00203-of-00300.csv in [68273110, 69330657), rows = 1057547\n",
      "Saved train_csv_00204-of-00300.csv in [69330657, 69542309), rows = 211652\n",
      "Saved train_csv_00205-of-00300.csv in [69542309, 69706740), rows = 164431\n",
      "Saved train_csv_00206-of-00300.csv in [69706740, 70078181), rows = 371441\n",
      "Saved train_csv_00207-of-00300.csv in [70078181, 70282829), rows = 204648\n",
      "Saved train_csv_00208-of-00300.csv in [70282829, 70537216), rows = 254387\n",
      "Saved train_csv_00209-of-00300.csv in [70537216, 70849831), rows = 312615\n",
      "Saved train_csv_00210-of-00300.csv in [70849831, 71134601), rows = 284770\n",
      "Saved train_csv_00211-of-00300.csv in [71134601, 71387263), rows = 252662\n",
      "Saved train_csv_00212-of-00300.csv in [71387263, 71449332), rows = 62069\n",
      "Saved train_csv_00213-of-00300.csv in [71449332, 71505981), rows = 56649\n",
      "Saved train_csv_00214-of-00300.csv in [71505981, 71574236), rows = 68255\n",
      "Saved train_csv_00215-of-00300.csv in [71574236, 71607850), rows = 33614\n",
      "Saved train_csv_00216-of-00300.csv in [71607850, 71656106), rows = 48256\n",
      "Saved train_csv_00217-of-00300.csv in [71656106, 71901556), rows = 245450\n",
      "Saved train_csv_00218-of-00300.csv in [71901556, 72204601), rows = 303045\n",
      "Saved train_csv_00219-of-00300.csv in [72204601, 72922449), rows = 717848\n",
      "Saved train_csv_00220-of-00300.csv in [72922449, 73314878), rows = 392429\n",
      "Saved train_csv_00221-of-00300.csv in [73314878, 73551916), rows = 237038\n",
      "Saved train_csv_00222-of-00300.csv in [73551916, 73688716), rows = 136800\n",
      "Saved train_csv_00223-of-00300.csv in [73688716, 73892478), rows = 203762\n",
      "Saved train_csv_00224-of-00300.csv in [73892478, 74062688), rows = 170210\n",
      "Saved train_csv_00225-of-00300.csv in [74062688, 74272871), rows = 210183\n",
      "Saved train_csv_00226-of-00300.csv in [74272871, 74615609), rows = 342738\n",
      "Saved train_csv_00227-of-00300.csv in [74615609, 74936023), rows = 320414\n",
      "Saved train_csv_00228-of-00300.csv in [74936023, 75066615), rows = 130592\n",
      "Saved train_csv_00229-of-00300.csv in [75066615, 75307007), rows = 240392\n",
      "Saved train_csv_00230-of-00300.csv in [75307007, 75514138), rows = 207131\n",
      "Saved train_csv_00231-of-00300.csv in [75514138, 75647962), rows = 133824\n",
      "Saved train_csv_00232-of-00300.csv in [75647962, 75856635), rows = 208673\n",
      "Saved train_csv_00233-of-00300.csv in [75856635, 76291069), rows = 434434\n",
      "Saved train_csv_00234-of-00300.csv in [76291069, 76585549), rows = 294480\n",
      "Saved train_csv_00235-of-00300.csv in [76585549, 76735140), rows = 149591\n",
      "Saved train_csv_00236-of-00300.csv in [76735140, 76867214), rows = 132074\n",
      "Saved train_csv_00237-of-00300.csv in [76867214, 77011507), rows = 144293\n",
      "Saved train_csv_00238-of-00300.csv in [77011507, 77174708), rows = 163201\n",
      "Saved train_csv_00239-of-00300.csv in [77174708, 77445412), rows = 270704\n",
      "Saved train_csv_00240-of-00300.csv in [77445412, 77804249), rows = 358837\n",
      "Saved train_csv_00241-of-00300.csv in [77804249, 78087058), rows = 282809\n",
      "Saved train_csv_00242-of-00300.csv in [78087058, 78599273), rows = 512215\n",
      "Saved train_csv_00243-of-00300.csv in [78599273, 78788862), rows = 189589\n",
      "Saved train_csv_00244-of-00300.csv in [78788862, 79061631), rows = 272769\n",
      "Saved train_csv_00245-of-00300.csv in [79061631, 79142974), rows = 81343\n",
      "Saved train_csv_00246-of-00300.csv in [79142974, 79370790), rows = 227816\n",
      "Saved train_csv_00247-of-00300.csv in [79370790, 79603824), rows = 233034\n",
      "Saved train_csv_00248-of-00300.csv in [79603824, 79799010), rows = 195186\n",
      "Saved train_csv_00249-of-00300.csv in [79799010, 80033785), rows = 234775\n",
      "Saved train_csv_00250-of-00300.csv in [80033785, 80178056), rows = 144271\n",
      "Saved train_csv_00251-of-00300.csv in [80178056, 80372867), rows = 194811\n",
      "Saved train_csv_00252-of-00300.csv in [80372867, 80510385), rows = 137518\n",
      "Saved train_csv_00253-of-00300.csv in [80510385, 80673288), rows = 162903\n",
      "Saved train_csv_00254-of-00300.csv in [80673288, 80852745), rows = 179457\n",
      "Saved train_csv_00255-of-00300.csv in [80852745, 81200658), rows = 347913\n",
      "Saved train_csv_00256-of-00300.csv in [81200658, 81382327), rows = 181669\n",
      "Saved train_csv_00257-of-00300.csv in [81382327, 81665128), rows = 282801\n",
      "Saved train_csv_00258-of-00300.csv in [81665128, 81807942), rows = 142814\n",
      "Saved train_csv_00259-of-00300.csv in [81807942, 81944779), rows = 136837\n",
      "Saved train_csv_00260-of-00300.csv in [81944779, 82311631), rows = 366852\n",
      "Saved train_csv_00261-of-00300.csv in [82311631, 82526830), rows = 215199\n",
      "Saved train_csv_00262-of-00300.csv in [82526830, 82794749), rows = 267919\n",
      "Saved train_csv_00263-of-00300.csv in [82794749, 83038777), rows = 244028\n",
      "Saved train_csv_00264-of-00300.csv in [83038777, 83174802), rows = 136025\n",
      "Saved train_csv_00265-of-00300.csv in [83174802, 83383804), rows = 209002\n",
      "Saved train_csv_00266-of-00300.csv in [83383804, 83547372), rows = 163568\n",
      "Saved train_csv_00267-of-00300.csv in [83547372, 84047080), rows = 499708\n",
      "Saved train_csv_00268-of-00300.csv in [84047080, 84404843), rows = 357763\n",
      "Saved train_csv_00269-of-00300.csv in [84404843, 84715147), rows = 310304\n",
      "Saved train_csv_00270-of-00300.csv in [84715147, 85279704), rows = 564557\n",
      "Saved train_csv_00271-of-00300.csv in [85279704, 89243941), rows = 3964237\n",
      "Saved train_csv_00272-of-00300.csv in [89243941, 97455188), rows = 8211247\n",
      "Saved train_csv_00273-of-00300.csv in [97455188, 102448869), rows = 4993681\n",
      "Saved train_csv_00274-of-00300.csv in [102448869, 106256255), rows = 3807386\n",
      "Saved train_csv_00275-of-00300.csv in [106256255, 107296243), rows = 1039988\n",
      "Saved train_csv_00276-of-00300.csv in [107296243, 108037102), rows = 740859\n",
      "Saved train_csv_00277-of-00300.csv in [108037102, 108608863), rows = 571761\n",
      "Saved train_csv_00278-of-00300.csv in [108608863, 109456089), rows = 847226\n",
      "Saved train_csv_00279-of-00300.csv in [109456089, 110375081), rows = 918992\n",
      "Saved train_csv_00280-of-00300.csv in [110375081, 111442355), rows = 1067274\n",
      "Saved train_csv_00281-of-00300.csv in [111442355, 112513278), rows = 1070923\n",
      "Saved train_csv_00282-of-00300.csv in [112513278, 113364821), rows = 851543\n",
      "Saved train_csv_00283-of-00300.csv in [113364821, 114221143), rows = 856322\n",
      "Saved train_csv_00284-of-00300.csv in [114221143, 115273022), rows = 1051879\n",
      "Saved train_csv_00285-of-00300.csv in [115273022, 116086578), rows = 813556\n",
      "Saved train_csv_00286-of-00300.csv in [116086578, 117051334), rows = 964756\n",
      "Saved train_csv_00287-of-00300.csv in [117051334, 118147763), rows = 1096429\n",
      "Saved train_csv_00288-of-00300.csv in [118147763, 119227938), rows = 1080175\n",
      "Saved train_csv_00289-of-00300.csv in [119227938, 119950086), rows = 722148\n",
      "Saved train_csv_00290-of-00300.csv in [119950086, 121137026), rows = 1186940\n",
      "Saved train_csv_00291-of-00300.csv in [121137026, 122160715), rows = 1023689\n",
      "Saved train_csv_00292-of-00300.csv in [122160715, 124633380), rows = 2472665\n",
      "Saved train_csv_00293-of-00300.csv in [124633380, 127892452), rows = 3259072\n",
      "Saved train_csv_00294-of-00300.csv in [127892452, 131622027), rows = 3729575\n",
      "Saved train_csv_00295-of-00300.csv in [131622027, 135855717), rows = 4233690\n",
      "Saved train_csv_00296-of-00300.csv in [135855717, 141311756), rows = 5456039\n",
      "Saved train_csv_00297-of-00300.csv in [141311756, 147534393), rows = 6222637\n",
      "Saved train_csv_00298-of-00300.csv in [147534393, 155074945), rows = 7540552\n",
      "Saved train_csv_00299-of-00300.csv in [155074945, 163543850), rows = 8468905\n",
      "Saved train_csv_00300-of-00300.csv in [163543850, 175014258), rows = 11470408\n"
     ]
    }
   ],
   "source": [
    "import math\n",
    "\n",
    "def split_by_user_id_range(merge_data: pl.DataFrame, num_parts: int = 300):\n",
    "    user_ids = merge_data[\"user_id\"].sort().to_numpy()\n",
    "    min_uid, max_uid = user_ids[0], user_ids[-1]\n",
    "    \n",
    "    # 计算 user_id 的划分边界\n",
    "    step = math.ceil((max_uid - min_uid + 1) / num_parts)\n",
    "\n",
    "    # 构造每段的边界 user_id（左闭右开）\n",
    "    boundaries = [min_uid + i * step for i in range(num_parts + 1)]\n",
    "\n",
    "    # 找到每个分割点在 merge_data 中的起始行索引\n",
    "    row_indices = user_ids.searchsorted(boundaries, side=\"left\")\n",
    "    \n",
    "    for i in range(num_parts):\n",
    "        start_idx = row_indices[i]\n",
    "        end_idx = row_indices[i + 1] if i + 1 < len(row_indices) else len(merge_data)\n",
    "        part_df = merge_data.slice(start_idx, end_idx - start_idx)\n",
    "\n",
    "        part_df = (\n",
    "            part_df\n",
    "            .group_by(\"user_id\", maintain_order=True)\n",
    "            .map_groups(build_hist_features_str)\n",
    "        )\n",
    "        \n",
    "        part_df.write_csv(f\"/data3/zxh/news_rec/rank_csv_data/hist_train_data/train_csv_{i+1:05}-of-{num_parts:05}.csv\", separator=\"\\t\")\n",
    "        print(f\"Saved train_csv_{i+1:05}-of-{num_parts:05}.csv in [{start_idx}, {end_idx}), rows = {len(part_df)}\")\n",
    "split_by_user_id_range(merge_data)"
   ]
  },
  {
   "cell_type": "markdown",
   "metadata": {},
   "source": [
    "#### 3.8 合并为 测试数据"
   ]
  },
  {
   "cell_type": "code",
   "execution_count": 21,
   "metadata": {},
   "outputs": [
    {
     "data": {
      "text/html": [
       "<div><style>\n",
       ".dataframe > thead > tr,\n",
       ".dataframe > tbody > tr {\n",
       "  text-align: right;\n",
       "  white-space: pre-wrap;\n",
       "}\n",
       "</style>\n",
       "<small>shape: (12_261_868, 8)</small><table border=\"1\" class=\"dataframe\"><thead><tr><th>user_id</th><th>article_id</th><th>expose_time</th><th>network_env</th><th>refresh_count</th><th>expose_pos</th><th>is_clicked</th><th>duration</th></tr><tr><td>i64</td><td>i64</td><td>i64</td><td>i64</td><td>f64</td><td>i64</td><td>i64</td><td>f64</td></tr></thead><tbody><tr><td>2431381002</td><td>466497559</td><td>1625560435365</td><td>2</td><td>0.366121</td><td>47</td><td>0</td><td>0.0</td></tr><tr><td>2390152616</td><td>466838383</td><td>1625584316582</td><td>2</td><td>0.829975</td><td>144</td><td>0</td><td>0.0</td></tr><tr><td>2443013308</td><td>466596360</td><td>1625552213014</td><td>2</td><td>0.138112</td><td>25</td><td>0</td><td>0.0</td></tr><tr><td>1293444900</td><td>466550480</td><td>1625547205088</td><td>5</td><td>0.21485</td><td>27</td><td>0</td><td>0.0</td></tr><tr><td>2446511758</td><td>465769818</td><td>1625546678713</td><td>2</td><td>0.26756</td><td>22</td><td>1</td><td>0.57374</td></tr><tr><td>&hellip;</td><td>&hellip;</td><td>&hellip;</td><td>&hellip;</td><td>&hellip;</td><td>&hellip;</td><td>&hellip;</td><td>&hellip;</td></tr><tr><td>2445496462</td><td>466025645</td><td>1625530203987</td><td>2</td><td>0.21485</td><td>34</td><td>0</td><td>0.0</td></tr><tr><td>1349872856</td><td>466714829</td><td>1625567748252</td><td>2</td><td>0.64565</td><td>321</td><td>0</td><td>0.0</td></tr><tr><td>2445791558</td><td>466446910</td><td>1625540321832</td><td>5</td><td>0.138112</td><td>21</td><td>0</td><td>0.0</td></tr><tr><td>2436636882</td><td>465965637</td><td>1625561846430</td><td>5</td><td>0.652561</td><td>48</td><td>0</td><td>0.0</td></tr><tr><td>2318276096</td><td>466111109</td><td>1625536580996</td><td>2</td><td>0.4563</td><td>36</td><td>0</td><td>0.0</td></tr></tbody></table></div>"
      ],
      "text/plain": [
       "shape: (12_261_868, 8)\n",
       "┌────────────┬────────────┬────────────┬────────────┬───────────┬───────────┬───────────┬──────────┐\n",
       "│ user_id    ┆ article_id ┆ expose_tim ┆ network_en ┆ refresh_c ┆ expose_po ┆ is_clicke ┆ duration │\n",
       "│ ---        ┆ ---        ┆ e          ┆ v          ┆ ount      ┆ s         ┆ d         ┆ ---      │\n",
       "│ i64        ┆ i64        ┆ ---        ┆ ---        ┆ ---       ┆ ---       ┆ ---       ┆ f64      │\n",
       "│            ┆            ┆ i64        ┆ i64        ┆ f64       ┆ i64       ┆ i64       ┆          │\n",
       "╞════════════╪════════════╪════════════╪════════════╪═══════════╪═══════════╪═══════════╪══════════╡\n",
       "│ 2431381002 ┆ 466497559  ┆ 1625560435 ┆ 2          ┆ 0.366121  ┆ 47        ┆ 0         ┆ 0.0      │\n",
       "│            ┆            ┆ 365        ┆            ┆           ┆           ┆           ┆          │\n",
       "│ 2390152616 ┆ 466838383  ┆ 1625584316 ┆ 2          ┆ 0.829975  ┆ 144       ┆ 0         ┆ 0.0      │\n",
       "│            ┆            ┆ 582        ┆            ┆           ┆           ┆           ┆          │\n",
       "│ 2443013308 ┆ 466596360  ┆ 1625552213 ┆ 2          ┆ 0.138112  ┆ 25        ┆ 0         ┆ 0.0      │\n",
       "│            ┆            ┆ 014        ┆            ┆           ┆           ┆           ┆          │\n",
       "│ 1293444900 ┆ 466550480  ┆ 1625547205 ┆ 5          ┆ 0.21485   ┆ 27        ┆ 0         ┆ 0.0      │\n",
       "│            ┆            ┆ 088        ┆            ┆           ┆           ┆           ┆          │\n",
       "│ 2446511758 ┆ 465769818  ┆ 1625546678 ┆ 2          ┆ 0.26756   ┆ 22        ┆ 1         ┆ 0.57374  │\n",
       "│            ┆            ┆ 713        ┆            ┆           ┆           ┆           ┆          │\n",
       "│ …          ┆ …          ┆ …          ┆ …          ┆ …         ┆ …         ┆ …         ┆ …        │\n",
       "│ 2445496462 ┆ 466025645  ┆ 1625530203 ┆ 2          ┆ 0.21485   ┆ 34        ┆ 0         ┆ 0.0      │\n",
       "│            ┆            ┆ 987        ┆            ┆           ┆           ┆           ┆          │\n",
       "│ 1349872856 ┆ 466714829  ┆ 1625567748 ┆ 2          ┆ 0.64565   ┆ 321       ┆ 0         ┆ 0.0      │\n",
       "│            ┆            ┆ 252        ┆            ┆           ┆           ┆           ┆          │\n",
       "│ 2445791558 ┆ 466446910  ┆ 1625540321 ┆ 5          ┆ 0.138112  ┆ 21        ┆ 0         ┆ 0.0      │\n",
       "│            ┆            ┆ 832        ┆            ┆           ┆           ┆           ┆          │\n",
       "│ 2436636882 ┆ 465965637  ┆ 1625561846 ┆ 5          ┆ 0.652561  ┆ 48        ┆ 0         ┆ 0.0      │\n",
       "│            ┆            ┆ 430        ┆            ┆           ┆           ┆           ┆          │\n",
       "│ 2318276096 ┆ 466111109  ┆ 1625536580 ┆ 2          ┆ 0.4563    ┆ 36        ┆ 0         ┆ 0.0      │\n",
       "│            ┆            ┆ 996        ┆            ┆           ┆           ┆           ┆          │\n",
       "└────────────┴────────────┴────────────┴────────────┴───────────┴───────────┴───────────┴──────────┘"
      ]
     },
     "execution_count": 21,
     "metadata": {},
     "output_type": "execute_result"
    }
   ],
   "source": [
    "test_data = pl.read_ipc(\"/data3/zxh/news_rec/online_data/test_data_online.ipc\")\n",
    "test_data = test_data.with_columns(\n",
    "    pl.col(\"duration_transformed_box\").alias(\"duration\"),\n",
    "    pl.col(\"refresh_count_transformed_box\").alias(\"refresh_count\"),\n",
    ").drop([\"duration_transformed_box\", \"refresh_count_transformed_box\"])\n",
    "test_data"
   ]
  },
  {
   "cell_type": "code",
   "execution_count": 22,
   "metadata": {},
   "outputs": [],
   "source": [
    "test_data = (\n",
    "    test_data\n",
    "    .join(user_sparse_feature, on=\"user_id\", how=\"left\")\n",
    "    .join(user_duration_mean, on=\"user_id\", how=\"left\")\n",
    "    .join(user_ctr, on=\"user_id\", how=\"left\")\n",
    "    .join(doc_columns, on=\"article_id\", how=\"left\")\n",
    "    .join(user_category1_stats, on=[\"user_id\", \"category_level1\"], how=\"left\")\n",
    "    .join(user_category2_stats, on=[\"user_id\", \"category_level2\"], how=\"left\")\n",
    ")\n",
    "\n",
    "# 处理统计特征的缺失值（使用中位数填充）\n",
    "test_data = test_data.with_columns([\n",
    "    pl.col(col).fill_null(value) for col, value in FILL_VALUES.items() if col in test_data.columns\n",
    "] + [\n",
    "    pl.col(\"publish_time\").fill_null(pl.col(\"publish_time\").median())  # 处理 publish_time 单独计算中位数\n",
    "])\n",
    "\n",
    "# 处理曝光时间，偏差特征置0，生成转换标签\n",
    "test_data = test_data.with_columns(\n",
    "    (abs(test_data[\"expose_time\"] - test_data[\"publish_time\"]) // 3_600_000).cast(pl.Int32).alias(\"expose_hourdiff\"),\n",
    "    pl.lit(0).alias(\"expose_pos\"), # 偏差特征置0\n",
    "    (test_data[\"expose_time\"].cast(pl.Datetime(\"ms\")).dt.hour()).alias(\"expose_hour\"),\n",
    "    (test_data[\"duration\"] >= test_data[\"docid_history_duration_mean\"]).cast(pl.Int8).alias(\"is_converted\"),\n",
    ").drop([\"publish_time\"])\n",
    "test_data.write_csv(\"/data3/zxh/news_rec/rank_csv_data/test_data/test_data.csv\",separator=\"\\t\")"
   ]
  },
  {
   "cell_type": "code",
   "execution_count": 23,
   "metadata": {},
   "outputs": [
    {
     "data": {
      "text/html": [
       "<div><style>\n",
       ".dataframe > thead > tr,\n",
       ".dataframe > tbody > tr {\n",
       "  text-align: right;\n",
       "  white-space: pre-wrap;\n",
       "}\n",
       "</style>\n",
       "<small>shape: (947_932, 3)</small><table border=\"1\" class=\"dataframe\"><thead><tr><th>user_id</th><th>expose_time</th><th>count</th></tr><tr><td>i64</td><td>i64</td><td>u32</td></tr></thead><tbody><tr><td>1916651224</td><td>1625561093086</td><td>6</td></tr><tr><td>2427306838</td><td>1625542992036</td><td>5</td></tr><tr><td>1309071476</td><td>1625535903589</td><td>6</td></tr><tr><td>2446574736</td><td>1625548218019</td><td>5</td></tr><tr><td>1480494278</td><td>1625579197668</td><td>5</td></tr><tr><td>&hellip;</td><td>&hellip;</td><td>&hellip;</td></tr><tr><td>2387357936</td><td>1625558454144</td><td>5</td></tr><tr><td>2224969484</td><td>1625558495200</td><td>5</td></tr><tr><td>399069104</td><td>1625563677018</td><td>6</td></tr><tr><td>2342168890</td><td>1625555719967</td><td>5</td></tr><tr><td>1155213904</td><td>1625578611564</td><td>6</td></tr></tbody></table></div>"
      ],
      "text/plain": [
       "shape: (947_932, 3)\n",
       "┌────────────┬───────────────┬───────┐\n",
       "│ user_id    ┆ expose_time   ┆ count │\n",
       "│ ---        ┆ ---           ┆ ---   │\n",
       "│ i64        ┆ i64           ┆ u32   │\n",
       "╞════════════╪═══════════════╪═══════╡\n",
       "│ 1916651224 ┆ 1625561093086 ┆ 6     │\n",
       "│ 2427306838 ┆ 1625542992036 ┆ 5     │\n",
       "│ 1309071476 ┆ 1625535903589 ┆ 6     │\n",
       "│ 2446574736 ┆ 1625548218019 ┆ 5     │\n",
       "│ 1480494278 ┆ 1625579197668 ┆ 5     │\n",
       "│ …          ┆ …             ┆ …     │\n",
       "│ 2387357936 ┆ 1625558454144 ┆ 5     │\n",
       "│ 2224969484 ┆ 1625558495200 ┆ 5     │\n",
       "│ 399069104  ┆ 1625563677018 ┆ 6     │\n",
       "│ 2342168890 ┆ 1625555719967 ┆ 5     │\n",
       "│ 1155213904 ┆ 1625578611564 ┆ 6     │\n",
       "└────────────┴───────────────┴───────┘"
      ]
     },
     "execution_count": 23,
     "metadata": {},
     "output_type": "execute_result"
    }
   ],
   "source": [
    "# 以 user_id 和 expose_time 进行分组，并统计每个分组的数量\n",
    "grouped_data = test_data.group_by([\"user_id\", \"expose_time\"]).agg(pl.len().alias(\"count\"))\n",
    "\n",
    "# 过滤出 count >= 5 的数据\n",
    "filtered_data = grouped_data.filter(pl.col(\"count\") >= 5)\n",
    "\n",
    "# 输出结果\n",
    "filtered_data"
   ]
  },
  {
   "cell_type": "code",
   "execution_count": 40,
   "metadata": {},
   "outputs": [],
   "source": [
    "# 以 user_id 和 expose_time 进行匹配，筛选出 test_data 中符合 filtered_data 的数据\n",
    "matched_data = test_data.join(filtered_data, on=[\"user_id\", \"expose_time\"], how=\"inner\").drop([\"count\"])\n",
    "\n",
    "# 输出结果\n",
    "matched_data = matched_data.sort([\"user_id\",\"expose_time\"])\n",
    "\n",
    "# 与输入数据保持一致\n",
    "matched_data = matched_data.drop([\"expose_time\"]).fill_null(\"\").with_columns(pl.lit(0.0).alias(\"duration\"))\n",
    "\n",
    "matched_data.write_csv(\"/data3/zxh/news_rec/rank_csv_data/test_data/test_data.csv\",separator=\"\\t\")"
   ]
  },
  {
   "cell_type": "code",
   "execution_count": 41,
   "metadata": {},
   "outputs": [
    {
     "data": {
      "text/html": [
       "<div><style>\n",
       ".dataframe > thead > tr,\n",
       ".dataframe > tbody > tr {\n",
       "  text-align: right;\n",
       "  white-space: pre-wrap;\n",
       "}\n",
       "</style>\n",
       "<small>shape: (5_142_756, 40)</small><table border=\"1\" class=\"dataframe\"><thead><tr><th>user_id</th><th>article_id</th><th>network_env</th><th>refresh_count</th><th>expose_pos</th><th>is_clicked</th><th>duration</th><th>device_name</th><th>os</th><th>province</th><th>city</th><th>age</th><th>gender</th><th>userid_history_duration_mean</th><th>userid_history_count</th><th>userid_expose_count</th><th>userid_ctr</th><th>keywords</th><th>image_count</th><th>category_level1</th><th>category_level2</th><th>docid_history_count</th><th>docid_expose_count</th><th>docid_ctr</th><th>docid_history_duration_mean</th><th>category1_ctr</th><th>category1_popularity</th><th>category1_history_duration_mean</th><th>category2_ctr</th><th>category2_popularity</th><th>category2_history_duration_mean</th><th>userid_category1_history_count</th><th>userid_category1_ctr</th><th>userid_category1_history_duration_mean</th><th>userid_category2_history_count</th><th>userid_category2_ctr</th><th>userid_category2_history_duration_mean</th><th>expose_hourdiff</th><th>expose_hour</th><th>is_converted</th></tr><tr><td>i64</td><td>i64</td><td>i64</td><td>f64</td><td>i32</td><td>i64</td><td>f64</td><td>str</td><td>str</td><td>str</td><td>str</td><td>str</td><td>str</td><td>f64</td><td>f64</td><td>f64</td><td>f64</td><td>str</td><td>str</td><td>str</td><td>str</td><td>f64</td><td>f64</td><td>f64</td><td>f64</td><td>f64</td><td>f64</td><td>f64</td><td>f64</td><td>f64</td><td>f64</td><td>str</td><td>f64</td><td>f64</td><td>str</td><td>f64</td><td>f64</td><td>i32</td><td>i8</td><td>i8</td></tr></thead><tbody><tr><td>17340</td><td>466399808</td><td>5</td><td>0.26756</td><td>0</td><td>0</td><td>0.0</td><td>&quot;iPhoneX&quot;</td><td>&quot;IOS&quot;</td><td>&quot;上海&quot;</td><td>&quot;上海&quot;</td><td>&quot;A_0_24:0.029774,A_25_29:0.1268…</td><td>&quot;female:0.0,male:1.0&quot;</td><td>0.290691</td><td>0.873913</td><td>0.739067</td><td>0.284605</td><td>&quot;ev:0.028968,mini:0.034496,mini…</td><td>&quot;4&quot;</td><td>&quot;汽车&quot;</td><td>&quot;汽车/汽车资讯&quot;</td><td>0.319737</td><td>0.353534</td><td>0.006392</td><td>0.283393</td><td>0.117285</td><td>0.018259</td><td>0.307542</td><td>0.109067</td><td>0.005608</td><td>0.314201</td><td>&quot;3&quot;</td><td>0.414634</td><td>0.28521</td><td>&quot;3&quot;</td><td>0.391304</td><td>0.295621</td><td>0</td><td>11</td><td>0</td></tr><tr><td>17340</td><td>466126343</td><td>5</td><td>0.26756</td><td>0</td><td>1</td><td>0.0</td><td>&quot;iPhoneX&quot;</td><td>&quot;IOS&quot;</td><td>&quot;上海&quot;</td><td>&quot;上海&quot;</td><td>&quot;A_0_24:0.029774,A_25_29:0.1268…</td><td>&quot;female:0.0,male:1.0&quot;</td><td>0.290691</td><td>0.873913</td><td>0.739067</td><td>0.284605</td><td>&quot;世界人口:0.027234,中国^^居民^^膳食^^指南:0…</td><td>&quot;4&quot;</td><td>&quot;健康&quot;</td><td>&quot;健康/养生与保健&quot;</td><td>0.319737</td><td>0.353534</td><td>0.006392</td><td>0.283393</td><td>0.1361</td><td>0.075243</td><td>0.3257</td><td>0.145456</td><td>0.026401</td><td>0.317586</td><td>&quot;3&quot;</td><td>0.580645</td><td>0.280167</td><td>&quot;2&quot;</td><td>0.428571</td><td>0.215489</td><td>0</td><td>11</td><td>1</td></tr><tr><td>17340</td><td>466368404</td><td>5</td><td>0.26756</td><td>0</td><td>1</td><td>0.0</td><td>&quot;iPhoneX&quot;</td><td>&quot;IOS&quot;</td><td>&quot;上海&quot;</td><td>&quot;上海&quot;</td><td>&quot;A_0_24:0.029774,A_25_29:0.1268…</td><td>&quot;female:0.0,male:1.0&quot;</td><td>0.290691</td><td>0.873913</td><td>0.739067</td><td>0.284605</td><td>&quot;关注点:0.030264,凤凰男:0.041433,出国^^…</td><td>&quot;4&quot;</td><td>&quot;娱乐&quot;</td><td>&quot;娱乐/港台明星&quot;</td><td>0.319737</td><td>0.353534</td><td>0.006392</td><td>0.283393</td><td>0.1357</td><td>0.101556</td><td>0.342276</td><td>0.137973</td><td>0.023426</td><td>0.344025</td><td>&quot;3&quot;</td><td>0.321429</td><td>0.241324</td><td>&quot;2&quot;</td><td>0.25</td><td>0.210026</td><td>0</td><td>11</td><td>0</td></tr><tr><td>17340</td><td>466090289</td><td>5</td><td>0.26756</td><td>0</td><td>0</td><td>0.0</td><td>&quot;iPhoneX&quot;</td><td>&quot;IOS&quot;</td><td>&quot;上海&quot;</td><td>&quot;上海&quot;</td><td>&quot;A_0_24:0.029774,A_25_29:0.1268…</td><td>&quot;female:0.0,male:1.0&quot;</td><td>0.290691</td><td>0.873913</td><td>0.739067</td><td>0.284605</td><td>&quot;卧室:0.071985,喜欢:0.054731,嘉兴:0.0…</td><td>&quot;4&quot;</td><td>&quot;生活&quot;</td><td>&quot;生活/小窍门&quot;</td><td>0.948924</td><td>0.8323</td><td>0.187393</td><td>0.279875</td><td>0.120128</td><td>0.010926</td><td>0.324877</td><td>0.103625</td><td>0.002201</td><td>0.350269</td><td>&quot;3&quot;</td><td>0.190476</td><td>0.409168</td><td>&quot;&quot;</td><td>0.333333</td><td>0.339603</td><td>0</td><td>11</td><td>0</td></tr><tr><td>17340</td><td>466699030</td><td>5</td><td>0.26756</td><td>0</td><td>0</td><td>0.0</td><td>&quot;iPhoneX&quot;</td><td>&quot;IOS&quot;</td><td>&quot;上海&quot;</td><td>&quot;上海&quot;</td><td>&quot;A_0_24:0.029774,A_25_29:0.1268…</td><td>&quot;female:0.0,male:1.0&quot;</td><td>0.290691</td><td>0.873913</td><td>0.739067</td><td>0.284605</td><td>&quot;佛说:0.027100,修行:0.022454,南阎浮提^^…</td><td>&quot;3&quot;</td><td>&quot;文化艺术&quot;</td><td>&quot;文化艺术/哲学宗教与民俗神话&quot;</td><td>0.319737</td><td>0.353534</td><td>0.006392</td><td>0.283393</td><td>0.132088</td><td>0.04894</td><td>0.365176</td><td>0.127007</td><td>0.017736</td><td>0.346974</td><td>&quot;3&quot;</td><td>0.38</td><td>0.296914</td><td>&quot;3&quot;</td><td>0.342105</td><td>0.289733</td><td>0</td><td>11</td><td>0</td></tr><tr><td>&hellip;</td><td>&hellip;</td><td>&hellip;</td><td>&hellip;</td><td>&hellip;</td><td>&hellip;</td><td>&hellip;</td><td>&hellip;</td><td>&hellip;</td><td>&hellip;</td><td>&hellip;</td><td>&hellip;</td><td>&hellip;</td><td>&hellip;</td><td>&hellip;</td><td>&hellip;</td><td>&hellip;</td><td>&hellip;</td><td>&hellip;</td><td>&hellip;</td><td>&hellip;</td><td>&hellip;</td><td>&hellip;</td><td>&hellip;</td><td>&hellip;</td><td>&hellip;</td><td>&hellip;</td><td>&hellip;</td><td>&hellip;</td><td>&hellip;</td><td>&hellip;</td><td>&hellip;</td><td>&hellip;</td><td>&hellip;</td><td>&hellip;</td><td>&hellip;</td><td>&hellip;</td><td>&hellip;</td><td>&hellip;</td><td>&hellip;</td></tr><tr><td>2447273764</td><td>466826642</td><td>2</td><td>0.138112</td><td>0</td><td>0</td><td>0.0</td><td>&quot;&quot;</td><td>&quot;&quot;</td><td>&quot;&quot;</td><td>&quot;&quot;</td><td>&quot;&quot;</td><td>&quot;&quot;</td><td>0.347217</td><td>0.331481</td><td>0.348857</td><td>0.036223</td><td>&quot;今日俄罗斯:0.026272,今日俄罗斯^^通讯社:0.01…</td><td>&quot;1&quot;</td><td>&quot;国际&quot;</td><td>&quot;国际/国际事件&quot;</td><td>0.319737</td><td>0.353534</td><td>0.006392</td><td>0.283393</td><td>0.163092</td><td>0.04981</td><td>0.341409</td><td>0.135408</td><td>0.015545</td><td>0.334333</td><td>&quot;&quot;</td><td>0.25</td><td>0.34075</td><td>&quot;&quot;</td><td>0.333333</td><td>0.339603</td><td>0</td><td>15</td><td>0</td></tr><tr><td>2447273764</td><td>466823351</td><td>2</td><td>0.138112</td><td>0</td><td>0</td><td>0.0</td><td>&quot;&quot;</td><td>&quot;&quot;</td><td>&quot;&quot;</td><td>&quot;&quot;</td><td>&quot;&quot;</td><td>&quot;&quot;</td><td>0.347217</td><td>0.331481</td><td>0.348857</td><td>0.036223</td><td>&quot;ig:0.057184,健康:0.059997,家里:0.0…</td><td>&quot;2&quot;</td><td>&quot;娱乐&quot;</td><td>&quot;娱乐/港台明星&quot;</td><td>0.319737</td><td>0.353534</td><td>0.006392</td><td>0.283393</td><td>0.1357</td><td>0.101556</td><td>0.342276</td><td>0.137973</td><td>0.023426</td><td>0.344025</td><td>&quot;&quot;</td><td>0.25</td><td>0.34075</td><td>&quot;&quot;</td><td>0.333333</td><td>0.339603</td><td>0</td><td>15</td><td>0</td></tr><tr><td>2447273764</td><td>466551898</td><td>2</td><td>0.138112</td><td>0</td><td>0</td><td>0.0</td><td>&quot;&quot;</td><td>&quot;&quot;</td><td>&quot;&quot;</td><td>&quot;&quot;</td><td>&quot;&quot;</td><td>&quot;&quot;</td><td>0.347217</td><td>0.331481</td><td>0.348857</td><td>0.036223</td><td>&quot;中共中央:0.030800,中共中央对外联络部:0.0328…</td><td>&quot;1&quot;</td><td>&quot;国内&quot;</td><td>&quot;国内/高层动态&quot;</td><td>0.319737</td><td>0.353534</td><td>0.006392</td><td>0.283393</td><td>0.12763</td><td>0.03891</td><td>0.311547</td><td>0.077917</td><td>0.002653</td><td>0.314663</td><td>&quot;&quot;</td><td>0.25</td><td>0.34075</td><td>&quot;&quot;</td><td>0.333333</td><td>0.339603</td><td>0</td><td>15</td><td>0</td></tr><tr><td>2447273764</td><td>466254142</td><td>2</td><td>0.138112</td><td>0</td><td>0</td><td>0.0</td><td>&quot;&quot;</td><td>&quot;&quot;</td><td>&quot;&quot;</td><td>&quot;&quot;</td><td>&quot;&quot;</td><td>&quot;&quot;</td><td>0.347217</td><td>0.331481</td><td>0.348857</td><td>0.036223</td><td>&quot;90后:0.029803,papi:0.033749,东方不…</td><td>&quot;4&quot;</td><td>&quot;情感&quot;</td><td>&quot;情感/婚姻与家庭&quot;</td><td>0.319737</td><td>0.353534</td><td>0.006392</td><td>0.283393</td><td>0.157579</td><td>0.108771</td><td>0.363147</td><td>0.15524</td><td>0.082245</td><td>0.378103</td><td>&quot;&quot;</td><td>0.25</td><td>0.34075</td><td>&quot;&quot;</td><td>0.333333</td><td>0.339603</td><td>0</td><td>15</td><td>0</td></tr><tr><td>2447273764</td><td>466036199</td><td>2</td><td>0.138112</td><td>0</td><td>0</td><td>0.0</td><td>&quot;&quot;</td><td>&quot;&quot;</td><td>&quot;&quot;</td><td>&quot;&quot;</td><td>&quot;&quot;</td><td>&quot;&quot;</td><td>0.347217</td><td>0.331481</td><td>0.348857</td><td>0.036223</td><td>&quot;倪嗣冲:0.015329,军舰:0.016112,周总理:0…</td><td>&quot;4&quot;</td><td>&quot;历史&quot;</td><td>&quot;历史/中国史&quot;</td><td>0.987825</td><td>0.939314</td><td>0.155676</td><td>0.569123</td><td>0.128401</td><td>0.036799</td><td>0.393342</td><td>0.124567</td><td>0.030694</td><td>0.399198</td><td>&quot;&quot;</td><td>0.25</td><td>0.34075</td><td>&quot;&quot;</td><td>0.333333</td><td>0.339603</td><td>0</td><td>15</td><td>0</td></tr></tbody></table></div>"
      ],
      "text/plain": [
       "shape: (5_142_756, 40)\n",
       "┌───────────┬───────────┬───────────┬───────────┬───┬───────────┬───────────┬───────────┬──────────┐\n",
       "│ user_id   ┆ article_i ┆ network_e ┆ refresh_c ┆ … ┆ userid_ca ┆ expose_ho ┆ expose_ho ┆ is_conve │\n",
       "│ ---       ┆ d         ┆ nv        ┆ ount      ┆   ┆ tegory2_h ┆ urdiff    ┆ ur        ┆ rted     │\n",
       "│ i64       ┆ ---       ┆ ---       ┆ ---       ┆   ┆ istory_du ┆ ---       ┆ ---       ┆ ---      │\n",
       "│           ┆ i64       ┆ i64       ┆ f64       ┆   ┆ rat…      ┆ i32       ┆ i8        ┆ i8       │\n",
       "│           ┆           ┆           ┆           ┆   ┆ ---       ┆           ┆           ┆          │\n",
       "│           ┆           ┆           ┆           ┆   ┆ f64       ┆           ┆           ┆          │\n",
       "╞═══════════╪═══════════╪═══════════╪═══════════╪═══╪═══════════╪═══════════╪═══════════╪══════════╡\n",
       "│ 17340     ┆ 466399808 ┆ 5         ┆ 0.26756   ┆ … ┆ 0.295621  ┆ 0         ┆ 11        ┆ 0        │\n",
       "│ 17340     ┆ 466126343 ┆ 5         ┆ 0.26756   ┆ … ┆ 0.215489  ┆ 0         ┆ 11        ┆ 1        │\n",
       "│ 17340     ┆ 466368404 ┆ 5         ┆ 0.26756   ┆ … ┆ 0.210026  ┆ 0         ┆ 11        ┆ 0        │\n",
       "│ 17340     ┆ 466090289 ┆ 5         ┆ 0.26756   ┆ … ┆ 0.339603  ┆ 0         ┆ 11        ┆ 0        │\n",
       "│ 17340     ┆ 466699030 ┆ 5         ┆ 0.26756   ┆ … ┆ 0.289733  ┆ 0         ┆ 11        ┆ 0        │\n",
       "│ …         ┆ …         ┆ …         ┆ …         ┆ … ┆ …         ┆ …         ┆ …         ┆ …        │\n",
       "│ 244727376 ┆ 466826642 ┆ 2         ┆ 0.138112  ┆ … ┆ 0.339603  ┆ 0         ┆ 15        ┆ 0        │\n",
       "│ 4         ┆           ┆           ┆           ┆   ┆           ┆           ┆           ┆          │\n",
       "│ 244727376 ┆ 466823351 ┆ 2         ┆ 0.138112  ┆ … ┆ 0.339603  ┆ 0         ┆ 15        ┆ 0        │\n",
       "│ 4         ┆           ┆           ┆           ┆   ┆           ┆           ┆           ┆          │\n",
       "│ 244727376 ┆ 466551898 ┆ 2         ┆ 0.138112  ┆ … ┆ 0.339603  ┆ 0         ┆ 15        ┆ 0        │\n",
       "│ 4         ┆           ┆           ┆           ┆   ┆           ┆           ┆           ┆          │\n",
       "│ 244727376 ┆ 466254142 ┆ 2         ┆ 0.138112  ┆ … ┆ 0.339603  ┆ 0         ┆ 15        ┆ 0        │\n",
       "│ 4         ┆           ┆           ┆           ┆   ┆           ┆           ┆           ┆          │\n",
       "│ 244727376 ┆ 466036199 ┆ 2         ┆ 0.138112  ┆ … ┆ 0.339603  ┆ 0         ┆ 15        ┆ 0        │\n",
       "│ 4         ┆           ┆           ┆           ┆   ┆           ┆           ┆           ┆          │\n",
       "└───────────┴───────────┴───────────┴───────────┴───┴───────────┴───────────┴───────────┴──────────┘"
      ]
     },
     "execution_count": 41,
     "metadata": {},
     "output_type": "execute_result"
    }
   ],
   "source": [
    "matched_data"
   ]
  },
  {
   "cell_type": "markdown",
   "metadata": {},
   "source": [
    "### 4. 数据保存"
   ]
  },
  {
   "cell_type": "markdown",
   "metadata": {},
   "source": [
    "#### 4.1 保存为csv数据"
   ]
  },
  {
   "cell_type": "code",
   "execution_count": 22,
   "metadata": {},
   "outputs": [
    {
     "name": "stdout",
     "output_type": "stream",
     "text": [
      "Saved chunk 1 to /data3/zxh/news_rec/rank_csv_data/val_data/val_csv_00001-of-00016.csv (1000000 rows)\n",
      "Saved chunk 2 to /data3/zxh/news_rec/rank_csv_data/val_data/val_csv_00002-of-00016.csv (1000000 rows)\n",
      "Saved chunk 3 to /data3/zxh/news_rec/rank_csv_data/val_data/val_csv_00003-of-00016.csv (1000000 rows)\n",
      "Saved chunk 4 to /data3/zxh/news_rec/rank_csv_data/val_data/val_csv_00004-of-00016.csv (1000000 rows)\n",
      "Saved chunk 5 to /data3/zxh/news_rec/rank_csv_data/val_data/val_csv_00005-of-00016.csv (1000000 rows)\n",
      "Saved chunk 6 to /data3/zxh/news_rec/rank_csv_data/val_data/val_csv_00006-of-00016.csv (1000000 rows)\n",
      "Saved chunk 7 to /data3/zxh/news_rec/rank_csv_data/val_data/val_csv_00007-of-00016.csv (1000000 rows)\n",
      "Saved chunk 8 to /data3/zxh/news_rec/rank_csv_data/val_data/val_csv_00008-of-00016.csv (1000000 rows)\n",
      "Saved chunk 9 to /data3/zxh/news_rec/rank_csv_data/val_data/val_csv_00009-of-00016.csv (1000000 rows)\n",
      "Saved chunk 10 to /data3/zxh/news_rec/rank_csv_data/val_data/val_csv_00010-of-00016.csv (1000000 rows)\n",
      "Saved chunk 11 to /data3/zxh/news_rec/rank_csv_data/val_data/val_csv_00011-of-00016.csv (1000000 rows)\n",
      "Saved chunk 12 to /data3/zxh/news_rec/rank_csv_data/val_data/val_csv_00012-of-00016.csv (1000000 rows)\n",
      "Saved chunk 13 to /data3/zxh/news_rec/rank_csv_data/val_data/val_csv_00013-of-00016.csv (1000000 rows)\n",
      "Saved chunk 14 to /data3/zxh/news_rec/rank_csv_data/val_data/val_csv_00014-of-00016.csv (1000000 rows)\n",
      "Saved chunk 15 to /data3/zxh/news_rec/rank_csv_data/val_data/val_csv_00015-of-00016.csv (1000000 rows)\n",
      "Saved chunk 16 to /data3/zxh/news_rec/rank_csv_data/val_data/val_csv_00016-of-00016.csv (730319 rows)\n"
     ]
    }
   ],
   "source": [
    "# 估算每个分块的大小（每 1_000_000 行存储一次）\n",
    "rows_per_chunk = 1_000_000  \n",
    "\n",
    "# 计算总行数\n",
    "total_rows = val_data.height\n",
    "\n",
    "# 计算分块数量\n",
    "num_chunks = (total_rows // rows_per_chunk) + (1 if total_rows % rows_per_chunk != 0 else 0)\n",
    "\n",
    "# 输出目录\n",
    "output_path = \"/data3/zxh/news_rec/rank_csv_data\"\n",
    "\n",
    "# 分块存储为 CSV\n",
    "for i in range(num_chunks):\n",
    "    start = i * rows_per_chunk\n",
    "    end = min((i + 1) * rows_per_chunk, total_rows)\n",
    "    \n",
    "    chunk = val_data.slice(start, end - start).fill_null(\"\")\n",
    "    \n",
    "    file_path = f\"{output_path}/val_data/val_csv_{i+1:05d}-of-{num_chunks:05d}.csv\"\n",
    "    chunk.write_csv(file_path, separator=\"\\t\")\n",
    "    \n",
    "    print(f\"Saved chunk {i+1} to {file_path} ({chunk.height} rows)\")"
   ]
  },
  {
   "cell_type": "markdown",
   "metadata": {},
   "source": [
    "#### 4.2 转换为TFRecord"
   ]
  },
  {
   "cell_type": "code",
   "execution_count": 22,
   "metadata": {},
   "outputs": [],
   "source": [
    "# def df_to_tfrecord(chunk: pl.DataFrame, file_path: str):\n",
    "#     \"\"\"将 Polars DataFrame 分块写入 TFRecord 文件\"\"\"\n",
    "#     def create_example(row: dict):\n",
    "#         features = {}\n",
    "#         for col, dtype in chunk.schema.items():\n",
    "#             value = row[col]\n",
    "            \n",
    "#             # 处理空值（根据特征类型设置默认值）\n",
    "#             if value is None: # value为0是之前设置好的空缺值\n",
    "#                 if dtype == pl.String:\n",
    "#                     value = \"\"\n",
    "#                 elif dtype in (pl.Int64, pl.Float64):\n",
    "#                     value = 0\n",
    "#                 else:\n",
    "#                     value = dtype.default()\n",
    "            \n",
    "#             # 类型转换\n",
    "#             if dtype == pl.String:\n",
    "#                 features[col] = tf.train.Feature(\n",
    "#                     bytes_list=tf.train.BytesList(value=[value.encode()]))\n",
    "#             elif dtype == pl.Int64:\n",
    "#                 features[col] = tf.train.Feature(\n",
    "#                     int64_list=tf.train.Int64List(value=[value]))\n",
    "#             elif dtype == pl.Float64:\n",
    "#                 features[col] = tf.train.Feature(\n",
    "#                     float_list=tf.train.FloatList(value=[value]))\n",
    "#             else:\n",
    "#                 raise ValueError(f\"Unsupported dtype: {dtype}\")\n",
    "\n",
    "#         return tf.train.Example(features=tf.train.Features(feature=features))\n",
    "\n",
    "#     # 流式写入（内存优化）\n",
    "#     with tf.io.TFRecordWriter(file_path) as writer:\n",
    "#         for row_dict in chunk.iter_rows(named=True):\n",
    "#             example = create_example(row_dict)\n",
    "#             writer.write(example.SerializeToString())"
   ]
  },
  {
   "cell_type": "code",
   "execution_count": 23,
   "metadata": {},
   "outputs": [],
   "source": [
    "# from path import Path\n",
    "# from concurrent.futures import ThreadPoolExecutor\n",
    "\n",
    "# def split_to_tfrecords(\n",
    "#     df: pl.DataFrame,\n",
    "#     output_dir: str,\n",
    "#     pattern : str,\n",
    "#     chunk_size: int = 400_000\n",
    "# ):\n",
    "#     \"\"\"分块保存为 TFRecord 文件\"\"\"\n",
    "#     # 分块处理（内存安全）\n",
    "#     total_rows = df.height\n",
    "#     num_chunks = (total_rows // chunk_size) + (1 if total_rows % chunk_size != 0 else 0)\n",
    "    \n",
    "#     for i in tqdm(range(num_chunks)):\n",
    "#         start = i * chunk_size\n",
    "#         end = min((i + 1) * chunk_size, total_rows)\n",
    "        \n",
    "#         # 分块处理（使用指针避免内存复制）\n",
    "#         chunk = df.slice(start, end - start)\n",
    "        \n",
    "#         # 写入文件\n",
    "#         file_path = f\"{output_dir}/{pattern}_tfrecord-{i:05d}-of-{num_chunks:05d}.tfrecord\"\n",
    "#         df_to_tfrecord(chunk, file_path)"
   ]
  },
  {
   "cell_type": "code",
   "execution_count": 24,
   "metadata": {},
   "outputs": [],
   "source": [
    "# pattern = \"train\"\n",
    "# output_dir = f\"/data3/zxh/news_rec/TFRecords/{pattern}_data\"\n",
    "# split_to_tfrecords(df=train_data, output_dir=output_dir, pattern=pattern)"
   ]
  }
 ],
 "metadata": {
  "kernelspec": {
   "display_name": "tensorflow",
   "language": "python",
   "name": "python3"
  },
  "language_info": {
   "codemirror_mode": {
    "name": "ipython",
    "version": 3
   },
   "file_extension": ".py",
   "mimetype": "text/x-python",
   "name": "python",
   "nbconvert_exporter": "python",
   "pygments_lexer": "ipython3",
   "version": "3.9.21"
  }
 },
 "nbformat": 4,
 "nbformat_minor": 2
}
