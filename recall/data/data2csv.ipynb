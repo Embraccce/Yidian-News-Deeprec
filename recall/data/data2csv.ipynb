{
 "cells": [
  {
   "cell_type": "markdown",
   "metadata": {},
   "source": [
    "### 将所有属性整合起来变成一条条的训练数据"
   ]
  },
  {
   "cell_type": "markdown",
   "metadata": {},
   "source": [
    "### 1. 导入包"
   ]
  },
  {
   "cell_type": "code",
   "execution_count": 1,
   "metadata": {},
   "outputs": [],
   "source": [
    "import pickle\n",
    "import polars as pl\n",
    "from tqdm import tqdm"
   ]
  },
  {
   "cell_type": "code",
   "execution_count": 2,
   "metadata": {},
   "outputs": [],
   "source": [
    "# 设置文件目录\n",
    "offline = False\n",
    "mode = \"offline\" if offline else \"online\"\n",
    "data_path = f\"/data3/zxh/news_rec/{mode}_data\"\n",
    "public_path = \"/data3/zxh/news_rec/public_data\""
   ]
  },
  {
   "cell_type": "markdown",
   "metadata": {},
   "source": [
    "### 2. 处理 item 数据"
   ]
  },
  {
   "cell_type": "markdown",
   "metadata": {},
   "source": [
    "#### 2.1 keywords数据"
   ]
  },
  {
   "cell_type": "code",
   "execution_count": 3,
   "metadata": {},
   "outputs": [
    {
     "data": {
      "text/html": [
       "<div><style>\n",
       ".dataframe > thead > tr,\n",
       ".dataframe > tbody > tr {\n",
       "  text-align: right;\n",
       "  white-space: pre-wrap;\n",
       "}\n",
       "</style>\n",
       "<small>shape: (9, 3)</small><table border=\"1\" class=\"dataframe\"><thead><tr><th>statistic</th><th>article_id</th><th>keywords</th></tr><tr><td>str</td><td>f64</td><td>str</td></tr></thead><tbody><tr><td>&quot;count&quot;</td><td>622407.0</td><td>&quot;622407&quot;</td></tr><tr><td>&quot;null_count&quot;</td><td>0.0</td><td>&quot;0&quot;</td></tr><tr><td>&quot;mean&quot;</td><td>4.6463e8</td><td>null</td></tr><tr><td>&quot;std&quot;</td><td>1.5653e6</td><td>null</td></tr><tr><td>&quot;min&quot;</td><td>3.34493096e8</td><td>&quot;#^^0000ff:0.032714,0000ff:0.03…</td></tr><tr><td>&quot;25%&quot;</td><td>4.6345081e8</td><td>null</td></tr><tr><td>&quot;50%&quot;</td><td>4.64632474e8</td><td>null</td></tr><tr><td>&quot;75%&quot;</td><td>4.65821561e8</td><td>null</td></tr><tr><td>&quot;max&quot;</td><td>4.67278131e8</td><td>&quot;龙泉:1.000000&quot;</td></tr></tbody></table></div>"
      ],
      "text/plain": [
       "shape: (9, 3)\n",
       "┌────────────┬──────────────┬─────────────────────────────────┐\n",
       "│ statistic  ┆ article_id   ┆ keywords                        │\n",
       "│ ---        ┆ ---          ┆ ---                             │\n",
       "│ str        ┆ f64          ┆ str                             │\n",
       "╞════════════╪══════════════╪═════════════════════════════════╡\n",
       "│ count      ┆ 622407.0     ┆ 622407                          │\n",
       "│ null_count ┆ 0.0          ┆ 0                               │\n",
       "│ mean       ┆ 4.6463e8     ┆ null                            │\n",
       "│ std        ┆ 1.5653e6     ┆ null                            │\n",
       "│ min        ┆ 3.34493096e8 ┆ #^^0000ff:0.032714,0000ff:0.03… │\n",
       "│ 25%        ┆ 4.6345081e8  ┆ null                            │\n",
       "│ 50%        ┆ 4.64632474e8 ┆ null                            │\n",
       "│ 75%        ┆ 4.65821561e8 ┆ null                            │\n",
       "│ max        ┆ 4.67278131e8 ┆ 龙泉:1.000000                   │\n",
       "└────────────┴──────────────┴─────────────────────────────────┘"
      ]
     },
     "execution_count": 3,
     "metadata": {},
     "output_type": "execute_result"
    }
   ],
   "source": [
    "doc_keywords = pl.read_ipc(f\"{public_path}/doc_keywords_feature.ipc\")\n",
    "doc_keywords.describe()"
   ]
  },
  {
   "cell_type": "markdown",
   "metadata": {},
   "source": [
    "#### 2.2 处理 item 的 sparse 特征"
   ]
  },
  {
   "cell_type": "code",
   "execution_count": 4,
   "metadata": {},
   "outputs": [
    {
     "data": {
      "text/html": [
       "<div><style>\n",
       ".dataframe > thead > tr,\n",
       ".dataframe > tbody > tr {\n",
       "  text-align: right;\n",
       "  white-space: pre-wrap;\n",
       "}\n",
       "</style>\n",
       "<small>shape: (9, 6)</small><table border=\"1\" class=\"dataframe\"><thead><tr><th>statistic</th><th>article_id</th><th>publish_time</th><th>image_count</th><th>category_level1</th><th>category_level2</th></tr><tr><td>str</td><td>f64</td><td>f64</td><td>str</td><td>str</td><td>str</td></tr></thead><tbody><tr><td>&quot;count&quot;</td><td>633388.0</td><td>633146.0</td><td>&quot;633388&quot;</td><td>&quot;633388&quot;</td><td>&quot;633388&quot;</td></tr><tr><td>&quot;null_count&quot;</td><td>0.0</td><td>242.0</td><td>&quot;0&quot;</td><td>&quot;0&quot;</td><td>&quot;0&quot;</td></tr><tr><td>&quot;mean&quot;</td><td>4.6462e8</td><td>1.6250e12</td><td>null</td><td>null</td><td>null</td></tr><tr><td>&quot;std&quot;</td><td>1.5769e6</td><td>4.4808e8</td><td>null</td><td>null</td><td>null</td></tr><tr><td>&quot;min&quot;</td><td>3.25279629e8</td><td>1.5634e12</td><td>&quot;&quot;</td><td>&quot;&quot;</td><td>&quot;&quot;</td></tr><tr><td>&quot;25%&quot;</td><td>4.6344849e8</td><td>1.6247e12</td><td>null</td><td>null</td><td>null</td></tr><tr><td>&quot;50%&quot;</td><td>4.64618782e8</td><td>1.6250e12</td><td>null</td><td>null</td><td>null</td></tr><tr><td>&quot;75%&quot;</td><td>4.65814182e8</td><td>1.6253e12</td><td>null</td><td>null</td><td>null</td></tr><tr><td>&quot;max&quot;</td><td>4.67278131e8</td><td>1.6257e12</td><td>&quot;4&quot;</td><td>&quot;颜值才艺&quot;</td><td>&quot;颜值才艺/男神&quot;</td></tr></tbody></table></div>"
      ],
      "text/plain": [
       "shape: (9, 6)\n",
       "┌────────────┬──────────────┬──────────────┬─────────────┬─────────────────┬─────────────────┐\n",
       "│ statistic  ┆ article_id   ┆ publish_time ┆ image_count ┆ category_level1 ┆ category_level2 │\n",
       "│ ---        ┆ ---          ┆ ---          ┆ ---         ┆ ---             ┆ ---             │\n",
       "│ str        ┆ f64          ┆ f64          ┆ str         ┆ str             ┆ str             │\n",
       "╞════════════╪══════════════╪══════════════╪═════════════╪═════════════════╪═════════════════╡\n",
       "│ count      ┆ 633388.0     ┆ 633146.0     ┆ 633388      ┆ 633388          ┆ 633388          │\n",
       "│ null_count ┆ 0.0          ┆ 242.0        ┆ 0           ┆ 0               ┆ 0               │\n",
       "│ mean       ┆ 4.6462e8     ┆ 1.6250e12    ┆ null        ┆ null            ┆ null            │\n",
       "│ std        ┆ 1.5769e6     ┆ 4.4808e8     ┆ null        ┆ null            ┆ null            │\n",
       "│ min        ┆ 3.25279629e8 ┆ 1.5634e12    ┆             ┆                 ┆                 │\n",
       "│ 25%        ┆ 4.6344849e8  ┆ 1.6247e12    ┆ null        ┆ null            ┆ null            │\n",
       "│ 50%        ┆ 4.64618782e8 ┆ 1.6250e12    ┆ null        ┆ null            ┆ null            │\n",
       "│ 75%        ┆ 4.65814182e8 ┆ 1.6253e12    ┆ null        ┆ null            ┆ null            │\n",
       "│ max        ┆ 4.67278131e8 ┆ 1.6257e12    ┆ 4           ┆ 颜值才艺        ┆ 颜值才艺/男神   │\n",
       "└────────────┴──────────────┴──────────────┴─────────────┴─────────────────┴─────────────────┘"
      ]
     },
     "execution_count": 4,
     "metadata": {},
     "output_type": "execute_result"
    }
   ],
   "source": [
    "doc_sparse_feature = pl.read_ipc(f\"{public_path}/doc_sparse_feature.ipc\")\n",
    "doc_sparse_feature.describe()"
   ]
  },
  {
   "cell_type": "markdown",
   "metadata": {},
   "source": [
    "#### 2.3 处理 item 的 category1 信息"
   ]
  },
  {
   "cell_type": "code",
   "execution_count": 5,
   "metadata": {},
   "outputs": [
    {
     "data": {
      "text/html": [
       "<div><style>\n",
       ".dataframe > thead > tr,\n",
       ".dataframe > tbody > tr {\n",
       "  text-align: right;\n",
       "  white-space: pre-wrap;\n",
       "}\n",
       "</style>\n",
       "<small>shape: (9, 5)</small><table border=\"1\" class=\"dataframe\"><thead><tr><th>statistic</th><th>category_level1</th><th>category1_ctr</th><th>category1_popularity</th><th>category1_history_duration_mean</th></tr><tr><td>str</td><td>str</td><td>f64</td><td>f64</td><td>f64</td></tr></thead><tbody><tr><td>&quot;count&quot;</td><td>&quot;39&quot;</td><td>39.0</td><td>39.0</td><td>39.0</td></tr><tr><td>&quot;null_count&quot;</td><td>&quot;0&quot;</td><td>0.0</td><td>0.0</td><td>0.0</td></tr><tr><td>&quot;mean&quot;</td><td>null</td><td>0.130206</td><td>0.025641</td><td>0.320087</td></tr><tr><td>&quot;std&quot;</td><td>null</td><td>0.030696</td><td>0.029621</td><td>0.041547</td></tr><tr><td>&quot;min&quot;</td><td>&quot;&quot;</td><td>0.005495</td><td>4.0111e-8</td><td>0.176037</td></tr><tr><td>&quot;25%&quot;</td><td>null</td><td>0.115168</td><td>0.002049</td><td>0.314507</td></tr><tr><td>&quot;50%&quot;</td><td>null</td><td>0.12907</td><td>0.015897</td><td>0.325458</td></tr><tr><td>&quot;75%&quot;</td><td>null</td><td>0.144295</td><td>0.037759</td><td>0.34304</td></tr><tr><td>&quot;max&quot;</td><td>&quot;颜值才艺&quot;</td><td>0.203067</td><td>0.10927</td><td>0.39428</td></tr></tbody></table></div>"
      ],
      "text/plain": [
       "shape: (9, 5)\n",
       "┌────────────┬─────────────────┬───────────────┬──────────────────────┬────────────────────────────┐\n",
       "│ statistic  ┆ category_level1 ┆ category1_ctr ┆ category1_popularity ┆ category1_history_duration │\n",
       "│ ---        ┆ ---             ┆ ---           ┆ ---                  ┆ _mea…                      │\n",
       "│ str        ┆ str             ┆ f64           ┆ f64                  ┆ ---                        │\n",
       "│            ┆                 ┆               ┆                      ┆ f64                        │\n",
       "╞════════════╪═════════════════╪═══════════════╪══════════════════════╪════════════════════════════╡\n",
       "│ count      ┆ 39              ┆ 39.0          ┆ 39.0                 ┆ 39.0                       │\n",
       "│ null_count ┆ 0               ┆ 0.0           ┆ 0.0                  ┆ 0.0                        │\n",
       "│ mean       ┆ null            ┆ 0.130206      ┆ 0.025641             ┆ 0.320087                   │\n",
       "│ std        ┆ null            ┆ 0.030696      ┆ 0.029621             ┆ 0.041547                   │\n",
       "│ min        ┆                 ┆ 0.005495      ┆ 4.0111e-8            ┆ 0.176037                   │\n",
       "│ 25%        ┆ null            ┆ 0.115168      ┆ 0.002049             ┆ 0.314507                   │\n",
       "│ 50%        ┆ null            ┆ 0.12907       ┆ 0.015897             ┆ 0.325458                   │\n",
       "│ 75%        ┆ null            ┆ 0.144295      ┆ 0.037759             ┆ 0.34304                    │\n",
       "│ max        ┆ 颜值才艺        ┆ 0.203067      ┆ 0.10927              ┆ 0.39428                    │\n",
       "└────────────┴─────────────────┴───────────────┴──────────────────────┴────────────────────────────┘"
      ]
     },
     "execution_count": 5,
     "metadata": {},
     "output_type": "execute_result"
    }
   ],
   "source": [
    "doc_category1_stats = pl.read_ipc(f\"{data_path}/doc_category1_stats_{mode}.ipc\").drop([\"category1_history_count\"])\n",
    "doc_category1_stats.describe()"
   ]
  },
  {
   "cell_type": "markdown",
   "metadata": {},
   "source": [
    "#### 2.4 处理 item 的 category2 信息"
   ]
  },
  {
   "cell_type": "code",
   "execution_count": 6,
   "metadata": {},
   "outputs": [
    {
     "data": {
      "text/html": [
       "<div><style>\n",
       ".dataframe > thead > tr,\n",
       ".dataframe > tbody > tr {\n",
       "  text-align: right;\n",
       "  white-space: pre-wrap;\n",
       "}\n",
       "</style>\n",
       "<small>shape: (198, 4)</small><table border=\"1\" class=\"dataframe\"><thead><tr><th>category_level2</th><th>category2_ctr</th><th>category2_popularity</th><th>category2_history_duration_mean</th></tr><tr><td>str</td><td>f64</td><td>f64</td><td>f64</td></tr></thead><tbody><tr><td>&quot;情感/婚姻与家庭&quot;</td><td>0.155137</td><td>0.082589</td><td>0.378579</td></tr><tr><td>&quot;娱乐/内地明星&quot;</td><td>0.135733</td><td>0.077224</td><td>0.343158</td></tr><tr><td>&quot;军事/军事新闻&quot;</td><td>0.171002</td><td>0.040722</td><td>0.343749</td></tr><tr><td>&quot;健康/疾病防护治疗及西医用药&quot;</td><td>0.12753</td><td>0.038891</td><td>0.329706</td></tr><tr><td>&quot;星座运势/风水与算命&quot;</td><td>0.200625</td><td>0.036517</td><td>0.251325</td></tr><tr><td>&hellip;</td><td>&hellip;</td><td>&hellip;</td><td>&hellip;</td></tr><tr><td>&quot;汽车/其他&quot;</td><td>0.0</td><td>0.0</td><td>null</td></tr><tr><td>&quot;颜值才艺/男神&quot;</td><td>0.0</td><td>0.0</td><td>null</td></tr><tr><td>&quot;音乐/日本音乐&quot;</td><td>0.0</td><td>0.0</td><td>null</td></tr><tr><td>&quot;搞笑/小品&quot;</td><td>0.0</td><td>0.0</td><td>null</td></tr><tr><td>&quot;生活/室内游戏&quot;</td><td>0.0</td><td>0.0</td><td>null</td></tr></tbody></table></div>"
      ],
      "text/plain": [
       "shape: (198, 4)\n",
       "┌─────────────────────────────┬───────────────┬──────────────────────┬─────────────────────────────┐\n",
       "│ category_level2             ┆ category2_ctr ┆ category2_popularity ┆ category2_history_duration_ │\n",
       "│ ---                         ┆ ---           ┆ ---                  ┆ mea…                        │\n",
       "│ str                         ┆ f64           ┆ f64                  ┆ ---                         │\n",
       "│                             ┆               ┆                      ┆ f64                         │\n",
       "╞═════════════════════════════╪═══════════════╪══════════════════════╪═════════════════════════════╡\n",
       "│ 情感/婚姻与家庭             ┆ 0.155137      ┆ 0.082589             ┆ 0.378579                    │\n",
       "│ 娱乐/内地明星               ┆ 0.135733      ┆ 0.077224             ┆ 0.343158                    │\n",
       "│ 军事/军事新闻               ┆ 0.171002      ┆ 0.040722             ┆ 0.343749                    │\n",
       "│ 健康/疾病防护治疗及西医用药 ┆ 0.12753       ┆ 0.038891             ┆ 0.329706                    │\n",
       "│ 星座运势/风水与算命         ┆ 0.200625      ┆ 0.036517             ┆ 0.251325                    │\n",
       "│ …                           ┆ …             ┆ …                    ┆ …                           │\n",
       "│ 汽车/其他                   ┆ 0.0           ┆ 0.0                  ┆ null                        │\n",
       "│ 颜值才艺/男神               ┆ 0.0           ┆ 0.0                  ┆ null                        │\n",
       "│ 音乐/日本音乐               ┆ 0.0           ┆ 0.0                  ┆ null                        │\n",
       "│ 搞笑/小品                   ┆ 0.0           ┆ 0.0                  ┆ null                        │\n",
       "│ 生活/室内游戏               ┆ 0.0           ┆ 0.0                  ┆ null                        │\n",
       "└─────────────────────────────┴───────────────┴──────────────────────┴─────────────────────────────┘"
      ]
     },
     "execution_count": 6,
     "metadata": {},
     "output_type": "execute_result"
    }
   ],
   "source": [
    "doc_category2_stats = pl.read_ipc(f\"{data_path}/doc_category2_stats_{mode}.ipc\").drop([\"category2_history_count\"])\n",
    "doc_category2_stats"
   ]
  },
  {
   "cell_type": "markdown",
   "metadata": {},
   "source": [
    "#### 2.5 处理doc_ctr"
   ]
  },
  {
   "cell_type": "code",
   "execution_count": 7,
   "metadata": {},
   "outputs": [
    {
     "data": {
      "text/html": [
       "<div><style>\n",
       ".dataframe > thead > tr,\n",
       ".dataframe > tbody > tr {\n",
       "  text-align: right;\n",
       "  white-space: pre-wrap;\n",
       "}\n",
       "</style>\n",
       "<small>shape: (9, 5)</small><table border=\"1\" class=\"dataframe\"><thead><tr><th>statistic</th><th>article_id</th><th>docid_history_count</th><th>docid_expose_count</th><th>docid_ctr</th></tr><tr><td>str</td><td>f64</td><td>f64</td><td>f64</td><td>f64</td></tr></thead><tbody><tr><td>&quot;count&quot;</td><td>553023.0</td><td>553023.0</td><td>553023.0</td><td>553023.0</td></tr><tr><td>&quot;null_count&quot;</td><td>0.0</td><td>0.0</td><td>0.0</td><td>0.0</td></tr><tr><td>&quot;mean&quot;</td><td>4.6430e8</td><td>0.321856</td><td>0.368424</td><td>0.042885</td></tr><tr><td>&quot;std&quot;</td><td>1.4220e6</td><td>0.350268</td><td>0.271691</td><td>0.065649</td></tr><tr><td>&quot;min&quot;</td><td>3.25279629e8</td><td>0.0</td><td>0.0</td><td>-0.000457</td></tr><tr><td>&quot;25%&quot;</td><td>4.6329527e8</td><td>0.0</td><td>0.102186</td><td>0.0</td></tr><tr><td>&quot;50%&quot;</td><td>4.64338151e8</td><td>0.317807</td><td>0.351112</td><td>0.006568</td></tr><tr><td>&quot;75%&quot;</td><td>4.65339714e8</td><td>0.628504</td><td>0.590466</td><td>0.065915</td></tr><tr><td>&quot;max&quot;</td><td>4.66561732e8</td><td>1.0</td><td>1.0</td><td>0.640239</td></tr></tbody></table></div>"
      ],
      "text/plain": [
       "shape: (9, 5)\n",
       "┌────────────┬──────────────┬─────────────────────┬────────────────────┬───────────┐\n",
       "│ statistic  ┆ article_id   ┆ docid_history_count ┆ docid_expose_count ┆ docid_ctr │\n",
       "│ ---        ┆ ---          ┆ ---                 ┆ ---                ┆ ---       │\n",
       "│ str        ┆ f64          ┆ f64                 ┆ f64                ┆ f64       │\n",
       "╞════════════╪══════════════╪═════════════════════╪════════════════════╪═══════════╡\n",
       "│ count      ┆ 553023.0     ┆ 553023.0            ┆ 553023.0           ┆ 553023.0  │\n",
       "│ null_count ┆ 0.0          ┆ 0.0                 ┆ 0.0                ┆ 0.0       │\n",
       "│ mean       ┆ 4.6430e8     ┆ 0.321856            ┆ 0.368424           ┆ 0.042885  │\n",
       "│ std        ┆ 1.4220e6     ┆ 0.350268            ┆ 0.271691           ┆ 0.065649  │\n",
       "│ min        ┆ 3.25279629e8 ┆ 0.0                 ┆ 0.0                ┆ -0.000457 │\n",
       "│ 25%        ┆ 4.6329527e8  ┆ 0.0                 ┆ 0.102186           ┆ 0.0       │\n",
       "│ 50%        ┆ 4.64338151e8 ┆ 0.317807            ┆ 0.351112           ┆ 0.006568  │\n",
       "│ 75%        ┆ 4.65339714e8 ┆ 0.628504            ┆ 0.590466           ┆ 0.065915  │\n",
       "│ max        ┆ 4.66561732e8 ┆ 1.0                 ┆ 1.0                ┆ 0.640239  │\n",
       "└────────────┴──────────────┴─────────────────────┴────────────────────┴───────────┘"
      ]
     },
     "execution_count": 7,
     "metadata": {},
     "output_type": "execute_result"
    }
   ],
   "source": [
    "doc_ctr = pl.read_ipc(f\"{data_path}/doc_ctr_{mode}.ipc\")\n",
    "doc_ctr = doc_ctr.with_columns(\n",
    "    pl.col(\"docid_wilson_ctr\").alias(\"docid_ctr\"),\n",
    "    pl.col(\"docid_expose_count_transformed_box\").alias(\"docid_expose_count\"),\n",
    "    pl.col(\"docid_history_count_transformed_box\").alias(\"docid_history_count\")\n",
    ").drop([\"docid_wilson_ctr\", \"docid_expose_count_transformed_box\", \"docid_history_count_transformed_box\"])\n",
    "doc_ctr.describe()"
   ]
  },
  {
   "cell_type": "markdown",
   "metadata": {},
   "source": [
    "#### 2.6 处理doc_duration_mean"
   ]
  },
  {
   "cell_type": "code",
   "execution_count": 8,
   "metadata": {},
   "outputs": [
    {
     "data": {
      "text/html": [
       "<div><style>\n",
       ".dataframe > thead > tr,\n",
       ".dataframe > tbody > tr {\n",
       "  text-align: right;\n",
       "  white-space: pre-wrap;\n",
       "}\n",
       "</style>\n",
       "<small>shape: (286_647, 2)</small><table border=\"1\" class=\"dataframe\"><thead><tr><th>article_id</th><th>docid_history_duration_mean</th></tr><tr><td>i64</td><td>f64</td></tr></thead><tbody><tr><td>465021750</td><td>0.43625</td></tr><tr><td>465652506</td><td>0.398314</td></tr><tr><td>465959628</td><td>0.268172</td></tr><tr><td>464457188</td><td>0.204795</td></tr><tr><td>463830761</td><td>0.300886</td></tr><tr><td>&hellip;</td><td>&hellip;</td></tr><tr><td>465852922</td><td>0.404614</td></tr><tr><td>465514869</td><td>0.18346</td></tr><tr><td>464219800</td><td>0.271533</td></tr><tr><td>463246528</td><td>0.224807</td></tr><tr><td>463534643</td><td>0.179848</td></tr></tbody></table></div>"
      ],
      "text/plain": [
       "shape: (286_647, 2)\n",
       "┌────────────┬─────────────────────────────┐\n",
       "│ article_id ┆ docid_history_duration_mean │\n",
       "│ ---        ┆ ---                         │\n",
       "│ i64        ┆ f64                         │\n",
       "╞════════════╪═════════════════════════════╡\n",
       "│ 465021750  ┆ 0.43625                     │\n",
       "│ 465652506  ┆ 0.398314                    │\n",
       "│ 465959628  ┆ 0.268172                    │\n",
       "│ 464457188  ┆ 0.204795                    │\n",
       "│ 463830761  ┆ 0.300886                    │\n",
       "│ …          ┆ …                           │\n",
       "│ 465852922  ┆ 0.404614                    │\n",
       "│ 465514869  ┆ 0.18346                     │\n",
       "│ 464219800  ┆ 0.271533                    │\n",
       "│ 463246528  ┆ 0.224807                    │\n",
       "│ 463534643  ┆ 0.179848                    │\n",
       "└────────────┴─────────────────────────────┘"
      ]
     },
     "execution_count": 8,
     "metadata": {},
     "output_type": "execute_result"
    }
   ],
   "source": [
    "doc_duration_mean = pl.read_ipc(f\"{data_path}/doc_duration_mean_{mode}.ipc\")\n",
    "doc_duration_mean"
   ]
  },
  {
   "cell_type": "markdown",
   "metadata": {},
   "source": [
    "#### 2.7 合并为 doc_columns"
   ]
  },
  {
   "cell_type": "code",
   "execution_count": 9,
   "metadata": {},
   "outputs": [
    {
     "data": {
      "text/html": [
       "<div><style>\n",
       ".dataframe > thead > tr,\n",
       ".dataframe > tbody > tr {\n",
       "  text-align: right;\n",
       "  white-space: pre-wrap;\n",
       "}\n",
       "</style>\n",
       "<small>shape: (9, 17)</small><table border=\"1\" class=\"dataframe\"><thead><tr><th>statistic</th><th>article_id</th><th>keywords</th><th>publish_time</th><th>image_count</th><th>category_level1</th><th>category_level2</th><th>docid_history_count</th><th>docid_expose_count</th><th>docid_ctr</th><th>docid_history_duration_mean</th><th>category1_ctr</th><th>category1_popularity</th><th>category1_history_duration_mean</th><th>category2_ctr</th><th>category2_popularity</th><th>category2_history_duration_mean</th></tr><tr><td>str</td><td>f64</td><td>str</td><td>f64</td><td>str</td><td>str</td><td>str</td><td>f64</td><td>f64</td><td>f64</td><td>f64</td><td>f64</td><td>f64</td><td>f64</td><td>f64</td><td>f64</td><td>f64</td></tr></thead><tbody><tr><td>&quot;count&quot;</td><td>633391.0</td><td>&quot;622407&quot;</td><td>633146.0</td><td>&quot;633388&quot;</td><td>&quot;633391&quot;</td><td>&quot;633391&quot;</td><td>553023.0</td><td>553023.0</td><td>553023.0</td><td>286647.0</td><td>633391.0</td><td>633391.0</td><td>633391.0</td><td>633387.0</td><td>633387.0</td><td>633333.0</td></tr><tr><td>&quot;null_count&quot;</td><td>0.0</td><td>&quot;10984&quot;</td><td>245.0</td><td>&quot;3&quot;</td><td>&quot;0&quot;</td><td>&quot;0&quot;</td><td>80368.0</td><td>80368.0</td><td>80368.0</td><td>346744.0</td><td>0.0</td><td>0.0</td><td>0.0</td><td>4.0</td><td>4.0</td><td>58.0</td></tr><tr><td>&quot;mean&quot;</td><td>4.6462e8</td><td>null</td><td>1.6250e12</td><td>null</td><td>null</td><td>null</td><td>0.321856</td><td>0.368424</td><td>0.042885</td><td>0.276912</td><td>0.137945</td><td>0.044078</td><td>0.324543</td><td>0.134831</td><td>0.015968</td><td>0.319579</td></tr><tr><td>&quot;std&quot;</td><td>1.5769e6</td><td>null</td><td>4.4808e8</td><td>null</td><td>null</td><td>null</td><td>0.350268</td><td>0.271691</td><td>0.065649</td><td>0.092061</td><td>0.022045</td><td>0.033057</td><td>0.035649</td><td>0.032362</td><td>0.020527</td><td>0.038677</td></tr><tr><td>&quot;min&quot;</td><td>3.25279629e8</td><td>&quot;#^^0000ff:0.032714,0000ff:0.03…</td><td>1.5634e12</td><td>&quot;&quot;</td><td>&quot;&quot;</td><td>&quot;&quot;</td><td>0.0</td><td>0.0</td><td>-0.000457</td><td>0.029607</td><td>0.005495</td><td>4.0111e-8</td><td>0.176037</td><td>0.0</td><td>0.0</td><td>0.064567</td></tr><tr><td>&quot;25%&quot;</td><td>4.63448492e8</td><td>null</td><td>1.6247e12</td><td>null</td><td>null</td><td>null</td><td>0.0</td><td>0.102186</td><td>0.0</td><td>0.216348</td><td>0.124069</td><td>0.018194</td><td>0.314507</td><td>0.11821</td><td>0.003911</td><td>0.30392</td></tr><tr><td>&quot;50%&quot;</td><td>4.64618782e8</td><td>null</td><td>1.6250e12</td><td>null</td><td>null</td><td>null</td><td>0.317807</td><td>0.351112</td><td>0.006568</td><td>0.283309</td><td>0.132281</td><td>0.036681</td><td>0.329983</td><td>0.128979</td><td>0.007396</td><td>0.32554</td></tr><tr><td>&quot;75%&quot;</td><td>4.65814182e8</td><td>null</td><td>1.6253e12</td><td>null</td><td>null</td><td>null</td><td>0.628504</td><td>0.590466</td><td>0.065915</td><td>0.338787</td><td>0.144295</td><td>0.072972</td><td>0.34304</td><td>0.148184</td><td>0.023876</td><td>0.341117</td></tr><tr><td>&quot;max&quot;</td><td>4.67278131e8</td><td>&quot;龙泉:1.000000&quot;</td><td>1.6257e12</td><td>&quot;4&quot;</td><td>&quot;颜值才艺&quot;</td><td>&quot;颜值才艺/男神&quot;</td><td>1.0</td><td>1.0</td><td>0.640239</td><td>0.959917</td><td>0.203067</td><td>0.10927</td><td>0.39428</td><td>0.4</td><td>0.082589</td><td>0.43561</td></tr></tbody></table></div>"
      ],
      "text/plain": [
       "shape: (9, 17)\n",
       "┌───────────┬───────────┬───────────┬───────────┬───┬───────────┬───────────┬───────────┬──────────┐\n",
       "│ statistic ┆ article_i ┆ keywords  ┆ publish_t ┆ … ┆ category1 ┆ category2 ┆ category2 ┆ category │\n",
       "│ ---       ┆ d         ┆ ---       ┆ ime       ┆   ┆ _history_ ┆ _ctr      ┆ _populari ┆ 2_histor │\n",
       "│ str       ┆ ---       ┆ str       ┆ ---       ┆   ┆ duration_ ┆ ---       ┆ ty        ┆ y_durati │\n",
       "│           ┆ f64       ┆           ┆ f64       ┆   ┆ mea…      ┆ f64       ┆ ---       ┆ on_mea…  │\n",
       "│           ┆           ┆           ┆           ┆   ┆ ---       ┆           ┆ f64       ┆ ---      │\n",
       "│           ┆           ┆           ┆           ┆   ┆ f64       ┆           ┆           ┆ f64      │\n",
       "╞═══════════╪═══════════╪═══════════╪═══════════╪═══╪═══════════╪═══════════╪═══════════╪══════════╡\n",
       "│ count     ┆ 633391.0  ┆ 622407    ┆ 633146.0  ┆ … ┆ 633391.0  ┆ 633387.0  ┆ 633387.0  ┆ 633333.0 │\n",
       "│ null_coun ┆ 0.0       ┆ 10984     ┆ 245.0     ┆ … ┆ 0.0       ┆ 4.0       ┆ 4.0       ┆ 58.0     │\n",
       "│ t         ┆           ┆           ┆           ┆   ┆           ┆           ┆           ┆          │\n",
       "│ mean      ┆ 4.6462e8  ┆ null      ┆ 1.6250e12 ┆ … ┆ 0.324543  ┆ 0.134831  ┆ 0.015968  ┆ 0.319579 │\n",
       "│ std       ┆ 1.5769e6  ┆ null      ┆ 4.4808e8  ┆ … ┆ 0.035649  ┆ 0.032362  ┆ 0.020527  ┆ 0.038677 │\n",
       "│ min       ┆ 3.2527962 ┆ #^^0000ff ┆ 1.5634e12 ┆ … ┆ 0.176037  ┆ 0.0       ┆ 0.0       ┆ 0.064567 │\n",
       "│           ┆ 9e8       ┆ :0.032714 ┆           ┆   ┆           ┆           ┆           ┆          │\n",
       "│           ┆           ┆ ,0000ff:0 ┆           ┆   ┆           ┆           ┆           ┆          │\n",
       "│           ┆           ┆ .03…      ┆           ┆   ┆           ┆           ┆           ┆          │\n",
       "│ 25%       ┆ 4.6344849 ┆ null      ┆ 1.6247e12 ┆ … ┆ 0.314507  ┆ 0.11821   ┆ 0.003911  ┆ 0.30392  │\n",
       "│           ┆ 2e8       ┆           ┆           ┆   ┆           ┆           ┆           ┆          │\n",
       "│ 50%       ┆ 4.6461878 ┆ null      ┆ 1.6250e12 ┆ … ┆ 0.329983  ┆ 0.128979  ┆ 0.007396  ┆ 0.32554  │\n",
       "│           ┆ 2e8       ┆           ┆           ┆   ┆           ┆           ┆           ┆          │\n",
       "│ 75%       ┆ 4.6581418 ┆ null      ┆ 1.6253e12 ┆ … ┆ 0.34304   ┆ 0.148184  ┆ 0.023876  ┆ 0.341117 │\n",
       "│           ┆ 2e8       ┆           ┆           ┆   ┆           ┆           ┆           ┆          │\n",
       "│ max       ┆ 4.6727813 ┆ 龙泉:1.00 ┆ 1.6257e12 ┆ … ┆ 0.39428   ┆ 0.4       ┆ 0.082589  ┆ 0.43561  │\n",
       "│           ┆ 1e8       ┆ 0000      ┆           ┆   ┆           ┆           ┆           ┆          │\n",
       "└───────────┴───────────┴───────────┴───────────┴───┴───────────┴───────────┴───────────┴──────────┘"
      ]
     },
     "execution_count": 9,
     "metadata": {},
     "output_type": "execute_result"
    }
   ],
   "source": [
    "doc_columns = (\n",
    "    doc_keywords.join(doc_sparse_feature, on=\"article_id\", how=\"full\")\n",
    "    # 在 join 过程中直接处理 article_id\n",
    "    .with_columns(\n",
    "        pl.coalesce([\"article_id\", \"article_id_right\"]).alias(\"article_id\")\n",
    "    )\n",
    "    .drop(\"article_id_right\")  # 如果不需要，删除临时列\n",
    ")\n",
    "\n",
    "doc_columns = (\n",
    "    doc_columns.join(doc_ctr, on=\"article_id\", how=\"full\")\n",
    "    # 在 join 过程中直接处理 article_id\n",
    "    .with_columns(\n",
    "        pl.coalesce([\"article_id\", \"article_id_right\"]).alias(\"article_id\"),\n",
    "        pl.col(\"category_level1\").fill_null(\"\"),\n",
    "        pl.col(\"category_level2\").fill_null(\"\")\n",
    "    )\n",
    "    .drop(\"article_id_right\")  # 如果不需要，删除临时列\n",
    ")\n",
    "\n",
    "doc_columns = (\n",
    "    doc_columns.join(doc_duration_mean, on=\"article_id\", how=\"full\")\n",
    "    # 在 join 过程中直接处理 article_id\n",
    "    .with_columns(\n",
    "        pl.coalesce([\"article_id\", \"article_id_right\"]).alias(\"article_id\"),\n",
    "    )\n",
    "    .drop(\"article_id_right\")  # 删除临时列\n",
    ")\n",
    "\n",
    "doc_columns = (\n",
    "    doc_columns\n",
    "    .join(doc_category1_stats, on=\"category_level1\", how=\"left\")\n",
    "    .join(doc_category2_stats, on=\"category_level2\", how=\"left\")\n",
    ")\n",
    "\n",
    "\n",
    "doc_columns.describe()"
   ]
  },
  {
   "cell_type": "code",
   "execution_count": 10,
   "metadata": {},
   "outputs": [
    {
     "data": {
      "text/html": [
       "<div><style>\n",
       ".dataframe > thead > tr,\n",
       ".dataframe > tbody > tr {\n",
       "  text-align: right;\n",
       "  white-space: pre-wrap;\n",
       "}\n",
       "</style>\n",
       "<small>shape: (633_391, 16)</small><table border=\"1\" class=\"dataframe\"><thead><tr><th>article_id</th><th>keywords</th><th>publish_time</th><th>image_count</th><th>category_level1</th><th>category_level2</th><th>docid_history_count</th><th>docid_expose_count</th><th>docid_ctr</th><th>docid_history_duration_mean</th><th>category1_ctr</th><th>category1_popularity</th><th>category1_history_duration_mean</th><th>category2_ctr</th><th>category2_popularity</th><th>category2_history_duration_mean</th></tr><tr><td>i64</td><td>str</td><td>i64</td><td>str</td><td>str</td><td>str</td><td>f64</td><td>f64</td><td>f64</td><td>f64</td><td>f64</td><td>f64</td><td>f64</td><td>f64</td><td>f64</td><td>f64</td></tr></thead><tbody><tr><td>349635709</td><td>&quot;上班族:0.052498,买车:0.050440,二手车:0…</td><td>1572519971000</td><td>&quot;4&quot;</td><td>&quot;汽车&quot;</td><td>&quot;汽车/用车&quot;</td><td>0.0</td><td>0.0</td><td>0.0</td><td>null</td><td>0.113181</td><td>0.018194</td><td>0.306948</td><td>0.114335</td><td>0.005002</td><td>0.325907</td></tr><tr><td>361653323</td><td>&quot;医生:0.133734,吸烟:0.149266,板蓝根:0.…</td><td>1624522285000</td><td>&quot;1&quot;</td><td>&quot;健康&quot;</td><td>&quot;健康/疾病防护治疗及西医用药&quot;</td><td>0.0</td><td>0.541653</td><td>0.0</td><td>null</td><td>0.135202</td><td>0.07411</td><td>0.325458</td><td>0.12753</td><td>0.038891</td><td>0.329706</td></tr><tr><td>426732705</td><td>&quot;155n:0.033340,polo:0.029521,中控…</td><td>1610808303000</td><td>&quot;4&quot;</td><td>&quot;汽车&quot;</td><td>&quot;汽车/买车&quot;</td><td>0.0</td><td>0.0</td><td>0.0</td><td>null</td><td>0.113181</td><td>0.018194</td><td>0.306948</td><td>0.126563</td><td>0.007396</td><td>0.288905</td></tr><tr><td>430221183</td><td>&quot;etc:0.038040,代表:0.028015,内饰:0.…</td><td>1612581556000</td><td>&quot;2&quot;</td><td>&quot;汽车&quot;</td><td>&quot;汽车/买车&quot;</td><td>0.0</td><td>0.0</td><td>0.0</td><td>null</td><td>0.113181</td><td>0.018194</td><td>0.306948</td><td>0.126563</td><td>0.007396</td><td>0.288905</td></tr><tr><td>441756326</td><td>&quot;丰田凯美瑞:0.089051,充电器:0.058525,品牌…</td><td>1618825835000</td><td>&quot;4&quot;</td><td>&quot;汽车&quot;</td><td>&quot;汽车/买车&quot;</td><td>0.0</td><td>0.0</td><td>0.0</td><td>null</td><td>0.113181</td><td>0.018194</td><td>0.306948</td><td>0.126563</td><td>0.007396</td><td>0.288905</td></tr><tr><td>&hellip;</td><td>&hellip;</td><td>&hellip;</td><td>&hellip;</td><td>&hellip;</td><td>&hellip;</td><td>&hellip;</td><td>&hellip;</td><td>&hellip;</td><td>&hellip;</td><td>&hellip;</td><td>&hellip;</td><td>&hellip;</td><td>&hellip;</td><td>&hellip;</td><td>&hellip;</td></tr><tr><td>467278115</td><td>&quot;cj:0.048329,三巨头:0.027688,争冠:0.…</td><td>1625672111000</td><td>&quot;4&quot;</td><td>&quot;体育&quot;</td><td>&quot;体育/NBA&quot;</td><td>null</td><td>null</td><td>null</td><td>null</td><td>0.172512</td><td>0.086567</td><td>0.329983</td><td>0.201662</td><td>0.024101</td><td>0.328555</td></tr><tr><td>467278124</td><td>&quot;t恤:0.031757,主理人:0.025905,优雅:0.…</td><td>1625672116000</td><td>&quot;4&quot;</td><td>&quot;时尚&quot;</td><td>&quot;时尚/明星时尚&quot;</td><td>null</td><td>null</td><td>null</td><td>null</td><td>0.139704</td><td>0.028657</td><td>0.195537</td><td>0.09578</td><td>0.006248</td><td>0.223837</td></tr><tr><td>463642111</td><td>null</td><td>null</td><td>null</td><td>&quot;&quot;</td><td>&quot;&quot;</td><td>0.589004</td><td>0.50169</td><td>0.064033</td><td>0.200082</td><td>0.102677</td><td>0.000023</td><td>0.320475</td><td>0.102659</td><td>0.000023</td><td>0.320475</td></tr><tr><td>465493907</td><td>null</td><td>null</td><td>null</td><td>&quot;&quot;</td><td>&quot;&quot;</td><td>0.0</td><td>0.254568</td><td>-3.1392e-17</td><td>null</td><td>0.102677</td><td>0.000023</td><td>0.320475</td><td>0.102659</td><td>0.000023</td><td>0.320475</td></tr><tr><td>465726799</td><td>null</td><td>null</td><td>null</td><td>&quot;&quot;</td><td>&quot;&quot;</td><td>0.658949</td><td>0.580983</td><td>0.059845</td><td>0.178285</td><td>0.102677</td><td>0.000023</td><td>0.320475</td><td>0.102659</td><td>0.000023</td><td>0.320475</td></tr></tbody></table></div>"
      ],
      "text/plain": [
       "shape: (633_391, 16)\n",
       "┌───────────┬───────────┬───────────┬───────────┬───┬───────────┬───────────┬───────────┬──────────┐\n",
       "│ article_i ┆ keywords  ┆ publish_t ┆ image_cou ┆ … ┆ category1 ┆ category2 ┆ category2 ┆ category │\n",
       "│ d         ┆ ---       ┆ ime       ┆ nt        ┆   ┆ _history_ ┆ _ctr      ┆ _populari ┆ 2_histor │\n",
       "│ ---       ┆ str       ┆ ---       ┆ ---       ┆   ┆ duration_ ┆ ---       ┆ ty        ┆ y_durati │\n",
       "│ i64       ┆           ┆ i64       ┆ str       ┆   ┆ mea…      ┆ f64       ┆ ---       ┆ on_mea…  │\n",
       "│           ┆           ┆           ┆           ┆   ┆ ---       ┆           ┆ f64       ┆ ---      │\n",
       "│           ┆           ┆           ┆           ┆   ┆ f64       ┆           ┆           ┆ f64      │\n",
       "╞═══════════╪═══════════╪═══════════╪═══════════╪═══╪═══════════╪═══════════╪═══════════╪══════════╡\n",
       "│ 349635709 ┆ 上班族:0. ┆ 157251997 ┆ 4         ┆ … ┆ 0.306948  ┆ 0.114335  ┆ 0.005002  ┆ 0.325907 │\n",
       "│           ┆ 052498,买 ┆ 1000      ┆           ┆   ┆           ┆           ┆           ┆          │\n",
       "│           ┆ 车:0.0504 ┆           ┆           ┆   ┆           ┆           ┆           ┆          │\n",
       "│           ┆ 40,二手车 ┆           ┆           ┆   ┆           ┆           ┆           ┆          │\n",
       "│           ┆ :0…       ┆           ┆           ┆   ┆           ┆           ┆           ┆          │\n",
       "│ 361653323 ┆ 医生:0.13 ┆ 162452228 ┆ 1         ┆ … ┆ 0.325458  ┆ 0.12753   ┆ 0.038891  ┆ 0.329706 │\n",
       "│           ┆ 3734,吸烟 ┆ 5000      ┆           ┆   ┆           ┆           ┆           ┆          │\n",
       "│           ┆ :0.149266 ┆           ┆           ┆   ┆           ┆           ┆           ┆          │\n",
       "│           ┆ ,板蓝根:0 ┆           ┆           ┆   ┆           ┆           ┆           ┆          │\n",
       "│           ┆ .…        ┆           ┆           ┆   ┆           ┆           ┆           ┆          │\n",
       "│ 426732705 ┆ 155n:0.03 ┆ 161080830 ┆ 4         ┆ … ┆ 0.306948  ┆ 0.126563  ┆ 0.007396  ┆ 0.288905 │\n",
       "│           ┆ 3340,polo ┆ 3000      ┆           ┆   ┆           ┆           ┆           ┆          │\n",
       "│           ┆ :0.029521 ┆           ┆           ┆   ┆           ┆           ┆           ┆          │\n",
       "│           ┆ ,中控…    ┆           ┆           ┆   ┆           ┆           ┆           ┆          │\n",
       "│ 430221183 ┆ etc:0.038 ┆ 161258155 ┆ 2         ┆ … ┆ 0.306948  ┆ 0.126563  ┆ 0.007396  ┆ 0.288905 │\n",
       "│           ┆ 040,代表: ┆ 6000      ┆           ┆   ┆           ┆           ┆           ┆          │\n",
       "│           ┆ 0.028015, ┆           ┆           ┆   ┆           ┆           ┆           ┆          │\n",
       "│           ┆ 内饰:0.…  ┆           ┆           ┆   ┆           ┆           ┆           ┆          │\n",
       "│ 441756326 ┆ 丰田凯美  ┆ 161882583 ┆ 4         ┆ … ┆ 0.306948  ┆ 0.126563  ┆ 0.007396  ┆ 0.288905 │\n",
       "│           ┆ 瑞:0.0890 ┆ 5000      ┆           ┆   ┆           ┆           ┆           ┆          │\n",
       "│           ┆ 51,充电器 ┆           ┆           ┆   ┆           ┆           ┆           ┆          │\n",
       "│           ┆ :0.058525 ┆           ┆           ┆   ┆           ┆           ┆           ┆          │\n",
       "│           ┆ ,品牌…    ┆           ┆           ┆   ┆           ┆           ┆           ┆          │\n",
       "│ …         ┆ …         ┆ …         ┆ …         ┆ … ┆ …         ┆ …         ┆ …         ┆ …        │\n",
       "│ 467278115 ┆ cj:0.0483 ┆ 162567211 ┆ 4         ┆ … ┆ 0.329983  ┆ 0.201662  ┆ 0.024101  ┆ 0.328555 │\n",
       "│           ┆ 29,三巨头 ┆ 1000      ┆           ┆   ┆           ┆           ┆           ┆          │\n",
       "│           ┆ :0.027688 ┆           ┆           ┆   ┆           ┆           ┆           ┆          │\n",
       "│           ┆ ,争冠:0.… ┆           ┆           ┆   ┆           ┆           ┆           ┆          │\n",
       "│ 467278124 ┆ t恤:0.031 ┆ 162567211 ┆ 4         ┆ … ┆ 0.195537  ┆ 0.09578   ┆ 0.006248  ┆ 0.223837 │\n",
       "│           ┆ 757,主理  ┆ 6000      ┆           ┆   ┆           ┆           ┆           ┆          │\n",
       "│           ┆ 人:0.0259 ┆           ┆           ┆   ┆           ┆           ┆           ┆          │\n",
       "│           ┆ 05,优雅:0 ┆           ┆           ┆   ┆           ┆           ┆           ┆          │\n",
       "│           ┆ .…        ┆           ┆           ┆   ┆           ┆           ┆           ┆          │\n",
       "│ 463642111 ┆ null      ┆ null      ┆ null      ┆ … ┆ 0.320475  ┆ 0.102659  ┆ 0.000023  ┆ 0.320475 │\n",
       "│ 465493907 ┆ null      ┆ null      ┆ null      ┆ … ┆ 0.320475  ┆ 0.102659  ┆ 0.000023  ┆ 0.320475 │\n",
       "│ 465726799 ┆ null      ┆ null      ┆ null      ┆ … ┆ 0.320475  ┆ 0.102659  ┆ 0.000023  ┆ 0.320475 │\n",
       "└───────────┴───────────┴───────────┴───────────┴───┴───────────┴───────────┴───────────┴──────────┘"
      ]
     },
     "execution_count": 10,
     "metadata": {},
     "output_type": "execute_result"
    }
   ],
   "source": [
    "doc_columns"
   ]
  },
  {
   "cell_type": "markdown",
   "metadata": {},
   "source": [
    "### 3. 处理 user 数据"
   ]
  },
  {
   "cell_type": "markdown",
   "metadata": {},
   "source": [
    "#### 3.1 处理 user_sparse"
   ]
  },
  {
   "cell_type": "code",
   "execution_count": 11,
   "metadata": {},
   "outputs": [],
   "source": [
    "user_sparse_feature = pl.read_ipc(f\"{public_path}/user_sparse_feature.ipc\")"
   ]
  },
  {
   "cell_type": "markdown",
   "metadata": {},
   "source": [
    "#### 3.2 处理 user_duration_mean"
   ]
  },
  {
   "cell_type": "code",
   "execution_count": 12,
   "metadata": {},
   "outputs": [
    {
     "data": {
      "text/html": [
       "<div><style>\n",
       ".dataframe > thead > tr,\n",
       ".dataframe > tbody > tr {\n",
       "  text-align: right;\n",
       "  white-space: pre-wrap;\n",
       "}\n",
       "</style>\n",
       "<small>shape: (898_913, 2)</small><table border=\"1\" class=\"dataframe\"><thead><tr><th>user_id</th><th>userid_history_duration_mean</th></tr><tr><td>i64</td><td>f64</td></tr></thead><tbody><tr><td>236837432</td><td>0.157165</td></tr><tr><td>2300599814</td><td>0.305542</td></tr><tr><td>2440130324</td><td>0.382317</td></tr><tr><td>2411960594</td><td>0.189772</td></tr><tr><td>2438249066</td><td>0.371854</td></tr><tr><td>&hellip;</td><td>&hellip;</td></tr><tr><td>89202638</td><td>0.260039</td></tr><tr><td>2446103892</td><td>0.427664</td></tr><tr><td>2364653974</td><td>0.269753</td></tr><tr><td>2392244202</td><td>0.332938</td></tr><tr><td>2383389100</td><td>0.418294</td></tr></tbody></table></div>"
      ],
      "text/plain": [
       "shape: (898_913, 2)\n",
       "┌────────────┬──────────────────────────────┐\n",
       "│ user_id    ┆ userid_history_duration_mean │\n",
       "│ ---        ┆ ---                          │\n",
       "│ i64        ┆ f64                          │\n",
       "╞════════════╪══════════════════════════════╡\n",
       "│ 236837432  ┆ 0.157165                     │\n",
       "│ 2300599814 ┆ 0.305542                     │\n",
       "│ 2440130324 ┆ 0.382317                     │\n",
       "│ 2411960594 ┆ 0.189772                     │\n",
       "│ 2438249066 ┆ 0.371854                     │\n",
       "│ …          ┆ …                            │\n",
       "│ 89202638   ┆ 0.260039                     │\n",
       "│ 2446103892 ┆ 0.427664                     │\n",
       "│ 2364653974 ┆ 0.269753                     │\n",
       "│ 2392244202 ┆ 0.332938                     │\n",
       "│ 2383389100 ┆ 0.418294                     │\n",
       "└────────────┴──────────────────────────────┘"
      ]
     },
     "execution_count": 12,
     "metadata": {},
     "output_type": "execute_result"
    }
   ],
   "source": [
    "user_duration_mean = pl.read_ipc(f\"{data_path}/user_duration_mean_{mode}.ipc\")\n",
    "user_duration_mean"
   ]
  },
  {
   "cell_type": "markdown",
   "metadata": {},
   "source": [
    "#### 3.3 处理 user_ctr"
   ]
  },
  {
   "cell_type": "code",
   "execution_count": 13,
   "metadata": {},
   "outputs": [
    {
     "data": {
      "text/html": [
       "<div><style>\n",
       ".dataframe > thead > tr,\n",
       ".dataframe > tbody > tr {\n",
       "  text-align: right;\n",
       "  white-space: pre-wrap;\n",
       "}\n",
       "</style>\n",
       "<small>shape: (9, 5)</small><table border=\"1\" class=\"dataframe\"><thead><tr><th>statistic</th><th>user_id</th><th>userid_history_count</th><th>userid_expose_count</th><th>userid_ctr</th></tr><tr><td>str</td><td>f64</td><td>f64</td><td>f64</td><td>f64</td></tr></thead><tbody><tr><td>&quot;count&quot;</td><td>1.424464e6</td><td>1.424464e6</td><td>1.424464e6</td><td>1.424464e6</td></tr><tr><td>&quot;null_count&quot;</td><td>0.0</td><td>0.0</td><td>0.0</td><td>0.0</td></tr><tr><td>&quot;mean&quot;</td><td>1.9797e9</td><td>0.34189</td><td>0.354483</td><td>0.07321</td></tr><tr><td>&quot;std&quot;</td><td>4.7990e8</td><td>0.315219</td><td>0.264563</td><td>0.096586</td></tr><tr><td>&quot;min&quot;</td><td>17340.0</td><td>0.0</td><td>0.0</td><td>-3.1392e-17</td></tr><tr><td>&quot;25%&quot;</td><td>1.5642e9</td><td>0.0</td><td>0.081458</td><td>0.0</td></tr><tr><td>&quot;50%&quot;</td><td>2.2153e9</td><td>0.339728</td><td>0.346099</td><td>0.033975</td></tr><tr><td>&quot;75%&quot;</td><td>2.4102e9</td><td>0.630756</td><td>0.583428</td><td>0.114205</td></tr><tr><td>&quot;max&quot;</td><td>2.4472e9</td><td>1.0</td><td>1.0</td><td>0.876763</td></tr></tbody></table></div>"
      ],
      "text/plain": [
       "shape: (9, 5)\n",
       "┌────────────┬────────────┬──────────────────────┬─────────────────────┬─────────────┐\n",
       "│ statistic  ┆ user_id    ┆ userid_history_count ┆ userid_expose_count ┆ userid_ctr  │\n",
       "│ ---        ┆ ---        ┆ ---                  ┆ ---                 ┆ ---         │\n",
       "│ str        ┆ f64        ┆ f64                  ┆ f64                 ┆ f64         │\n",
       "╞════════════╪════════════╪══════════════════════╪═════════════════════╪═════════════╡\n",
       "│ count      ┆ 1.424464e6 ┆ 1.424464e6           ┆ 1.424464e6          ┆ 1.424464e6  │\n",
       "│ null_count ┆ 0.0        ┆ 0.0                  ┆ 0.0                 ┆ 0.0         │\n",
       "│ mean       ┆ 1.9797e9   ┆ 0.34189              ┆ 0.354483            ┆ 0.07321     │\n",
       "│ std        ┆ 4.7990e8   ┆ 0.315219             ┆ 0.264563            ┆ 0.096586    │\n",
       "│ min        ┆ 17340.0    ┆ 0.0                  ┆ 0.0                 ┆ -3.1392e-17 │\n",
       "│ 25%        ┆ 1.5642e9   ┆ 0.0                  ┆ 0.081458            ┆ 0.0         │\n",
       "│ 50%        ┆ 2.2153e9   ┆ 0.339728             ┆ 0.346099            ┆ 0.033975    │\n",
       "│ 75%        ┆ 2.4102e9   ┆ 0.630756             ┆ 0.583428            ┆ 0.114205    │\n",
       "│ max        ┆ 2.4472e9   ┆ 1.0                  ┆ 1.0                 ┆ 0.876763    │\n",
       "└────────────┴────────────┴──────────────────────┴─────────────────────┴─────────────┘"
      ]
     },
     "execution_count": 13,
     "metadata": {},
     "output_type": "execute_result"
    }
   ],
   "source": [
    "user_ctr = pl.read_ipc(f\"{data_path}/user_ctr_{mode}.ipc\")\n",
    "user_ctr = user_ctr.with_columns(\n",
    "    pl.col(\"userid_wilson_ctr\").alias(\"userid_ctr\"),\n",
    "    pl.col(\"userid_expose_count_transformed_box\").alias(\"userid_expose_count\"),\n",
    "    pl.col(\"userid_history_count_transformed_box\").alias(\"userid_history_count\")\n",
    ").drop([\"userid_wilson_ctr\", \"userid_expose_count_transformed_box\", \"userid_history_count_transformed_box\"])\n",
    "user_ctr.describe()"
   ]
  },
  {
   "cell_type": "code",
   "execution_count": 14,
   "metadata": {},
   "outputs": [
    {
     "data": {
      "text/html": [
       "<div><style>\n",
       ".dataframe > thead > tr,\n",
       ".dataframe > tbody > tr {\n",
       "  text-align: right;\n",
       "  white-space: pre-wrap;\n",
       "}\n",
       "</style>\n",
       "<small>shape: (1_424_464, 4)</small><table border=\"1\" class=\"dataframe\"><thead><tr><th>user_id</th><th>userid_history_count</th><th>userid_expose_count</th><th>userid_ctr</th></tr><tr><td>i64</td><td>f64</td><td>f64</td><td>f64</td></tr></thead><tbody><tr><td>1463134918</td><td>0.339728</td><td>0.136067</td><td>0.207655</td></tr><tr><td>2342925520</td><td>0.0</td><td>0.0</td><td>0.0</td></tr><tr><td>1497405766</td><td>0.409151</td><td>0.257565</td><td>0.158217</td></tr><tr><td>1639862502</td><td>0.0</td><td>0.0</td><td>0.0</td></tr><tr><td>2442848920</td><td>0.339728</td><td>0.176692</td><td>0.150036</td></tr><tr><td>&hellip;</td><td>&hellip;</td><td>&hellip;</td><td>&hellip;</td></tr><tr><td>2216221172</td><td>0.849348</td><td>0.814235</td><td>0.074514</td></tr><tr><td>2443589648</td><td>0.229235</td><td>0.081458</td><td>0.094529</td></tr><tr><td>1299566312</td><td>0.751566</td><td>0.579429</td><td>0.291845</td></tr><tr><td>2389767448</td><td>0.630756</td><td>0.429679</td><td>0.314271</td></tr><tr><td>1390121168</td><td>0.229235</td><td>0.293841</td><td>0.01989</td></tr></tbody></table></div>"
      ],
      "text/plain": [
       "shape: (1_424_464, 4)\n",
       "┌────────────┬──────────────────────┬─────────────────────┬────────────┐\n",
       "│ user_id    ┆ userid_history_count ┆ userid_expose_count ┆ userid_ctr │\n",
       "│ ---        ┆ ---                  ┆ ---                 ┆ ---        │\n",
       "│ i64        ┆ f64                  ┆ f64                 ┆ f64        │\n",
       "╞════════════╪══════════════════════╪═════════════════════╪════════════╡\n",
       "│ 1463134918 ┆ 0.339728             ┆ 0.136067            ┆ 0.207655   │\n",
       "│ 2342925520 ┆ 0.0                  ┆ 0.0                 ┆ 0.0        │\n",
       "│ 1497405766 ┆ 0.409151             ┆ 0.257565            ┆ 0.158217   │\n",
       "│ 1639862502 ┆ 0.0                  ┆ 0.0                 ┆ 0.0        │\n",
       "│ 2442848920 ┆ 0.339728             ┆ 0.176692            ┆ 0.150036   │\n",
       "│ …          ┆ …                    ┆ …                   ┆ …          │\n",
       "│ 2216221172 ┆ 0.849348             ┆ 0.814235            ┆ 0.074514   │\n",
       "│ 2443589648 ┆ 0.229235             ┆ 0.081458            ┆ 0.094529   │\n",
       "│ 1299566312 ┆ 0.751566             ┆ 0.579429            ┆ 0.291845   │\n",
       "│ 2389767448 ┆ 0.630756             ┆ 0.429679            ┆ 0.314271   │\n",
       "│ 1390121168 ┆ 0.229235             ┆ 0.293841            ┆ 0.01989    │\n",
       "└────────────┴──────────────────────┴─────────────────────┴────────────┘"
      ]
     },
     "execution_count": 14,
     "metadata": {},
     "output_type": "execute_result"
    }
   ],
   "source": [
    "user_ctr"
   ]
  },
  {
   "cell_type": "markdown",
   "metadata": {},
   "source": [
    "#### 3.4 合并为 训练数据"
   ]
  },
  {
   "cell_type": "code",
   "execution_count": 15,
   "metadata": {},
   "outputs": [],
   "source": [
    "# 训练集上得到的数据，所有缺失值的填充要按照这个字典来\n",
    "FILL_VALUES = {\n",
    "    'docid_history_count': 0.3197370642850515,\n",
    "    'docid_expose_count': 0.35353441318778134,\n",
    "    'docid_ctr': 0.006392260064240436,\n",
    "    'docid_history_duration_mean': 0.28339285217401183,\n",
    "    'category1_ctr': 0.13570003591442992,\n",
    "    'category1_popularity': 0.036799390379834,\n",
    "    'category1_history_duration_mean': 0.32981757714259613,\n",
    "    'category2_ctr': 0.13293362050565613,\n",
    "    'category2_popularity': 0.007456100573611463,\n",
    "    'category2_history_duration_mean': 0.32639158456815426,\n",
    "    'userid_category1_ctr': 0.25,\n",
    "    'userid_category1_history_duration_mean': 0.34075001249075343,\n",
    "    'userid_category2_ctr': 0.3333333333333333,\n",
    "    'userid_category2_history_duration_mean': 0.3396034216144695,\n",
    "    'userid_history_duration_mean': 0.3472170022795658,\n",
    "    'userid_history_count': 0.33148076049294156,\n",
    "    'userid_expose_count': 0.3488569631166438,\n",
    "    'userid_ctr': 0.036223160969787456\n",
    " }"
   ]
  },
  {
   "cell_type": "code",
   "execution_count": 16,
   "metadata": {},
   "outputs": [
    {
     "data": {
      "text/html": [
       "<div><style>\n",
       ".dataframe > thead > tr,\n",
       ".dataframe > tbody > tr {\n",
       "  text-align: right;\n",
       "  white-space: pre-wrap;\n",
       "}\n",
       "</style>\n",
       "<small>shape: (175_014_258, 29)</small><table border=\"1\" class=\"dataframe\"><thead><tr><th>user_id</th><th>article_id</th><th>network_env</th><th>refresh_count</th><th>device_name</th><th>os</th><th>province</th><th>city</th><th>age</th><th>gender</th><th>userid_history_duration_mean</th><th>userid_history_count</th><th>userid_expose_count</th><th>userid_ctr</th><th>keywords</th><th>image_count</th><th>category_level1</th><th>category_level2</th><th>docid_history_count</th><th>docid_expose_count</th><th>docid_ctr</th><th>docid_history_duration_mean</th><th>category1_ctr</th><th>category1_popularity</th><th>category1_history_duration_mean</th><th>category2_ctr</th><th>category2_popularity</th><th>category2_history_duration_mean</th><th>expose_hour</th></tr><tr><td>i64</td><td>i64</td><td>i64</td><td>f64</td><td>str</td><td>str</td><td>str</td><td>str</td><td>str</td><td>str</td><td>f64</td><td>f64</td><td>f64</td><td>f64</td><td>str</td><td>str</td><td>str</td><td>str</td><td>f64</td><td>f64</td><td>f64</td><td>f64</td><td>f64</td><td>f64</td><td>f64</td><td>f64</td><td>f64</td><td>f64</td><td>i8</td></tr></thead><tbody><tr><td>17340</td><td>462077126</td><td>2</td><td>0.0</td><td>&quot;iPhoneX&quot;</td><td>&quot;IOS&quot;</td><td>&quot;上海&quot;</td><td>&quot;上海&quot;</td><td>&quot;A_0_24:0.029774,A_25_29:0.1268…</td><td>&quot;female:0.0,male:1.0&quot;</td><td>0.292731</td><td>0.883892</td><td>0.749994</td><td>0.293541</td><td>&quot;acg:0.021879,konami:0.027251,s…</td><td>&quot;4&quot;</td><td>&quot;动漫&quot;</td><td>&quot;动漫/日韩动漫&quot;</td><td>0.946722</td><td>0.863891</td><td>0.094437</td><td>0.316013</td><td>0.109581</td><td>0.001435</td><td>0.301214</td><td>0.107453</td><td>0.000563</td><td>0.293774</td><td>12</td></tr><tr><td>17340</td><td>462243474</td><td>2</td><td>0.0</td><td>&quot;iPhoneX&quot;</td><td>&quot;IOS&quot;</td><td>&quot;上海&quot;</td><td>&quot;上海&quot;</td><td>&quot;A_0_24:0.029774,A_25_29:0.1268…</td><td>&quot;female:0.0,male:1.0&quot;</td><td>0.292731</td><td>0.883892</td><td>0.749994</td><td>0.293541</td><td>&quot;女朋友:0.049049,孙一宁:0.070881,孙悟空:…</td><td>&quot;4&quot;</td><td>&quot;搞笑&quot;</td><td>&quot;搞笑/段子&quot;</td><td>0.974402</td><td>0.913843</td><td>0.105119</td><td>0.304359</td><td>0.16268</td><td>0.023724</td><td>0.330949</td><td>0.16556</td><td>0.017759</td><td>0.336461</td><td>12</td></tr><tr><td>17340</td><td>462317087</td><td>2</td><td>0.0</td><td>&quot;iPhoneX&quot;</td><td>&quot;IOS&quot;</td><td>&quot;上海&quot;</td><td>&quot;上海&quot;</td><td>&quot;A_0_24:0.029774,A_25_29:0.1268…</td><td>&quot;female:0.0,male:1.0&quot;</td><td>0.292731</td><td>0.883892</td><td>0.749994</td><td>0.293541</td><td>&quot;app:0.024177,买房:0.025664,二手房:0…</td><td>&quot;3&quot;</td><td>&quot;房产&quot;</td><td>&quot;房产/买房卖房&quot;</td><td>0.970511</td><td>0.900335</td><td>0.118149</td><td>0.360532</td><td>0.12221</td><td>0.012471</td><td>0.338778</td><td>0.105947</td><td>0.004063</td><td>0.341279</td><td>12</td></tr><tr><td>17340</td><td>462821612</td><td>2</td><td>0.0</td><td>&quot;iPhoneX&quot;</td><td>&quot;IOS&quot;</td><td>&quot;上海&quot;</td><td>&quot;上海&quot;</td><td>&quot;A_0_24:0.029774,A_25_29:0.1268…</td><td>&quot;female:0.0,male:1.0&quot;</td><td>0.292731</td><td>0.883892</td><td>0.749994</td><td>0.293541</td><td>&quot;中老年:0.022587,人生:0.022596,体重:0.…</td><td>&quot;4&quot;</td><td>&quot;搞笑&quot;</td><td>&quot;搞笑/囧事&quot;</td><td>0.990512</td><td>0.950894</td><td>0.14834</td><td>0.283659</td><td>0.16268</td><td>0.023724</td><td>0.330949</td><td>0.154487</td><td>0.00543</td><td>0.312192</td><td>12</td></tr><tr><td>17340</td><td>462907578</td><td>2</td><td>0.0</td><td>&quot;iPhoneX&quot;</td><td>&quot;IOS&quot;</td><td>&quot;上海&quot;</td><td>&quot;上海&quot;</td><td>&quot;A_0_24:0.029774,A_25_29:0.1268…</td><td>&quot;female:0.0,male:1.0&quot;</td><td>0.292731</td><td>0.883892</td><td>0.749994</td><td>0.293541</td><td>&quot;tk:0.105316,wifi:0.035106,中附上:…</td><td>&quot;3&quot;</td><td>&quot;科学&quot;</td><td>&quot;科学/天文与航天&quot;</td><td>0.986152</td><td>0.936847</td><td>0.140306</td><td>0.36779</td><td>0.113797</td><td>0.030434</td><td>0.34835</td><td>0.107894</td><td>0.015224</td><td>0.344713</td><td>12</td></tr><tr><td>&hellip;</td><td>&hellip;</td><td>&hellip;</td><td>&hellip;</td><td>&hellip;</td><td>&hellip;</td><td>&hellip;</td><td>&hellip;</td><td>&hellip;</td><td>&hellip;</td><td>&hellip;</td><td>&hellip;</td><td>&hellip;</td><td>&hellip;</td><td>&hellip;</td><td>&hellip;</td><td>&hellip;</td><td>&hellip;</td><td>&hellip;</td><td>&hellip;</td><td>&hellip;</td><td>&hellip;</td><td>&hellip;</td><td>&hellip;</td><td>&hellip;</td><td>&hellip;</td><td>&hellip;</td><td>&hellip;</td><td>&hellip;</td></tr><tr><td>2447175246</td><td>466191290</td><td>5</td><td>0.0</td><td>&quot;&quot;</td><td>&quot;&quot;</td><td>&quot;&quot;</td><td>&quot;&quot;</td><td>&quot;&quot;</td><td>&quot;&quot;</td><td>0.347217</td><td>0.0</td><td>0.0</td><td>0.0</td><td>&quot;中华人民共和国:0.155598,公告:0.181968,国…</td><td>&quot;1&quot;</td><td>&quot;科技&quot;</td><td>&quot;科技/互联网&quot;</td><td>0.984525</td><td>0.99266</td><td>0.01037</td><td>0.158308</td><td>0.131786</td><td>0.022491</td><td>0.315408</td><td>0.093028</td><td>0.004623</td><td>0.31744</td><td>23</td></tr><tr><td>2447175252</td><td>465799811</td><td>5</td><td>0.138112</td><td>&quot;&quot;</td><td>&quot;&quot;</td><td>&quot;&quot;</td><td>&quot;&quot;</td><td>&quot;&quot;</td><td>&quot;&quot;</td><td>0.347217</td><td>0.0</td><td>0.0</td><td>0.0</td><td>&quot;乡村:0.027052,低保户:0.025733,儿童:0.…</td><td>&quot;4&quot;</td><td>&quot;农村&quot;</td><td>&quot;农村/农业资讯&quot;</td><td>0.989417</td><td>0.952125</td><td>0.121711</td><td>0.33293</td><td>0.123118</td><td>0.015897</td><td>0.349712</td><td>0.125165</td><td>0.013018</td><td>0.342013</td><td>23</td></tr><tr><td>2447175308</td><td>466191290</td><td>5</td><td>0.0</td><td>&quot;&quot;</td><td>&quot;&quot;</td><td>&quot;&quot;</td><td>&quot;&quot;</td><td>&quot;&quot;</td><td>&quot;&quot;</td><td>0.347217</td><td>0.0</td><td>0.081458</td><td>0.0</td><td>&quot;中华人民共和国:0.155598,公告:0.181968,国…</td><td>&quot;1&quot;</td><td>&quot;科技&quot;</td><td>&quot;科技/互联网&quot;</td><td>0.984525</td><td>0.99266</td><td>0.01037</td><td>0.158308</td><td>0.131786</td><td>0.022491</td><td>0.315408</td><td>0.093028</td><td>0.004623</td><td>0.31744</td><td>23</td></tr><tr><td>2447175308</td><td>466319737</td><td>5</td><td>0.0</td><td>&quot;&quot;</td><td>&quot;&quot;</td><td>&quot;&quot;</td><td>&quot;&quot;</td><td>&quot;&quot;</td><td>&quot;&quot;</td><td>0.347217</td><td>0.0</td><td>0.081458</td><td>0.0</td><td>&quot;app:0.031235,ceo:0.029697,ceo^…</td><td>&quot;3&quot;</td><td>&quot;汽车&quot;</td><td>&quot;汽车/汽车资讯&quot;</td><td>0.941867</td><td>0.946665</td><td>0.008819</td><td>0.187705</td><td>0.113181</td><td>0.018194</td><td>0.306948</td><td>0.098967</td><td>0.005796</td><td>0.313608</td><td>23</td></tr><tr><td>2447175322</td><td>466153779</td><td>5</td><td>0.138112</td><td>&quot;&quot;</td><td>&quot;&quot;</td><td>&quot;&quot;</td><td>&quot;&quot;</td><td>&quot;&quot;</td><td>&quot;&quot;</td><td>0.347217</td><td>0.0</td><td>0.0</td><td>0.0</td><td>&quot;中国史:0.047644,主持人:0.025844,兴趣:0…</td><td>&quot;4&quot;</td><td>&quot;娱乐&quot;</td><td>&quot;娱乐/内地明星&quot;</td><td>0.991906</td><td>0.961894</td><td>0.119545</td><td>0.352541</td><td>0.135728</td><td>0.102408</td><td>0.34304</td><td>0.135733</td><td>0.077224</td><td>0.343158</td><td>23</td></tr></tbody></table></div>"
      ],
      "text/plain": [
       "shape: (175_014_258, 29)\n",
       "┌───────────┬───────────┬───────────┬───────────┬───┬───────────┬───────────┬───────────┬──────────┐\n",
       "│ user_id   ┆ article_i ┆ network_e ┆ refresh_c ┆ … ┆ category2 ┆ category2 ┆ category2 ┆ expose_h │\n",
       "│ ---       ┆ d         ┆ nv        ┆ ount      ┆   ┆ _ctr      ┆ _populari ┆ _history_ ┆ our      │\n",
       "│ i64       ┆ ---       ┆ ---       ┆ ---       ┆   ┆ ---       ┆ ty        ┆ duration_ ┆ ---      │\n",
       "│           ┆ i64       ┆ i64       ┆ f64       ┆   ┆ f64       ┆ ---       ┆ mea…      ┆ i8       │\n",
       "│           ┆           ┆           ┆           ┆   ┆           ┆ f64       ┆ ---       ┆          │\n",
       "│           ┆           ┆           ┆           ┆   ┆           ┆           ┆ f64       ┆          │\n",
       "╞═══════════╪═══════════╪═══════════╪═══════════╪═══╪═══════════╪═══════════╪═══════════╪══════════╡\n",
       "│ 17340     ┆ 462077126 ┆ 2         ┆ 0.0       ┆ … ┆ 0.107453  ┆ 0.000563  ┆ 0.293774  ┆ 12       │\n",
       "│ 17340     ┆ 462243474 ┆ 2         ┆ 0.0       ┆ … ┆ 0.16556   ┆ 0.017759  ┆ 0.336461  ┆ 12       │\n",
       "│ 17340     ┆ 462317087 ┆ 2         ┆ 0.0       ┆ … ┆ 0.105947  ┆ 0.004063  ┆ 0.341279  ┆ 12       │\n",
       "│ 17340     ┆ 462821612 ┆ 2         ┆ 0.0       ┆ … ┆ 0.154487  ┆ 0.00543   ┆ 0.312192  ┆ 12       │\n",
       "│ 17340     ┆ 462907578 ┆ 2         ┆ 0.0       ┆ … ┆ 0.107894  ┆ 0.015224  ┆ 0.344713  ┆ 12       │\n",
       "│ …         ┆ …         ┆ …         ┆ …         ┆ … ┆ …         ┆ …         ┆ …         ┆ …        │\n",
       "│ 244717524 ┆ 466191290 ┆ 5         ┆ 0.0       ┆ … ┆ 0.093028  ┆ 0.004623  ┆ 0.31744   ┆ 23       │\n",
       "│ 6         ┆           ┆           ┆           ┆   ┆           ┆           ┆           ┆          │\n",
       "│ 244717525 ┆ 465799811 ┆ 5         ┆ 0.138112  ┆ … ┆ 0.125165  ┆ 0.013018  ┆ 0.342013  ┆ 23       │\n",
       "│ 2         ┆           ┆           ┆           ┆   ┆           ┆           ┆           ┆          │\n",
       "│ 244717530 ┆ 466191290 ┆ 5         ┆ 0.0       ┆ … ┆ 0.093028  ┆ 0.004623  ┆ 0.31744   ┆ 23       │\n",
       "│ 8         ┆           ┆           ┆           ┆   ┆           ┆           ┆           ┆          │\n",
       "│ 244717530 ┆ 466319737 ┆ 5         ┆ 0.0       ┆ … ┆ 0.098967  ┆ 0.005796  ┆ 0.313608  ┆ 23       │\n",
       "│ 8         ┆           ┆           ┆           ┆   ┆           ┆           ┆           ┆          │\n",
       "│ 244717532 ┆ 466153779 ┆ 5         ┆ 0.138112  ┆ … ┆ 0.135733  ┆ 0.077224  ┆ 0.343158  ┆ 23       │\n",
       "│ 2         ┆           ┆           ┆           ┆   ┆           ┆           ┆           ┆          │\n",
       "└───────────┴───────────┴───────────┴───────────┴───┴───────────┴───────────┴───────────┴──────────┘"
      ]
     },
     "execution_count": 16,
     "metadata": {},
     "output_type": "execute_result"
    }
   ],
   "source": [
    "train_data = pl.read_ipc(f\"{data_path}/train_data_{mode}.ipc\")\n",
    "# 召回过程，选取所有正样本，负样本考随机采样得到\n",
    "# train_data = train_data.filter(pl.col(\"is_clicked\") == 1)\n",
    "train_data = train_data.with_columns(\n",
    "    pl.col(\"refresh_count_transformed_box\").alias(\"refresh_count\")\n",
    ").drop([\"duration_transformed_box\", \"refresh_count_transformed_box\", \"expose_pos\", \"duration\", \"is_clicked\"])\n",
    "\n",
    "train_data = (\n",
    "    train_data\n",
    "    .join(user_sparse_feature, on=\"user_id\", how=\"left\")\n",
    "    .join(user_duration_mean, on=\"user_id\", how=\"left\")\n",
    "    .join(user_ctr, on=\"user_id\", how=\"left\")\n",
    "    .join(doc_columns, on=\"article_id\", how=\"left\")\n",
    ")\n",
    "\n",
    "# 处理出版时间 和 统计特征的缺失值（使用中位数填充）\n",
    "train_data = train_data.with_columns([\n",
    "    pl.col(col).fill_null(value) for col, value in FILL_VALUES.items() if col in train_data.columns\n",
    "] + [\n",
    "    pl.col(\"publish_time\").fill_null(pl.col(\"publish_time\").median())  # 处理 publish_time 单独计算中位数\n",
    "])\n",
    "\n",
    "train_data = train_data.sort([\"user_id\",\"expose_time\",\"article_id\"])\n",
    "\n",
    "# 计算小时级差距（毫秒差 / 3600000）\n",
    "train_data = train_data.with_columns(\n",
    "    (train_data[\"expose_time\"].cast(pl.Datetime(\"ms\")).dt.hour()).alias(\"expose_hour\")\n",
    ").drop([\"expose_time\", \"publish_time\"])\n",
    "train_data"
   ]
  },
  {
   "cell_type": "markdown",
   "metadata": {},
   "source": [
    "#### 3.5 合并为 测试数据"
   ]
  },
  {
   "cell_type": "code",
   "execution_count": 17,
   "metadata": {},
   "outputs": [],
   "source": [
    "test_data = pl.read_ipc(\"/data3/zxh/news_rec/online_data/test_data_online.ipc\")\n",
    "# 召回过程，选取所有正样本，负样本考随机采样得到\n",
    "# test_data = test_data.filter(pl.col(\"is_clicked\") == 1)\n",
    "test_data = test_data.with_columns(\n",
    "    pl.col(\"refresh_count_transformed_box\").alias(\"refresh_count\")\n",
    ").drop([\"duration_transformed_box\", \"refresh_count_transformed_box\", \"expose_pos\", \"duration\"])\n",
    "\n",
    "test_data = (\n",
    "    test_data\n",
    "    .join(user_sparse_feature, on=\"user_id\", how=\"left\")\n",
    "    .join(user_duration_mean, on=\"user_id\", how=\"left\")\n",
    "    .join(user_ctr, on=\"user_id\", how=\"left\")\n",
    "    .join(doc_columns, on=\"article_id\", how=\"left\")\n",
    ")\n",
    "\n",
    "# 处理出版时间 和 统计特征的缺失值（使用中位数填充）\n",
    "test_data = test_data.with_columns([\n",
    "    pl.col(col).fill_null(value) for col, value in FILL_VALUES.items() if col in test_data.columns\n",
    "] + [\n",
    "    pl.col(\"publish_time\").fill_null(pl.col(\"publish_time\").median())  # 处理 publish_time 单独计算中位数\n",
    "])\n",
    "\n",
    "# 计算小时级差距（毫秒差 / 3600000）\n",
    "test_data = test_data.with_columns(\n",
    "    (test_data[\"expose_time\"].cast(pl.Datetime(\"ms\")).dt.hour()).alias(\"expose_hour\")\n",
    ")\n",
    "\n",
    "(test_data.select([\"user_id\", \"article_id\", \"expose_hour\", \"is_clicked\"])\n",
    "          .unique()\n",
    "          .write_csv(\"/data3/zxh/news_rec/recall_csv_data/test_data/test_data.csv\",separator=\"\\t\"))"
   ]
  },
  {
   "cell_type": "code",
   "execution_count": 18,
   "metadata": {},
   "outputs": [
    {
     "data": {
      "text/html": [
       "<div><style>\n",
       ".dataframe > thead > tr,\n",
       ".dataframe > tbody > tr {\n",
       "  text-align: right;\n",
       "  white-space: pre-wrap;\n",
       "}\n",
       "</style>\n",
       "<small>shape: (12_261_868, 32)</small><table border=\"1\" class=\"dataframe\"><thead><tr><th>user_id</th><th>article_id</th><th>expose_time</th><th>network_env</th><th>refresh_count</th><th>is_clicked</th><th>device_name</th><th>os</th><th>province</th><th>city</th><th>age</th><th>gender</th><th>userid_history_duration_mean</th><th>userid_history_count</th><th>userid_expose_count</th><th>userid_ctr</th><th>keywords</th><th>publish_time</th><th>image_count</th><th>category_level1</th><th>category_level2</th><th>docid_history_count</th><th>docid_expose_count</th><th>docid_ctr</th><th>docid_history_duration_mean</th><th>category1_ctr</th><th>category1_popularity</th><th>category1_history_duration_mean</th><th>category2_ctr</th><th>category2_popularity</th><th>category2_history_duration_mean</th><th>expose_hour</th></tr><tr><td>i64</td><td>i64</td><td>i64</td><td>i64</td><td>f64</td><td>i64</td><td>str</td><td>str</td><td>str</td><td>str</td><td>str</td><td>str</td><td>f64</td><td>f64</td><td>f64</td><td>f64</td><td>str</td><td>f64</td><td>str</td><td>str</td><td>str</td><td>f64</td><td>f64</td><td>f64</td><td>f64</td><td>f64</td><td>f64</td><td>f64</td><td>f64</td><td>f64</td><td>f64</td><td>i8</td></tr></thead><tbody><tr><td>2431381002</td><td>466497559</td><td>1625560435365</td><td>2</td><td>0.366121</td><td>0</td><td>&quot;M2007J22C&quot;</td><td>&quot;Android&quot;</td><td>&quot;江西&quot;</td><td>&quot;九江&quot;</td><td>&quot;A_0_24:0.084074,A_25_29:0.0495…</td><td>&quot;female:0.276102,male:0.723898&quot;</td><td>0.316812</td><td>0.8509</td><td>0.774979</td><td>0.127071</td><td>&quot;人生:0.035545,劈腿:0.036345,包间:0.0…</td><td>1.6255e12</td><td>&quot;3&quot;</td><td>&quot;情感&quot;</td><td>&quot;情感/婚姻与家庭&quot;</td><td>0.683315</td><td>0.605048</td><td>0.059709</td><td>0.384525</td><td>0.157467</td><td>0.10927</td><td>0.36357</td><td>0.155137</td><td>0.082589</td><td>0.378579</td><td>8</td></tr><tr><td>2390152616</td><td>466838383</td><td>1625584316582</td><td>2</td><td>0.829975</td><td>0</td><td>&quot;V1965A&quot;</td><td>&quot;Android&quot;</td><td>&quot;辽宁&quot;</td><td>&quot;葫芦岛&quot;</td><td>&quot;A_0_24:0.066269,A_25_29:0.0717…</td><td>&quot;female:0.273217,male:0.726783&quot;</td><td>0.238623</td><td>0.906467</td><td>0.878375</td><td>0.076488</td><td>&quot;4s店:0.023849,事故:0.029743,二手车:0…</td><td>1.6256e12</td><td>&quot;4&quot;</td><td>&quot;汽车&quot;</td><td>&quot;汽车/用车&quot;</td><td>0.319737</td><td>0.353534</td><td>0.006392</td><td>0.283393</td><td>0.113181</td><td>0.018194</td><td>0.306948</td><td>0.114335</td><td>0.005002</td><td>0.325907</td><td>15</td></tr><tr><td>2443013308</td><td>466596360</td><td>1625552213014</td><td>2</td><td>0.138112</td><td>0</td><td>&quot;LIO-AN00&quot;</td><td>&quot;Android&quot;</td><td>&quot;广东&quot;</td><td>&quot;东莞&quot;</td><td>&quot;A_0_24:0.09405,A_25_29:0.17353…</td><td>&quot;female:0.629811,male:0.370189&quot;</td><td>0.268177</td><td>0.912701</td><td>0.796113</td><td>0.280978</td><td>&quot;低胸:0.032807,低胸^^黑裙:0.026965,发型…</td><td>1.6255e12</td><td>&quot;4&quot;</td><td>&quot;时尚&quot;</td><td>&quot;时尚/女性时尚&quot;</td><td>0.319737</td><td>0.353534</td><td>0.006392</td><td>0.283393</td><td>0.139704</td><td>0.028657</td><td>0.195537</td><td>0.11821</td><td>0.010193</td><td>0.232941</td><td>6</td></tr><tr><td>1293444900</td><td>466550480</td><td>1625547205088</td><td>5</td><td>0.21485</td><td>0</td><td>&quot;MHA-AL00&quot;</td><td>&quot;Android&quot;</td><td>&quot;海南&quot;</td><td>&quot;三亚&quot;</td><td>&quot;A_0_24:0.020534,A_25_29:0.1824…</td><td>&quot;female:0.0,male:1.0&quot;</td><td>0.237377</td><td>0.914906</td><td>0.811186</td><td>0.240239</td><td>&quot;naval:0.056106,naval^^news:0.0…</td><td>1.6255e12</td><td>&quot;4&quot;</td><td>&quot;军事&quot;</td><td>&quot;军事/武器&quot;</td><td>0.734693</td><td>0.525696</td><td>0.192303</td><td>0.479603</td><td>0.166156</td><td>0.056497</td><td>0.348445</td><td>0.160845</td><td>0.011973</td><td>0.347263</td><td>4</td></tr><tr><td>2446511758</td><td>465769818</td><td>1625546678713</td><td>2</td><td>0.26756</td><td>1</td><td>&quot;&quot;</td><td>&quot;&quot;</td><td>&quot;&quot;</td><td>&quot;&quot;</td><td>&quot;A_0_24:0.282267,A_25_29:0.2958…</td><td>&quot;female:0.561326,male:0.438674&quot;</td><td>0.490715</td><td>0.806152</td><td>0.667961</td><td>0.23322</td><td>&quot;亲情:0.018269,储君:0.027646,刘应:0.0…</td><td>1.6253e12</td><td>&quot;4&quot;</td><td>&quot;历史&quot;</td><td>&quot;历史/中国史&quot;</td><td>0.922125</td><td>0.847849</td><td>0.063148</td><td>0.382596</td><td>0.12907</td><td>0.036681</td><td>0.39428</td><td>0.125564</td><td>0.030836</td><td>0.400018</td><td>4</td></tr><tr><td>&hellip;</td><td>&hellip;</td><td>&hellip;</td><td>&hellip;</td><td>&hellip;</td><td>&hellip;</td><td>&hellip;</td><td>&hellip;</td><td>&hellip;</td><td>&hellip;</td><td>&hellip;</td><td>&hellip;</td><td>&hellip;</td><td>&hellip;</td><td>&hellip;</td><td>&hellip;</td><td>&hellip;</td><td>&hellip;</td><td>&hellip;</td><td>&hellip;</td><td>&hellip;</td><td>&hellip;</td><td>&hellip;</td><td>&hellip;</td><td>&hellip;</td><td>&hellip;</td><td>&hellip;</td><td>&hellip;</td><td>&hellip;</td><td>&hellip;</td><td>&hellip;</td><td>&hellip;</td></tr><tr><td>2445496462</td><td>466025645</td><td>1625530203987</td><td>2</td><td>0.21485</td><td>0</td><td>&quot;Mi9Pro5G&quot;</td><td>&quot;Android&quot;</td><td>&quot;广东&quot;</td><td>&quot;广东&quot;</td><td>&quot;A_0_24:0.203706,A_25_29:0.2327…</td><td>&quot;female:0.0,male:1.0&quot;</td><td>0.225388</td><td>0.618423</td><td>0.586005</td><td>0.072089</td><td>&quot;人力^^资源:0.023107,人力^^资源委员会:0.02…</td><td>1.6254e12</td><td>&quot;3&quot;</td><td>&quot;财经&quot;</td><td>&quot;财经/财经人物&quot;</td><td>0.95305</td><td>0.861849</td><td>0.124244</td><td>0.35658</td><td>0.128966</td><td>0.024375</td><td>0.334888</td><td>0.135725</td><td>0.004793</td><td>0.352719</td><td>0</td></tr><tr><td>1349872856</td><td>466714829</td><td>1625567748252</td><td>2</td><td>0.64565</td><td>0</td><td>&quot;PACM00&quot;</td><td>&quot;Android&quot;</td><td>&quot;山东&quot;</td><td>&quot;济宁&quot;</td><td>&quot;A_0_24:0.088099,A_25_29:0.5715…</td><td>&quot;female:0.0,male:1.0&quot;</td><td>0.355585</td><td>0.458394</td><td>0.706604</td><td>0.005433</td><td>&quot;乳汁:0.028392,二手烟:0.023179,产后:0.…</td><td>1.6255e12</td><td>&quot;4&quot;</td><td>&quot;育儿&quot;</td><td>&quot;育儿/孕产健康护理&quot;</td><td>0.319737</td><td>0.353534</td><td>0.006392</td><td>0.283393</td><td>0.127939</td><td>0.018939</td><td>0.320226</td><td>0.127238</td><td>0.007923</td><td>0.328841</td><td>10</td></tr><tr><td>2445791558</td><td>466446910</td><td>1625540321832</td><td>5</td><td>0.138112</td><td>0</td><td>&quot;V1831A&quot;</td><td>&quot;Android&quot;</td><td>&quot;浙江&quot;</td><td>&quot;杭州&quot;</td><td>&quot;A_0_24:0.508554,A_25_29:0.2355…</td><td>&quot;female:0.252032,male:0.747968&quot;</td><td>0.347217</td><td>0.0</td><td>0.793926</td><td>0.0</td><td>&quot;低胸:0.041147,健美:0.028697,克洛伊:0.…</td><td>1.6255e12</td><td>&quot;4&quot;</td><td>&quot;娱乐&quot;</td><td>&quot;娱乐/欧美明星&quot;</td><td>0.851319</td><td>0.741812</td><td>0.086773</td><td>0.268752</td><td>0.135728</td><td>0.102408</td><td>0.34304</td><td>0.086309</td><td>0.000634</td><td>0.328564</td><td>2</td></tr><tr><td>2436636882</td><td>465965637</td><td>1625561846430</td><td>5</td><td>0.652561</td><td>0</td><td>&quot;BLA-AL00&quot;</td><td>&quot;Android&quot;</td><td>&quot;辽宁&quot;</td><td>&quot;大连&quot;</td><td>&quot;A_0_24:0.263469,A_25_29:0.1192…</td><td>&quot;female:0.721427,male:0.278573&quot;</td><td>0.263959</td><td>0.875095</td><td>0.881994</td><td>0.041375</td><td>&quot;久坐:0.021539,乳清蛋白:0.026122,低脂:0…</td><td>1.6254e12</td><td>&quot;4&quot;</td><td>&quot;时尚&quot;</td><td>&quot;时尚/女性时尚&quot;</td><td>0.935618</td><td>0.842028</td><td>0.101558</td><td>0.317</td><td>0.139704</td><td>0.028657</td><td>0.195537</td><td>0.11821</td><td>0.010193</td><td>0.232941</td><td>8</td></tr><tr><td>2318276096</td><td>466111109</td><td>1625536580996</td><td>2</td><td>0.4563</td><td>0</td><td>&quot;BLA-AL00&quot;</td><td>&quot;Android&quot;</td><td>&quot;重庆&quot;</td><td>&quot;重庆&quot;</td><td>&quot;A_0_24:0.010574,A_25_29:0.1290…</td><td>&quot;female:0.0,male:1.0&quot;</td><td>0.355387</td><td>0.868396</td><td>0.758687</td><td>0.203836</td><td>&quot;autonomous:0.039970,cfo:0.0234…</td><td>1.6254e12</td><td>&quot;3&quot;</td><td>&quot;科技&quot;</td><td>&quot;科技/互联网&quot;</td><td>0.987565</td><td>0.934033</td><td>0.180388</td><td>0.294928</td><td>0.131786</td><td>0.022491</td><td>0.315408</td><td>0.093028</td><td>0.004623</td><td>0.31744</td><td>1</td></tr></tbody></table></div>"
      ],
      "text/plain": [
       "shape: (12_261_868, 32)\n",
       "┌───────────┬───────────┬───────────┬───────────┬───┬───────────┬───────────┬───────────┬──────────┐\n",
       "│ user_id   ┆ article_i ┆ expose_ti ┆ network_e ┆ … ┆ category2 ┆ category2 ┆ category2 ┆ expose_h │\n",
       "│ ---       ┆ d         ┆ me        ┆ nv        ┆   ┆ _ctr      ┆ _populari ┆ _history_ ┆ our      │\n",
       "│ i64       ┆ ---       ┆ ---       ┆ ---       ┆   ┆ ---       ┆ ty        ┆ duration_ ┆ ---      │\n",
       "│           ┆ i64       ┆ i64       ┆ i64       ┆   ┆ f64       ┆ ---       ┆ mea…      ┆ i8       │\n",
       "│           ┆           ┆           ┆           ┆   ┆           ┆ f64       ┆ ---       ┆          │\n",
       "│           ┆           ┆           ┆           ┆   ┆           ┆           ┆ f64       ┆          │\n",
       "╞═══════════╪═══════════╪═══════════╪═══════════╪═══╪═══════════╪═══════════╪═══════════╪══════════╡\n",
       "│ 243138100 ┆ 466497559 ┆ 162556043 ┆ 2         ┆ … ┆ 0.155137  ┆ 0.082589  ┆ 0.378579  ┆ 8        │\n",
       "│ 2         ┆           ┆ 5365      ┆           ┆   ┆           ┆           ┆           ┆          │\n",
       "│ 239015261 ┆ 466838383 ┆ 162558431 ┆ 2         ┆ … ┆ 0.114335  ┆ 0.005002  ┆ 0.325907  ┆ 15       │\n",
       "│ 6         ┆           ┆ 6582      ┆           ┆   ┆           ┆           ┆           ┆          │\n",
       "│ 244301330 ┆ 466596360 ┆ 162555221 ┆ 2         ┆ … ┆ 0.11821   ┆ 0.010193  ┆ 0.232941  ┆ 6        │\n",
       "│ 8         ┆           ┆ 3014      ┆           ┆   ┆           ┆           ┆           ┆          │\n",
       "│ 129344490 ┆ 466550480 ┆ 162554720 ┆ 5         ┆ … ┆ 0.160845  ┆ 0.011973  ┆ 0.347263  ┆ 4        │\n",
       "│ 0         ┆           ┆ 5088      ┆           ┆   ┆           ┆           ┆           ┆          │\n",
       "│ 244651175 ┆ 465769818 ┆ 162554667 ┆ 2         ┆ … ┆ 0.125564  ┆ 0.030836  ┆ 0.400018  ┆ 4        │\n",
       "│ 8         ┆           ┆ 8713      ┆           ┆   ┆           ┆           ┆           ┆          │\n",
       "│ …         ┆ …         ┆ …         ┆ …         ┆ … ┆ …         ┆ …         ┆ …         ┆ …        │\n",
       "│ 244549646 ┆ 466025645 ┆ 162553020 ┆ 2         ┆ … ┆ 0.135725  ┆ 0.004793  ┆ 0.352719  ┆ 0        │\n",
       "│ 2         ┆           ┆ 3987      ┆           ┆   ┆           ┆           ┆           ┆          │\n",
       "│ 134987285 ┆ 466714829 ┆ 162556774 ┆ 2         ┆ … ┆ 0.127238  ┆ 0.007923  ┆ 0.328841  ┆ 10       │\n",
       "│ 6         ┆           ┆ 8252      ┆           ┆   ┆           ┆           ┆           ┆          │\n",
       "│ 244579155 ┆ 466446910 ┆ 162554032 ┆ 5         ┆ … ┆ 0.086309  ┆ 0.000634  ┆ 0.328564  ┆ 2        │\n",
       "│ 8         ┆           ┆ 1832      ┆           ┆   ┆           ┆           ┆           ┆          │\n",
       "│ 243663688 ┆ 465965637 ┆ 162556184 ┆ 5         ┆ … ┆ 0.11821   ┆ 0.010193  ┆ 0.232941  ┆ 8        │\n",
       "│ 2         ┆           ┆ 6430      ┆           ┆   ┆           ┆           ┆           ┆          │\n",
       "│ 231827609 ┆ 466111109 ┆ 162553658 ┆ 2         ┆ … ┆ 0.093028  ┆ 0.004623  ┆ 0.31744   ┆ 1        │\n",
       "│ 6         ┆           ┆ 0996      ┆           ┆   ┆           ┆           ┆           ┆          │\n",
       "└───────────┴───────────┴───────────┴───────────┴───┴───────────┴───────────┴───────────┴──────────┘"
      ]
     },
     "execution_count": 18,
     "metadata": {},
     "output_type": "execute_result"
    }
   ],
   "source": [
    "test_data"
   ]
  },
  {
   "cell_type": "markdown",
   "metadata": {},
   "source": [
    "### 4. 数据保存"
   ]
  },
  {
   "cell_type": "markdown",
   "metadata": {},
   "source": [
    "#### 4.1 保存为csv数据"
   ]
  },
  {
   "cell_type": "code",
   "execution_count": null,
   "metadata": {},
   "outputs": [
    {
     "name": "stdout",
     "output_type": "stream",
     "text": [
      "Saved chunk 1 to /data3/zxh/news_rec/recall_csv_data/val_data/val_csv_00000-of-00003.csv (1000000 rows)\n",
      "Saved chunk 2 to /data3/zxh/news_rec/recall_csv_data/val_data/val_csv_00001-of-00003.csv (1000000 rows)\n",
      "Saved chunk 3 to /data3/zxh/news_rec/recall_csv_data/val_data/val_csv_00002-of-00003.csv (183545 rows)\n"
     ]
    }
   ],
   "source": [
    "# 估算每个分块的大小（每 1_000_000 行存储一次）\n",
    "rows_per_chunk = 1_000_000  \n",
    "\n",
    "# 计算总行数\n",
    "total_rows = test_data.height\n",
    "\n",
    "# 计算分块数量\n",
    "num_chunks = (total_rows // rows_per_chunk) + (1 if total_rows % rows_per_chunk != 0 else 0)\n",
    "\n",
    "# 输出目录\n",
    "output_path = \"/data3/zxh/news_rec/recall_csv_data\"\n",
    "\n",
    "# 分块存储为 CSV\n",
    "for i in range(num_chunks):\n",
    "    start = i * rows_per_chunk\n",
    "    end = min((i + 1) * rows_per_chunk, total_rows)\n",
    "    \n",
    "    chunk = test_data.slice(start, end - start).fill_null(\"\")\n",
    "    \n",
    "    file_path = f\"{output_path}/test_data/test_csv_{i+1:05d}-of-{num_chunks:05d}.csv\"\n",
    "    chunk.write_csv(file_path, separator=\"\\t\")\n",
    "    \n",
    "    print(f\"Saved chunk {i+1} to {file_path} ({chunk.height} rows)\")"
   ]
  },
  {
   "cell_type": "markdown",
   "metadata": {},
   "source": [
    "#### 4.2 保存热度字典"
   ]
  },
  {
   "cell_type": "code",
   "execution_count": 18,
   "metadata": {},
   "outputs": [
    {
     "name": "stdout",
     "output_type": "stream",
     "text": [
      "✅ 字典已成功保存为 article_count_dict.pkl\n"
     ]
    }
   ],
   "source": [
    "# 计算 value_counts\n",
    "article_counts = train_data[\"article_id\"].value_counts()\n",
    "\n",
    "# 将 article_id 转换为 string 并存为 dict\n",
    "article_count_dict = dict(zip(article_counts[\"article_id\"].cast(pl.Utf8), article_counts[\"count\"]))\n",
    "\n",
    "# 保存为 pkl 文件\n",
    "with open(f\"/data3/zxh/news_rec/public_data/article_count_{mode}_dict.pkl\", \"wb\") as f:\n",
    "    pickle.dump(article_count_dict, f)\n",
    "\n",
    "print(\"✅ 字典已成功保存为 article_count_dict.pkl\")"
   ]
  },
  {
   "cell_type": "markdown",
   "metadata": {},
   "source": [
    "#### 4.3 保存用户特征和物品特征"
   ]
  },
  {
   "cell_type": "code",
   "execution_count": null,
   "metadata": {},
   "outputs": [],
   "source": []
  },
  {
   "cell_type": "code",
   "execution_count": 51,
   "metadata": {},
   "outputs": [
    {
     "ename": "",
     "evalue": "",
     "output_type": "error",
     "traceback": [
      "\u001b[1;31m在当前单元格或上一个单元格中执行代码时 Kernel 崩溃。\n",
      "\u001b[1;31m请查看单元格中的代码，以确定故障的可能原因。\n",
      "\u001b[1;31m单击<a href='https://aka.ms/vscodeJupyterKernelCrash'>此处</a>了解详细信息。\n",
      "\u001b[1;31m有关更多详细信息，请查看 Jupyter <a href='command:jupyter.viewOutput'>log</a>。"
     ]
    }
   ],
   "source": [
    "# 近期所有的曝光物料如下\n",
    "train_item_features = train_data.select([\"article_id\",\"keywords\",\"image_count\",\"category_level1\",\"category_level2\",\n",
    "                                        \"docid_history_count\",\"docid_expose_count\",\"docid_ctr\",\"docid_history_duration_mean\",\n",
    "                                        \"category1_ctr\",\"category1_popularity\",\"category1_history_duration_mean\",\n",
    "                                        \"category2_ctr\",\"category2_popularity\",\"category2_history_duration_mean\"]).unique()"
   ]
  },
  {
   "cell_type": "code",
   "execution_count": 36,
   "metadata": {},
   "outputs": [],
   "source": [
    "train_item_features.write_csv(\"/data3/zxh/news_rec/recall_csv_data/test_data/train_item_features.csv\",separator=\"\\t\") "
   ]
  },
  {
   "cell_type": "code",
   "execution_count": 49,
   "metadata": {},
   "outputs": [],
   "source": [
    "test_item_features = test_data.select([\"article_id\",\"keywords\",\"image_count\",\"category_level1\",\"category_level2\",\n",
    "                                        \"docid_history_count\",\"docid_expose_count\",\"docid_ctr\",\"docid_history_duration_mean\",\n",
    "                                        \"category1_ctr\",\"category1_popularity\",\"category1_history_duration_mean\",\n",
    "                                        \"category2_ctr\",\"category2_popularity\",\"category2_history_duration_mean\"]).unique()\n",
    "test_item_features.write_csv(\"/data3/zxh/news_rec/recall_csv_data/test_data/test_item_features.csv\",separator=\"\\t\") "
   ]
  },
  {
   "cell_type": "code",
   "execution_count": 19,
   "metadata": {},
   "outputs": [],
   "source": [
    "test_user_features = test_data.select([\"user_id\",\"network_env\",\"refresh_count\",\"device_name\",\"os\",\"province\",\n",
    "                                       \"city\",\"age\",\"gender\",\"userid_history_duration_mean\",\"userid_history_count\",\n",
    "                                       \"userid_expose_count\",\"userid_ctr\",\"expose_hour\"]).unique()\n",
    "test_user_features.write_csv(\"/data3/zxh/news_rec/recall_csv_data/test_data/test_user_features.csv\",separator=\"\\t\") "
   ]
  },
  {
   "cell_type": "code",
   "execution_count": 22,
   "metadata": {},
   "outputs": [
    {
     "name": "stdout",
     "output_type": "stream",
     "text": [
      "一共有 910176 个 (user_id, expose_hour) 分组\n"
     ]
    },
    {
     "name": "stderr",
     "output_type": "stream",
     "text": [
      "/tmp/ipykernel_495153/738212502.py:2: DeprecationWarning: `GroupBy.count` is deprecated. It has been renamed to `len`.\n",
      "  group_count = test_user_features.group_by([\"user_id\", \"expose_hour\"]).count().height\n"
     ]
    }
   ],
   "source": [
    "# 假设 test_user_features 是一个 pl.DataFrame\n",
    "group_count = test_user_features.group_by([\"user_id\", \"expose_hour\"]).count().height\n",
    "\n",
    "print(f\"一共有 {group_count} 个 (user_id, expose_hour) 分组\")"
   ]
  },
  {
   "cell_type": "code",
   "execution_count": null,
   "metadata": {},
   "outputs": [],
   "source": []
  }
 ],
 "metadata": {
  "kernelspec": {
   "display_name": "tensorflow",
   "language": "python",
   "name": "python3"
  },
  "language_info": {
   "codemirror_mode": {
    "name": "ipython",
    "version": 3
   },
   "file_extension": ".py",
   "mimetype": "text/x-python",
   "name": "python",
   "nbconvert_exporter": "python",
   "pygments_lexer": "ipython3",
   "version": "3.9.21"
  }
 },
 "nbformat": 4,
 "nbformat_minor": 2
}
