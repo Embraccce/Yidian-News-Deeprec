{
 "cells": [
  {
   "cell_type": "markdown",
   "metadata": {},
   "source": [
    "### 处理物料离散特征"
   ]
  },
  {
   "cell_type": "markdown",
   "metadata": {},
   "source": [
    "#### 1. 读取数据"
   ]
  },
  {
   "cell_type": "code",
   "execution_count": 28,
   "metadata": {},
   "outputs": [
    {
     "data": {
      "text/html": [
       "<div><style>\n",
       ".dataframe > thead > tr,\n",
       ".dataframe > tbody > tr {\n",
       "  text-align: right;\n",
       "  white-space: pre-wrap;\n",
       "}\n",
       "</style>\n",
       "<small>shape: (633_388, 5)</small><table border=\"1\" class=\"dataframe\"><thead><tr><th>article_id</th><th>publish_time</th><th>image_count</th><th>category_level1</th><th>category_level2</th></tr><tr><td>i64</td><td>i64</td><td>i64</td><td>str</td><td>str</td></tr></thead><tbody><tr><td>349635709</td><td>1572519971000</td><td>9</td><td>&quot;汽车&quot;</td><td>&quot;汽车/用车&quot;</td></tr><tr><td>361653323</td><td>1624522285000</td><td>1</td><td>&quot;健康&quot;</td><td>&quot;健康/疾病防护治疗及西医用药&quot;</td></tr><tr><td>426732705</td><td>1610808303000</td><td>9</td><td>&quot;汽车&quot;</td><td>&quot;汽车/买车&quot;</td></tr><tr><td>430221183</td><td>1612581556000</td><td>2</td><td>&quot;汽车&quot;</td><td>&quot;汽车/买车&quot;</td></tr><tr><td>441756326</td><td>1618825835000</td><td>23</td><td>&quot;汽车&quot;</td><td>&quot;汽车/买车&quot;</td></tr><tr><td>&hellip;</td><td>&hellip;</td><td>&hellip;</td><td>&hellip;</td><td>&hellip;</td></tr><tr><td>467277215</td><td>1625667021000</td><td>8</td><td>&quot;生活&quot;</td><td>&quot;生活/家居&quot;</td></tr><tr><td>467277413</td><td>1625668717000</td><td>2</td><td>&quot;体育&quot;</td><td>&quot;体育/棋牌&quot;</td></tr><tr><td>467277503</td><td>1625663360000</td><td>7</td><td>&quot;文化艺术&quot;</td><td>&quot;文化艺术/文玩收藏&quot;</td></tr><tr><td>467278115</td><td>1625672111000</td><td>10</td><td>&quot;体育&quot;</td><td>&quot;体育/NBA&quot;</td></tr><tr><td>467278124</td><td>1625672116000</td><td>11</td><td>&quot;时尚&quot;</td><td>&quot;时尚/明星时尚&quot;</td></tr></tbody></table></div>"
      ],
      "text/plain": [
       "shape: (633_388, 5)\n",
       "┌────────────┬───────────────┬─────────────┬─────────────────┬─────────────────────────────┐\n",
       "│ article_id ┆ publish_time  ┆ image_count ┆ category_level1 ┆ category_level2             │\n",
       "│ ---        ┆ ---           ┆ ---         ┆ ---             ┆ ---                         │\n",
       "│ i64        ┆ i64           ┆ i64         ┆ str             ┆ str                         │\n",
       "╞════════════╪═══════════════╪═════════════╪═════════════════╪═════════════════════════════╡\n",
       "│ 349635709  ┆ 1572519971000 ┆ 9           ┆ 汽车            ┆ 汽车/用车                   │\n",
       "│ 361653323  ┆ 1624522285000 ┆ 1           ┆ 健康            ┆ 健康/疾病防护治疗及西医用药 │\n",
       "│ 426732705  ┆ 1610808303000 ┆ 9           ┆ 汽车            ┆ 汽车/买车                   │\n",
       "│ 430221183  ┆ 1612581556000 ┆ 2           ┆ 汽车            ┆ 汽车/买车                   │\n",
       "│ 441756326  ┆ 1618825835000 ┆ 23          ┆ 汽车            ┆ 汽车/买车                   │\n",
       "│ …          ┆ …             ┆ …           ┆ …               ┆ …                           │\n",
       "│ 467277215  ┆ 1625667021000 ┆ 8           ┆ 生活            ┆ 生活/家居                   │\n",
       "│ 467277413  ┆ 1625668717000 ┆ 2           ┆ 体育            ┆ 体育/棋牌                   │\n",
       "│ 467277503  ┆ 1625663360000 ┆ 7           ┆ 文化艺术        ┆ 文化艺术/文玩收藏           │\n",
       "│ 467278115  ┆ 1625672111000 ┆ 10          ┆ 体育            ┆ 体育/NBA                    │\n",
       "│ 467278124  ┆ 1625672116000 ┆ 11          ┆ 时尚            ┆ 时尚/明星时尚               │\n",
       "└────────────┴───────────────┴─────────────┴─────────────────┴─────────────────────────────┘"
      ]
     },
     "execution_count": 28,
     "metadata": {},
     "output_type": "execute_result"
    }
   ],
   "source": [
    "import polars as pl\n",
    "import pandas as pd\n",
    "data_path = \"/data3/zxh/news_rec/raw_data\"\n",
    "doc_info = pl.read_ipc(f\"{data_path}/doc_info.arrow\").drop([\"title\", \"keywords\"])\n",
    "doc_info"
   ]
  },
  {
   "cell_type": "code",
   "execution_count": 29,
   "metadata": {},
   "outputs": [
    {
     "data": {
      "text/html": [
       "<div><style>\n",
       ".dataframe > thead > tr,\n",
       ".dataframe > tbody > tr {\n",
       "  text-align: right;\n",
       "  white-space: pre-wrap;\n",
       "}\n",
       "</style>\n",
       "<small>shape: (9, 6)</small><table border=\"1\" class=\"dataframe\"><thead><tr><th>statistic</th><th>article_id</th><th>publish_time</th><th>image_count</th><th>category_level1</th><th>category_level2</th></tr><tr><td>str</td><td>f64</td><td>f64</td><td>f64</td><td>str</td><td>str</td></tr></thead><tbody><tr><td>&quot;count&quot;</td><td>633388.0</td><td>633146.0</td><td>633146.0</td><td>&quot;633101&quot;</td><td>&quot;633100&quot;</td></tr><tr><td>&quot;null_count&quot;</td><td>0.0</td><td>242.0</td><td>242.0</td><td>&quot;287&quot;</td><td>&quot;288&quot;</td></tr><tr><td>&quot;mean&quot;</td><td>4.6462e8</td><td>1.6250e12</td><td>5.907097</td><td>null</td><td>null</td></tr><tr><td>&quot;std&quot;</td><td>1.5769e6</td><td>4.4808e8</td><td>7.068902</td><td>null</td><td>null</td></tr><tr><td>&quot;min&quot;</td><td>3.25279629e8</td><td>1.5634e12</td><td>0.0</td><td>&quot;两性&quot;</td><td>&quot;两性/两性健康&quot;</td></tr><tr><td>&quot;25%&quot;</td><td>4.6344849e8</td><td>1.6247e12</td><td>2.0</td><td>null</td><td>null</td></tr><tr><td>&quot;50%&quot;</td><td>4.64618782e8</td><td>1.6250e12</td><td>4.0</td><td>null</td><td>null</td></tr><tr><td>&quot;75%&quot;</td><td>4.65814182e8</td><td>1.6253e12</td><td>8.0</td><td>null</td><td>null</td></tr><tr><td>&quot;max&quot;</td><td>4.67278131e8</td><td>1.6257e12</td><td>194.0</td><td>&quot;颜值才艺&quot;</td><td>&quot;颜值才艺/男神&quot;</td></tr></tbody></table></div>"
      ],
      "text/plain": [
       "shape: (9, 6)\n",
       "┌────────────┬──────────────┬──────────────┬─────────────┬─────────────────┬─────────────────┐\n",
       "│ statistic  ┆ article_id   ┆ publish_time ┆ image_count ┆ category_level1 ┆ category_level2 │\n",
       "│ ---        ┆ ---          ┆ ---          ┆ ---         ┆ ---             ┆ ---             │\n",
       "│ str        ┆ f64          ┆ f64          ┆ f64         ┆ str             ┆ str             │\n",
       "╞════════════╪══════════════╪══════════════╪═════════════╪═════════════════╪═════════════════╡\n",
       "│ count      ┆ 633388.0     ┆ 633146.0     ┆ 633146.0    ┆ 633101          ┆ 633100          │\n",
       "│ null_count ┆ 0.0          ┆ 242.0        ┆ 242.0       ┆ 287             ┆ 288             │\n",
       "│ mean       ┆ 4.6462e8     ┆ 1.6250e12    ┆ 5.907097    ┆ null            ┆ null            │\n",
       "│ std        ┆ 1.5769e6     ┆ 4.4808e8     ┆ 7.068902    ┆ null            ┆ null            │\n",
       "│ min        ┆ 3.25279629e8 ┆ 1.5634e12    ┆ 0.0         ┆ 两性            ┆ 两性/两性健康   │\n",
       "│ 25%        ┆ 4.6344849e8  ┆ 1.6247e12    ┆ 2.0         ┆ null            ┆ null            │\n",
       "│ 50%        ┆ 4.64618782e8 ┆ 1.6250e12    ┆ 4.0         ┆ null            ┆ null            │\n",
       "│ 75%        ┆ 4.65814182e8 ┆ 1.6253e12    ┆ 8.0         ┆ null            ┆ null            │\n",
       "│ max        ┆ 4.67278131e8 ┆ 1.6257e12    ┆ 194.0       ┆ 颜值才艺        ┆ 颜值才艺/男神   │\n",
       "└────────────┴──────────────┴──────────────┴─────────────┴─────────────────┴─────────────────┘"
      ]
     },
     "execution_count": 29,
     "metadata": {},
     "output_type": "execute_result"
    }
   ],
   "source": [
    "doc_info.describe()"
   ]
  },
  {
   "cell_type": "markdown",
   "metadata": {},
   "source": [
    "#### 2. 对图片数量进行分桶"
   ]
  },
  {
   "cell_type": "code",
   "execution_count": 30,
   "metadata": {},
   "outputs": [],
   "source": [
    "def bucketize_image_count(doc_info: pl.DataFrame) -> pl.DataFrame:\n",
    "    \"\"\"\n",
    "    对 `image_count` 进行分桶，并替换为对应类别（\"0\" 类、\"1\" 类、\"2\" 类...），不进行 One-Hot 编码。\n",
    "\n",
    "    参数：\n",
    "    - doc_info: 包含文章信息的数据框，必须包含 'image_count' 列。\n",
    "\n",
    "    返回：\n",
    "    - pl.DataFrame: `image_count` 经过类别转换后的数据框\n",
    "    \"\"\"\n",
    "    # 过滤掉 None 值，仅计算非空数据的分位数\n",
    "    non_null_values = doc_info.filter(pl.col(\"image_count\").is_not_null())[\"image_count\"].to_pandas()\n",
    "\n",
    "    # 计算 0%、25%、50%、75% 分位数，并去重排序，最后加上最大值+1 确保完整区间\n",
    "    percentiles = sorted(set(non_null_values.quantile([0, 0.25, 0.5, 0.75]).tolist())) + [non_null_values.max() + 1]\n",
    "\n",
    "    # 定义分桶函数\n",
    "    def categorize_image_count(ic):\n",
    "        if ic is None:\n",
    "            return \"\"  # 空缺值归为 \"\" 类\n",
    "        for i in range(len(percentiles) - 1):\n",
    "            if percentiles[i] <= ic < percentiles[i + 1]:\n",
    "                return str(i + 1)  # 类别从 1 开始编号\n",
    "        return None  # 其他情况不会出现\n",
    "\n",
    "    # 应用分桶转换 `image_count`\n",
    "    doc_info = doc_info.with_columns(\n",
    "        pl.col(\"image_count\").map_elements(categorize_image_count, return_dtype=pl.Utf8)\n",
    "    ).fill_null(\"\")\n",
    "\n",
    "    return doc_info"
   ]
  },
  {
   "cell_type": "code",
   "execution_count": 31,
   "metadata": {},
   "outputs": [],
   "source": [
    "# 调用函数对 image_count 进行分桶\n",
    "doc_info = bucketize_image_count(doc_info)"
   ]
  },
  {
   "cell_type": "markdown",
   "metadata": {},
   "source": [
    "#### 3. 保存数据"
   ]
  },
  {
   "cell_type": "code",
   "execution_count": 32,
   "metadata": {},
   "outputs": [
    {
     "data": {
      "text/html": [
       "<div><style>\n",
       ".dataframe > thead > tr,\n",
       ".dataframe > tbody > tr {\n",
       "  text-align: right;\n",
       "  white-space: pre-wrap;\n",
       "}\n",
       "</style>\n",
       "<small>shape: (9, 6)</small><table border=\"1\" class=\"dataframe\"><thead><tr><th>statistic</th><th>article_id</th><th>publish_time</th><th>image_count</th><th>category_level1</th><th>category_level2</th></tr><tr><td>str</td><td>f64</td><td>f64</td><td>str</td><td>str</td><td>str</td></tr></thead><tbody><tr><td>&quot;count&quot;</td><td>633388.0</td><td>633146.0</td><td>&quot;633388&quot;</td><td>&quot;633388&quot;</td><td>&quot;633388&quot;</td></tr><tr><td>&quot;null_count&quot;</td><td>0.0</td><td>242.0</td><td>&quot;0&quot;</td><td>&quot;0&quot;</td><td>&quot;0&quot;</td></tr><tr><td>&quot;mean&quot;</td><td>4.6462e8</td><td>1.6250e12</td><td>null</td><td>null</td><td>null</td></tr><tr><td>&quot;std&quot;</td><td>1.5769e6</td><td>4.4808e8</td><td>null</td><td>null</td><td>null</td></tr><tr><td>&quot;min&quot;</td><td>3.25279629e8</td><td>1.5634e12</td><td>&quot;&quot;</td><td>&quot;&quot;</td><td>&quot;&quot;</td></tr><tr><td>&quot;25%&quot;</td><td>4.6344849e8</td><td>1.6247e12</td><td>null</td><td>null</td><td>null</td></tr><tr><td>&quot;50%&quot;</td><td>4.64618782e8</td><td>1.6250e12</td><td>null</td><td>null</td><td>null</td></tr><tr><td>&quot;75%&quot;</td><td>4.65814182e8</td><td>1.6253e12</td><td>null</td><td>null</td><td>null</td></tr><tr><td>&quot;max&quot;</td><td>4.67278131e8</td><td>1.6257e12</td><td>&quot;4&quot;</td><td>&quot;颜值才艺&quot;</td><td>&quot;颜值才艺/男神&quot;</td></tr></tbody></table></div>"
      ],
      "text/plain": [
       "shape: (9, 6)\n",
       "┌────────────┬──────────────┬──────────────┬─────────────┬─────────────────┬─────────────────┐\n",
       "│ statistic  ┆ article_id   ┆ publish_time ┆ image_count ┆ category_level1 ┆ category_level2 │\n",
       "│ ---        ┆ ---          ┆ ---          ┆ ---         ┆ ---             ┆ ---             │\n",
       "│ str        ┆ f64          ┆ f64          ┆ str         ┆ str             ┆ str             │\n",
       "╞════════════╪══════════════╪══════════════╪═════════════╪═════════════════╪═════════════════╡\n",
       "│ count      ┆ 633388.0     ┆ 633146.0     ┆ 633388      ┆ 633388          ┆ 633388          │\n",
       "│ null_count ┆ 0.0          ┆ 242.0        ┆ 0           ┆ 0               ┆ 0               │\n",
       "│ mean       ┆ 4.6462e8     ┆ 1.6250e12    ┆ null        ┆ null            ┆ null            │\n",
       "│ std        ┆ 1.5769e6     ┆ 4.4808e8     ┆ null        ┆ null            ┆ null            │\n",
       "│ min        ┆ 3.25279629e8 ┆ 1.5634e12    ┆             ┆                 ┆                 │\n",
       "│ 25%        ┆ 4.6344849e8  ┆ 1.6247e12    ┆ null        ┆ null            ┆ null            │\n",
       "│ 50%        ┆ 4.64618782e8 ┆ 1.6250e12    ┆ null        ┆ null            ┆ null            │\n",
       "│ 75%        ┆ 4.65814182e8 ┆ 1.6253e12    ┆ null        ┆ null            ┆ null            │\n",
       "│ max        ┆ 4.67278131e8 ┆ 1.6257e12    ┆ 4           ┆ 颜值才艺        ┆ 颜值才艺/男神   │\n",
       "└────────────┴──────────────┴──────────────┴─────────────┴─────────────────┴─────────────────┘"
      ]
     },
     "execution_count": 32,
     "metadata": {},
     "output_type": "execute_result"
    }
   ],
   "source": [
    "doc_info.describe()"
   ]
  },
  {
   "cell_type": "code",
   "execution_count": 33,
   "metadata": {},
   "outputs": [
    {
     "data": {
      "text/html": [
       "<div><style>\n",
       ".dataframe > thead > tr,\n",
       ".dataframe > tbody > tr {\n",
       "  text-align: right;\n",
       "  white-space: pre-wrap;\n",
       "}\n",
       "</style>\n",
       "<small>shape: (633_388, 5)</small><table border=\"1\" class=\"dataframe\"><thead><tr><th>article_id</th><th>publish_time</th><th>image_count</th><th>category_level1</th><th>category_level2</th></tr><tr><td>i64</td><td>i64</td><td>str</td><td>str</td><td>str</td></tr></thead><tbody><tr><td>349635709</td><td>1572519971000</td><td>&quot;4&quot;</td><td>&quot;汽车&quot;</td><td>&quot;汽车/用车&quot;</td></tr><tr><td>361653323</td><td>1624522285000</td><td>&quot;1&quot;</td><td>&quot;健康&quot;</td><td>&quot;健康/疾病防护治疗及西医用药&quot;</td></tr><tr><td>426732705</td><td>1610808303000</td><td>&quot;4&quot;</td><td>&quot;汽车&quot;</td><td>&quot;汽车/买车&quot;</td></tr><tr><td>430221183</td><td>1612581556000</td><td>&quot;2&quot;</td><td>&quot;汽车&quot;</td><td>&quot;汽车/买车&quot;</td></tr><tr><td>441756326</td><td>1618825835000</td><td>&quot;4&quot;</td><td>&quot;汽车&quot;</td><td>&quot;汽车/买车&quot;</td></tr><tr><td>&hellip;</td><td>&hellip;</td><td>&hellip;</td><td>&hellip;</td><td>&hellip;</td></tr><tr><td>467277215</td><td>1625667021000</td><td>&quot;4&quot;</td><td>&quot;生活&quot;</td><td>&quot;生活/家居&quot;</td></tr><tr><td>467277413</td><td>1625668717000</td><td>&quot;2&quot;</td><td>&quot;体育&quot;</td><td>&quot;体育/棋牌&quot;</td></tr><tr><td>467277503</td><td>1625663360000</td><td>&quot;3&quot;</td><td>&quot;文化艺术&quot;</td><td>&quot;文化艺术/文玩收藏&quot;</td></tr><tr><td>467278115</td><td>1625672111000</td><td>&quot;4&quot;</td><td>&quot;体育&quot;</td><td>&quot;体育/NBA&quot;</td></tr><tr><td>467278124</td><td>1625672116000</td><td>&quot;4&quot;</td><td>&quot;时尚&quot;</td><td>&quot;时尚/明星时尚&quot;</td></tr></tbody></table></div>"
      ],
      "text/plain": [
       "shape: (633_388, 5)\n",
       "┌────────────┬───────────────┬─────────────┬─────────────────┬─────────────────────────────┐\n",
       "│ article_id ┆ publish_time  ┆ image_count ┆ category_level1 ┆ category_level2             │\n",
       "│ ---        ┆ ---           ┆ ---         ┆ ---             ┆ ---                         │\n",
       "│ i64        ┆ i64           ┆ str         ┆ str             ┆ str                         │\n",
       "╞════════════╪═══════════════╪═════════════╪═════════════════╪═════════════════════════════╡\n",
       "│ 349635709  ┆ 1572519971000 ┆ 4           ┆ 汽车            ┆ 汽车/用车                   │\n",
       "│ 361653323  ┆ 1624522285000 ┆ 1           ┆ 健康            ┆ 健康/疾病防护治疗及西医用药 │\n",
       "│ 426732705  ┆ 1610808303000 ┆ 4           ┆ 汽车            ┆ 汽车/买车                   │\n",
       "│ 430221183  ┆ 1612581556000 ┆ 2           ┆ 汽车            ┆ 汽车/买车                   │\n",
       "│ 441756326  ┆ 1618825835000 ┆ 4           ┆ 汽车            ┆ 汽车/买车                   │\n",
       "│ …          ┆ …             ┆ …           ┆ …               ┆ …                           │\n",
       "│ 467277215  ┆ 1625667021000 ┆ 4           ┆ 生活            ┆ 生活/家居                   │\n",
       "│ 467277413  ┆ 1625668717000 ┆ 2           ┆ 体育            ┆ 体育/棋牌                   │\n",
       "│ 467277503  ┆ 1625663360000 ┆ 3           ┆ 文化艺术        ┆ 文化艺术/文玩收藏           │\n",
       "│ 467278115  ┆ 1625672111000 ┆ 4           ┆ 体育            ┆ 体育/NBA                    │\n",
       "│ 467278124  ┆ 1625672116000 ┆ 4           ┆ 时尚            ┆ 时尚/明星时尚               │\n",
       "└────────────┴───────────────┴─────────────┴─────────────────┴─────────────────────────────┘"
      ]
     },
     "execution_count": 33,
     "metadata": {},
     "output_type": "execute_result"
    }
   ],
   "source": [
    "doc_info"
   ]
  },
  {
   "cell_type": "code",
   "execution_count": 34,
   "metadata": {},
   "outputs": [],
   "source": [
    "# 保存数据\n",
    "public_path = \"/data3/zxh/news_rec/public_data\" \n",
    "doc_info.write_ipc(f\"{public_path}/doc_sparse_feature.ipc\")"
   ]
  }
 ],
 "metadata": {
  "kernelspec": {
   "display_name": "tensorflow",
   "language": "python",
   "name": "python3"
  },
  "language_info": {
   "codemirror_mode": {
    "name": "ipython",
    "version": 3
   },
   "file_extension": ".py",
   "mimetype": "text/x-python",
   "name": "python",
   "nbconvert_exporter": "python",
   "pygments_lexer": "ipython3",
   "version": "3.9.21"
  }
 },
 "nbformat": 4,
 "nbformat_minor": 2
}
