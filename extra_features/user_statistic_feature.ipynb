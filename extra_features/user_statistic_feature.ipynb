{
 "cells": [
  {
   "cell_type": "code",
   "execution_count": 18,
   "metadata": {},
   "outputs": [],
   "source": [
    "import polars as pl\n",
    "from scipy.stats import boxcox\n",
    "from sklearn.preprocessing import MinMaxScaler\n",
    "import numpy as np\n",
    "from typing import List\n",
    "import pandas as pd\n"
   ]
  },
  {
   "cell_type": "markdown",
   "metadata": {},
   "source": [
    "### 1. 读取数据"
   ]
  },
  {
   "cell_type": "code",
   "execution_count": 19,
   "metadata": {},
   "outputs": [],
   "source": [
    "offline_path = \"/data3/zxh/news_rec/offline_data\"\n",
    "online_path = \"/data3/zxh/news_rec/online_data\"\n",
    "raw_path = \"/data3/zxh/news_rec/raw_data\""
   ]
  },
  {
   "cell_type": "code",
   "execution_count": 20,
   "metadata": {},
   "outputs": [],
   "source": [
    "# 读取用户交互记录\n",
    "train_data_offline = pl.read_ipc(f\"{offline_path}/train_data_offline.ipc\")\n",
    "val_data_offline =  pl.read_ipc(f\"{offline_path}/val_data_offline.ipc\")\n",
    "test_data_online = pl.read_ipc(f\"{online_path}/test_data_online.ipc\")\n",
    "\n",
    "# 读取文章和用户信息\n",
    "user_info = pl.read_ipc(f\"{raw_path}/user_info.arrow\")\n",
    "doc_info = pl.read_ipc(f\"{raw_path}/doc_info.arrow\")"
   ]
  },
  {
   "cell_type": "markdown",
   "metadata": {},
   "source": [
    "### 2. 合并数据"
   ]
  },
  {
   "cell_type": "code",
   "execution_count": 21,
   "metadata": {},
   "outputs": [],
   "source": [
    "# 线下训练只统计train_data的统计特征，而线上测试的时候需要train_data + val_data\n",
    "offline = True\n",
    "if offline:\n",
    "    train_data, val_data, test_data = train_data_offline, val_data_offline, test_data_online\n",
    "else:\n",
    "    train_data, test_data = pl.concat([train_data_offline, val_data_offline], how=\"vertical\"), test_data_online\n",
    "\n",
    "# 1. 合并数据\n",
    "merged_df = train_data.join(user_info, on=\"user_id\", how=\"left\")\n",
    "merged_df = merged_df.join(doc_info, on=\"article_id\", how=\"left\")\n",
    "    \n",
    "# 2. 删除无关特征\n",
    "merged_df = merged_df.drop(\n",
    "    [\"network_env\", \"refresh_count\", \"expose_pos\", \"device_name\", \"os\", \"province\", \"city\", \"age\", \"gender\", \n",
    "    \"title\", \"publish_time\", \"image_count\", \"keywords\", \"expose_time\", \"duration\", \"refresh_count_transformed_box\"]\n",
    ")"
   ]
  },
  {
   "cell_type": "markdown",
   "metadata": {},
   "source": [
    "### 2. 计算用户的各类统计指标"
   ]
  },
  {
   "cell_type": "markdown",
   "metadata": {},
   "source": [
    "#### 2.1 计算用户的CTR"
   ]
  },
  {
   "cell_type": "code",
   "execution_count": 22,
   "metadata": {},
   "outputs": [],
   "source": [
    "# 定义 Min-Max 标准化函数\n",
    "def min_max_scale(df, columns, scaler=None):\n",
    "    if scaler is None:\n",
    "        scaler = MinMaxScaler()\n",
    "        scaler.fit(df.select(columns).to_numpy())\n",
    "    \n",
    "    scaled_values = scaler.transform(df.select(columns).to_numpy())\n",
    "    \n",
    "    return df.with_columns([\n",
    "        pl.Series(scaled_values[:, i]).alias(f\"{col}\")\n",
    "        for i, col in enumerate(columns)\n",
    "    ])\n",
    "\n",
    "\n",
    "def compute_user_ctr(merged_data: pl.DataFrame, columns_to_scale: List, z: float = 1.96) -> pl.DataFrame:\n",
    "    \"\"\"\n",
    "    计算用户的历史点击次数、曝光次数、CTR、Wilson 平滑 CTR，并对曝光次数和点击次数进行 Box-Cox 变换，同时对 Box-Cox 变换后的数据。\n",
    "    \n",
    "    参数：\n",
    "    - merged_data: 合并后的数据，包含 user_id、article_id、is_clicked、duration_transformed_box 等列\n",
    "    - columns_to_scale: 需要进行 Min - Max 归一化的列，这里为 [\"userid_expose_count_transformed_box\", \"userid_history_count_transformed_box\"]\n",
    "    - z: Wilson平滑的置信度\n",
    "    \n",
    "    返回：\n",
    "    - 处理后的用户 CTR DataFrame\n",
    "    \"\"\"\n",
    "    \n",
    "    # 1. 计算用户的曝光次数和点击次数\n",
    "    user_ctr = (\n",
    "        merged_data\n",
    "        .group_by(\"user_id\")\n",
    "        .agg([\n",
    "            pl.sum(\"is_clicked\").alias(\"userid_history_count\"),  # 总点击次数\n",
    "            pl.count(\"is_clicked\").alias(\"userid_expose_count\")  # 总曝光次数\n",
    "        ])\n",
    "        .with_columns(\n",
    "            (pl.col(\"userid_history_count\") / pl.col(\"userid_expose_count\")).alias(\"userid_ctr\")  # 计算CTR\n",
    "        )\n",
    "    )\n",
    "    \n",
    "    # 2. 计算 Wilson 平滑 CTR\n",
    "    user_ctr = user_ctr.with_columns([\n",
    "        ((pl.col(\"userid_ctr\") + (z**2) / (2 * pl.col(\"userid_expose_count\")) -\n",
    "         z * ((pl.col(\"userid_ctr\") * (1 - pl.col(\"userid_ctr\")) / pl.col(\"userid_expose_count\") +\n",
    "         (z**2) / (4 * pl.col(\"userid_expose_count\")**2)).sqrt())) /\n",
    "         (1 + (z**2) / pl.col(\"userid_expose_count\"))).alias(\"userid_wilson_ctr\")\n",
    "    ])\n",
    "    \n",
    "    # 3. 对 expose_count 和 history_count 进行 Box-Cox 变换（加 1 以避免 0 值）\n",
    "    user_ctr = user_ctr.with_columns(\n",
    "        (pl.Series(boxcox(user_ctr[\"userid_expose_count\"].to_numpy() + 1)[0])).alias(\"userid_expose_count_transformed_box\")\n",
    "    )\n",
    "\n",
    "    user_ctr = user_ctr.with_columns(\n",
    "        (pl.Series(boxcox(user_ctr[\"userid_history_count\"].to_numpy() + 1)[0])).alias(\"userid_history_count_transformed_box\")\n",
    "    )\n",
    "\n",
    "    # 4. 进行 Min - Max 归一化\n",
    "    user_ctr = min_max_scale(user_ctr, columns_to_scale)\n",
    "    \n",
    "    return user_ctr\n"
   ]
  },
  {
   "cell_type": "code",
   "execution_count": 23,
   "metadata": {},
   "outputs": [],
   "source": [
    "user_ctr = compute_user_ctr(merged_df, [\"userid_expose_count_transformed_box\", \"userid_history_count_transformed_box\"])\n",
    "\n",
    "\n",
    "if offline:\n",
    "    user_ctr.write_ipc(f\"{offline_path}/user_ctr_offline.ipc\")\n",
    "else:\n",
    "    user_ctr.write_ipc(f\"{online_path}/user_ctr_online.ipc\")"
   ]
  },
  {
   "cell_type": "markdown",
   "metadata": {},
   "source": [
    "#### 2.2 计算用户对每个大类（category_level1）的统计信息"
   ]
  },
  {
   "cell_type": "code",
   "execution_count": 24,
   "metadata": {},
   "outputs": [],
   "source": [
    "def compute_user_category1_stats(merged_df: pl.DataFrame) -> pl.DataFrame:\n",
    "    \"\"\"\n",
    "    计算用户在 category_level1 上的统计信息，包括：\n",
    "    - 点击次数（userid_category1_history_count）\n",
    "    - 点击率（userid_category1_ctr）\n",
    "    - 归一化的点击次数分桶和 One-Hot 编码\n",
    "    - 平均阅读时长（userid_category1_history_duration_mean）\n",
    "\n",
    "    参数：\n",
    "    - merged_df: 包含用户点击数据的数据框，必须包含 'user_id'、'category_level1'、'is_clicked' 和 'duration_transformed_box' 列。\n",
    "\n",
    "    返回：\n",
    "    - pl.DataFrame: 用户在 category_level1 上的综合统计信息\n",
    "    \"\"\"\n",
    "\n",
    "    # 1. 计算用户对每个大类（category_level1）的点击次数\n",
    "    user_category1_count = (\n",
    "        merged_df\n",
    "        .filter(pl.col(\"is_clicked\") == 1)  # 只统计点击的文章\n",
    "        .group_by([\"user_id\", \"category_level1\"])\n",
    "        .agg(pl.count(\"is_clicked\").alias(\"userid_category1_history_count\"))\n",
    "    )\n",
    "\n",
    "    # 2. 分桶\n",
    "    percentiles = [1, 2, 4, user_category1_count[\"userid_category1_history_count\"].max() + 1]\n",
    "\n",
    "    def categorize_category1_count(ic): # 定义分桶函数\n",
    "        if ic is None:\n",
    "            return \"\"  # 空缺值归为 \"\" 类\n",
    "        for i in range(len(percentiles) - 1):\n",
    "            if percentiles[i] <= ic < percentiles[i + 1]:\n",
    "                return str(i + 1)  # 类别从 1 开始编号\n",
    "        return None  # 其他情况不会出现\n",
    "    \n",
    "\n",
    "    user_category1_count = user_category1_count.with_columns(\n",
    "        pl.col(\"userid_category1_history_count\").map_elements(categorize_category1_count, return_dtype=pl.Utf8)\n",
    "    ).fill_null(\"\")\n",
    "\n",
    "    # 3. 计算用户在各个类别上的点击率（CTR）\n",
    "    user_category1_ctr = (\n",
    "        merged_df\n",
    "        .group_by([\"user_id\", \"category_level1\"])\n",
    "        .agg([\n",
    "            pl.sum(\"is_clicked\").alias(\"clicks\"),\n",
    "            pl.count(\"is_clicked\").alias(\"exposes\")\n",
    "        ])\n",
    "        .with_columns(\n",
    "            (pl.col(\"clicks\") / pl.col(\"exposes\")).alias(\"userid_category1_ctr\")  # 计算CTR\n",
    "        )\n",
    "        .select([\"user_id\", \"category_level1\", \"userid_category1_ctr\"])\n",
    "    )\n",
    "\n",
    "    # 4. 计算用户对 category_level1 的平均阅读时长\n",
    "    user_category1_duration = (\n",
    "        merged_df\n",
    "        .filter(pl.col(\"is_clicked\") == 1)  # 只统计点击的文章\n",
    "        .group_by([\"user_id\", \"category_level1\"])\n",
    "        .agg(pl.mean(\"duration_transformed_box\").alias(\"userid_category1_history_duration_mean\"))\n",
    "    )\n",
    "\n",
    "    # 5. 连接所有特征\n",
    "    user_category1_stats = (\n",
    "        user_category1_count\n",
    "        .join(user_category1_ctr, on=[\"user_id\", \"category_level1\"], how=\"left\")\n",
    "        .join(user_category1_duration, on=[\"user_id\", \"category_level1\"], how=\"left\")\n",
    "    )\n",
    "\n",
    "    return user_category1_stats"
   ]
  },
  {
   "cell_type": "code",
   "execution_count": 25,
   "metadata": {},
   "outputs": [
    {
     "data": {
      "text/html": [
       "<div><style>\n",
       ".dataframe > thead > tr,\n",
       ".dataframe > tbody > tr {\n",
       "  text-align: right;\n",
       "  white-space: pre-wrap;\n",
       "}\n",
       "</style>\n",
       "<small>shape: (9, 6)</small><table border=\"1\" class=\"dataframe\"><thead><tr><th>statistic</th><th>user_id</th><th>category_level1</th><th>userid_category1_history_count</th><th>userid_category1_ctr</th><th>userid_category1_history_duration_mean</th></tr><tr><td>str</td><td>f64</td><td>str</td><td>str</td><td>f64</td><td>f64</td></tr></thead><tbody><tr><td>&quot;count&quot;</td><td>5.223291e6</td><td>&quot;5223291&quot;</td><td>&quot;5223291&quot;</td><td>5.223291e6</td><td>5.223291e6</td></tr><tr><td>&quot;null_count&quot;</td><td>0.0</td><td>&quot;0&quot;</td><td>&quot;0&quot;</td><td>0.0</td><td>0.0</td></tr><tr><td>&quot;mean&quot;</td><td>1.9057e9</td><td>null</td><td>null</td><td>0.341583</td><td>0.337289</td></tr><tr><td>&quot;std&quot;</td><td>5.4566e8</td><td>null</td><td>null</td><td>0.290521</td><td>0.114177</td></tr><tr><td>&quot;min&quot;</td><td>17340.0</td><td>&quot;&quot;</td><td>&quot;1&quot;</td><td>0.000763</td><td>0.029607</td></tr><tr><td>&quot;25%&quot;</td><td>1.4764e9</td><td>null</td><td>null</td><td>0.125</td><td>0.266121</td></tr><tr><td>&quot;50%&quot;</td><td>2.2081e9</td><td>null</td><td>null</td><td>0.25</td><td>0.34075</td></tr><tr><td>&quot;75%&quot;</td><td>2.3969e9</td><td>null</td><td>null</td><td>0.5</td><td>0.411686</td></tr><tr><td>&quot;max&quot;</td><td>2.4471e9</td><td>&quot;音乐&quot;</td><td>&quot;3&quot;</td><td>1.0</td><td>0.998981</td></tr></tbody></table></div>"
      ],
      "text/plain": [
       "shape: (9, 6)\n",
       "┌────────────┬────────────┬─────────────────┬──────────────────┬─────────────────┬─────────────────┐\n",
       "│ statistic  ┆ user_id    ┆ category_level1 ┆ userid_category1 ┆ userid_category ┆ userid_category │\n",
       "│ ---        ┆ ---        ┆ ---             ┆ _history_count   ┆ 1_ctr           ┆ 1_history_durat │\n",
       "│ str        ┆ f64        ┆ str             ┆ ---              ┆ ---             ┆ …               │\n",
       "│            ┆            ┆                 ┆ str              ┆ f64             ┆ ---             │\n",
       "│            ┆            ┆                 ┆                  ┆                 ┆ f64             │\n",
       "╞════════════╪════════════╪═════════════════╪══════════════════╪═════════════════╪═════════════════╡\n",
       "│ count      ┆ 5.223291e6 ┆ 5223291         ┆ 5223291          ┆ 5.223291e6      ┆ 5.223291e6      │\n",
       "│ null_count ┆ 0.0        ┆ 0               ┆ 0                ┆ 0.0             ┆ 0.0             │\n",
       "│ mean       ┆ 1.9057e9   ┆ null            ┆ null             ┆ 0.341583        ┆ 0.337289        │\n",
       "│ std        ┆ 5.4566e8   ┆ null            ┆ null             ┆ 0.290521        ┆ 0.114177        │\n",
       "│ min        ┆ 17340.0    ┆                 ┆ 1                ┆ 0.000763        ┆ 0.029607        │\n",
       "│ 25%        ┆ 1.4764e9   ┆ null            ┆ null             ┆ 0.125           ┆ 0.266121        │\n",
       "│ 50%        ┆ 2.2081e9   ┆ null            ┆ null             ┆ 0.25            ┆ 0.34075         │\n",
       "│ 75%        ┆ 2.3969e9   ┆ null            ┆ null             ┆ 0.5             ┆ 0.411686        │\n",
       "│ max        ┆ 2.4471e9   ┆ 音乐            ┆ 3                ┆ 1.0             ┆ 0.998981        │\n",
       "└────────────┴────────────┴─────────────────┴──────────────────┴─────────────────┴─────────────────┘"
      ]
     },
     "execution_count": 25,
     "metadata": {},
     "output_type": "execute_result"
    }
   ],
   "source": [
    "user_category1_result = compute_user_category1_stats(merged_df.fill_null(\"\"))\n",
    "user_category1_result.describe()"
   ]
  },
  {
   "cell_type": "code",
   "execution_count": 26,
   "metadata": {},
   "outputs": [],
   "source": [
    "# 存储数据\n",
    "if offline:\n",
    "    user_category1_result.write_ipc(f\"{offline_path}/user_category1_stats_offline.ipc\")\n",
    "else:\n",
    "    user_category1_result.write_ipc(f\"{online_path}/user_category1_stats_online.ipc\")"
   ]
  },
  {
   "cell_type": "markdown",
   "metadata": {},
   "source": [
    "#### 2.3 计算用户对每个小类（category_level2）的统计信息"
   ]
  },
  {
   "cell_type": "code",
   "execution_count": 27,
   "metadata": {},
   "outputs": [],
   "source": [
    "def compute_user_category2_stats(merged_df: pl.DataFrame) -> pl.DataFrame:\n",
    "    \"\"\"\n",
    "    计算用户在 category_level2 上的统计信息，包括：\n",
    "    - 点击次数（userid_category2_history_count）\n",
    "    - 点击率（userid_category2_ctr）\n",
    "    - 归一化的点击次数分桶和 One-Hot 编码\n",
    "    - 平均阅读时长（userid_category2_history_duration_mean）\n",
    "\n",
    "    参数：\n",
    "    - merged_df: 包含用户点击数据的数据框，必须包含 'user_id'、'category_level2'、'is_clicked' 和 'duration_transformed_box' 列。\n",
    "\n",
    "    返回：\n",
    "    - pl.DataFrame: 用户在 category_level2 上的综合统计信息\n",
    "    \"\"\"\n",
    "\n",
    "    # 1. 计算用户对每个大类（category_level2）的点击次数\n",
    "    user_category2_count = (\n",
    "        merged_df\n",
    "        .filter(pl.col(\"is_clicked\") == 1)  # 只统计点击的文章\n",
    "        .group_by([\"user_id\", \"category_level2\"])\n",
    "        .agg(pl.count(\"is_clicked\").alias(\"userid_category2_history_count\"))\n",
    "    )\n",
    "\n",
    "    # 2. 分桶\n",
    "    percentiles = [1, 2, 4, user_category2_count[\"userid_category2_history_count\"].max() + 1]\n",
    "\n",
    "    def categorize_category2_count(ic): # 定义分桶函数\n",
    "        if ic is None:\n",
    "            return \"\"  # 空缺值归为 \"\" 类\n",
    "        for i in range(len(percentiles) - 1):\n",
    "            if percentiles[i] <= ic < percentiles[i + 1]:\n",
    "                return str(i + 1)  # 类别从 1 开始编号\n",
    "        return None  # 其他情况不会出现\n",
    "    \n",
    "\n",
    "    user_category2_count = user_category2_count.with_columns(\n",
    "        pl.col(\"userid_category2_history_count\").map_elements(categorize_category2_count, return_dtype=pl.Utf8)\n",
    "    ).fill_null(\"\")\n",
    "\n",
    "\n",
    "    # 3. 计算用户在各个类别上的点击率（CTR）\n",
    "    user_category2_ctr = (\n",
    "        merged_df\n",
    "        .group_by([\"user_id\", \"category_level2\"])\n",
    "        .agg([\n",
    "            pl.sum(\"is_clicked\").alias(\"clicks\"),\n",
    "            pl.count(\"is_clicked\").alias(\"exposes\")\n",
    "        ])\n",
    "        .with_columns(\n",
    "            (pl.col(\"clicks\") / pl.col(\"exposes\")).alias(\"userid_category2_ctr\")  # 计算CTR\n",
    "        )\n",
    "        .select([\"user_id\", \"category_level2\", \"userid_category2_ctr\"])\n",
    "    )\n",
    "\n",
    "    # 4. 计算用户对 category_level2 的平均阅读时长\n",
    "    user_category2_duration = (\n",
    "        merged_df\n",
    "        .filter(pl.col(\"is_clicked\") == 1)  # 只统计点击的文章\n",
    "        .group_by([\"user_id\", \"category_level2\"])\n",
    "        .agg(pl.mean(\"duration_transformed_box\").alias(\"userid_category2_history_duration_mean\"))\n",
    "    )\n",
    "\n",
    "    # 5. 连接所有特征\n",
    "    user_category2_stats = (\n",
    "        user_category2_count\n",
    "        .join(user_category2_ctr, on=[\"user_id\", \"category_level2\"], how=\"left\")\n",
    "        .join(user_category2_duration, on=[\"user_id\", \"category_level2\"], how=\"left\")\n",
    "    )\n",
    "\n",
    "    return user_category2_stats"
   ]
  },
  {
   "cell_type": "code",
   "execution_count": 28,
   "metadata": {},
   "outputs": [
    {
     "data": {
      "text/html": [
       "<div><style>\n",
       ".dataframe > thead > tr,\n",
       ".dataframe > tbody > tr {\n",
       "  text-align: right;\n",
       "  white-space: pre-wrap;\n",
       "}\n",
       "</style>\n",
       "<small>shape: (9, 6)</small><table border=\"1\" class=\"dataframe\"><thead><tr><th>statistic</th><th>user_id</th><th>category_level2</th><th>userid_category2_history_count</th><th>userid_category2_ctr</th><th>userid_category2_history_duration_mean</th></tr><tr><td>str</td><td>f64</td><td>str</td><td>str</td><td>f64</td><td>f64</td></tr></thead><tbody><tr><td>&quot;count&quot;</td><td>7.68495e6</td><td>&quot;7684950&quot;</td><td>&quot;7684950&quot;</td><td>7.68495e6</td><td>7.68495e6</td></tr><tr><td>&quot;null_count&quot;</td><td>0.0</td><td>&quot;0&quot;</td><td>&quot;0&quot;</td><td>0.0</td><td>0.0</td></tr><tr><td>&quot;mean&quot;</td><td>1.8937e9</td><td>null</td><td>null</td><td>0.42394</td><td>0.335328</td></tr><tr><td>&quot;std&quot;</td><td>5.5486e8</td><td>null</td><td>null</td><td>0.323368</td><td>0.118182</td></tr><tr><td>&quot;min&quot;</td><td>17340.0</td><td>&quot;&quot;</td><td>&quot;1&quot;</td><td>0.001374</td><td>0.029607</td></tr><tr><td>&quot;25%&quot;</td><td>1.4665e9</td><td>null</td><td>null</td><td>0.166667</td><td>0.260483</td></tr><tr><td>&quot;50%&quot;</td><td>2.2070e9</td><td>null</td><td>null</td><td>0.333333</td><td>0.339603</td></tr><tr><td>&quot;75%&quot;</td><td>2.3950e9</td><td>null</td><td>null</td><td>0.5</td><td>0.41314</td></tr><tr><td>&quot;max&quot;</td><td>2.4471e9</td><td>&quot;音乐/港台音乐&quot;</td><td>&quot;3&quot;</td><td>1.0</td><td>0.998981</td></tr></tbody></table></div>"
      ],
      "text/plain": [
       "shape: (9, 6)\n",
       "┌────────────┬───────────┬─────────────────┬──────────────────┬──────────────────┬─────────────────┐\n",
       "│ statistic  ┆ user_id   ┆ category_level2 ┆ userid_category2 ┆ userid_category2 ┆ userid_category │\n",
       "│ ---        ┆ ---       ┆ ---             ┆ _history_count   ┆ _ctr             ┆ 2_history_durat │\n",
       "│ str        ┆ f64       ┆ str             ┆ ---              ┆ ---              ┆ …               │\n",
       "│            ┆           ┆                 ┆ str              ┆ f64              ┆ ---             │\n",
       "│            ┆           ┆                 ┆                  ┆                  ┆ f64             │\n",
       "╞════════════╪═══════════╪═════════════════╪══════════════════╪══════════════════╪═════════════════╡\n",
       "│ count      ┆ 7.68495e6 ┆ 7684950         ┆ 7684950          ┆ 7.68495e6        ┆ 7.68495e6       │\n",
       "│ null_count ┆ 0.0       ┆ 0               ┆ 0                ┆ 0.0              ┆ 0.0             │\n",
       "│ mean       ┆ 1.8937e9  ┆ null            ┆ null             ┆ 0.42394          ┆ 0.335328        │\n",
       "│ std        ┆ 5.5486e8  ┆ null            ┆ null             ┆ 0.323368         ┆ 0.118182        │\n",
       "│ min        ┆ 17340.0   ┆                 ┆ 1                ┆ 0.001374         ┆ 0.029607        │\n",
       "│ 25%        ┆ 1.4665e9  ┆ null            ┆ null             ┆ 0.166667         ┆ 0.260483        │\n",
       "│ 50%        ┆ 2.2070e9  ┆ null            ┆ null             ┆ 0.333333         ┆ 0.339603        │\n",
       "│ 75%        ┆ 2.3950e9  ┆ null            ┆ null             ┆ 0.5              ┆ 0.41314         │\n",
       "│ max        ┆ 2.4471e9  ┆ 音乐/港台音乐   ┆ 3                ┆ 1.0              ┆ 0.998981        │\n",
       "└────────────┴───────────┴─────────────────┴──────────────────┴──────────────────┴─────────────────┘"
      ]
     },
     "execution_count": 28,
     "metadata": {},
     "output_type": "execute_result"
    }
   ],
   "source": [
    "user_category2_result = compute_user_category2_stats(merged_df.fill_null(\"\"))\n",
    "user_category2_result.describe()"
   ]
  },
  {
   "cell_type": "code",
   "execution_count": 29,
   "metadata": {},
   "outputs": [],
   "source": [
    "# 存储数据\n",
    "if offline:\n",
    "    user_category2_result.write_ipc(f\"{offline_path}/user_category2_stats_offline.ipc\")\n",
    "else:\n",
    "    user_category2_result.write_ipc(f\"{online_path}/user_category2_stats_online.ipc\")"
   ]
  },
  {
   "cell_type": "markdown",
   "metadata": {},
   "source": [
    "#### 2.4 计算用户平均阅读时长"
   ]
  },
  {
   "cell_type": "code",
   "execution_count": 30,
   "metadata": {},
   "outputs": [],
   "source": [
    "# **计算用户平均阅读时长**\n",
    "def compute_user_duration_mean(merged_df: pl.DataFrame) -> pl.DataFrame:\n",
    "    \"\"\"\n",
    "    计算用户的平均阅读时长\n",
    "    \"\"\"\n",
    "    return (\n",
    "        merged_df.\n",
    "        filter(pl.col(\"is_clicked\") == 1)\n",
    "        .group_by(\"user_id\")\n",
    "        .agg(pl.mean(\"duration_transformed_box\").alias(\"userid_history_duration_mean\"))\n",
    "    )\n"
   ]
  },
  {
   "cell_type": "code",
   "execution_count": 31,
   "metadata": {},
   "outputs": [],
   "source": [
    "user_duration_mean = compute_user_duration_mean(merged_df.fill_null(\"\"))\n",
    "if offline:\n",
    "    user_duration_mean.write_ipc(f\"{offline_path}/user_duration_mean_offline.ipc\")\n",
    "else:\n",
    "    user_duration_mean.write_ipc(f\"{online_path}/user_duration_mean_online.ipc\")"
   ]
  }
 ],
 "metadata": {
  "kernelspec": {
   "display_name": "tensorflow",
   "language": "python",
   "name": "python3"
  },
  "language_info": {
   "codemirror_mode": {
    "name": "ipython",
    "version": 3
   },
   "file_extension": ".py",
   "mimetype": "text/x-python",
   "name": "python",
   "nbconvert_exporter": "python",
   "pygments_lexer": "ipython3",
   "version": "3.9.21"
  }
 },
 "nbformat": 4,
 "nbformat_minor": 2
}
