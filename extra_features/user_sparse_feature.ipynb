{
 "cells": [
  {
   "cell_type": "markdown",
   "metadata": {},
   "source": [
    "### 处理用户离散特征（年龄和性别）"
   ]
  },
  {
   "cell_type": "markdown",
   "metadata": {},
   "source": [
    "#### 1. 读取数据"
   ]
  },
  {
   "cell_type": "code",
   "execution_count": 1,
   "metadata": {},
   "outputs": [
    {
     "data": {
      "text/html": [
       "<div><style>\n",
       ".dataframe > thead > tr,\n",
       ".dataframe > tbody > tr {\n",
       "  text-align: right;\n",
       "  white-space: pre-wrap;\n",
       "}\n",
       "</style>\n",
       "<small>shape: (1_538_384, 7)</small><table border=\"1\" class=\"dataframe\"><thead><tr><th>user_id</th><th>device_name</th><th>os</th><th>province</th><th>city</th><th>age</th><th>gender</th></tr><tr><td>i64</td><td>str</td><td>str</td><td>str</td><td>str</td><td>str</td><td>str</td></tr></thead><tbody><tr><td>1000372820</td><td>&quot;TAS-AN00&quot;</td><td>&quot;Android&quot;</td><td>&quot;广东&quot;</td><td>&quot;广州&quot;</td><td>&quot;A_0_24:0.404616,A_25_29:0.0590…</td><td>&quot;female:0.051339,male:0.948661&quot;</td></tr><tr><td>1000652892</td><td>&quot;PACM00&quot;</td><td>&quot;Android&quot;</td><td>&quot;河北&quot;</td><td>&quot;唐山&quot;</td><td>&quot;A_0_24:0.615458,A_25_29:0.0862…</td><td>&quot;female:0.280295,male:0.719705&quot;</td></tr><tr><td>1000908852</td><td>&quot;MI6X&quot;</td><td>&quot;Android&quot;</td><td>&quot;上海&quot;</td><td>&quot;上海&quot;</td><td>&quot;A_0_24:0.123255,A_25_29:0.2082…</td><td>&quot;female:0.000000,male:1.000000&quot;</td></tr><tr><td>1001168798</td><td>&quot;iPhone11&quot;</td><td>&quot;IOS&quot;</td><td>null</td><td>null</td><td>&quot;A_0_24:0.436296,A_25_29:0.4893…</td><td>&quot;female:0.870710,male:0.129290&quot;</td></tr><tr><td>1001305614</td><td>&quot;M2103K19C&quot;</td><td>&quot;Android&quot;</td><td>&quot;江苏&quot;</td><td>&quot;苏州&quot;</td><td>&quot;A_0_24:0.006632,A_25_29:0.0434…</td><td>&quot;female:0.000000,male:1.000000&quot;</td></tr><tr><td>&hellip;</td><td>&hellip;</td><td>&hellip;</td><td>&hellip;</td><td>&hellip;</td><td>&hellip;</td><td>&hellip;</td></tr><tr><td>999798184</td><td>&quot;DIG-AL00&quot;</td><td>&quot;Android&quot;</td><td>&quot;四川&quot;</td><td>&quot;成都&quot;</td><td>&quot;A_0_24:0.375362,A_25_29:0.1892…</td><td>&quot;female:0.950213,male:0.049787&quot;</td></tr><tr><td>999813672</td><td>&quot;CoolpadA8-930&quot;</td><td>&quot;Android&quot;</td><td>&quot;广东&quot;</td><td>&quot;广州&quot;</td><td>&quot;A_0_24:0.225201,A_25_29:0.1697…</td><td>&quot;female:0.298108,male:0.701892&quot;</td></tr><tr><td>999859618</td><td>&quot;KNT-AL10&quot;</td><td>&quot;Android&quot;</td><td>&quot;河南&quot;</td><td>&quot;南阳&quot;</td><td>&quot;A_0_24:0.838753,A_25_29:0.0419…</td><td>&quot;female:0.950213,male:0.049787&quot;</td></tr><tr><td>999873694</td><td>&quot;OPPOR9sPlus&quot;</td><td>&quot;Android&quot;</td><td>&quot;山东&quot;</td><td>&quot;威海&quot;</td><td>&quot;A_0_24:0.093117,A_25_29:0.2800…</td><td>&quot;female:0.103819,male:0.896181&quot;</td></tr><tr><td>999902420</td><td>&quot;PADM00&quot;</td><td>&quot;Android&quot;</td><td>&quot;天津&quot;</td><td>&quot;天津&quot;</td><td>&quot;A_0_24:0.535522,A_25_29:0.1378…</td><td>&quot;female:0.302557,male:0.697443&quot;</td></tr></tbody></table></div>"
      ],
      "text/plain": [
       "shape: (1_538_384, 7)\n",
       "┌────────────┬───────────────┬─────────┬──────────┬──────┬────────────────────┬────────────────────┐\n",
       "│ user_id    ┆ device_name   ┆ os      ┆ province ┆ city ┆ age                ┆ gender             │\n",
       "│ ---        ┆ ---           ┆ ---     ┆ ---      ┆ ---  ┆ ---                ┆ ---                │\n",
       "│ i64        ┆ str           ┆ str     ┆ str      ┆ str  ┆ str                ┆ str                │\n",
       "╞════════════╪═══════════════╪═════════╪══════════╪══════╪════════════════════╪════════════════════╡\n",
       "│ 1000372820 ┆ TAS-AN00      ┆ Android ┆ 广东     ┆ 广州 ┆ A_0_24:0.404616,A_ ┆ female:0.051339,ma │\n",
       "│            ┆               ┆         ┆          ┆      ┆ 25_29:0.0590…      ┆ le:0.948661        │\n",
       "│ 1000652892 ┆ PACM00        ┆ Android ┆ 河北     ┆ 唐山 ┆ A_0_24:0.615458,A_ ┆ female:0.280295,ma │\n",
       "│            ┆               ┆         ┆          ┆      ┆ 25_29:0.0862…      ┆ le:0.719705        │\n",
       "│ 1000908852 ┆ MI6X          ┆ Android ┆ 上海     ┆ 上海 ┆ A_0_24:0.123255,A_ ┆ female:0.000000,ma │\n",
       "│            ┆               ┆         ┆          ┆      ┆ 25_29:0.2082…      ┆ le:1.000000        │\n",
       "│ 1001168798 ┆ iPhone11      ┆ IOS     ┆ null     ┆ null ┆ A_0_24:0.436296,A_ ┆ female:0.870710,ma │\n",
       "│            ┆               ┆         ┆          ┆      ┆ 25_29:0.4893…      ┆ le:0.129290        │\n",
       "│ 1001305614 ┆ M2103K19C     ┆ Android ┆ 江苏     ┆ 苏州 ┆ A_0_24:0.006632,A_ ┆ female:0.000000,ma │\n",
       "│            ┆               ┆         ┆          ┆      ┆ 25_29:0.0434…      ┆ le:1.000000        │\n",
       "│ …          ┆ …             ┆ …       ┆ …        ┆ …    ┆ …                  ┆ …                  │\n",
       "│ 999798184  ┆ DIG-AL00      ┆ Android ┆ 四川     ┆ 成都 ┆ A_0_24:0.375362,A_ ┆ female:0.950213,ma │\n",
       "│            ┆               ┆         ┆          ┆      ┆ 25_29:0.1892…      ┆ le:0.049787        │\n",
       "│ 999813672  ┆ CoolpadA8-930 ┆ Android ┆ 广东     ┆ 广州 ┆ A_0_24:0.225201,A_ ┆ female:0.298108,ma │\n",
       "│            ┆               ┆         ┆          ┆      ┆ 25_29:0.1697…      ┆ le:0.701892        │\n",
       "│ 999859618  ┆ KNT-AL10      ┆ Android ┆ 河南     ┆ 南阳 ┆ A_0_24:0.838753,A_ ┆ female:0.950213,ma │\n",
       "│            ┆               ┆         ┆          ┆      ┆ 25_29:0.0419…      ┆ le:0.049787        │\n",
       "│ 999873694  ┆ OPPOR9sPlus   ┆ Android ┆ 山东     ┆ 威海 ┆ A_0_24:0.093117,A_ ┆ female:0.103819,ma │\n",
       "│            ┆               ┆         ┆          ┆      ┆ 25_29:0.2800…      ┆ le:0.896181        │\n",
       "│ 999902420  ┆ PADM00        ┆ Android ┆ 天津     ┆ 天津 ┆ A_0_24:0.535522,A_ ┆ female:0.302557,ma │\n",
       "│            ┆               ┆         ┆          ┆      ┆ 25_29:0.1378…      ┆ le:0.697443        │\n",
       "└────────────┴───────────────┴─────────┴──────────┴──────┴────────────────────┴────────────────────┘"
      ]
     },
     "execution_count": 1,
     "metadata": {},
     "output_type": "execute_result"
    }
   ],
   "source": [
    "import polars as pl\n",
    "data_path = \"/data3/zxh/news_rec/raw_data\"\n",
    "user_info = pl.read_ipc(f\"{data_path}/user_info.arrow\")\n",
    "user_info"
   ]
  },
  {
   "cell_type": "markdown",
   "metadata": {},
   "source": [
    "#### 2. 处理年龄"
   ]
  },
  {
   "cell_type": "code",
   "execution_count": 2,
   "metadata": {},
   "outputs": [
    {
     "data": {
      "text/html": [
       "<div><style>\n",
       ".dataframe > thead > tr,\n",
       ".dataframe > tbody > tr {\n",
       "  text-align: right;\n",
       "  white-space: pre-wrap;\n",
       "}\n",
       "</style>\n",
       "<small>shape: (3,)</small><table border=\"1\" class=\"dataframe\"><thead><tr><th>age</th></tr><tr><td>u32</td></tr></thead><tbody><tr><td>null</td></tr><tr><td>64</td></tr><tr><td>259</td></tr></tbody></table></div>"
      ],
      "text/plain": [
       "shape: (3,)\n",
       "Series: 'age' [u32]\n",
       "[\n",
       "\tnull\n",
       "\t64\n",
       "\t259\n",
       "]"
      ]
     },
     "execution_count": 2,
     "metadata": {},
     "output_type": "execute_result"
    }
   ],
   "source": [
    "# 计算所有 age 字符串的长度\n",
    "age_lengths = user_info[\"age\"].str.len_chars()\n",
    "age_lengths.unique()"
   ]
  },
  {
   "cell_type": "code",
   "execution_count": 3,
   "metadata": {},
   "outputs": [
    {
     "name": "stdout",
     "output_type": "stream",
     "text": [
      "A_0_24:0.256968,A_0_24:0.256968,A_0_24:0.256968,A_0_24:0.256968,A_25_29:0.129631,A_25_29:0.129631,A_25_29:0.129631,A_25_29:0.129631,A_30_39:0.270219,A_30_39:0.270219,A_30_39:0.270219,A_30_39:0.270219,A_40+:0.343182,A_40+:0.343182,A_40+:0.343182,A_40+:0.343182\n",
      "A_0_24:0.129381,A_0_24:0.129381,A_0_24:0.129381,A_0_24:0.129381,A_25_29:0.234456,A_25_29:0.234456,A_25_29:0.234456,A_25_29:0.234456,A_30_39:0.314669,A_30_39:0.314669,A_30_39:0.314669,A_30_39:0.314669,A_40+:0.321493,A_40+:0.321493,A_40+:0.321493,A_40+:0.321493\n",
      "A_0_24:0.131260,A_0_24:0.131260,A_0_24:0.131260,A_0_24:0.131260,A_25_29:0.290373,A_25_29:0.290373,A_25_29:0.290373,A_25_29:0.290373,A_30_39:0.357634,A_30_39:0.357634,A_30_39:0.357634,A_30_39:0.357634,A_40+:0.220733,A_40+:0.220733,A_40+:0.220733,A_40+:0.220733\n",
      "A_0_24:0.242107,A_0_24:0.242107,A_0_24:0.242107,A_0_24:0.242107,A_25_29:0.300750,A_25_29:0.300750,A_25_29:0.300750,A_25_29:0.300750,A_30_39:0.288349,A_30_39:0.288349,A_30_39:0.288349,A_30_39:0.288349,A_40+:0.168794,A_40+:0.168794,A_40+:0.168794,A_40+:0.168794\n",
      "A_0_24:0.329794,A_0_24:0.329794,A_0_24:0.329794,A_0_24:0.329794,A_25_29:0.293284,A_25_29:0.293284,A_25_29:0.293284,A_25_29:0.293284,A_30_39:0.252235,A_30_39:0.252235,A_30_39:0.252235,A_30_39:0.252235,A_40+:0.124687,A_40+:0.124687,A_40+:0.124687,A_40+:0.124687\n",
      "A_0_24:0.257969,A_0_24:0.257969,A_0_24:0.257969,A_0_24:0.257969,A_25_29:0.253934,A_25_29:0.253934,A_25_29:0.253934,A_25_29:0.253934,A_30_39:0.253346,A_30_39:0.253346,A_30_39:0.253346,A_30_39:0.253346,A_40+:0.234752,A_40+:0.234752,A_40+:0.234752,A_40+:0.234752\n",
      "A_0_24:0.021628,A_0_24:0.021628,A_0_24:0.021628,A_0_24:0.021628,A_25_29:0.113261,A_25_29:0.113261,A_25_29:0.113261,A_25_29:0.113261,A_30_39:0.389931,A_30_39:0.389931,A_30_39:0.389931,A_30_39:0.389931,A_40+:0.475180,A_40+:0.475180,A_40+:0.475180,A_40+:0.475180\n",
      "A_0_24:0.023970,A_0_24:0.023970,A_0_24:0.023970,A_0_24:0.023970,A_25_29:0.157687,A_25_29:0.157687,A_25_29:0.157687,A_25_29:0.157687,A_30_39:0.462303,A_30_39:0.462303,A_30_39:0.462303,A_30_39:0.462303,A_40+:0.356040,A_40+:0.356040,A_40+:0.356040,A_40+:0.356040\n",
      "A_0_24:0.079781,A_0_24:0.079781,A_0_24:0.079781,A_0_24:0.079781,A_25_29:0.174280,A_25_29:0.174280,A_25_29:0.174280,A_25_29:0.174280,A_30_39:0.308870,A_30_39:0.308870,A_30_39:0.308870,A_30_39:0.308870,A_40+:0.437069,A_40+:0.437069,A_40+:0.437069,A_40+:0.437069\n",
      "A_0_24:0.032704,A_0_24:0.032704,A_0_24:0.032704,A_0_24:0.032704,A_25_29:0.171243,A_25_29:0.171243,A_25_29:0.171243,A_25_29:0.171243,A_30_39:0.305740,A_30_39:0.305740,A_30_39:0.305740,A_30_39:0.305740,A_40+:0.490313,A_40+:0.490313,A_40+:0.490313,A_40+:0.490313\n",
      "A_0_24:0.140614,A_0_24:0.140614,A_0_24:0.140614,A_0_24:0.140614,A_25_29:0.207716,A_25_29:0.207716,A_25_29:0.207716,A_25_29:0.207716,A_30_39:0.325048,A_30_39:0.325048,A_30_39:0.325048,A_30_39:0.325048,A_40+:0.326622,A_40+:0.326622,A_40+:0.326622,A_40+:0.326622\n",
      "A_0_24:0.031782,A_0_24:0.031782,A_0_24:0.031782,A_0_24:0.031782,A_25_29:0.191722,A_25_29:0.191722,A_25_29:0.191722,A_25_29:0.191722,A_30_39:0.431594,A_30_39:0.431594,A_30_39:0.431594,A_30_39:0.431594,A_40+:0.344901,A_40+:0.344901,A_40+:0.344901,A_40+:0.344901\n",
      "A_0_24:0.115788,A_0_24:0.115788,A_0_24:0.115788,A_0_24:0.115788,A_25_29:0.274078,A_25_29:0.274078,A_25_29:0.274078,A_25_29:0.274078,A_30_39:0.373731,A_30_39:0.373731,A_30_39:0.373731,A_30_39:0.373731,A_40+:0.236403,A_40+:0.236403,A_40+:0.236403,A_40+:0.236403\n",
      "A_0_24:0.334000,A_0_24:0.334000,A_0_24:0.334000,A_0_24:0.334000,A_25_29:0.428067,A_25_29:0.428067,A_25_29:0.428067,A_25_29:0.428067,A_30_39:0.172408,A_30_39:0.172408,A_30_39:0.172408,A_30_39:0.172408,A_40+:0.065525,A_40+:0.065525,A_40+:0.065525,A_40+:0.065525\n",
      "A_0_24:0.223139,A_0_24:0.223139,A_0_24:0.223139,A_0_24:0.223139,A_25_29:0.230830,A_25_29:0.230830,A_25_29:0.230830,A_25_29:0.230830,A_30_39:0.324420,A_30_39:0.324420,A_30_39:0.324420,A_30_39:0.324420,A_40+:0.221610,A_40+:0.221610,A_40+:0.221610,A_40+:0.221610\n",
      "A_0_24:0.172039,A_0_24:0.172039,A_0_24:0.172039,A_0_24:0.172039,A_25_29:0.273859,A_25_29:0.273859,A_25_29:0.273859,A_25_29:0.273859,A_30_39:0.346140,A_30_39:0.346140,A_30_39:0.346140,A_30_39:0.346140,A_40+:0.207962,A_40+:0.207962,A_40+:0.207962,A_40+:0.207962\n",
      "A_0_24:0.053684,A_0_24:0.053684,A_0_24:0.053684,A_0_24:0.053684,A_25_29:0.172639,A_25_29:0.172639,A_25_29:0.172639,A_25_29:0.172639,A_30_39:0.438741,A_30_39:0.438741,A_30_39:0.438741,A_30_39:0.438741,A_40+:0.334936,A_40+:0.334936,A_40+:0.334936,A_40+:0.334936\n",
      "A_0_24:0.087737,A_0_24:0.087737,A_0_24:0.087737,A_0_24:0.087737,A_25_29:0.209872,A_25_29:0.209872,A_25_29:0.209872,A_25_29:0.209872,A_30_39:0.401630,A_30_39:0.401630,A_30_39:0.401630,A_30_39:0.401630,A_40+:0.300762,A_40+:0.300762,A_40+:0.300762,A_40+:0.300762\n",
      "A_0_24:0.175995,A_0_24:0.175995,A_0_24:0.175995,A_0_24:0.175995,A_25_29:0.266882,A_25_29:0.266882,A_25_29:0.266882,A_25_29:0.266882,A_30_39:0.328334,A_30_39:0.328334,A_30_39:0.328334,A_30_39:0.328334,A_40+:0.228789,A_40+:0.228789,A_40+:0.228789,A_40+:0.228789\n",
      "A_0_24:0.132661,A_0_24:0.132661,A_0_24:0.132661,A_0_24:0.132661,A_25_29:0.237266,A_25_29:0.237266,A_25_29:0.237266,A_25_29:0.237266,A_30_39:0.282684,A_30_39:0.282684,A_30_39:0.282684,A_30_39:0.282684,A_40+:0.347388,A_40+:0.347388,A_40+:0.347388,A_40+:0.347388\n",
      "A_0_24:0.116030,A_0_24:0.116030,A_0_24:0.116030,A_0_24:0.116030,A_25_29:0.185634,A_25_29:0.185634,A_25_29:0.185634,A_25_29:0.185634,A_30_39:0.283509,A_30_39:0.283509,A_30_39:0.283509,A_30_39:0.283509,A_40+:0.414828,A_40+:0.414828,A_40+:0.414828,A_40+:0.414828\n",
      "A_0_24:0.013584,A_0_24:0.013584,A_0_24:0.013584,A_0_24:0.013584,A_25_29:0.183531,A_25_29:0.183531,A_25_29:0.183531,A_25_29:0.183531,A_30_39:0.429081,A_30_39:0.429081,A_30_39:0.429081,A_30_39:0.429081,A_40+:0.373805,A_40+:0.373805,A_40+:0.373805,A_40+:0.373805\n",
      "A_0_24:0.060532,A_0_24:0.060532,A_0_24:0.060532,A_0_24:0.060532,A_25_29:0.271059,A_25_29:0.271059,A_25_29:0.271059,A_25_29:0.271059,A_30_39:0.464901,A_30_39:0.464901,A_30_39:0.464901,A_30_39:0.464901,A_40+:0.203508,A_40+:0.203508,A_40+:0.203508,A_40+:0.203508\n",
      "A_0_24:0.670946,A_0_24:0.670946,A_0_24:0.670946,A_0_24:0.670946,A_25_29:0.255540,A_25_29:0.255540,A_25_29:0.255540,A_25_29:0.255540,A_30_39:0.057731,A_30_39:0.057731,A_30_39:0.057731,A_30_39:0.057731,A_40+:0.015783,A_40+:0.015783,A_40+:0.015783,A_40+:0.015783\n",
      "A_0_24:0.216106,A_0_24:0.216106,A_0_24:0.216106,A_0_24:0.216106,A_25_29:0.340939,A_25_29:0.340939,A_25_29:0.340939,A_25_29:0.340939,A_30_39:0.280402,A_30_39:0.280402,A_30_39:0.280402,A_30_39:0.280402,A_40+:0.162553,A_40+:0.162553,A_40+:0.162553,A_40+:0.162553\n",
      "A_0_24:0.163464,A_0_24:0.163464,A_0_24:0.163464,A_0_24:0.163464,A_25_29:0.190028,A_25_29:0.190028,A_25_29:0.190028,A_25_29:0.190028,A_30_39:0.324658,A_30_39:0.324658,A_30_39:0.324658,A_30_39:0.324658,A_40+:0.321850,A_40+:0.321850,A_40+:0.321850,A_40+:0.321850\n",
      "A_0_24:0.157573,A_0_24:0.157573,A_0_24:0.157573,A_0_24:0.157573,A_25_29:0.286615,A_25_29:0.286615,A_25_29:0.286615,A_25_29:0.286615,A_30_39:0.297521,A_30_39:0.297521,A_30_39:0.297521,A_30_39:0.297521,A_40+:0.258290,A_40+:0.258290,A_40+:0.258290,A_40+:0.258290\n",
      "A_0_24:0.059610,A_0_24:0.059610,A_0_24:0.059610,A_0_24:0.059610,A_25_29:0.349261,A_25_29:0.349261,A_25_29:0.349261,A_25_29:0.349261,A_30_39:0.487118,A_30_39:0.487118,A_30_39:0.487118,A_30_39:0.487118,A_40+:0.104011,A_40+:0.104011,A_40+:0.104011,A_40+:0.104011\n"
     ]
    }
   ],
   "source": [
    "# 查看 age 字符串的长度为259的那些行，可以发现只是重复了，但是不会影响后续正则表达式匹配\n",
    "for age in user_info.filter(age_lengths == 259).select([\"age\"]).to_series().to_list():\n",
    "    print(age)"
   ]
  },
  {
   "cell_type": "code",
   "execution_count": 4,
   "metadata": {},
   "outputs": [
    {
     "data": {
      "text/html": [
       "<div><style>\n",
       ".dataframe > thead > tr,\n",
       ".dataframe > tbody > tr {\n",
       "  text-align: right;\n",
       "  white-space: pre-wrap;\n",
       "}\n",
       "</style>\n",
       "<small>shape: (5, 5)</small><table border=\"1\" class=\"dataframe\"><thead><tr><th>age</th><th>age_0_24</th><th>age_25_29</th><th>age_30_39</th><th>age_40+</th></tr><tr><td>str</td><td>f32</td><td>f32</td><td>f32</td><td>f32</td></tr></thead><tbody><tr><td>&quot;A_0_24:0.404616,A_25_29:0.0590…</td><td>0.404616</td><td>0.059027</td><td>0.51655</td><td>0.019806</td></tr><tr><td>&quot;A_0_24:0.615458,A_25_29:0.0862…</td><td>0.615458</td><td>0.086233</td><td>0.141408</td><td>0.156901</td></tr><tr><td>&quot;A_0_24:0.123255,A_25_29:0.2082…</td><td>0.123255</td><td>0.208225</td><td>0.298089</td><td>0.370431</td></tr><tr><td>&quot;A_0_24:0.436296,A_25_29:0.4893…</td><td>0.436296</td><td>0.48937</td><td>0.06156</td><td>0.012773</td></tr><tr><td>&quot;A_0_24:0.006632,A_25_29:0.0434…</td><td>0.006632</td><td>0.043408</td><td>0.350842</td><td>0.599118</td></tr></tbody></table></div>"
      ],
      "text/plain": [
       "shape: (5, 5)\n",
       "┌─────────────────────────────────┬──────────┬───────────┬───────────┬──────────┐\n",
       "│ age                             ┆ age_0_24 ┆ age_25_29 ┆ age_30_39 ┆ age_40+  │\n",
       "│ ---                             ┆ ---      ┆ ---       ┆ ---       ┆ ---      │\n",
       "│ str                             ┆ f32      ┆ f32       ┆ f32       ┆ f32      │\n",
       "╞═════════════════════════════════╪══════════╪═══════════╪═══════════╪══════════╡\n",
       "│ A_0_24:0.404616,A_25_29:0.0590… ┆ 0.404616 ┆ 0.059027  ┆ 0.51655   ┆ 0.019806 │\n",
       "│ A_0_24:0.615458,A_25_29:0.0862… ┆ 0.615458 ┆ 0.086233  ┆ 0.141408  ┆ 0.156901 │\n",
       "│ A_0_24:0.123255,A_25_29:0.2082… ┆ 0.123255 ┆ 0.208225  ┆ 0.298089  ┆ 0.370431 │\n",
       "│ A_0_24:0.436296,A_25_29:0.4893… ┆ 0.436296 ┆ 0.48937   ┆ 0.06156   ┆ 0.012773 │\n",
       "│ A_0_24:0.006632,A_25_29:0.0434… ┆ 0.006632 ┆ 0.043408  ┆ 0.350842  ┆ 0.599118 │\n",
       "└─────────────────────────────────┴──────────┴───────────┴───────────┴──────────┘"
      ]
     },
     "execution_count": 4,
     "metadata": {},
     "output_type": "execute_result"
    }
   ],
   "source": [
    "# 使用正则表达式提取用户的性别\n",
    "age_patterns = {\n",
    "    \"age_0_24\": r\"A_0_24:([\\d.]+)\",\n",
    "    \"age_25_29\": r\"A_25_29:([\\d.]+)\",\n",
    "    \"age_30_39\": r\"A_30_39:([\\d.]+)\", \n",
    "    \"age_40+\": r\"A_40\\+:([\\d.]+)\"  # 注意转义特殊符号+\n",
    "}\n",
    "\n",
    "# 构造表达式列表\n",
    "exprs = [\n",
    "    pl.col(\"age\")\n",
    "    .str.extract(pattern, group_index=1)\n",
    "    .cast(pl.Float32)\n",
    "    .fill_null(0.0)\n",
    "    .alias(col_name)\n",
    "    for col_name, pattern in age_patterns.items()\n",
    "]\n",
    "\n",
    "# 应用转换并添加新列\n",
    "user_info = user_info.with_columns(exprs)\n",
    "\n",
    "# 验证结果\n",
    "user_info[[\"age\", *age_patterns.keys()]].head()"
   ]
  },
  {
   "cell_type": "code",
   "execution_count": 5,
   "metadata": {},
   "outputs": [
    {
     "data": {
      "text/html": [
       "<div><style>\n",
       ".dataframe > thead > tr,\n",
       ".dataframe > tbody > tr {\n",
       "  text-align: right;\n",
       "  white-space: pre-wrap;\n",
       "}\n",
       "</style>\n",
       "<small>shape: (9, 12)</small><table border=\"1\" class=\"dataframe\"><thead><tr><th>statistic</th><th>user_id</th><th>device_name</th><th>os</th><th>province</th><th>city</th><th>age</th><th>gender</th><th>age_0_24</th><th>age_25_29</th><th>age_30_39</th><th>age_40+</th></tr><tr><td>str</td><td>f64</td><td>str</td><td>str</td><td>str</td><td>str</td><td>str</td><td>str</td><td>f64</td><td>f64</td><td>f64</td><td>f64</td></tr></thead><tbody><tr><td>&quot;count&quot;</td><td>1.538384e6</td><td>&quot;1470640&quot;</td><td>&quot;1470576&quot;</td><td>&quot;1446124&quot;</td><td>&quot;1442312&quot;</td><td>&quot;1478493&quot;</td><td>&quot;1479812&quot;</td><td>1.538384e6</td><td>1.538384e6</td><td>1.538384e6</td><td>1.538384e6</td></tr><tr><td>&quot;null_count&quot;</td><td>0.0</td><td>&quot;67744&quot;</td><td>&quot;67808&quot;</td><td>&quot;92260&quot;</td><td>&quot;96072&quot;</td><td>&quot;59891&quot;</td><td>&quot;58572&quot;</td><td>0.0</td><td>0.0</td><td>0.0</td><td>0.0</td></tr><tr><td>&quot;mean&quot;</td><td>1.9839e9</td><td>null</td><td>null</td><td>null</td><td>null</td><td>null</td><td>null</td><td>0.287505</td><td>0.17609</td><td>0.213863</td><td>0.28361</td></tr><tr><td>&quot;std&quot;</td><td>4.7676e8</td><td>null</td><td>null</td><td>null</td><td>null</td><td>null</td><td>null</td><td>0.236477</td><td>0.126931</td><td>0.158668</td><td>0.238479</td></tr><tr><td>&quot;min&quot;</td><td>17340.0</td><td>&quot;.N360.&quot;</td><td>&quot;Android&quot;</td><td>&quot;Abruzzo&quot;</td><td>&quot;Aachen&quot;</td><td>&quot;A_0_24:0.000000,A_25_29:0.0000…</td><td>&quot;female:0.000000,male:1.000000&quot;</td><td>0.0</td><td>0.0</td><td>0.0</td><td>0.0</td></tr><tr><td>&quot;25%&quot;</td><td>1.5679e9</td><td>null</td><td>null</td><td>null</td><td>null</td><td>null</td><td>null</td><td>0.088865</td><td>0.0862</td><td>0.10538</td><td>0.085419</td></tr><tr><td>&quot;50%&quot;</td><td>2.2154e9</td><td>null</td><td>null</td><td>null</td><td>null</td><td>null</td><td>null</td><td>0.233304</td><td>0.156148</td><td>0.180267</td><td>0.223409</td></tr><tr><td>&quot;75%&quot;</td><td>2.4114e9</td><td>null</td><td>null</td><td>null</td><td>null</td><td>null</td><td>null</td><td>0.443468</td><td>0.237178</td><td>0.285814</td><td>0.432363</td></tr><tr><td>&quot;max&quot;</td><td>2.4474e9</td><td>&quot;xiaomi6&quot;</td><td>&quot;IOS&quot;</td><td>&quot;黑龙江&quot;</td><td>&quot;龙岩&quot;</td><td>&quot;A_0_24:1.000000,A_25_29:0.0000…</td><td>&quot;male:1.000000&quot;</td><td>1.0</td><td>0.994316</td><td>1.0</td><td>1.0</td></tr></tbody></table></div>"
      ],
      "text/plain": [
       "shape: (9, 12)\n",
       "┌────────────┬───────────┬───────────┬─────────┬───┬───────────┬───────────┬───────────┬───────────┐\n",
       "│ statistic  ┆ user_id   ┆ device_na ┆ os      ┆ … ┆ age_0_24  ┆ age_25_29 ┆ age_30_39 ┆ age_40+   │\n",
       "│ ---        ┆ ---       ┆ me        ┆ ---     ┆   ┆ ---       ┆ ---       ┆ ---       ┆ ---       │\n",
       "│ str        ┆ f64       ┆ ---       ┆ str     ┆   ┆ f64       ┆ f64       ┆ f64       ┆ f64       │\n",
       "│            ┆           ┆ str       ┆         ┆   ┆           ┆           ┆           ┆           │\n",
       "╞════════════╪═══════════╪═══════════╪═════════╪═══╪═══════════╪═══════════╪═══════════╪═══════════╡\n",
       "│ count      ┆ 1.538384e ┆ 1470640   ┆ 1470576 ┆ … ┆ 1.538384e ┆ 1.538384e ┆ 1.538384e ┆ 1.538384e │\n",
       "│            ┆ 6         ┆           ┆         ┆   ┆ 6         ┆ 6         ┆ 6         ┆ 6         │\n",
       "│ null_count ┆ 0.0       ┆ 67744     ┆ 67808   ┆ … ┆ 0.0       ┆ 0.0       ┆ 0.0       ┆ 0.0       │\n",
       "│ mean       ┆ 1.9839e9  ┆ null      ┆ null    ┆ … ┆ 0.287505  ┆ 0.17609   ┆ 0.213863  ┆ 0.28361   │\n",
       "│ std        ┆ 4.7676e8  ┆ null      ┆ null    ┆ … ┆ 0.236477  ┆ 0.126931  ┆ 0.158668  ┆ 0.238479  │\n",
       "│ min        ┆ 17340.0   ┆ .N360.    ┆ Android ┆ … ┆ 0.0       ┆ 0.0       ┆ 0.0       ┆ 0.0       │\n",
       "│ 25%        ┆ 1.5679e9  ┆ null      ┆ null    ┆ … ┆ 0.088865  ┆ 0.0862    ┆ 0.10538   ┆ 0.085419  │\n",
       "│ 50%        ┆ 2.2154e9  ┆ null      ┆ null    ┆ … ┆ 0.233304  ┆ 0.156148  ┆ 0.180267  ┆ 0.223409  │\n",
       "│ 75%        ┆ 2.4114e9  ┆ null      ┆ null    ┆ … ┆ 0.443468  ┆ 0.237178  ┆ 0.285814  ┆ 0.432363  │\n",
       "│ max        ┆ 2.4474e9  ┆ xiaomi6   ┆ IOS     ┆ … ┆ 1.0       ┆ 0.994316  ┆ 1.0       ┆ 1.0       │\n",
       "└────────────┴───────────┴───────────┴─────────┴───┴───────────┴───────────┴───────────┴───────────┘"
      ]
     },
     "execution_count": 5,
     "metadata": {},
     "output_type": "execute_result"
    }
   ],
   "source": [
    "user_info.describe()"
   ]
  },
  {
   "cell_type": "code",
   "execution_count": 6,
   "metadata": {},
   "outputs": [
    {
     "data": {
      "text/html": [
       "<div><style>\n",
       ".dataframe > thead > tr,\n",
       ".dataframe > tbody > tr {\n",
       "  text-align: right;\n",
       "  white-space: pre-wrap;\n",
       "}\n",
       "</style>\n",
       "<small>shape: (1_538_384, 7)</small><table border=\"1\" class=\"dataframe\"><thead><tr><th>user_id</th><th>device_name</th><th>os</th><th>province</th><th>city</th><th>age</th><th>gender</th></tr><tr><td>i64</td><td>str</td><td>str</td><td>str</td><td>str</td><td>str</td><td>str</td></tr></thead><tbody><tr><td>1000372820</td><td>&quot;TAS-AN00&quot;</td><td>&quot;Android&quot;</td><td>&quot;广东&quot;</td><td>&quot;广州&quot;</td><td>&quot;A_0_24:0.404616,A_25_29:0.0590…</td><td>&quot;female:0.051339,male:0.948661&quot;</td></tr><tr><td>1000652892</td><td>&quot;PACM00&quot;</td><td>&quot;Android&quot;</td><td>&quot;河北&quot;</td><td>&quot;唐山&quot;</td><td>&quot;A_0_24:0.615458,A_25_29:0.0862…</td><td>&quot;female:0.280295,male:0.719705&quot;</td></tr><tr><td>1000908852</td><td>&quot;MI6X&quot;</td><td>&quot;Android&quot;</td><td>&quot;上海&quot;</td><td>&quot;上海&quot;</td><td>&quot;A_0_24:0.123255,A_25_29:0.2082…</td><td>&quot;female:0.000000,male:1.000000&quot;</td></tr><tr><td>1001168798</td><td>&quot;iPhone11&quot;</td><td>&quot;IOS&quot;</td><td>null</td><td>null</td><td>&quot;A_0_24:0.436296,A_25_29:0.4893…</td><td>&quot;female:0.870710,male:0.129290&quot;</td></tr><tr><td>1001305614</td><td>&quot;M2103K19C&quot;</td><td>&quot;Android&quot;</td><td>&quot;江苏&quot;</td><td>&quot;苏州&quot;</td><td>&quot;A_0_24:0.006632,A_25_29:0.0434…</td><td>&quot;female:0.000000,male:1.000000&quot;</td></tr><tr><td>&hellip;</td><td>&hellip;</td><td>&hellip;</td><td>&hellip;</td><td>&hellip;</td><td>&hellip;</td><td>&hellip;</td></tr><tr><td>999798184</td><td>&quot;DIG-AL00&quot;</td><td>&quot;Android&quot;</td><td>&quot;四川&quot;</td><td>&quot;成都&quot;</td><td>&quot;A_0_24:0.375362,A_25_29:0.1892…</td><td>&quot;female:0.950213,male:0.049787&quot;</td></tr><tr><td>999813672</td><td>&quot;CoolpadA8-930&quot;</td><td>&quot;Android&quot;</td><td>&quot;广东&quot;</td><td>&quot;广州&quot;</td><td>&quot;A_0_24:0.225201,A_25_29:0.1697…</td><td>&quot;female:0.298108,male:0.701892&quot;</td></tr><tr><td>999859618</td><td>&quot;KNT-AL10&quot;</td><td>&quot;Android&quot;</td><td>&quot;河南&quot;</td><td>&quot;南阳&quot;</td><td>&quot;A_0_24:0.838753,A_25_29:0.0419…</td><td>&quot;female:0.950213,male:0.049787&quot;</td></tr><tr><td>999873694</td><td>&quot;OPPOR9sPlus&quot;</td><td>&quot;Android&quot;</td><td>&quot;山东&quot;</td><td>&quot;威海&quot;</td><td>&quot;A_0_24:0.093117,A_25_29:0.2800…</td><td>&quot;female:0.103819,male:0.896181&quot;</td></tr><tr><td>999902420</td><td>&quot;PADM00&quot;</td><td>&quot;Android&quot;</td><td>&quot;天津&quot;</td><td>&quot;天津&quot;</td><td>&quot;A_0_24:0.535522,A_25_29:0.1378…</td><td>&quot;female:0.302557,male:0.697443&quot;</td></tr></tbody></table></div>"
      ],
      "text/plain": [
       "shape: (1_538_384, 7)\n",
       "┌────────────┬───────────────┬─────────┬──────────┬──────┬────────────────────┬────────────────────┐\n",
       "│ user_id    ┆ device_name   ┆ os      ┆ province ┆ city ┆ age                ┆ gender             │\n",
       "│ ---        ┆ ---           ┆ ---     ┆ ---      ┆ ---  ┆ ---                ┆ ---                │\n",
       "│ i64        ┆ str           ┆ str     ┆ str      ┆ str  ┆ str                ┆ str                │\n",
       "╞════════════╪═══════════════╪═════════╪══════════╪══════╪════════════════════╪════════════════════╡\n",
       "│ 1000372820 ┆ TAS-AN00      ┆ Android ┆ 广东     ┆ 广州 ┆ A_0_24:0.404616,A_ ┆ female:0.051339,ma │\n",
       "│            ┆               ┆         ┆          ┆      ┆ 25_29:0.0590…      ┆ le:0.948661        │\n",
       "│ 1000652892 ┆ PACM00        ┆ Android ┆ 河北     ┆ 唐山 ┆ A_0_24:0.615458,A_ ┆ female:0.280295,ma │\n",
       "│            ┆               ┆         ┆          ┆      ┆ 25_29:0.0862…      ┆ le:0.719705        │\n",
       "│ 1000908852 ┆ MI6X          ┆ Android ┆ 上海     ┆ 上海 ┆ A_0_24:0.123255,A_ ┆ female:0.000000,ma │\n",
       "│            ┆               ┆         ┆          ┆      ┆ 25_29:0.2082…      ┆ le:1.000000        │\n",
       "│ 1001168798 ┆ iPhone11      ┆ IOS     ┆ null     ┆ null ┆ A_0_24:0.436296,A_ ┆ female:0.870710,ma │\n",
       "│            ┆               ┆         ┆          ┆      ┆ 25_29:0.4893…      ┆ le:0.129290        │\n",
       "│ 1001305614 ┆ M2103K19C     ┆ Android ┆ 江苏     ┆ 苏州 ┆ A_0_24:0.006632,A_ ┆ female:0.000000,ma │\n",
       "│            ┆               ┆         ┆          ┆      ┆ 25_29:0.0434…      ┆ le:1.000000        │\n",
       "│ …          ┆ …             ┆ …       ┆ …        ┆ …    ┆ …                  ┆ …                  │\n",
       "│ 999798184  ┆ DIG-AL00      ┆ Android ┆ 四川     ┆ 成都 ┆ A_0_24:0.375362,A_ ┆ female:0.950213,ma │\n",
       "│            ┆               ┆         ┆          ┆      ┆ 25_29:0.1892…      ┆ le:0.049787        │\n",
       "│ 999813672  ┆ CoolpadA8-930 ┆ Android ┆ 广东     ┆ 广州 ┆ A_0_24:0.225201,A_ ┆ female:0.298108,ma │\n",
       "│            ┆               ┆         ┆          ┆      ┆ 25_29:0.1697…      ┆ le:0.701892        │\n",
       "│ 999859618  ┆ KNT-AL10      ┆ Android ┆ 河南     ┆ 南阳 ┆ A_0_24:0.838753,A_ ┆ female:0.950213,ma │\n",
       "│            ┆               ┆         ┆          ┆      ┆ 25_29:0.0419…      ┆ le:0.049787        │\n",
       "│ 999873694  ┆ OPPOR9sPlus   ┆ Android ┆ 山东     ┆ 威海 ┆ A_0_24:0.093117,A_ ┆ female:0.103819,ma │\n",
       "│            ┆               ┆         ┆          ┆      ┆ 25_29:0.2800…      ┆ le:0.896181        │\n",
       "│ 999902420  ┆ PADM00        ┆ Android ┆ 天津     ┆ 天津 ┆ A_0_24:0.535522,A_ ┆ female:0.302557,ma │\n",
       "│            ┆               ┆         ┆          ┆      ┆ 25_29:0.1378…      ┆ le:0.697443        │\n",
       "└────────────┴───────────────┴─────────┴──────────┴──────┴────────────────────┴────────────────────┘"
      ]
     },
     "execution_count": 6,
     "metadata": {},
     "output_type": "execute_result"
    }
   ],
   "source": [
    "user_info = user_info.with_columns(\n",
    "    pl.when(pl.col(\"age\").is_not_null())\n",
    "    .then(\n",
    "        pl.concat_str([\n",
    "                pl.format(\"A_0_24:{}\", pl.col(\"age_0_24\")),\n",
    "                pl.format(\"A_25_29:{}\", pl.col(\"age_25_29\")),\n",
    "                pl.format(\"A_30_39:{}\", pl.col(\"age_30_39\")),\n",
    "                pl.format(\"A_40+:{}\", pl.col(\"age_40+\"))\n",
    "            ],\n",
    "            separator=\",\"\n",
    "        )).alias(\"age\")\n",
    ").drop([\"age_0_24\",\"age_25_29\",\"age_30_39\",\"age_40+\"])\n",
    "user_info"
   ]
  },
  {
   "cell_type": "markdown",
   "metadata": {},
   "source": [
    "#### 3. 处理性别"
   ]
  },
  {
   "cell_type": "code",
   "execution_count": 7,
   "metadata": {},
   "outputs": [
    {
     "data": {
      "text/html": [
       "<div><style>\n",
       ".dataframe > thead > tr,\n",
       ".dataframe > tbody > tr {\n",
       "  text-align: right;\n",
       "  white-space: pre-wrap;\n",
       "}\n",
       "</style>\n",
       "<small>shape: (5,)</small><table border=\"1\" class=\"dataframe\"><thead><tr><th>gender</th></tr><tr><td>u32</td></tr></thead><tbody><tr><td>null</td></tr><tr><td>13</td></tr><tr><td>15</td></tr><tr><td>29</td></tr><tr><td>59</td></tr></tbody></table></div>"
      ],
      "text/plain": [
       "shape: (5,)\n",
       "Series: 'gender' [u32]\n",
       "[\n",
       "\tnull\n",
       "\t13\n",
       "\t15\n",
       "\t29\n",
       "\t59\n",
       "]"
      ]
     },
     "execution_count": 7,
     "metadata": {},
     "output_type": "execute_result"
    }
   ],
   "source": [
    "# 计算所有 gender 字符串的长度\n",
    "gender_lengths = user_info[\"gender\"].str.len_chars()\n",
    "gender_lengths.unique()"
   ]
  },
  {
   "cell_type": "code",
   "execution_count": 8,
   "metadata": {},
   "outputs": [
    {
     "name": "stdout",
     "output_type": "stream",
     "text": [
      "male:1.000000\n",
      "female:1.000000\n",
      "female:0.852616,female:0.852616,male:0.147384,male:0.147384\n"
     ]
    }
   ],
   "source": [
    "# 查看这些异常的长度都是什么情况，可以发现不影响正则表达式匹配\n",
    "print(user_info.filter(gender_lengths == 13).select([\"gender\"]).to_series().to_list()[0]) # 缺失了female字段\n",
    "print(user_info.filter(gender_lengths == 15).select([\"gender\"]).to_series().to_list()[0]) # 缺失了male字段\n",
    "print(user_info.filter(gender_lengths == 59).select([\"gender\"]).to_series().to_list()[0]) # 重复出现"
   ]
  },
  {
   "cell_type": "code",
   "execution_count": 9,
   "metadata": {},
   "outputs": [
    {
     "name": "stdout",
     "output_type": "stream",
     "text": [
      "shape: (1_538_384, 3)\n",
      "┌───────────────────────────────┬───────────────┬─────────────┐\n",
      "│ gender                        ┆ gender_female ┆ gender_male │\n",
      "│ ---                           ┆ ---           ┆ ---         │\n",
      "│ str                           ┆ f32           ┆ f32         │\n",
      "╞═══════════════════════════════╪═══════════════╪═════════════╡\n",
      "│ female:0.051339,male:0.948661 ┆ 0.051339      ┆ 0.948661    │\n",
      "│ female:0.280295,male:0.719705 ┆ 0.280295      ┆ 0.719705    │\n",
      "│ female:0.000000,male:1.000000 ┆ 0.0           ┆ 1.0         │\n",
      "│ female:0.870710,male:0.129290 ┆ 0.87071       ┆ 0.12929     │\n",
      "│ female:0.000000,male:1.000000 ┆ 0.0           ┆ 1.0         │\n",
      "│ …                             ┆ …             ┆ …           │\n",
      "│ female:0.950213,male:0.049787 ┆ 0.950213      ┆ 0.049787    │\n",
      "│ female:0.298108,male:0.701892 ┆ 0.298108      ┆ 0.701892    │\n",
      "│ female:0.950213,male:0.049787 ┆ 0.950213      ┆ 0.049787    │\n",
      "│ female:0.103819,male:0.896181 ┆ 0.103819      ┆ 0.896181    │\n",
      "│ female:0.302557,male:0.697443 ┆ 0.302557      ┆ 0.697443    │\n",
      "└───────────────────────────────┴───────────────┴─────────────┘\n"
     ]
    }
   ],
   "source": [
    "gender_patterns = {\n",
    "    \"gender_female\": r\"female:([\\d.]+)\",  # 正确匹配female\n",
    "    \"gender_male\": r\"\\bmale:([\\d.]+)\"     # 添加单词边界符\\b防止错误匹配\n",
    "}\n",
    "\n",
    "# 重新生成转换表达式\n",
    "exprs = [\n",
    "    pl.col(\"gender\")\n",
    "    .str.extract(pattern, group_index=1)\n",
    "    .cast(pl.Float32)\n",
    "    .fill_null(0.0)\n",
    "    .alias(col_name)\n",
    "    for col_name, pattern in gender_patterns.items()\n",
    "]\n",
    "\n",
    "# 重新执行转换\n",
    "user_info = user_info.with_columns(exprs)\n",
    "\n",
    "# 验证结果\n",
    "print(user_info[[\"gender\", \"gender_female\", \"gender_male\"]])"
   ]
  },
  {
   "cell_type": "code",
   "execution_count": 10,
   "metadata": {},
   "outputs": [
    {
     "data": {
      "text/html": [
       "<div><style>\n",
       ".dataframe > thead > tr,\n",
       ".dataframe > tbody > tr {\n",
       "  text-align: right;\n",
       "  white-space: pre-wrap;\n",
       "}\n",
       "</style>\n",
       "<small>shape: (1_538_384, 7)</small><table border=\"1\" class=\"dataframe\"><thead><tr><th>user_id</th><th>device_name</th><th>os</th><th>province</th><th>city</th><th>age</th><th>gender</th></tr><tr><td>i64</td><td>str</td><td>str</td><td>str</td><td>str</td><td>str</td><td>str</td></tr></thead><tbody><tr><td>1000372820</td><td>&quot;TAS-AN00&quot;</td><td>&quot;Android&quot;</td><td>&quot;广东&quot;</td><td>&quot;广州&quot;</td><td>&quot;A_0_24:0.404616,A_25_29:0.0590…</td><td>&quot;female:0.051339,male:0.948661&quot;</td></tr><tr><td>1000652892</td><td>&quot;PACM00&quot;</td><td>&quot;Android&quot;</td><td>&quot;河北&quot;</td><td>&quot;唐山&quot;</td><td>&quot;A_0_24:0.615458,A_25_29:0.0862…</td><td>&quot;female:0.280295,male:0.719705&quot;</td></tr><tr><td>1000908852</td><td>&quot;MI6X&quot;</td><td>&quot;Android&quot;</td><td>&quot;上海&quot;</td><td>&quot;上海&quot;</td><td>&quot;A_0_24:0.123255,A_25_29:0.2082…</td><td>&quot;female:0.0,male:1.0&quot;</td></tr><tr><td>1001168798</td><td>&quot;iPhone11&quot;</td><td>&quot;IOS&quot;</td><td>null</td><td>null</td><td>&quot;A_0_24:0.436296,A_25_29:0.4893…</td><td>&quot;female:0.87071,male:0.12929&quot;</td></tr><tr><td>1001305614</td><td>&quot;M2103K19C&quot;</td><td>&quot;Android&quot;</td><td>&quot;江苏&quot;</td><td>&quot;苏州&quot;</td><td>&quot;A_0_24:0.006632,A_25_29:0.0434…</td><td>&quot;female:0.0,male:1.0&quot;</td></tr><tr><td>&hellip;</td><td>&hellip;</td><td>&hellip;</td><td>&hellip;</td><td>&hellip;</td><td>&hellip;</td><td>&hellip;</td></tr><tr><td>999798184</td><td>&quot;DIG-AL00&quot;</td><td>&quot;Android&quot;</td><td>&quot;四川&quot;</td><td>&quot;成都&quot;</td><td>&quot;A_0_24:0.375362,A_25_29:0.1892…</td><td>&quot;female:0.950213,male:0.049787&quot;</td></tr><tr><td>999813672</td><td>&quot;CoolpadA8-930&quot;</td><td>&quot;Android&quot;</td><td>&quot;广东&quot;</td><td>&quot;广州&quot;</td><td>&quot;A_0_24:0.225201,A_25_29:0.1697…</td><td>&quot;female:0.298108,male:0.701892&quot;</td></tr><tr><td>999859618</td><td>&quot;KNT-AL10&quot;</td><td>&quot;Android&quot;</td><td>&quot;河南&quot;</td><td>&quot;南阳&quot;</td><td>&quot;A_0_24:0.838753,A_25_29:0.0419…</td><td>&quot;female:0.950213,male:0.049787&quot;</td></tr><tr><td>999873694</td><td>&quot;OPPOR9sPlus&quot;</td><td>&quot;Android&quot;</td><td>&quot;山东&quot;</td><td>&quot;威海&quot;</td><td>&quot;A_0_24:0.093117,A_25_29:0.2800…</td><td>&quot;female:0.103819,male:0.896181&quot;</td></tr><tr><td>999902420</td><td>&quot;PADM00&quot;</td><td>&quot;Android&quot;</td><td>&quot;天津&quot;</td><td>&quot;天津&quot;</td><td>&quot;A_0_24:0.535522,A_25_29:0.1378…</td><td>&quot;female:0.302557,male:0.697443&quot;</td></tr></tbody></table></div>"
      ],
      "text/plain": [
       "shape: (1_538_384, 7)\n",
       "┌────────────┬───────────────┬─────────┬──────────┬──────┬────────────────────┬────────────────────┐\n",
       "│ user_id    ┆ device_name   ┆ os      ┆ province ┆ city ┆ age                ┆ gender             │\n",
       "│ ---        ┆ ---           ┆ ---     ┆ ---      ┆ ---  ┆ ---                ┆ ---                │\n",
       "│ i64        ┆ str           ┆ str     ┆ str      ┆ str  ┆ str                ┆ str                │\n",
       "╞════════════╪═══════════════╪═════════╪══════════╪══════╪════════════════════╪════════════════════╡\n",
       "│ 1000372820 ┆ TAS-AN00      ┆ Android ┆ 广东     ┆ 广州 ┆ A_0_24:0.404616,A_ ┆ female:0.051339,ma │\n",
       "│            ┆               ┆         ┆          ┆      ┆ 25_29:0.0590…      ┆ le:0.948661        │\n",
       "│ 1000652892 ┆ PACM00        ┆ Android ┆ 河北     ┆ 唐山 ┆ A_0_24:0.615458,A_ ┆ female:0.280295,ma │\n",
       "│            ┆               ┆         ┆          ┆      ┆ 25_29:0.0862…      ┆ le:0.719705        │\n",
       "│ 1000908852 ┆ MI6X          ┆ Android ┆ 上海     ┆ 上海 ┆ A_0_24:0.123255,A_ ┆ female:0.0,male:1. │\n",
       "│            ┆               ┆         ┆          ┆      ┆ 25_29:0.2082…      ┆ 0                  │\n",
       "│ 1001168798 ┆ iPhone11      ┆ IOS     ┆ null     ┆ null ┆ A_0_24:0.436296,A_ ┆ female:0.87071,mal │\n",
       "│            ┆               ┆         ┆          ┆      ┆ 25_29:0.4893…      ┆ e:0.12929          │\n",
       "│ 1001305614 ┆ M2103K19C     ┆ Android ┆ 江苏     ┆ 苏州 ┆ A_0_24:0.006632,A_ ┆ female:0.0,male:1. │\n",
       "│            ┆               ┆         ┆          ┆      ┆ 25_29:0.0434…      ┆ 0                  │\n",
       "│ …          ┆ …             ┆ …       ┆ …        ┆ …    ┆ …                  ┆ …                  │\n",
       "│ 999798184  ┆ DIG-AL00      ┆ Android ┆ 四川     ┆ 成都 ┆ A_0_24:0.375362,A_ ┆ female:0.950213,ma │\n",
       "│            ┆               ┆         ┆          ┆      ┆ 25_29:0.1892…      ┆ le:0.049787        │\n",
       "│ 999813672  ┆ CoolpadA8-930 ┆ Android ┆ 广东     ┆ 广州 ┆ A_0_24:0.225201,A_ ┆ female:0.298108,ma │\n",
       "│            ┆               ┆         ┆          ┆      ┆ 25_29:0.1697…      ┆ le:0.701892        │\n",
       "│ 999859618  ┆ KNT-AL10      ┆ Android ┆ 河南     ┆ 南阳 ┆ A_0_24:0.838753,A_ ┆ female:0.950213,ma │\n",
       "│            ┆               ┆         ┆          ┆      ┆ 25_29:0.0419…      ┆ le:0.049787        │\n",
       "│ 999873694  ┆ OPPOR9sPlus   ┆ Android ┆ 山东     ┆ 威海 ┆ A_0_24:0.093117,A_ ┆ female:0.103819,ma │\n",
       "│            ┆               ┆         ┆          ┆      ┆ 25_29:0.2800…      ┆ le:0.896181        │\n",
       "│ 999902420  ┆ PADM00        ┆ Android ┆ 天津     ┆ 天津 ┆ A_0_24:0.535522,A_ ┆ female:0.302557,ma │\n",
       "│            ┆               ┆         ┆          ┆      ┆ 25_29:0.1378…      ┆ le:0.697443        │\n",
       "└────────────┴───────────────┴─────────┴──────────┴──────┴────────────────────┴────────────────────┘"
      ]
     },
     "execution_count": 10,
     "metadata": {},
     "output_type": "execute_result"
    }
   ],
   "source": [
    "# 转换回kv键值对处理\n",
    "user_info = user_info.with_columns(\n",
    "    # 处理 gender 字段\n",
    "    pl.when(pl.col(\"gender\").is_not_null())  # 改为浮点数比较\n",
    "    .then(\n",
    "        pl.concat_str(\n",
    "            [\n",
    "                pl.format(\"female:{}\", pl.col(\"gender_female\")),\n",
    "                pl.format(\"male:{}\", pl.col(\"gender_male\"))\n",
    "            ],\n",
    "            separator=\",\"\n",
    "        )\n",
    "    ).alias(\"gender\")\n",
    ").drop([\"gender_female\",\"gender_male\"])\n",
    "user_info"
   ]
  },
  {
   "cell_type": "markdown",
   "metadata": {},
   "source": [
    "#### 4. 保存数据"
   ]
  },
  {
   "cell_type": "code",
   "execution_count": 11,
   "metadata": {},
   "outputs": [],
   "source": [
    "# 填充空缺值为 \"\"，表示未知的那一类\n",
    "user_info = user_info.fill_null(\"\")\n",
    "\n",
    "# 保存数据\n",
    "public_path = \"/data3/zxh/news_rec/public_data\" \n",
    "user_info.write_ipc(f\"{public_path}/user_sparse_feature.ipc\")"
   ]
  }
 ],
 "metadata": {
  "kernelspec": {
   "display_name": "tensorflow",
   "language": "python",
   "name": "python3"
  },
  "language_info": {
   "codemirror_mode": {
    "name": "ipython",
    "version": 3
   },
   "file_extension": ".py",
   "mimetype": "text/x-python",
   "name": "python",
   "nbconvert_exporter": "python",
   "pygments_lexer": "ipython3",
   "version": "3.9.21"
  }
 },
 "nbformat": 4,
 "nbformat_minor": 2
}
