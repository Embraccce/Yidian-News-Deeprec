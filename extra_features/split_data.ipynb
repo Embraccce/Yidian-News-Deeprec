{
 "cells": [
  {
   "cell_type": "code",
   "execution_count": 8,
   "metadata": {},
   "outputs": [],
   "source": [
    "import polars as pl\n",
    "import pandas as pd"
   ]
  },
  {
   "cell_type": "markdown",
   "metadata": {},
   "source": [
    "### 1. 读取数据"
   ]
  },
  {
   "cell_type": "code",
   "execution_count": 9,
   "metadata": {},
   "outputs": [],
   "source": [
    "data_path = \"/data3/zxh/news_rec/raw_data\""
   ]
  },
  {
   "cell_type": "code",
   "execution_count": null,
   "metadata": {},
   "outputs": [],
   "source": [
    "# 会发现数据中duration存在-1和619315213这个异常值\n",
    "train_data = pl.read_ipc(f\"{data_path}/train_data.arrow\")\n",
    "train_data.describe()"
   ]
  },
  {
   "cell_type": "code",
   "execution_count": null,
   "metadata": {},
   "outputs": [],
   "source": [
    "user_info = pl.read_ipc(f\"{data_path}/user_info.arrow\")\n",
    "user_info"
   ]
  },
  {
   "cell_type": "markdown",
   "metadata": {},
   "source": [
    "### 2 整理数据"
   ]
  },
  {
   "cell_type": "markdown",
   "metadata": {},
   "source": [
    "#### 2.1 数据去重"
   ]
  },
  {
   "cell_type": "code",
   "execution_count": 30,
   "metadata": {},
   "outputs": [
    {
     "data": {
      "text/plain": [
       "189766756"
      ]
     },
     "execution_count": 30,
     "metadata": {},
     "output_type": "execute_result"
    }
   ],
   "source": [
    "# 总共189_766_959条数据，查看是否存在数据重复的情况\n",
    "train_data.n_unique()"
   ]
  },
  {
   "cell_type": "code",
   "execution_count": 31,
   "metadata": {},
   "outputs": [
    {
     "data": {
      "text/html": [
       "<div><style>\n",
       ".dataframe > thead > tr,\n",
       ".dataframe > tbody > tr {\n",
       "  text-align: right;\n",
       "  white-space: pre-wrap;\n",
       "}\n",
       "</style>\n",
       "<small>shape: (0, 8)</small><table border=\"1\" class=\"dataframe\"><thead><tr><th>user_id</th><th>article_id</th><th>expose_time</th><th>network_env</th><th>refresh_count</th><th>expose_pos</th><th>is_clicked</th><th>duration</th></tr><tr><td>i64</td><td>i64</td><td>i64</td><td>i64</td><td>i64</td><td>i64</td><td>i64</td><td>i64</td></tr></thead><tbody></tbody></table></div>"
      ],
      "text/plain": [
       "shape: (0, 8)\n",
       "┌─────────┬────────────┬────────────┬────────────┬────────────┬────────────┬────────────┬──────────┐\n",
       "│ user_id ┆ article_id ┆ expose_tim ┆ network_en ┆ refresh_co ┆ expose_pos ┆ is_clicked ┆ duration │\n",
       "│ ---     ┆ ---        ┆ e          ┆ v          ┆ unt        ┆ ---        ┆ ---        ┆ ---      │\n",
       "│ i64     ┆ i64        ┆ ---        ┆ ---        ┆ ---        ┆ i64        ┆ i64        ┆ i64      │\n",
       "│         ┆            ┆ i64        ┆ i64        ┆ i64        ┆            ┆            ┆          │\n",
       "╞═════════╪════════════╪════════════╪════════════╪════════════╪════════════╪════════════╪══════════╡\n",
       "└─────────┴────────────┴────────────┴────────────┴────────────┴────────────┴────────────┴──────────┘"
      ]
     },
     "execution_count": 31,
     "metadata": {},
     "output_type": "execute_result"
    }
   ],
   "source": [
    "# 检查是否存在两条数据消费时长相同的情况，否则直接去重会导致消费时长不准确\n",
    "duplicate_rows = train_data.filter(\n",
    "    pl.struct([\n",
    "        \"user_id\", \"article_id\", \"expose_time\", \"network_env\", \n",
    "        \"refresh_count\", \"expose_pos\", \"is_clicked\", \"duration\"\n",
    "    ]).is_duplicated()\n",
    ")\n",
    "duplicate_rows.filter(pl.col(\"is_clicked\") == 1)"
   ]
  },
  {
   "cell_type": "code",
   "execution_count": 32,
   "metadata": {},
   "outputs": [
    {
     "data": {
      "text/html": [
       "<div><style>\n",
       ".dataframe > thead > tr,\n",
       ".dataframe > tbody > tr {\n",
       "  text-align: right;\n",
       "  white-space: pre-wrap;\n",
       "}\n",
       "</style>\n",
       "<small>shape: (189_766_756, 8)</small><table border=\"1\" class=\"dataframe\"><thead><tr><th>user_id</th><th>article_id</th><th>expose_time</th><th>network_env</th><th>refresh_count</th><th>expose_pos</th><th>is_clicked</th><th>duration</th></tr><tr><td>i64</td><td>i64</td><td>i64</td><td>i64</td><td>i64</td><td>i64</td><td>i64</td><td>i64</td></tr></thead><tbody><tr><td>1502953860</td><td>462807710</td><td>1624713896530</td><td>5</td><td>4</td><td>17</td><td>1</td><td>59</td></tr><tr><td>1518941836</td><td>462480108</td><td>1624574038941</td><td>2</td><td>5</td><td>64</td><td>1</td><td>599</td></tr><tr><td>1351060716</td><td>465142813</td><td>1625187191601</td><td>2</td><td>2</td><td>29</td><td>1</td><td>161</td></tr><tr><td>1653561010</td><td>465959015</td><td>1625449784058</td><td>5</td><td>2</td><td>22</td><td>0</td><td>0</td></tr><tr><td>2220799818</td><td>465227930</td><td>1625293593524</td><td>5</td><td>27</td><td>271</td><td>0</td><td>0</td></tr><tr><td>&hellip;</td><td>&hellip;</td><td>&hellip;</td><td>&hellip;</td><td>&hellip;</td><td>&hellip;</td><td>&hellip;</td><td>&hellip;</td></tr><tr><td>1453195762</td><td>463582153</td><td>1624730246407</td><td>5</td><td>2</td><td>25</td><td>1</td><td>91</td></tr><tr><td>2216899802</td><td>464156892</td><td>1624956251496</td><td>5</td><td>8</td><td>9</td><td>0</td><td>0</td></tr><tr><td>1388193826</td><td>463864732</td><td>1624846543877</td><td>5</td><td>2</td><td>25</td><td>0</td><td>0</td></tr><tr><td>2423197168</td><td>464411689</td><td>1624956533730</td><td>2</td><td>0</td><td>16</td><td>1</td><td>29</td></tr><tr><td>1223485970</td><td>463482481</td><td>1624766883995</td><td>5</td><td>3</td><td>19</td><td>0</td><td>0</td></tr></tbody></table></div>"
      ],
      "text/plain": [
       "shape: (189_766_756, 8)\n",
       "┌────────────┬────────────┬────────────┬────────────┬───────────┬───────────┬───────────┬──────────┐\n",
       "│ user_id    ┆ article_id ┆ expose_tim ┆ network_en ┆ refresh_c ┆ expose_po ┆ is_clicke ┆ duration │\n",
       "│ ---        ┆ ---        ┆ e          ┆ v          ┆ ount      ┆ s         ┆ d         ┆ ---      │\n",
       "│ i64        ┆ i64        ┆ ---        ┆ ---        ┆ ---       ┆ ---       ┆ ---       ┆ i64      │\n",
       "│            ┆            ┆ i64        ┆ i64        ┆ i64       ┆ i64       ┆ i64       ┆          │\n",
       "╞════════════╪════════════╪════════════╪════════════╪═══════════╪═══════════╪═══════════╪══════════╡\n",
       "│ 1502953860 ┆ 462807710  ┆ 1624713896 ┆ 5          ┆ 4         ┆ 17        ┆ 1         ┆ 59       │\n",
       "│            ┆            ┆ 530        ┆            ┆           ┆           ┆           ┆          │\n",
       "│ 1518941836 ┆ 462480108  ┆ 1624574038 ┆ 2          ┆ 5         ┆ 64        ┆ 1         ┆ 599      │\n",
       "│            ┆            ┆ 941        ┆            ┆           ┆           ┆           ┆          │\n",
       "│ 1351060716 ┆ 465142813  ┆ 1625187191 ┆ 2          ┆ 2         ┆ 29        ┆ 1         ┆ 161      │\n",
       "│            ┆            ┆ 601        ┆            ┆           ┆           ┆           ┆          │\n",
       "│ 1653561010 ┆ 465959015  ┆ 1625449784 ┆ 5          ┆ 2         ┆ 22        ┆ 0         ┆ 0        │\n",
       "│            ┆            ┆ 058        ┆            ┆           ┆           ┆           ┆          │\n",
       "│ 2220799818 ┆ 465227930  ┆ 1625293593 ┆ 5          ┆ 27        ┆ 271       ┆ 0         ┆ 0        │\n",
       "│            ┆            ┆ 524        ┆            ┆           ┆           ┆           ┆          │\n",
       "│ …          ┆ …          ┆ …          ┆ …          ┆ …         ┆ …         ┆ …         ┆ …        │\n",
       "│ 1453195762 ┆ 463582153  ┆ 1624730246 ┆ 5          ┆ 2         ┆ 25        ┆ 1         ┆ 91       │\n",
       "│            ┆            ┆ 407        ┆            ┆           ┆           ┆           ┆          │\n",
       "│ 2216899802 ┆ 464156892  ┆ 1624956251 ┆ 5          ┆ 8         ┆ 9         ┆ 0         ┆ 0        │\n",
       "│            ┆            ┆ 496        ┆            ┆           ┆           ┆           ┆          │\n",
       "│ 1388193826 ┆ 463864732  ┆ 1624846543 ┆ 5          ┆ 2         ┆ 25        ┆ 0         ┆ 0        │\n",
       "│            ┆            ┆ 877        ┆            ┆           ┆           ┆           ┆          │\n",
       "│ 2423197168 ┆ 464411689  ┆ 1624956533 ┆ 2          ┆ 0         ┆ 16        ┆ 1         ┆ 29       │\n",
       "│            ┆            ┆ 730        ┆            ┆           ┆           ┆           ┆          │\n",
       "│ 1223485970 ┆ 463482481  ┆ 1624766883 ┆ 5          ┆ 3         ┆ 19        ┆ 0         ┆ 0        │\n",
       "│            ┆            ┆ 995        ┆            ┆           ┆           ┆           ┆          │\n",
       "└────────────┴────────────┴────────────┴────────────┴───────────┴───────────┴───────────┴──────────┘"
      ]
     },
     "execution_count": 32,
     "metadata": {},
     "output_type": "execute_result"
    }
   ],
   "source": [
    "# 可以发现不存在这样的情况，全部重复的都是未点击的数据，可以放心去重\n",
    "train_data = train_data.unique()\n",
    "train_data"
   ]
  },
  {
   "cell_type": "markdown",
   "metadata": {},
   "source": [
    "#### 2.2 处理异常值"
   ]
  },
  {
   "cell_type": "code",
   "execution_count": 33,
   "metadata": {},
   "outputs": [
    {
     "data": {
      "text/html": [
       "<div><style>\n",
       ".dataframe > thead > tr,\n",
       ".dataframe > tbody > tr {\n",
       "  text-align: right;\n",
       "  white-space: pre-wrap;\n",
       "}\n",
       "</style>\n",
       "<small>shape: (9, 9)</small><table border=\"1\" class=\"dataframe\"><thead><tr><th>statistic</th><th>user_id</th><th>article_id</th><th>expose_time</th><th>network_env</th><th>refresh_count</th><th>expose_pos</th><th>is_clicked</th><th>duration</th></tr><tr><td>str</td><td>f64</td><td>f64</td><td>f64</td><td>f64</td><td>f64</td><td>f64</td><td>f64</td><td>f64</td></tr></thead><tbody><tr><td>&quot;count&quot;</td><td>1.89766756e8</td><td>1.89766756e8</td><td>1.89766756e8</td><td>1.89766756e8</td><td>1.89766756e8</td><td>1.89766756e8</td><td>1.89766756e8</td><td>1.8967426e8</td></tr><tr><td>&quot;null_count&quot;</td><td>0.0</td><td>0.0</td><td>0.0</td><td>0.0</td><td>0.0</td><td>0.0</td><td>0.0</td><td>92496.0</td></tr><tr><td>&quot;mean&quot;</td><td>1.8993e9</td><td>4.6449e8</td><td>1.6251e12</td><td>3.080074</td><td>8.920252</td><td>52.756055</td><td>0.142765</td><td>24.60584</td></tr><tr><td>&quot;std&quot;</td><td>5.5349e8</td><td>1.2495e6</td><td>2.9934e8</td><td>1.437007</td><td>15.020521</td><td>63.843679</td><td>0.349833</td><td>44968.480428</td></tr><tr><td>&quot;min&quot;</td><td>17340.0</td><td>3.25279629e8</td><td>1.6245e12</td><td>2.0</td><td>0.0</td><td>0.0</td><td>0.0</td><td>0.0</td></tr><tr><td>&quot;25%&quot;</td><td>1.4664e9</td><td>4.63502507e8</td><td>1.6248e12</td><td>2.0</td><td>2.0</td><td>17.0</td><td>0.0</td><td>0.0</td></tr><tr><td>&quot;50%&quot;</td><td>2.2081e9</td><td>4.64511782e8</td><td>1.6251e12</td><td>2.0</td><td>4.0</td><td>32.0</td><td>0.0</td><td>0.0</td></tr><tr><td>&quot;75%&quot;</td><td>2.3976e9</td><td>4.65520008e8</td><td>1.6253e12</td><td>5.0</td><td>10.0</td><td>64.0</td><td>0.0</td><td>0.0</td></tr><tr><td>&quot;max&quot;</td><td>2.4473e9</td><td>4.66910675e8</td><td>1.6256e12</td><td>5.0</td><td>650.0</td><td>2698.0</td><td>1.0</td><td>6.19315213e8</td></tr></tbody></table></div>"
      ],
      "text/plain": [
       "shape: (9, 9)\n",
       "┌───────────┬───────────┬───────────┬───────────┬───┬───────────┬───────────┬───────────┬──────────┐\n",
       "│ statistic ┆ user_id   ┆ article_i ┆ expose_ti ┆ … ┆ refresh_c ┆ expose_po ┆ is_clicke ┆ duration │\n",
       "│ ---       ┆ ---       ┆ d         ┆ me        ┆   ┆ ount      ┆ s         ┆ d         ┆ ---      │\n",
       "│ str       ┆ f64       ┆ ---       ┆ ---       ┆   ┆ ---       ┆ ---       ┆ ---       ┆ f64      │\n",
       "│           ┆           ┆ f64       ┆ f64       ┆   ┆ f64       ┆ f64       ┆ f64       ┆          │\n",
       "╞═══════════╪═══════════╪═══════════╪═══════════╪═══╪═══════════╪═══════════╪═══════════╪══════════╡\n",
       "│ count     ┆ 1.8976675 ┆ 1.8976675 ┆ 1.8976675 ┆ … ┆ 1.8976675 ┆ 1.8976675 ┆ 1.8976675 ┆ 1.896742 │\n",
       "│           ┆ 6e8       ┆ 6e8       ┆ 6e8       ┆   ┆ 6e8       ┆ 6e8       ┆ 6e8       ┆ 6e8      │\n",
       "│ null_coun ┆ 0.0       ┆ 0.0       ┆ 0.0       ┆ … ┆ 0.0       ┆ 0.0       ┆ 0.0       ┆ 92496.0  │\n",
       "│ t         ┆           ┆           ┆           ┆   ┆           ┆           ┆           ┆          │\n",
       "│ mean      ┆ 1.8993e9  ┆ 4.6449e8  ┆ 1.6251e12 ┆ … ┆ 8.920252  ┆ 52.756055 ┆ 0.142765  ┆ 24.60584 │\n",
       "│ std       ┆ 5.5349e8  ┆ 1.2495e6  ┆ 2.9934e8  ┆ … ┆ 15.020521 ┆ 63.843679 ┆ 0.349833  ┆ 44968.48 │\n",
       "│           ┆           ┆           ┆           ┆   ┆           ┆           ┆           ┆ 0428     │\n",
       "│ min       ┆ 17340.0   ┆ 3.2527962 ┆ 1.6245e12 ┆ … ┆ 0.0       ┆ 0.0       ┆ 0.0       ┆ 0.0      │\n",
       "│           ┆           ┆ 9e8       ┆           ┆   ┆           ┆           ┆           ┆          │\n",
       "│ 25%       ┆ 1.4664e9  ┆ 4.6350250 ┆ 1.6248e12 ┆ … ┆ 2.0       ┆ 17.0      ┆ 0.0       ┆ 0.0      │\n",
       "│           ┆           ┆ 7e8       ┆           ┆   ┆           ┆           ┆           ┆          │\n",
       "│ 50%       ┆ 2.2081e9  ┆ 4.6451178 ┆ 1.6251e12 ┆ … ┆ 4.0       ┆ 32.0      ┆ 0.0       ┆ 0.0      │\n",
       "│           ┆           ┆ 2e8       ┆           ┆   ┆           ┆           ┆           ┆          │\n",
       "│ 75%       ┆ 2.3976e9  ┆ 4.6552000 ┆ 1.6253e12 ┆ … ┆ 10.0      ┆ 64.0      ┆ 0.0       ┆ 0.0      │\n",
       "│           ┆           ┆ 8e8       ┆           ┆   ┆           ┆           ┆           ┆          │\n",
       "│ max       ┆ 2.4473e9  ┆ 4.6691067 ┆ 1.6256e12 ┆ … ┆ 650.0     ┆ 2698.0    ┆ 1.0       ┆ 6.193152 │\n",
       "│           ┆           ┆ 5e8       ┆           ┆   ┆           ┆           ┆           ┆ 13e8     │\n",
       "└───────────┴───────────┴───────────┴───────────┴───┴───────────┴───────────┴───────────┴──────────┘"
      ]
     },
     "execution_count": 33,
     "metadata": {},
     "output_type": "execute_result"
    }
   ],
   "source": [
    "# 将is_clicked为0，但是duration为-1的数据置为0，剩下duration为-1的数据都是交互过的数据，先置null，后面再用均值慢慢填\n",
    "train_data = train_data.with_columns(\n",
    "    pl.when((pl.col(\"is_clicked\") == 0) & (pl.col(\"duration\") == -1))\n",
    "    .then(0)\n",
    "    .otherwise(pl.col(\"duration\"))\n",
    "    .alias(\"duration\")\n",
    ").with_columns(\n",
    "    pl.when(pl.col(\"duration\") == -1)\n",
    "    .then(None)  # 把 -1 变成 NULL\n",
    "    .otherwise(pl.col(\"duration\"))\n",
    "    .alias(\"duration\")\n",
    ")\n",
    "train_data.describe()"
   ]
  },
  {
   "cell_type": "code",
   "execution_count": 34,
   "metadata": {},
   "outputs": [],
   "source": [
    "# 将 null 的行和非 null 的行拆分\n",
    "null_duration_df = train_data.filter(pl.col(\"duration\").is_null())\n",
    "non_null_duration_df = train_data.filter(pl.col(\"duration\").is_not_null())"
   ]
  },
  {
   "cell_type": "markdown",
   "metadata": {},
   "source": [
    "#### 2.3 处理重复消费的数据"
   ]
  },
  {
   "cell_type": "code",
   "execution_count": 35,
   "metadata": {},
   "outputs": [
    {
     "data": {
      "text/html": [
       "<div><style>\n",
       ".dataframe > thead > tr,\n",
       ".dataframe > tbody > tr {\n",
       "  text-align: right;\n",
       "  white-space: pre-wrap;\n",
       "}\n",
       "</style>\n",
       "<small>shape: (9, 9)</small><table border=\"1\" class=\"dataframe\"><thead><tr><th>statistic</th><th>user_id</th><th>article_id</th><th>expose_time</th><th>network_env</th><th>refresh_count</th><th>expose_pos</th><th>is_clicked</th><th>duration</th></tr><tr><td>str</td><td>f64</td><td>f64</td><td>f64</td><td>f64</td><td>f64</td><td>f64</td><td>f64</td><td>f64</td></tr></thead><tbody><tr><td>&quot;count&quot;</td><td>1.8925703e8</td><td>1.8925703e8</td><td>1.8925703e8</td><td>1.8925703e8</td><td>1.8925703e8</td><td>1.8925703e8</td><td>1.8925703e8</td><td>1.8925703e8</td></tr><tr><td>&quot;null_count&quot;</td><td>0.0</td><td>0.0</td><td>0.0</td><td>0.0</td><td>0.0</td><td>0.0</td><td>0.0</td><td>0.0</td></tr><tr><td>&quot;mean&quot;</td><td>1.8993e9</td><td>4.6449e8</td><td>1.6251e12</td><td>3.079896</td><td>8.930465</td><td>52.803684</td><td>0.140456</td><td>24.660085</td></tr><tr><td>&quot;std&quot;</td><td>5.5346e8</td><td>1.2496e6</td><td>2.9933e8</td><td>1.436956</td><td>15.027445</td><td>63.836005</td><td>0.347459</td><td>45018.023684</td></tr><tr><td>&quot;min&quot;</td><td>17340.0</td><td>3.25279629e8</td><td>1.6245e12</td><td>2.0</td><td>0.0</td><td>0.0</td><td>0.0</td><td>0.0</td></tr><tr><td>&quot;25%&quot;</td><td>1.4664e9</td><td>4.63502507e8</td><td>1.6248e12</td><td>2.0</td><td>2.0</td><td>17.0</td><td>0.0</td><td>0.0</td></tr><tr><td>&quot;50%&quot;</td><td>2.2081e9</td><td>4.64511782e8</td><td>1.6251e12</td><td>2.0</td><td>4.0</td><td>32.0</td><td>0.0</td><td>0.0</td></tr><tr><td>&quot;75%&quot;</td><td>2.3976e9</td><td>4.65520008e8</td><td>1.6253e12</td><td>5.0</td><td>11.0</td><td>64.0</td><td>0.0</td><td>0.0</td></tr><tr><td>&quot;max&quot;</td><td>2.4473e9</td><td>4.66910675e8</td><td>1.6256e12</td><td>5.0</td><td>650.0</td><td>2698.0</td><td>1.0</td><td>6.19315213e8</td></tr></tbody></table></div>"
      ],
      "text/plain": [
       "shape: (9, 9)\n",
       "┌───────────┬───────────┬───────────┬───────────┬───┬───────────┬───────────┬───────────┬──────────┐\n",
       "│ statistic ┆ user_id   ┆ article_i ┆ expose_ti ┆ … ┆ refresh_c ┆ expose_po ┆ is_clicke ┆ duration │\n",
       "│ ---       ┆ ---       ┆ d         ┆ me        ┆   ┆ ount      ┆ s         ┆ d         ┆ ---      │\n",
       "│ str       ┆ f64       ┆ ---       ┆ ---       ┆   ┆ ---       ┆ ---       ┆ ---       ┆ f64      │\n",
       "│           ┆           ┆ f64       ┆ f64       ┆   ┆ f64       ┆ f64       ┆ f64       ┆          │\n",
       "╞═══════════╪═══════════╪═══════════╪═══════════╪═══╪═══════════╪═══════════╪═══════════╪══════════╡\n",
       "│ count     ┆ 1.8925703 ┆ 1.8925703 ┆ 1.8925703 ┆ … ┆ 1.8925703 ┆ 1.8925703 ┆ 1.8925703 ┆ 1.892570 │\n",
       "│           ┆ e8        ┆ e8        ┆ e8        ┆   ┆ e8        ┆ e8        ┆ e8        ┆ 3e8      │\n",
       "│ null_coun ┆ 0.0       ┆ 0.0       ┆ 0.0       ┆ … ┆ 0.0       ┆ 0.0       ┆ 0.0       ┆ 0.0      │\n",
       "│ t         ┆           ┆           ┆           ┆   ┆           ┆           ┆           ┆          │\n",
       "│ mean      ┆ 1.8993e9  ┆ 4.6449e8  ┆ 1.6251e12 ┆ … ┆ 8.930465  ┆ 52.803684 ┆ 0.140456  ┆ 24.66008 │\n",
       "│           ┆           ┆           ┆           ┆   ┆           ┆           ┆           ┆ 5        │\n",
       "│ std       ┆ 5.5346e8  ┆ 1.2496e6  ┆ 2.9933e8  ┆ … ┆ 15.027445 ┆ 63.836005 ┆ 0.347459  ┆ 45018.02 │\n",
       "│           ┆           ┆           ┆           ┆   ┆           ┆           ┆           ┆ 3684     │\n",
       "│ min       ┆ 17340.0   ┆ 3.2527962 ┆ 1.6245e12 ┆ … ┆ 0.0       ┆ 0.0       ┆ 0.0       ┆ 0.0      │\n",
       "│           ┆           ┆ 9e8       ┆           ┆   ┆           ┆           ┆           ┆          │\n",
       "│ 25%       ┆ 1.4664e9  ┆ 4.6350250 ┆ 1.6248e12 ┆ … ┆ 2.0       ┆ 17.0      ┆ 0.0       ┆ 0.0      │\n",
       "│           ┆           ┆ 7e8       ┆           ┆   ┆           ┆           ┆           ┆          │\n",
       "│ 50%       ┆ 2.2081e9  ┆ 4.6451178 ┆ 1.6251e12 ┆ … ┆ 4.0       ┆ 32.0      ┆ 0.0       ┆ 0.0      │\n",
       "│           ┆           ┆ 2e8       ┆           ┆   ┆           ┆           ┆           ┆          │\n",
       "│ 75%       ┆ 2.3976e9  ┆ 4.6552000 ┆ 1.6253e12 ┆ … ┆ 11.0      ┆ 64.0      ┆ 0.0       ┆ 0.0      │\n",
       "│           ┆           ┆ 8e8       ┆           ┆   ┆           ┆           ┆           ┆          │\n",
       "│ max       ┆ 2.4473e9  ┆ 4.6691067 ┆ 1.6256e12 ┆ … ┆ 650.0     ┆ 2698.0    ┆ 1.0       ┆ 6.193152 │\n",
       "│           ┆           ┆ 5e8       ┆           ┆   ┆           ┆           ┆           ┆ 13e8     │\n",
       "└───────────┴───────────┴───────────┴───────────┴───┴───────────┴───────────┴───────────┴──────────┘"
      ]
     },
     "execution_count": 35,
     "metadata": {},
     "output_type": "execute_result"
    }
   ],
   "source": [
    "#（存在一次曝光，重复消费的情况，可以认为duation是这些时长的加和，null已经被排除在外，同时619315213异常值也没重复，所以可以放心地加和）\n",
    "non_null_duration_df = non_null_duration_df.group_by([\n",
    "    \"user_id\", \"article_id\", \"expose_time\", \"network_env\", \n",
    "    \"refresh_count\", \"expose_pos\", \"is_clicked\"\n",
    "]).agg(\n",
    "    pl.when(pl.col(\"is_clicked\") == 1)  # 只计算有效时长\n",
    "    .then(pl.col(\"duration\"))\n",
    "    .otherwise(0)  # 其他情况，duration 视为 0\n",
    "    .sum()\n",
    "    .alias(\"duration\")\n",
    ")\n",
    "non_null_duration_df.describe()"
   ]
  },
  {
   "cell_type": "code",
   "execution_count": 36,
   "metadata": {},
   "outputs": [
    {
     "data": {
      "text/html": [
       "<div><style>\n",
       ".dataframe > thead > tr,\n",
       ".dataframe > tbody > tr {\n",
       "  text-align: right;\n",
       "  white-space: pre-wrap;\n",
       "}\n",
       "</style>\n",
       "<small>shape: (189_349_526, 8)</small><table border=\"1\" class=\"dataframe\"><thead><tr><th>user_id</th><th>article_id</th><th>expose_time</th><th>network_env</th><th>refresh_count</th><th>expose_pos</th><th>is_clicked</th><th>duration</th></tr><tr><td>i64</td><td>i64</td><td>i64</td><td>i64</td><td>i64</td><td>i64</td><td>i64</td><td>i64</td></tr></thead><tbody><tr><td>2423808534</td><td>466366964</td><td>1625540396046</td><td>2</td><td>15</td><td>34</td><td>0</td><td>0</td></tr><tr><td>1488774712</td><td>464474656</td><td>1625067658260</td><td>2</td><td>6</td><td>65</td><td>0</td><td>0</td></tr><tr><td>2227847624</td><td>465832824</td><td>1625401643135</td><td>2</td><td>0</td><td>14</td><td>1</td><td>122</td></tr><tr><td>1357077312</td><td>462976168</td><td>1624661743375</td><td>2</td><td>1</td><td>14</td><td>0</td><td>0</td></tr><tr><td>1300963958</td><td>465515438</td><td>1625471821231</td><td>2</td><td>6</td><td>19</td><td>0</td><td>0</td></tr><tr><td>&hellip;</td><td>&hellip;</td><td>&hellip;</td><td>&hellip;</td><td>&hellip;</td><td>&hellip;</td><td>&hellip;</td><td>&hellip;</td></tr><tr><td>2228581228</td><td>463527762</td><td>1624754405902</td><td>2</td><td>3</td><td>18</td><td>1</td><td>null</td></tr><tr><td>1375903970</td><td>465700145</td><td>1625384846349</td><td>5</td><td>28</td><td>285</td><td>1</td><td>null</td></tr><tr><td>253737602</td><td>465852130</td><td>1625402521939</td><td>2</td><td>32</td><td>327</td><td>1</td><td>null</td></tr><tr><td>520274310</td><td>464409807</td><td>1625044368386</td><td>5</td><td>2</td><td>30</td><td>1</td><td>null</td></tr><tr><td>2215468968</td><td>465953207</td><td>1625466073893</td><td>2</td><td>2</td><td>31</td><td>1</td><td>null</td></tr></tbody></table></div>"
      ],
      "text/plain": [
       "shape: (189_349_526, 8)\n",
       "┌────────────┬────────────┬────────────┬────────────┬───────────┬───────────┬───────────┬──────────┐\n",
       "│ user_id    ┆ article_id ┆ expose_tim ┆ network_en ┆ refresh_c ┆ expose_po ┆ is_clicke ┆ duration │\n",
       "│ ---        ┆ ---        ┆ e          ┆ v          ┆ ount      ┆ s         ┆ d         ┆ ---      │\n",
       "│ i64        ┆ i64        ┆ ---        ┆ ---        ┆ ---       ┆ ---       ┆ ---       ┆ i64      │\n",
       "│            ┆            ┆ i64        ┆ i64        ┆ i64       ┆ i64       ┆ i64       ┆          │\n",
       "╞════════════╪════════════╪════════════╪════════════╪═══════════╪═══════════╪═══════════╪══════════╡\n",
       "│ 2423808534 ┆ 466366964  ┆ 1625540396 ┆ 2          ┆ 15        ┆ 34        ┆ 0         ┆ 0        │\n",
       "│            ┆            ┆ 046        ┆            ┆           ┆           ┆           ┆          │\n",
       "│ 1488774712 ┆ 464474656  ┆ 1625067658 ┆ 2          ┆ 6         ┆ 65        ┆ 0         ┆ 0        │\n",
       "│            ┆            ┆ 260        ┆            ┆           ┆           ┆           ┆          │\n",
       "│ 2227847624 ┆ 465832824  ┆ 1625401643 ┆ 2          ┆ 0         ┆ 14        ┆ 1         ┆ 122      │\n",
       "│            ┆            ┆ 135        ┆            ┆           ┆           ┆           ┆          │\n",
       "│ 1357077312 ┆ 462976168  ┆ 1624661743 ┆ 2          ┆ 1         ┆ 14        ┆ 0         ┆ 0        │\n",
       "│            ┆            ┆ 375        ┆            ┆           ┆           ┆           ┆          │\n",
       "│ 1300963958 ┆ 465515438  ┆ 1625471821 ┆ 2          ┆ 6         ┆ 19        ┆ 0         ┆ 0        │\n",
       "│            ┆            ┆ 231        ┆            ┆           ┆           ┆           ┆          │\n",
       "│ …          ┆ …          ┆ …          ┆ …          ┆ …         ┆ …         ┆ …         ┆ …        │\n",
       "│ 2228581228 ┆ 463527762  ┆ 1624754405 ┆ 2          ┆ 3         ┆ 18        ┆ 1         ┆ null     │\n",
       "│            ┆            ┆ 902        ┆            ┆           ┆           ┆           ┆          │\n",
       "│ 1375903970 ┆ 465700145  ┆ 1625384846 ┆ 5          ┆ 28        ┆ 285       ┆ 1         ┆ null     │\n",
       "│            ┆            ┆ 349        ┆            ┆           ┆           ┆           ┆          │\n",
       "│ 253737602  ┆ 465852130  ┆ 1625402521 ┆ 2          ┆ 32        ┆ 327       ┆ 1         ┆ null     │\n",
       "│            ┆            ┆ 939        ┆            ┆           ┆           ┆           ┆          │\n",
       "│ 520274310  ┆ 464409807  ┆ 1625044368 ┆ 5          ┆ 2         ┆ 30        ┆ 1         ┆ null     │\n",
       "│            ┆            ┆ 386        ┆            ┆           ┆           ┆           ┆          │\n",
       "│ 2215468968 ┆ 465953207  ┆ 1625466073 ┆ 2          ┆ 2         ┆ 31        ┆ 1         ┆ null     │\n",
       "│            ┆            ┆ 893        ┆            ┆           ┆           ┆           ┆          │\n",
       "└────────────┴────────────┴────────────┴────────────┴───────────┴───────────┴───────────┴──────────┘"
      ]
     },
     "execution_count": 36,
     "metadata": {},
     "output_type": "execute_result"
    }
   ],
   "source": [
    "# 把聚合过程中丢失的NULL行拼接回去\n",
    "train_data = pl.concat([non_null_duration_df, null_duration_df], how=\"vertical\")\n",
    "train_data"
   ]
  },
  {
   "cell_type": "markdown",
   "metadata": {},
   "source": [
    "#### 2.4 收起来"
   ]
  },
  {
   "cell_type": "code",
   "execution_count": 12,
   "metadata": {},
   "outputs": [
    {
     "name": "stderr",
     "output_type": "stream",
     "text": [
      "<ipython-input-12-25d24651e81b>:4: DeprecationWarning: `pl.count()` is deprecated. Please use `pl.len()` instead.\n",
      "  ]).agg(pl.count().alias(\"count\")).filter(pl.col(\"count\") >= 3)\n"
     ]
    },
    {
     "data": {
      "text/html": [
       "<div><style>\n",
       ".dataframe > thead > tr,\n",
       ".dataframe > tbody > tr {\n",
       "  text-align: right;\n",
       "  white-space: pre-wrap;\n",
       "}\n",
       "</style>\n",
       "<small>shape: (0, 8)</small><table border=\"1\" class=\"dataframe\"><thead><tr><th>user_id</th><th>article_id</th><th>expose_time</th><th>network_env</th><th>refresh_count</th><th>expose_pos</th><th>is_clicked</th><th>duration</th></tr><tr><td>i64</td><td>i64</td><td>i64</td><td>i64</td><td>i64</td><td>i64</td><td>i64</td><td>i64</td></tr></thead><tbody></tbody></table></div>"
      ],
      "text/plain": [
       "shape: (0, 8)\n",
       "┌─────────┬────────────┬────────────┬────────────┬────────────┬────────────┬────────────┬──────────┐\n",
       "│ user_id ┆ article_id ┆ expose_tim ┆ network_en ┆ refresh_co ┆ expose_pos ┆ is_clicked ┆ duration │\n",
       "│ ---     ┆ ---        ┆ e          ┆ v          ┆ unt        ┆ ---        ┆ ---        ┆ ---      │\n",
       "│ i64     ┆ i64        ┆ ---        ┆ ---        ┆ ---        ┆ i64        ┆ i64        ┆ i64      │\n",
       "│         ┆            ┆ i64        ┆ i64        ┆ i64        ┆            ┆            ┆          │\n",
       "╞═════════╪════════════╪════════════╪════════════╪════════════╪════════════╪════════════╪══════════╡\n",
       "└─────────┴────────────┴────────────┴────────────┴────────────┴────────────┴────────────┴──────────┘"
      ]
     },
     "execution_count": 12,
     "metadata": {},
     "output_type": "execute_result"
    }
   ],
   "source": [
    "repeat_keys = train_data.group_by([\n",
    "    \"user_id\", \"article_id\", \"expose_time\", \"network_env\", \n",
    "    \"refresh_count\", \"expose_pos\", \"is_clicked\"\n",
    "]).agg(pl.count().alias(\"count\")).filter(pl.col(\"count\") >= 3)\n",
    "\n",
    "# 关联原数据，提取所有满足条件的完整行\n",
    "repeat_data = train_data.join(\n",
    "    repeat_keys.drop(\"count\"),  # 只保留分组字段用于匹配\n",
    "    on=[\"user_id\", \"article_id\", \"expose_time\", \"network_env\", \"refresh_count\", \"expose_pos\", \"is_clicked\"],\n",
    "    how=\"inner\"\n",
    ")\n",
    "\n",
    "repeat_data"
   ]
  },
  {
   "cell_type": "code",
   "execution_count": 13,
   "metadata": {},
   "outputs": [
    {
     "data": {
      "text/html": [
       "<div><style>\n",
       ".dataframe > thead > tr,\n",
       ".dataframe > tbody > tr {\n",
       "  text-align: right;\n",
       "  white-space: pre-wrap;\n",
       "}\n",
       "</style>\n",
       "<small>shape: (2, 8)</small><table border=\"1\" class=\"dataframe\"><thead><tr><th>user_id</th><th>article_id</th><th>expose_time</th><th>network_env</th><th>refresh_count</th><th>expose_pos</th><th>is_clicked</th><th>duration</th></tr><tr><td>i64</td><td>i64</td><td>i64</td><td>i64</td><td>i64</td><td>i64</td><td>i64</td><td>i64</td></tr></thead><tbody><tr><td>1435686090</td><td>465325845</td><td>1625255569591</td><td>2</td><td>5</td><td>61</td><td>1</td><td>683</td></tr><tr><td>1435686090</td><td>465325845</td><td>1625255569591</td><td>2</td><td>5</td><td>61</td><td>1</td><td>null</td></tr></tbody></table></div>"
      ],
      "text/plain": [
       "shape: (2, 8)\n",
       "┌────────────┬────────────┬────────────┬────────────┬───────────┬───────────┬───────────┬──────────┐\n",
       "│ user_id    ┆ article_id ┆ expose_tim ┆ network_en ┆ refresh_c ┆ expose_po ┆ is_clicke ┆ duration │\n",
       "│ ---        ┆ ---        ┆ e          ┆ v          ┆ ount      ┆ s         ┆ d         ┆ ---      │\n",
       "│ i64        ┆ i64        ┆ ---        ┆ ---        ┆ ---       ┆ ---       ┆ ---       ┆ i64      │\n",
       "│            ┆            ┆ i64        ┆ i64        ┆ i64       ┆ i64       ┆ i64       ┆          │\n",
       "╞════════════╪════════════╪════════════╪════════════╪═══════════╪═══════════╪═══════════╪══════════╡\n",
       "│ 1435686090 ┆ 465325845  ┆ 1625255569 ┆ 2          ┆ 5         ┆ 61        ┆ 1         ┆ 683      │\n",
       "│            ┆            ┆ 591        ┆            ┆           ┆           ┆           ┆          │\n",
       "│ 1435686090 ┆ 465325845  ┆ 1625255569 ┆ 2          ┆ 5         ┆ 61        ┆ 1         ┆ null     │\n",
       "│            ┆            ┆ 591        ┆            ┆           ┆           ┆           ┆          │\n",
       "└────────────┴────────────┴────────────┴────────────┴───────────┴───────────┴───────────┴──────────┘"
      ]
     },
     "execution_count": 13,
     "metadata": {},
     "output_type": "execute_result"
    }
   ],
   "source": [
    "train_data.filter((pl.col(\"user_id\") == 1435686090) & (pl.col(\"article_id\") == 465325845))"
   ]
  },
  {
   "cell_type": "code",
   "execution_count": 14,
   "metadata": {},
   "outputs": [
    {
     "data": {
      "text/html": [
       "<div><style>\n",
       ".dataframe > thead > tr,\n",
       ".dataframe > tbody > tr {\n",
       "  text-align: right;\n",
       "  white-space: pre-wrap;\n",
       "}\n",
       "</style>\n",
       "<small>shape: (26_582_267, 8)</small><table border=\"1\" class=\"dataframe\"><thead><tr><th>user_id</th><th>article_id</th><th>expose_time</th><th>network_env</th><th>refresh_count</th><th>expose_pos</th><th>is_clicked</th><th>duration</th></tr><tr><td>i64</td><td>i64</td><td>i64</td><td>i64</td><td>i64</td><td>i64</td><td>i64</td><td>i64</td></tr></thead><tbody><tr><td>2437270654</td><td>465092006</td><td>1625145171010</td><td>2</td><td>2</td><td>17</td><td>1</td><td>62</td></tr><tr><td>2367063372</td><td>464467157</td><td>1624961787565</td><td>2</td><td>2</td><td>17</td><td>1</td><td>205</td></tr><tr><td>2157786858</td><td>465370105</td><td>1625435039688</td><td>2</td><td>3</td><td>42</td><td>1</td><td>43</td></tr><tr><td>2230286344</td><td>465448028</td><td>1625316042749</td><td>5</td><td>2</td><td>27</td><td>1</td><td>50</td></tr><tr><td>118443836</td><td>463635906</td><td>1624764320571</td><td>5</td><td>1</td><td>7</td><td>1</td><td>22</td></tr><tr><td>&hellip;</td><td>&hellip;</td><td>&hellip;</td><td>&hellip;</td><td>&hellip;</td><td>&hellip;</td><td>&hellip;</td><td>&hellip;</td></tr><tr><td>2446032746</td><td>465839625</td><td>1625400735640</td><td>2</td><td>3</td><td>30</td><td>1</td><td>56</td></tr><tr><td>2433836744</td><td>464382231</td><td>1625104750958</td><td>2</td><td>7</td><td>77</td><td>1</td><td>33</td></tr><tr><td>2214097968</td><td>463528539</td><td>1624879527628</td><td>2</td><td>11</td><td>44</td><td>1</td><td>58</td></tr><tr><td>2437524054</td><td>465112249</td><td>1625311825293</td><td>2</td><td>2</td><td>25</td><td>1</td><td>154</td></tr><tr><td>2425444810</td><td>466200621</td><td>1625478029351</td><td>2</td><td>8</td><td>76</td><td>1</td><td>125</td></tr></tbody></table></div>"
      ],
      "text/plain": [
       "shape: (26_582_267, 8)\n",
       "┌────────────┬────────────┬────────────┬────────────┬───────────┬───────────┬───────────┬──────────┐\n",
       "│ user_id    ┆ article_id ┆ expose_tim ┆ network_en ┆ refresh_c ┆ expose_po ┆ is_clicke ┆ duration │\n",
       "│ ---        ┆ ---        ┆ e          ┆ v          ┆ ount      ┆ s         ┆ d         ┆ ---      │\n",
       "│ i64        ┆ i64        ┆ ---        ┆ ---        ┆ ---       ┆ ---       ┆ ---       ┆ i64      │\n",
       "│            ┆            ┆ i64        ┆ i64        ┆ i64       ┆ i64       ┆ i64       ┆          │\n",
       "╞════════════╪════════════╪════════════╪════════════╪═══════════╪═══════════╪═══════════╪══════════╡\n",
       "│ 2437270654 ┆ 465092006  ┆ 1625145171 ┆ 2          ┆ 2         ┆ 17        ┆ 1         ┆ 62       │\n",
       "│            ┆            ┆ 010        ┆            ┆           ┆           ┆           ┆          │\n",
       "│ 2367063372 ┆ 464467157  ┆ 1624961787 ┆ 2          ┆ 2         ┆ 17        ┆ 1         ┆ 205      │\n",
       "│            ┆            ┆ 565        ┆            ┆           ┆           ┆           ┆          │\n",
       "│ 2157786858 ┆ 465370105  ┆ 1625435039 ┆ 2          ┆ 3         ┆ 42        ┆ 1         ┆ 43       │\n",
       "│            ┆            ┆ 688        ┆            ┆           ┆           ┆           ┆          │\n",
       "│ 2230286344 ┆ 465448028  ┆ 1625316042 ┆ 5          ┆ 2         ┆ 27        ┆ 1         ┆ 50       │\n",
       "│            ┆            ┆ 749        ┆            ┆           ┆           ┆           ┆          │\n",
       "│ 118443836  ┆ 463635906  ┆ 1624764320 ┆ 5          ┆ 1         ┆ 7         ┆ 1         ┆ 22       │\n",
       "│            ┆            ┆ 571        ┆            ┆           ┆           ┆           ┆          │\n",
       "│ …          ┆ …          ┆ …          ┆ …          ┆ …         ┆ …         ┆ …         ┆ …        │\n",
       "│ 2446032746 ┆ 465839625  ┆ 1625400735 ┆ 2          ┆ 3         ┆ 30        ┆ 1         ┆ 56       │\n",
       "│            ┆            ┆ 640        ┆            ┆           ┆           ┆           ┆          │\n",
       "│ 2433836744 ┆ 464382231  ┆ 1625104750 ┆ 2          ┆ 7         ┆ 77        ┆ 1         ┆ 33       │\n",
       "│            ┆            ┆ 958        ┆            ┆           ┆           ┆           ┆          │\n",
       "│ 2214097968 ┆ 463528539  ┆ 1624879527 ┆ 2          ┆ 11        ┆ 44        ┆ 1         ┆ 58       │\n",
       "│            ┆            ┆ 628        ┆            ┆           ┆           ┆           ┆          │\n",
       "│ 2437524054 ┆ 465112249  ┆ 1625311825 ┆ 2          ┆ 2         ┆ 25        ┆ 1         ┆ 154      │\n",
       "│            ┆            ┆ 293        ┆            ┆           ┆           ┆           ┆          │\n",
       "│ 2425444810 ┆ 466200621  ┆ 1625478029 ┆ 2          ┆ 8         ┆ 76        ┆ 1         ┆ 125      │\n",
       "│            ┆            ┆ 351        ┆            ┆           ┆           ┆           ┆          │\n",
       "└────────────┴────────────┴────────────┴────────────┴───────────┴───────────┴───────────┴──────────┘"
      ]
     },
     "execution_count": 14,
     "metadata": {},
     "output_type": "execute_result"
    }
   ],
   "source": [
    "#（存在一次曝光，重复消费的情况，可以认为duation是这些时长的加和，先把-1的排除在外，同时619315213异常值也没重复，所以可以放心地加和）\n",
    "train_data = train_data.filter(\n",
    "    (pl.col(\"is_clicked\") == 1) & (pl.col(\"duration\") != -1)  # 只保留有效点击且 duration ≠ -1\n",
    ").group_by([\n",
    "    \"user_id\", \"article_id\", \"expose_time\", \"network_env\", \n",
    "    \"refresh_count\", \"expose_pos\", \"is_clicked\"\n",
    "]).agg(\n",
    "    pl.col(\"duration\").sum().alias(\"duration\")  # 计算同一曝光下的点击时长总和\n",
    ")\n",
    "\n",
    "train_data"
   ]
  },
  {
   "cell_type": "code",
   "execution_count": 15,
   "metadata": {},
   "outputs": [
    {
     "data": {
      "text/html": [
       "<div><style>\n",
       ".dataframe > thead > tr,\n",
       ".dataframe > tbody > tr {\n",
       "  text-align: right;\n",
       "  white-space: pre-wrap;\n",
       "}\n",
       "</style>\n",
       "<small>shape: (0, 8)</small><table border=\"1\" class=\"dataframe\"><thead><tr><th>user_id</th><th>article_id</th><th>expose_time</th><th>network_env</th><th>refresh_count</th><th>expose_pos</th><th>is_clicked</th><th>duration</th></tr><tr><td>i64</td><td>i64</td><td>i64</td><td>i64</td><td>i64</td><td>i64</td><td>i64</td><td>i64</td></tr></thead><tbody></tbody></table></div>"
      ],
      "text/plain": [
       "shape: (0, 8)\n",
       "┌─────────┬────────────┬────────────┬────────────┬────────────┬────────────┬────────────┬──────────┐\n",
       "│ user_id ┆ article_id ┆ expose_tim ┆ network_en ┆ refresh_co ┆ expose_pos ┆ is_clicked ┆ duration │\n",
       "│ ---     ┆ ---        ┆ e          ┆ v          ┆ unt        ┆ ---        ┆ ---        ┆ ---      │\n",
       "│ i64     ┆ i64        ┆ ---        ┆ ---        ┆ ---        ┆ i64        ┆ i64        ┆ i64      │\n",
       "│         ┆            ┆ i64        ┆ i64        ┆ i64        ┆            ┆            ┆          │\n",
       "╞═════════╪════════════╪════════════╪════════════╪════════════╪════════════╪════════════╪══════════╡\n",
       "└─────────┴────────────┴────────────┴────────────┴────────────┴────────────┴────────────┴──────────┘"
      ]
     },
     "execution_count": 15,
     "metadata": {},
     "output_type": "execute_result"
    }
   ],
   "source": [
    "neg_duration_df = train_data.filter(pl.col(\"duration\") == -1)\n",
    "neg_duration_df"
   ]
  },
  {
   "cell_type": "code",
   "execution_count": 16,
   "metadata": {},
   "outputs": [
    {
     "data": {
      "text/html": [
       "<div><style>\n",
       ".dataframe > thead > tr,\n",
       ".dataframe > tbody > tr {\n",
       "  text-align: right;\n",
       "  white-space: pre-wrap;\n",
       "}\n",
       "</style>\n",
       "<small>shape: (0, 6)</small><table border=\"1\" class=\"dataframe\"><thead><tr><th>user_id</th><th>article_id</th><th>expose_time</th><th>network_env</th><th>refresh_count</th><th>expose_pos</th></tr><tr><td>i64</td><td>i64</td><td>i64</td><td>i64</td><td>i64</td><td>i64</td></tr></thead><tbody></tbody></table></div>"
      ],
      "text/plain": [
       "shape: (0, 6)\n",
       "┌─────────┬────────────┬─────────────┬─────────────┬───────────────┬────────────┐\n",
       "│ user_id ┆ article_id ┆ expose_time ┆ network_env ┆ refresh_count ┆ expose_pos │\n",
       "│ ---     ┆ ---        ┆ ---         ┆ ---         ┆ ---           ┆ ---        │\n",
       "│ i64     ┆ i64        ┆ i64         ┆ i64         ┆ i64           ┆ i64        │\n",
       "╞═════════╪════════════╪═════════════╪═════════════╪═══════════════╪════════════╡\n",
       "└─────────┴────────────┴─────────────┴─────────────┴───────────────┴────────────┘"
      ]
     },
     "execution_count": 16,
     "metadata": {},
     "output_type": "execute_result"
    }
   ],
   "source": [
    "neg_duration_keys = neg_duration_df.select([\n",
    "    \"user_id\", \"article_id\", \"expose_time\", \"network_env\", \"refresh_count\", \"expose_pos\"\n",
    "])\n",
    "neg_duration_keys"
   ]
  },
  {
   "cell_type": "code",
   "execution_count": 17,
   "metadata": {},
   "outputs": [],
   "source": [
    "matched_rows = train_data.join(\n",
    "    neg_duration_keys,  # 只包含有 -1 duration 的 key\n",
    "    on=[\"user_id\", \"article_id\", \"expose_time\", \"network_env\", \"refresh_count\", \"expose_pos\"],\n",
    "    how=\"inner\"\n",
    ")\n",
    "\n",
    "# 过滤掉 duration 为 -1 的行\n",
    "filtered_rows = matched_rows.filter((pl.col(\"duration\") != -1) & (pl.col(\"is_clicked\") == 0))"
   ]
  },
  {
   "cell_type": "code",
   "execution_count": 18,
   "metadata": {},
   "outputs": [
    {
     "data": {
      "text/html": [
       "<div><style>\n",
       ".dataframe > thead > tr,\n",
       ".dataframe > tbody > tr {\n",
       "  text-align: right;\n",
       "  white-space: pre-wrap;\n",
       "}\n",
       "</style>\n",
       "<small>shape: (1, 8)</small><table border=\"1\" class=\"dataframe\"><thead><tr><th>user_id</th><th>article_id</th><th>expose_time</th><th>network_env</th><th>refresh_count</th><th>expose_pos</th><th>is_clicked</th><th>duration</th></tr><tr><td>i64</td><td>i64</td><td>i64</td><td>i64</td><td>i64</td><td>i64</td><td>i64</td><td>i64</td></tr></thead><tbody><tr><td>1869728386</td><td>465285666</td><td>1625254758845</td><td>2</td><td>0</td><td>12</td><td>1</td><td>535</td></tr></tbody></table></div>"
      ],
      "text/plain": [
       "shape: (1, 8)\n",
       "┌────────────┬────────────┬────────────┬────────────┬───────────┬───────────┬───────────┬──────────┐\n",
       "│ user_id    ┆ article_id ┆ expose_tim ┆ network_en ┆ refresh_c ┆ expose_po ┆ is_clicke ┆ duration │\n",
       "│ ---        ┆ ---        ┆ e          ┆ v          ┆ ount      ┆ s         ┆ d         ┆ ---      │\n",
       "│ i64        ┆ i64        ┆ ---        ┆ ---        ┆ ---       ┆ ---       ┆ ---       ┆ i64      │\n",
       "│            ┆            ┆ i64        ┆ i64        ┆ i64       ┆ i64       ┆ i64       ┆          │\n",
       "╞════════════╪════════════╪════════════╪════════════╪═══════════╪═══════════╪═══════════╪══════════╡\n",
       "│ 1869728386 ┆ 465285666  ┆ 1625254758 ┆ 2          ┆ 0         ┆ 12        ┆ 1         ┆ 535      │\n",
       "│            ┆            ┆ 845        ┆            ┆           ┆           ┆           ┆          │\n",
       "└────────────┴────────────┴────────────┴────────────┴───────────┴───────────┴───────────┴──────────┘"
      ]
     },
     "execution_count": 18,
     "metadata": {},
     "output_type": "execute_result"
    }
   ],
   "source": [
    "train_data.filter((pl.col(\"user_id\") == 1869728386) & (pl.col(\"article_id\") == 465285666))"
   ]
  },
  {
   "cell_type": "code",
   "execution_count": null,
   "metadata": {},
   "outputs": [],
   "source": []
  },
  {
   "cell_type": "code",
   "execution_count": 19,
   "metadata": {},
   "outputs": [
    {
     "ename": "NameError",
     "evalue": "name 'negative_duration_df' is not defined",
     "output_type": "error",
     "traceback": [
      "\u001b[0;31m---------------------------------------------------------------------------\u001b[0m",
      "\u001b[0;31mNameError\u001b[0m                                 Traceback (most recent call last)",
      "\u001b[0;32m<ipython-input-19-5f452501a8c6>\u001b[0m in \u001b[0;36m<cell line: 2>\u001b[0;34m()\u001b[0m\n\u001b[1;32m      1\u001b[0m \u001b[0;31m# 进行自连接，匹配相同的 user_id, article_id, expose_time, ... 但 duration 不同\u001b[0m\u001b[0;34m\u001b[0m\u001b[0;34m\u001b[0m\u001b[0;34m\u001b[0m\u001b[0m\n\u001b[0;32m----> 2\u001b[0;31m conflicting_duration_df = negative_duration_df.join(\n\u001b[0m\u001b[1;32m      3\u001b[0m     \u001b[0mtrain_data\u001b[0m\u001b[0;34m,\u001b[0m\u001b[0;34m\u001b[0m\u001b[0;34m\u001b[0m\u001b[0m\n\u001b[1;32m      4\u001b[0m     on=[\"user_id\", \"article_id\", \"expose_time\", \"network_env\", \n\u001b[1;32m      5\u001b[0m         \"refresh_count\", \"expose_pos\", \"is_clicked\"],\n",
      "\u001b[0;31mNameError\u001b[0m: name 'negative_duration_df' is not defined"
     ]
    }
   ],
   "source": [
    "# 进行自连接，匹配相同的 user_id, article_id, expose_time, ... 但 duration 不同\n",
    "conflicting_duration_df = negative_duration_df.join(\n",
    "    train_data,\n",
    "    on=[\"user_id\", \"article_id\", \"expose_time\", \"network_env\", \n",
    "        \"refresh_count\", \"expose_pos\", \"is_clicked\"],\n",
    "    how=\"inner\"\n",
    ").filter(pl.col(\"duration_right\") != -1)  # 确保右侧数据的 duration 不等于 -1\n",
    "conflicting_duration_df"
   ]
  },
  {
   "cell_type": "code",
   "execution_count": null,
   "metadata": {},
   "outputs": [],
   "source": []
  },
  {
   "cell_type": "code",
   "execution_count": null,
   "metadata": {},
   "outputs": [],
   "source": []
  },
  {
   "cell_type": "code",
   "execution_count": null,
   "metadata": {},
   "outputs": [],
   "source": [
    "ttt = train_data.filter(\n",
    "    (pl.col(\"is_clicked\") == 1) & \n",
    "    (pl.struct([\n",
    "        \"user_id\", \"article_id\", \"expose_time\",\n",
    "        \"network_env\", \"refresh_count\", \"expose_pos\"\n",
    "    ]).is_duplicated())  # 在全体数据中计算重复性\n",
    ").sort([\"user_id\", \"article_id\", \"expose_time\"])"
   ]
  },
  {
   "cell_type": "code",
   "execution_count": null,
   "metadata": {},
   "outputs": [
    {
     "data": {
      "text/html": [
       "<div><style>\n",
       ".dataframe > thead > tr,\n",
       ".dataframe > tbody > tr {\n",
       "  text-align: right;\n",
       "  white-space: pre-wrap;\n",
       "}\n",
       "</style>\n",
       "<small>shape: (104_101, 8)</small><table border=\"1\" class=\"dataframe\"><thead><tr><th>user_id</th><th>article_id</th><th>expose_time</th><th>network_env</th><th>refresh_count</th><th>expose_pos</th><th>is_clicked</th><th>duration</th></tr><tr><td>i64</td><td>i64</td><td>i64</td><td>i64</td><td>i64</td><td>i64</td><td>i64</td><td>i64</td></tr></thead><tbody><tr><td>2415272604</td><td>466326803</td><td>1625470366122</td><td>5</td><td>37</td><td>170</td><td>1</td><td>-1</td></tr><tr><td>2215265208</td><td>463348604</td><td>1624787418143</td><td>5</td><td>32</td><td>336</td><td>1</td><td>-1</td></tr><tr><td>2207296234</td><td>464669571</td><td>1625063491496</td><td>5</td><td>110</td><td>44</td><td>1</td><td>-1</td></tr><tr><td>2443817782</td><td>465896280</td><td>1625405686434</td><td>2</td><td>8</td><td>82</td><td>0</td><td>-1</td></tr><tr><td>2446226728</td><td>463101646</td><td>1624803368886</td><td>2</td><td>32</td><td>127</td><td>0</td><td>-1</td></tr><tr><td>&hellip;</td><td>&hellip;</td><td>&hellip;</td><td>&hellip;</td><td>&hellip;</td><td>&hellip;</td><td>&hellip;</td><td>&hellip;</td></tr><tr><td>2208465704</td><td>463862574</td><td>1624854289496</td><td>5</td><td>14</td><td>62</td><td>1</td><td>-1</td></tr><tr><td>1301437954</td><td>464294504</td><td>1624974732168</td><td>5</td><td>1</td><td>18</td><td>1</td><td>-1</td></tr><tr><td>2432585646</td><td>462713312</td><td>1624697961185</td><td>5</td><td>10</td><td>79</td><td>0</td><td>-1</td></tr><tr><td>2092913846</td><td>463561531</td><td>1624858680550</td><td>5</td><td>5</td><td>61</td><td>1</td><td>-1</td></tr><tr><td>2443782710</td><td>466732219</td><td>1625570097575</td><td>2</td><td>1</td><td>15</td><td>0</td><td>-1</td></tr></tbody></table></div>"
      ],
      "text/plain": [
       "shape: (104_101, 8)\n",
       "┌────────────┬────────────┬────────────┬────────────┬───────────┬───────────┬───────────┬──────────┐\n",
       "│ user_id    ┆ article_id ┆ expose_tim ┆ network_en ┆ refresh_c ┆ expose_po ┆ is_clicke ┆ duration │\n",
       "│ ---        ┆ ---        ┆ e          ┆ v          ┆ ount      ┆ s         ┆ d         ┆ ---      │\n",
       "│ i64        ┆ i64        ┆ ---        ┆ ---        ┆ ---       ┆ ---       ┆ ---       ┆ i64      │\n",
       "│            ┆            ┆ i64        ┆ i64        ┆ i64       ┆ i64       ┆ i64       ┆          │\n",
       "╞════════════╪════════════╪════════════╪════════════╪═══════════╪═══════════╪═══════════╪══════════╡\n",
       "│ 2415272604 ┆ 466326803  ┆ 1625470366 ┆ 5          ┆ 37        ┆ 170       ┆ 1         ┆ -1       │\n",
       "│            ┆            ┆ 122        ┆            ┆           ┆           ┆           ┆          │\n",
       "│ 2215265208 ┆ 463348604  ┆ 1624787418 ┆ 5          ┆ 32        ┆ 336       ┆ 1         ┆ -1       │\n",
       "│            ┆            ┆ 143        ┆            ┆           ┆           ┆           ┆          │\n",
       "│ 2207296234 ┆ 464669571  ┆ 1625063491 ┆ 5          ┆ 110       ┆ 44        ┆ 1         ┆ -1       │\n",
       "│            ┆            ┆ 496        ┆            ┆           ┆           ┆           ┆          │\n",
       "│ 2443817782 ┆ 465896280  ┆ 1625405686 ┆ 2          ┆ 8         ┆ 82        ┆ 0         ┆ -1       │\n",
       "│            ┆            ┆ 434        ┆            ┆           ┆           ┆           ┆          │\n",
       "│ 2446226728 ┆ 463101646  ┆ 1624803368 ┆ 2          ┆ 32        ┆ 127       ┆ 0         ┆ -1       │\n",
       "│            ┆            ┆ 886        ┆            ┆           ┆           ┆           ┆          │\n",
       "│ …          ┆ …          ┆ …          ┆ …          ┆ …         ┆ …         ┆ …         ┆ …        │\n",
       "│ 2208465704 ┆ 463862574  ┆ 1624854289 ┆ 5          ┆ 14        ┆ 62        ┆ 1         ┆ -1       │\n",
       "│            ┆            ┆ 496        ┆            ┆           ┆           ┆           ┆          │\n",
       "│ 1301437954 ┆ 464294504  ┆ 1624974732 ┆ 5          ┆ 1         ┆ 18        ┆ 1         ┆ -1       │\n",
       "│            ┆            ┆ 168        ┆            ┆           ┆           ┆           ┆          │\n",
       "│ 2432585646 ┆ 462713312  ┆ 1624697961 ┆ 5          ┆ 10        ┆ 79        ┆ 0         ┆ -1       │\n",
       "│            ┆            ┆ 185        ┆            ┆           ┆           ┆           ┆          │\n",
       "│ 2092913846 ┆ 463561531  ┆ 1624858680 ┆ 5          ┆ 5         ┆ 61        ┆ 1         ┆ -1       │\n",
       "│            ┆            ┆ 550        ┆            ┆           ┆           ┆           ┆          │\n",
       "│ 2443782710 ┆ 466732219  ┆ 1625570097 ┆ 2          ┆ 1         ┆ 15        ┆ 0         ┆ -1       │\n",
       "│            ┆            ┆ 575        ┆            ┆           ┆           ┆           ┆          │\n",
       "└────────────┴────────────┴────────────┴────────────┴───────────┴───────────┴───────────┴──────────┘"
      ]
     },
     "execution_count": 15,
     "metadata": {},
     "output_type": "execute_result"
    }
   ],
   "source": [
    "train_data.filter(pl.col(\"duration\") == -1)"
   ]
  },
  {
   "cell_type": "code",
   "execution_count": null,
   "metadata": {},
   "outputs": [
    {
     "data": {
      "text/html": [
       "<div><style>\n",
       ".dataframe > thead > tr,\n",
       ".dataframe > tbody > tr {\n",
       "  text-align: right;\n",
       "  white-space: pre-wrap;\n",
       "}\n",
       "</style>\n",
       "<small>shape: (12_412, 8)</small><table border=\"1\" class=\"dataframe\"><thead><tr><th>user_id</th><th>article_id</th><th>expose_time</th><th>network_env</th><th>refresh_count</th><th>expose_pos</th><th>is_clicked</th><th>duration</th></tr><tr><td>i64</td><td>i64</td><td>i64</td><td>i64</td><td>i64</td><td>i64</td><td>i64</td><td>i64</td></tr></thead><tbody><tr><td>3306286</td><td>463086468</td><td>1624603635336</td><td>5</td><td>21</td><td>44</td><td>1</td><td>-1</td></tr><tr><td>4830994</td><td>466141343</td><td>1625464526405</td><td>5</td><td>0</td><td>12</td><td>1</td><td>-1</td></tr><tr><td>5655650</td><td>465724979</td><td>1625375012141</td><td>5</td><td>15</td><td>21</td><td>1</td><td>-1</td></tr><tr><td>6287150</td><td>463514607</td><td>1624808986457</td><td>5</td><td>24</td><td>245</td><td>1</td><td>-1</td></tr><tr><td>6529470</td><td>464121124</td><td>1624891748632</td><td>2</td><td>1</td><td>17</td><td>1</td><td>-1</td></tr><tr><td>&hellip;</td><td>&hellip;</td><td>&hellip;</td><td>&hellip;</td><td>&hellip;</td><td>&hellip;</td><td>&hellip;</td><td>&hellip;</td></tr><tr><td>2447092826</td><td>465581023</td><td>1625461627033</td><td>2</td><td>2</td><td>21</td><td>1</td><td>-1</td></tr><tr><td>2447106922</td><td>465750594</td><td>1625482617760</td><td>2</td><td>1</td><td>18</td><td>1</td><td>-1</td></tr><tr><td>2447167992</td><td>465699712</td><td>1625522649839</td><td>2</td><td>3</td><td>17</td><td>1</td><td>-1</td></tr><tr><td>2447215774</td><td>466036199</td><td>1625553703321</td><td>2</td><td>8</td><td>12</td><td>1</td><td>-1</td></tr><tr><td>2447236902</td><td>466016509</td><td>1625580336477</td><td>2</td><td>1</td><td>7</td><td>1</td><td>-1</td></tr></tbody></table></div>"
      ],
      "text/plain": [
       "shape: (12_412, 8)\n",
       "┌────────────┬────────────┬────────────┬────────────┬───────────┬───────────┬───────────┬──────────┐\n",
       "│ user_id    ┆ article_id ┆ expose_tim ┆ network_en ┆ refresh_c ┆ expose_po ┆ is_clicke ┆ duration │\n",
       "│ ---        ┆ ---        ┆ e          ┆ v          ┆ ount      ┆ s         ┆ d         ┆ ---      │\n",
       "│ i64        ┆ i64        ┆ ---        ┆ ---        ┆ ---       ┆ ---       ┆ ---       ┆ i64      │\n",
       "│            ┆            ┆ i64        ┆ i64        ┆ i64       ┆ i64       ┆ i64       ┆          │\n",
       "╞════════════╪════════════╪════════════╪════════════╪═══════════╪═══════════╪═══════════╪══════════╡\n",
       "│ 3306286    ┆ 463086468  ┆ 1624603635 ┆ 5          ┆ 21        ┆ 44        ┆ 1         ┆ -1       │\n",
       "│            ┆            ┆ 336        ┆            ┆           ┆           ┆           ┆          │\n",
       "│ 4830994    ┆ 466141343  ┆ 1625464526 ┆ 5          ┆ 0         ┆ 12        ┆ 1         ┆ -1       │\n",
       "│            ┆            ┆ 405        ┆            ┆           ┆           ┆           ┆          │\n",
       "│ 5655650    ┆ 465724979  ┆ 1625375012 ┆ 5          ┆ 15        ┆ 21        ┆ 1         ┆ -1       │\n",
       "│            ┆            ┆ 141        ┆            ┆           ┆           ┆           ┆          │\n",
       "│ 6287150    ┆ 463514607  ┆ 1624808986 ┆ 5          ┆ 24        ┆ 245       ┆ 1         ┆ -1       │\n",
       "│            ┆            ┆ 457        ┆            ┆           ┆           ┆           ┆          │\n",
       "│ 6529470    ┆ 464121124  ┆ 1624891748 ┆ 2          ┆ 1         ┆ 17        ┆ 1         ┆ -1       │\n",
       "│            ┆            ┆ 632        ┆            ┆           ┆           ┆           ┆          │\n",
       "│ …          ┆ …          ┆ …          ┆ …          ┆ …         ┆ …         ┆ …         ┆ …        │\n",
       "│ 2447092826 ┆ 465581023  ┆ 1625461627 ┆ 2          ┆ 2         ┆ 21        ┆ 1         ┆ -1       │\n",
       "│            ┆            ┆ 033        ┆            ┆           ┆           ┆           ┆          │\n",
       "│ 2447106922 ┆ 465750594  ┆ 1625482617 ┆ 2          ┆ 1         ┆ 18        ┆ 1         ┆ -1       │\n",
       "│            ┆            ┆ 760        ┆            ┆           ┆           ┆           ┆          │\n",
       "│ 2447167992 ┆ 465699712  ┆ 1625522649 ┆ 2          ┆ 3         ┆ 17        ┆ 1         ┆ -1       │\n",
       "│            ┆            ┆ 839        ┆            ┆           ┆           ┆           ┆          │\n",
       "│ 2447215774 ┆ 466036199  ┆ 1625553703 ┆ 2          ┆ 8         ┆ 12        ┆ 1         ┆ -1       │\n",
       "│            ┆            ┆ 321        ┆            ┆           ┆           ┆           ┆          │\n",
       "│ 2447236902 ┆ 466016509  ┆ 1625580336 ┆ 2          ┆ 1         ┆ 7         ┆ 1         ┆ -1       │\n",
       "│            ┆            ┆ 477        ┆            ┆           ┆           ┆           ┆          │\n",
       "└────────────┴────────────┴────────────┴────────────┴───────────┴───────────┴───────────┴──────────┘"
      ]
     },
     "execution_count": 12,
     "metadata": {},
     "output_type": "execute_result"
    }
   ],
   "source": [
    "ttt.filter(pl.col(\"duration\")==-1)"
   ]
  },
  {
   "cell_type": "code",
   "execution_count": null,
   "metadata": {},
   "outputs": [
    {
     "data": {
      "text/html": [
       "<div><style>\n",
       ".dataframe > thead > tr,\n",
       ".dataframe > tbody > tr {\n",
       "  text-align: right;\n",
       "  white-space: pre-wrap;\n",
       "}\n",
       "</style>\n",
       "<small>shape: (2, 8)</small><table border=\"1\" class=\"dataframe\"><thead><tr><th>user_id</th><th>article_id</th><th>expose_time</th><th>network_env</th><th>refresh_count</th><th>expose_pos</th><th>is_clicked</th><th>duration</th></tr><tr><td>i64</td><td>i64</td><td>i64</td><td>i64</td><td>i64</td><td>i64</td><td>i64</td><td>i64</td></tr></thead><tbody><tr><td>3306286</td><td>463086468</td><td>1624603635336</td><td>5</td><td>21</td><td>44</td><td>1</td><td>-1</td></tr><tr><td>3306286</td><td>463086468</td><td>1624603635336</td><td>5</td><td>21</td><td>44</td><td>1</td><td>28</td></tr></tbody></table></div>"
      ],
      "text/plain": [
       "shape: (2, 8)\n",
       "┌─────────┬────────────┬────────────┬────────────┬────────────┬────────────┬────────────┬──────────┐\n",
       "│ user_id ┆ article_id ┆ expose_tim ┆ network_en ┆ refresh_co ┆ expose_pos ┆ is_clicked ┆ duration │\n",
       "│ ---     ┆ ---        ┆ e          ┆ v          ┆ unt        ┆ ---        ┆ ---        ┆ ---      │\n",
       "│ i64     ┆ i64        ┆ ---        ┆ ---        ┆ ---        ┆ i64        ┆ i64        ┆ i64      │\n",
       "│         ┆            ┆ i64        ┆ i64        ┆ i64        ┆            ┆            ┆          │\n",
       "╞═════════╪════════════╪════════════╪════════════╪════════════╪════════════╪════════════╪══════════╡\n",
       "│ 3306286 ┆ 463086468  ┆ 1624603635 ┆ 5          ┆ 21         ┆ 44         ┆ 1          ┆ -1       │\n",
       "│         ┆            ┆ 336        ┆            ┆            ┆            ┆            ┆          │\n",
       "│ 3306286 ┆ 463086468  ┆ 1624603635 ┆ 5          ┆ 21         ┆ 44         ┆ 1          ┆ 28       │\n",
       "│         ┆            ┆ 336        ┆            ┆            ┆            ┆            ┆          │\n",
       "└─────────┴────────────┴────────────┴────────────┴────────────┴────────────┴────────────┴──────────┘"
      ]
     },
     "execution_count": 14,
     "metadata": {},
     "output_type": "execute_result"
    }
   ],
   "source": [
    "train_data.filter((pl.col(\"user_id\") == 3306286) & (pl.col(\"article_id\") == 463086468))"
   ]
  },
  {
   "cell_type": "code",
   "execution_count": null,
   "metadata": {},
   "outputs": [
    {
     "data": {
      "text/html": [
       "<div><style>\n",
       ".dataframe > thead > tr,\n",
       ".dataframe > tbody > tr {\n",
       "  text-align: right;\n",
       "  white-space: pre-wrap;\n",
       "}\n",
       "</style>\n",
       "<small>shape: (189_341_154, 8)</small><table border=\"1\" class=\"dataframe\"><thead><tr><th>user_id</th><th>article_id</th><th>expose_time</th><th>network_env</th><th>refresh_count</th><th>expose_pos</th><th>is_clicked</th><th>duration</th></tr><tr><td>i64</td><td>i64</td><td>i64</td><td>i64</td><td>i64</td><td>i64</td><td>i64</td><td>i64</td></tr></thead><tbody><tr><td>2439555116</td><td>464821137</td><td>1625247462452</td><td>4</td><td>33</td><td>21</td><td>0</td><td>0</td></tr><tr><td>2392412230</td><td>463566140</td><td>1624895869555</td><td>5</td><td>5</td><td>37</td><td>0</td><td>0</td></tr><tr><td>1520915528</td><td>465822098</td><td>1625369709129</td><td>5</td><td>1</td><td>19</td><td>1</td><td>157</td></tr><tr><td>1782103134</td><td>464333350</td><td>1624941626215</td><td>2</td><td>3</td><td>42</td><td>0</td><td>0</td></tr><tr><td>2434613966</td><td>464102926</td><td>1624895485965</td><td>2</td><td>18</td><td>187</td><td>0</td><td>0</td></tr><tr><td>&hellip;</td><td>&hellip;</td><td>&hellip;</td><td>&hellip;</td><td>&hellip;</td><td>&hellip;</td><td>&hellip;</td><td>&hellip;</td></tr><tr><td>2215126746</td><td>464244896</td><td>1624935423075</td><td>5</td><td>9</td><td>90</td><td>0</td><td>0</td></tr><tr><td>2389482026</td><td>466209894</td><td>1625582813474</td><td>2</td><td>13</td><td>135</td><td>0</td><td>0</td></tr><tr><td>1638536864</td><td>464718109</td><td>1625232679893</td><td>5</td><td>1</td><td>17</td><td>1</td><td>285</td></tr><tr><td>2340517334</td><td>463543748</td><td>1624771873237</td><td>2</td><td>4</td><td>53</td><td>0</td><td>0</td></tr><tr><td>2400159286</td><td>465514555</td><td>1625227979557</td><td>5</td><td>21</td><td>82</td><td>0</td><td>0</td></tr></tbody></table></div>"
      ],
      "text/plain": [
       "shape: (189_341_154, 8)\n",
       "┌────────────┬────────────┬────────────┬────────────┬───────────┬───────────┬───────────┬──────────┐\n",
       "│ user_id    ┆ article_id ┆ expose_tim ┆ network_en ┆ refresh_c ┆ expose_po ┆ is_clicke ┆ duration │\n",
       "│ ---        ┆ ---        ┆ e          ┆ v          ┆ ount      ┆ s         ┆ d         ┆ ---      │\n",
       "│ i64        ┆ i64        ┆ ---        ┆ ---        ┆ ---       ┆ ---       ┆ ---       ┆ i64      │\n",
       "│            ┆            ┆ i64        ┆ i64        ┆ i64       ┆ i64       ┆ i64       ┆          │\n",
       "╞════════════╪════════════╪════════════╪════════════╪═══════════╪═══════════╪═══════════╪══════════╡\n",
       "│ 2439555116 ┆ 464821137  ┆ 1625247462 ┆ 4          ┆ 33        ┆ 21        ┆ 0         ┆ 0        │\n",
       "│            ┆            ┆ 452        ┆            ┆           ┆           ┆           ┆          │\n",
       "│ 2392412230 ┆ 463566140  ┆ 1624895869 ┆ 5          ┆ 5         ┆ 37        ┆ 0         ┆ 0        │\n",
       "│            ┆            ┆ 555        ┆            ┆           ┆           ┆           ┆          │\n",
       "│ 1520915528 ┆ 465822098  ┆ 1625369709 ┆ 5          ┆ 1         ┆ 19        ┆ 1         ┆ 157      │\n",
       "│            ┆            ┆ 129        ┆            ┆           ┆           ┆           ┆          │\n",
       "│ 1782103134 ┆ 464333350  ┆ 1624941626 ┆ 2          ┆ 3         ┆ 42        ┆ 0         ┆ 0        │\n",
       "│            ┆            ┆ 215        ┆            ┆           ┆           ┆           ┆          │\n",
       "│ 2434613966 ┆ 464102926  ┆ 1624895485 ┆ 2          ┆ 18        ┆ 187       ┆ 0         ┆ 0        │\n",
       "│            ┆            ┆ 965        ┆            ┆           ┆           ┆           ┆          │\n",
       "│ …          ┆ …          ┆ …          ┆ …          ┆ …         ┆ …         ┆ …         ┆ …        │\n",
       "│ 2215126746 ┆ 464244896  ┆ 1624935423 ┆ 5          ┆ 9         ┆ 90        ┆ 0         ┆ 0        │\n",
       "│            ┆            ┆ 075        ┆            ┆           ┆           ┆           ┆          │\n",
       "│ 2389482026 ┆ 466209894  ┆ 1625582813 ┆ 2          ┆ 13        ┆ 135       ┆ 0         ┆ 0        │\n",
       "│            ┆            ┆ 474        ┆            ┆           ┆           ┆           ┆          │\n",
       "│ 1638536864 ┆ 464718109  ┆ 1625232679 ┆ 5          ┆ 1         ┆ 17        ┆ 1         ┆ 285      │\n",
       "│            ┆            ┆ 893        ┆            ┆           ┆           ┆           ┆          │\n",
       "│ 2340517334 ┆ 463543748  ┆ 1624771873 ┆ 2          ┆ 4         ┆ 53        ┆ 0         ┆ 0        │\n",
       "│            ┆            ┆ 237        ┆            ┆           ┆           ┆           ┆          │\n",
       "│ 2400159286 ┆ 465514555  ┆ 1625227979 ┆ 5          ┆ 21        ┆ 82        ┆ 0         ┆ 0        │\n",
       "│            ┆            ┆ 557        ┆            ┆           ┆           ┆           ┆          │\n",
       "└────────────┴────────────┴────────────┴────────────┴───────────┴───────────┴───────────┴──────────┘"
      ]
     },
     "execution_count": 64,
     "metadata": {},
     "output_type": "execute_result"
    }
   ],
   "source": []
  },
  {
   "cell_type": "code",
   "execution_count": null,
   "metadata": {},
   "outputs": [
    {
     "data": {
      "text/html": [
       "<div><style>\n",
       ".dataframe > thead > tr,\n",
       ".dataframe > tbody > tr {\n",
       "  text-align: right;\n",
       "  white-space: pre-wrap;\n",
       "}\n",
       "</style>\n",
       "<small>shape: (4_130_056, 8)</small><table border=\"1\" class=\"dataframe\"><thead><tr><th>user_id</th><th>article_id</th><th>expose_time</th><th>network_env</th><th>refresh_count</th><th>expose_pos</th><th>is_clicked</th><th>duration</th></tr><tr><td>i64</td><td>i64</td><td>i64</td><td>i64</td><td>i64</td><td>i64</td><td>i64</td><td>i64</td></tr></thead><tbody><tr><td>17340</td><td>462494255</td><td>1624664193482</td><td>5</td><td>4</td><td>50</td><td>0</td><td>0</td></tr><tr><td>17340</td><td>462494255</td><td>1624664193482</td><td>5</td><td>4</td><td>50</td><td>1</td><td>125</td></tr><tr><td>17340</td><td>462545264</td><td>1624682740741</td><td>5</td><td>9</td><td>17</td><td>1</td><td>113</td></tr><tr><td>17340</td><td>462545264</td><td>1624682740741</td><td>5</td><td>9</td><td>17</td><td>0</td><td>0</td></tr><tr><td>17340</td><td>462792370</td><td>1624677924139</td><td>5</td><td>2</td><td>34</td><td>0</td><td>0</td></tr><tr><td>&hellip;</td><td>&hellip;</td><td>&hellip;</td><td>&hellip;</td><td>&hellip;</td><td>&hellip;</td><td>&hellip;</td><td>&hellip;</td></tr><tr><td>2447269468</td><td>466403924</td><td>1625586760566</td><td>2</td><td>4</td><td>14</td><td>0</td><td>0</td></tr><tr><td>2447271640</td><td>465956327</td><td>1625584771979</td><td>2</td><td>1</td><td>17</td><td>1</td><td>143</td></tr><tr><td>2447271640</td><td>465956327</td><td>1625584771979</td><td>2</td><td>1</td><td>17</td><td>0</td><td>0</td></tr><tr><td>2447272234</td><td>466199082</td><td>1625585454365</td><td>5</td><td>2</td><td>26</td><td>1</td><td>798</td></tr><tr><td>2447272234</td><td>466199082</td><td>1625585454365</td><td>5</td><td>2</td><td>26</td><td>0</td><td>0</td></tr></tbody></table></div>"
      ],
      "text/plain": [
       "shape: (4_130_056, 8)\n",
       "┌────────────┬────────────┬────────────┬────────────┬───────────┬───────────┬───────────┬──────────┐\n",
       "│ user_id    ┆ article_id ┆ expose_tim ┆ network_en ┆ refresh_c ┆ expose_po ┆ is_clicke ┆ duration │\n",
       "│ ---        ┆ ---        ┆ e          ┆ v          ┆ ount      ┆ s         ┆ d         ┆ ---      │\n",
       "│ i64        ┆ i64        ┆ ---        ┆ ---        ┆ ---       ┆ ---       ┆ ---       ┆ i64      │\n",
       "│            ┆            ┆ i64        ┆ i64        ┆ i64       ┆ i64       ┆ i64       ┆          │\n",
       "╞════════════╪════════════╪════════════╪════════════╪═══════════╪═══════════╪═══════════╪══════════╡\n",
       "│ 17340      ┆ 462494255  ┆ 1624664193 ┆ 5          ┆ 4         ┆ 50        ┆ 0         ┆ 0        │\n",
       "│            ┆            ┆ 482        ┆            ┆           ┆           ┆           ┆          │\n",
       "│ 17340      ┆ 462494255  ┆ 1624664193 ┆ 5          ┆ 4         ┆ 50        ┆ 1         ┆ 125      │\n",
       "│            ┆            ┆ 482        ┆            ┆           ┆           ┆           ┆          │\n",
       "│ 17340      ┆ 462545264  ┆ 1624682740 ┆ 5          ┆ 9         ┆ 17        ┆ 1         ┆ 113      │\n",
       "│            ┆            ┆ 741        ┆            ┆           ┆           ┆           ┆          │\n",
       "│ 17340      ┆ 462545264  ┆ 1624682740 ┆ 5          ┆ 9         ┆ 17        ┆ 0         ┆ 0        │\n",
       "│            ┆            ┆ 741        ┆            ┆           ┆           ┆           ┆          │\n",
       "│ 17340      ┆ 462792370  ┆ 1624677924 ┆ 5          ┆ 2         ┆ 34        ┆ 0         ┆ 0        │\n",
       "│            ┆            ┆ 139        ┆            ┆           ┆           ┆           ┆          │\n",
       "│ …          ┆ …          ┆ …          ┆ …          ┆ …         ┆ …         ┆ …         ┆ …        │\n",
       "│ 2447269468 ┆ 466403924  ┆ 1625586760 ┆ 2          ┆ 4         ┆ 14        ┆ 0         ┆ 0        │\n",
       "│            ┆            ┆ 566        ┆            ┆           ┆           ┆           ┆          │\n",
       "│ 2447271640 ┆ 465956327  ┆ 1625584771 ┆ 2          ┆ 1         ┆ 17        ┆ 1         ┆ 143      │\n",
       "│            ┆            ┆ 979        ┆            ┆           ┆           ┆           ┆          │\n",
       "│ 2447271640 ┆ 465956327  ┆ 1625584771 ┆ 2          ┆ 1         ┆ 17        ┆ 0         ┆ 0        │\n",
       "│            ┆            ┆ 979        ┆            ┆           ┆           ┆           ┆          │\n",
       "│ 2447272234 ┆ 466199082  ┆ 1625585454 ┆ 5          ┆ 2         ┆ 26        ┆ 1         ┆ 798      │\n",
       "│            ┆            ┆ 365        ┆            ┆           ┆           ┆           ┆          │\n",
       "│ 2447272234 ┆ 466199082  ┆ 1625585454 ┆ 5          ┆ 2         ┆ 26        ┆ 0         ┆ 0        │\n",
       "│            ┆            ┆ 365        ┆            ┆           ┆           ┆           ┆          │\n",
       "└────────────┴────────────┴────────────┴────────────┴───────────┴───────────┴───────────┴──────────┘"
      ]
     },
     "execution_count": 68,
     "metadata": {},
     "output_type": "execute_result"
    }
   ],
   "source": [
    "# 存在一条记录又被记录为点击又被记录为未点击的情况\n",
    "duplicate_rows = train_data.filter(\n",
    "    pl.struct([\n",
    "        \"user_id\", \"article_id\", \"expose_time\",\n",
    "        \"network_env\", \"refresh_count\", \"expose_pos\"\n",
    "    ]).is_duplicated()\n",
    ").sort([\"user_id\",\"article_id\",\"expose_time\"])\n",
    "duplicate_rows"
   ]
  },
  {
   "cell_type": "code",
   "execution_count": null,
   "metadata": {},
   "outputs": [
    {
     "data": {
      "text/html": [
       "<div><style>\n",
       ".dataframe > thead > tr,\n",
       ".dataframe > tbody > tr {\n",
       "  text-align: right;\n",
       "  white-space: pre-wrap;\n",
       "}\n",
       "</style>\n",
       "<small>shape: (187_276_126, 8)</small><table border=\"1\" class=\"dataframe\"><thead><tr><th>user_id</th><th>article_id</th><th>expose_time</th><th>network_env</th><th>refresh_count</th><th>expose_pos</th><th>is_clicked</th><th>duration</th></tr><tr><td>i64</td><td>i64</td><td>i64</td><td>i64</td><td>i64</td><td>i64</td><td>i64</td><td>i64</td></tr></thead><tbody><tr><td>2382354600</td><td>462989776</td><td>1624654153051</td><td>5</td><td>35</td><td>142</td><td>0</td><td>0</td></tr><tr><td>2395959330</td><td>466618776</td><td>1625552823540</td><td>5</td><td>8</td><td>85</td><td>0</td><td>0</td></tr><tr><td>1417131344</td><td>465035343</td><td>1625140369203</td><td>5</td><td>1</td><td>9</td><td>0</td><td>0</td></tr><tr><td>1620297884</td><td>466379834</td><td>1625585195357</td><td>2</td><td>0</td><td>16</td><td>1</td><td>234</td></tr><tr><td>2445414622</td><td>465457598</td><td>1625235071269</td><td>2</td><td>6</td><td>72</td><td>0</td><td>0</td></tr><tr><td>&hellip;</td><td>&hellip;</td><td>&hellip;</td><td>&hellip;</td><td>&hellip;</td><td>&hellip;</td><td>&hellip;</td><td>&hellip;</td></tr><tr><td>2317527996</td><td>466094674</td><td>1625417188110</td><td>2</td><td>0</td><td>16</td><td>0</td><td>0</td></tr><tr><td>2228697026</td><td>463113764</td><td>1624691840608</td><td>5</td><td>6</td><td>28</td><td>0</td><td>0</td></tr><tr><td>1971991350</td><td>465499508</td><td>1625320896098</td><td>5</td><td>13</td><td>142</td><td>0</td><td>0</td></tr><tr><td>507973528</td><td>465940288</td><td>1625387169614</td><td>5</td><td>1</td><td>10</td><td>0</td><td>0</td></tr><tr><td>2392714678</td><td>463303270</td><td>1624672200846</td><td>2</td><td>0</td><td>16</td><td>0</td><td>0</td></tr></tbody></table></div>"
      ],
      "text/plain": [
       "shape: (187_276_126, 8)\n",
       "┌────────────┬────────────┬────────────┬────────────┬───────────┬───────────┬───────────┬──────────┐\n",
       "│ user_id    ┆ article_id ┆ expose_tim ┆ network_en ┆ refresh_c ┆ expose_po ┆ is_clicke ┆ duration │\n",
       "│ ---        ┆ ---        ┆ e          ┆ v          ┆ ount      ┆ s         ┆ d         ┆ ---      │\n",
       "│ i64        ┆ i64        ┆ ---        ┆ ---        ┆ ---       ┆ ---       ┆ ---       ┆ i64      │\n",
       "│            ┆            ┆ i64        ┆ i64        ┆ i64       ┆ i64       ┆ i64       ┆          │\n",
       "╞════════════╪════════════╪════════════╪════════════╪═══════════╪═══════════╪═══════════╪══════════╡\n",
       "│ 2382354600 ┆ 462989776  ┆ 1624654153 ┆ 5          ┆ 35        ┆ 142       ┆ 0         ┆ 0        │\n",
       "│            ┆            ┆ 051        ┆            ┆           ┆           ┆           ┆          │\n",
       "│ 2395959330 ┆ 466618776  ┆ 1625552823 ┆ 5          ┆ 8         ┆ 85        ┆ 0         ┆ 0        │\n",
       "│            ┆            ┆ 540        ┆            ┆           ┆           ┆           ┆          │\n",
       "│ 1417131344 ┆ 465035343  ┆ 1625140369 ┆ 5          ┆ 1         ┆ 9         ┆ 0         ┆ 0        │\n",
       "│            ┆            ┆ 203        ┆            ┆           ┆           ┆           ┆          │\n",
       "│ 1620297884 ┆ 466379834  ┆ 1625585195 ┆ 2          ┆ 0         ┆ 16        ┆ 1         ┆ 234      │\n",
       "│            ┆            ┆ 357        ┆            ┆           ┆           ┆           ┆          │\n",
       "│ 2445414622 ┆ 465457598  ┆ 1625235071 ┆ 2          ┆ 6         ┆ 72        ┆ 0         ┆ 0        │\n",
       "│            ┆            ┆ 269        ┆            ┆           ┆           ┆           ┆          │\n",
       "│ …          ┆ …          ┆ …          ┆ …          ┆ …         ┆ …         ┆ …         ┆ …        │\n",
       "│ 2317527996 ┆ 466094674  ┆ 1625417188 ┆ 2          ┆ 0         ┆ 16        ┆ 0         ┆ 0        │\n",
       "│            ┆            ┆ 110        ┆            ┆           ┆           ┆           ┆          │\n",
       "│ 2228697026 ┆ 463113764  ┆ 1624691840 ┆ 5          ┆ 6         ┆ 28        ┆ 0         ┆ 0        │\n",
       "│            ┆            ┆ 608        ┆            ┆           ┆           ┆           ┆          │\n",
       "│ 1971991350 ┆ 465499508  ┆ 1625320896 ┆ 5          ┆ 13        ┆ 142       ┆ 0         ┆ 0        │\n",
       "│            ┆            ┆ 098        ┆            ┆           ┆           ┆           ┆          │\n",
       "│ 507973528  ┆ 465940288  ┆ 1625387169 ┆ 5          ┆ 1         ┆ 10        ┆ 0         ┆ 0        │\n",
       "│            ┆            ┆ 614        ┆            ┆           ┆           ┆           ┆          │\n",
       "│ 2392714678 ┆ 463303270  ┆ 1624672200 ┆ 2          ┆ 0         ┆ 16        ┆ 0         ┆ 0        │\n",
       "│            ┆            ┆ 846        ┆            ┆           ┆           ┆           ┆          │\n",
       "└────────────┴────────────┴────────────┴────────────┴───────────┴───────────┴───────────┴──────────┘"
      ]
     },
     "execution_count": 70,
     "metadata": {},
     "output_type": "execute_result"
    }
   ],
   "source": [
    "# 在is_clicked和duration上加和即可(因为一条点击数据对应一条相同的未点击数据，而异常值-1正好都是点击数据，不用担心出错)\n",
    "train_data = train_data.group_by([\n",
    "    \"user_id\", \"article_id\", \"expose_time\", \n",
    "    \"network_env\", \"refresh_count\", \"expose_pos\"\n",
    "]).agg(\n",
    "    pl.col(\"is_clicked\").sum().alias(\"is_clicked\"),  # is_clicked 列求和\n",
    "    pl.col(\"duration\").sum().alias(\"duration\")       # duration 列求和\n",
    ")\n",
    "train_data"
   ]
  },
  {
   "cell_type": "markdown",
   "metadata": {},
   "source": [
    "### 3. 拆分数据"
   ]
  },
  {
   "cell_type": "markdown",
   "metadata": {},
   "source": [
    "#### 3.1 线下数据"
   ]
  },
  {
   "cell_type": "code",
   "execution_count": null,
   "metadata": {},
   "outputs": [],
   "source": [
    "temp_path = \"./temp_results\" \n",
    "\n",
    "# 先添加 date 列\n",
    "train_data = train_data.with_columns(\n",
    "    pl.from_epoch(pl.col(\"expose_time\") // 1000).cast(pl.Date).alias(\"date\")\n",
    ")\n",
    "\n",
    "# 设定验证日期\n",
    "val_date = pl.lit(\"2021-07-05\").cast(pl.Date)\n",
    "train_data_offline = train_data.filter(pl.col(\"date\") < val_date)\n",
    "val_data_offline =  train_data.filter(pl.col(\"date\") == val_date)\n",
    "\n",
    "\n",
    "# 保存数据\n",
    "train_data_offline.write_ipc(f\"{temp_path}/train_data_offline.ipc\")\n",
    "val_data_offline.write_ipc(f\"{temp_path}/val_data_offline.ipc\")\n"
   ]
  },
  {
   "cell_type": "markdown",
   "metadata": {},
   "source": [
    "#### 3.2 线上数据"
   ]
  },
  {
   "cell_type": "code",
   "execution_count": null,
   "metadata": {},
   "outputs": [],
   "source": [
    "temp_path = \"/data1/zxh/news_rec/temp_results\" \n",
    "\n",
    "# 设定验证日期\n",
    "val_date = pl.lit(\"2021-07-05\").cast(pl.Date)\n",
    "\n",
    "train_data_online = train_data.filter(pl.col(\"date\") <= val_date)\n",
    "test_data_online = train_data.filter(pl.col(\"date\") > val_date)\n",
    "\n",
    "\n",
    "# 保存数据\n",
    "train_data_online.write_ipc(f\"{temp_path}/train_data_online.ipc\")\n",
    "test_data_online.write_ipc(f\"{temp_path}/test_data_online.ipc\")"
   ]
  }
 ],
 "metadata": {
  "kernelspec": {
   "display_name": "tensorflow",
   "language": "python",
   "name": "python3"
  },
  "language_info": {
   "codemirror_mode": {
    "name": "ipython",
    "version": 3
   },
   "file_extension": ".py",
   "mimetype": "text/x-python",
   "name": "python",
   "nbconvert_exporter": "python",
   "pygments_lexer": "ipython3",
   "version": "3.9.21"
  }
 },
 "nbformat": 4,
 "nbformat_minor": 2
}
