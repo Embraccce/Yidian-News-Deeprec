{
 "cells": [
  {
   "cell_type": "code",
   "execution_count": 1,
   "metadata": {},
   "outputs": [],
   "source": [
    "import polars as pl\n",
    "import pickle"
   ]
  },
  {
   "cell_type": "markdown",
   "metadata": {},
   "source": [
    "#### 1. 读取doc_info并删除其他行"
   ]
  },
  {
   "cell_type": "code",
   "execution_count": 2,
   "metadata": {},
   "outputs": [],
   "source": [
    "data_path = \"/data3/zxh/news_rec/raw_data\""
   ]
  },
  {
   "cell_type": "code",
   "execution_count": 3,
   "metadata": {},
   "outputs": [
    {
     "data": {
      "text/html": [
       "<div><style>\n",
       ".dataframe > thead > tr,\n",
       ".dataframe > tbody > tr {\n",
       "  text-align: right;\n",
       "  white-space: pre-wrap;\n",
       "}\n",
       "</style>\n",
       "<small>shape: (633_388, 2)</small><table border=\"1\" class=\"dataframe\"><thead><tr><th>article_id</th><th>keywords</th></tr><tr><td>i64</td><td>str</td></tr></thead><tbody><tr><td>349635709</td><td>&quot;上班族:8.469502,买车:8.137443,二手车:9…</td></tr><tr><td>361653323</td><td>&quot;医生:14.760494,吸烟:16.474872,板蓝根:…</td></tr><tr><td>426732705</td><td>&quot;155n:8.979802,polo:7.951116,中控…</td></tr><tr><td>430221183</td><td>&quot;etc:12.055207,代表:8.878175,内饰:5…</td></tr><tr><td>441756326</td><td>&quot;丰田凯美瑞:12.772149,充电器:8.394001,品…</td></tr><tr><td>&hellip;</td><td>&hellip;</td></tr><tr><td>467277215</td><td>&quot;人因:6.528161,健康:6.471880,儿童:7.5…</td></tr><tr><td>467277413</td><td>&quot;体力:5.064578,吕钦:14.577604,唐丹:24…</td></tr><tr><td>467277503</td><td>&quot;伊朗:7.489791,刷釉:18.557439,北宋:8.…</td></tr><tr><td>467278115</td><td>&quot;cj:16.306715,三巨头:9.342195,争冠:8…</td></tr><tr><td>467278124</td><td>&quot;t恤:7.948009,主理人:6.483395,优雅:5.…</td></tr></tbody></table></div>"
      ],
      "text/plain": [
       "shape: (633_388, 2)\n",
       "┌────────────┬─────────────────────────────────┐\n",
       "│ article_id ┆ keywords                        │\n",
       "│ ---        ┆ ---                             │\n",
       "│ i64        ┆ str                             │\n",
       "╞════════════╪═════════════════════════════════╡\n",
       "│ 349635709  ┆ 上班族:8.469502,买车:8.137443,  │\n",
       "│            ┆ 二手车:9…                       │\n",
       "│ 361653323  ┆ 医生:14.760494,吸烟:16.474872,  │\n",
       "│            ┆ 板蓝根:…                        │\n",
       "│ 426732705  ┆ 155n:8.979802,polo:7.951116,中  │\n",
       "│            ┆ 控…                             │\n",
       "│ 430221183  ┆ etc:12.055207,代表:8.878175,内  │\n",
       "│            ┆ 饰:5…                           │\n",
       "│ 441756326  ┆ 丰田凯美瑞:12.772149,充电器:8.3 │\n",
       "│            ┆ 94001,品…                       │\n",
       "│ …          ┆ …                               │\n",
       "│ 467277215  ┆ 人因:6.528161,健康:6.471880,儿  │\n",
       "│            ┆ 童:7.5…                         │\n",
       "│ 467277413  ┆ 体力:5.064578,吕钦:14.577604,唐 │\n",
       "│            ┆ 丹:24…                          │\n",
       "│ 467277503  ┆ 伊朗:7.489791,刷釉:18.557439,北 │\n",
       "│            ┆ 宋:8.…                          │\n",
       "│ 467278115  ┆ cj:16.306715,三巨头:9.342195,争 │\n",
       "│            ┆ 冠:8…                           │\n",
       "│ 467278124  ┆ t恤:7.948009,主理人:6.483395,优 │\n",
       "│            ┆ 雅:5.…                          │\n",
       "└────────────┴─────────────────────────────────┘"
      ]
     },
     "execution_count": 3,
     "metadata": {},
     "output_type": "execute_result"
    }
   ],
   "source": [
    "doc_info = pl.read_ipc(f\"{data_path}/doc_info.arrow\").select([\"article_id\", \"keywords\"])\n",
    "doc_info"
   ]
  },
  {
   "cell_type": "markdown",
   "metadata": {},
   "source": [
    "#### 2. 查看相关信息"
   ]
  },
  {
   "cell_type": "code",
   "execution_count": 4,
   "metadata": {},
   "outputs": [
    {
     "data": {
      "text/html": [
       "<div><style>\n",
       ".dataframe > thead > tr,\n",
       ".dataframe > tbody > tr {\n",
       "  text-align: right;\n",
       "  white-space: pre-wrap;\n",
       "}\n",
       "</style>\n",
       "<small>shape: (9, 3)</small><table border=\"1\" class=\"dataframe\"><thead><tr><th>statistic</th><th>article_id</th><th>keywords</th></tr><tr><td>str</td><td>f64</td><td>str</td></tr></thead><tbody><tr><td>&quot;count&quot;</td><td>633388.0</td><td>&quot;622407&quot;</td></tr><tr><td>&quot;null_count&quot;</td><td>0.0</td><td>&quot;10981&quot;</td></tr><tr><td>&quot;mean&quot;</td><td>4.6462e8</td><td>null</td></tr><tr><td>&quot;std&quot;</td><td>1.5769e6</td><td>null</td></tr><tr><td>&quot;min&quot;</td><td>3.25279629e8</td><td>&quot;#^^0000ff:10.539391,0000ff:10.…</td></tr><tr><td>&quot;25%&quot;</td><td>4.6344849e8</td><td>null</td></tr><tr><td>&quot;50%&quot;</td><td>4.64618782e8</td><td>null</td></tr><tr><td>&quot;75%&quot;</td><td>4.65814182e8</td><td>null</td></tr><tr><td>&quot;max&quot;</td><td>4.67278131e8</td><td>&quot;龙泉:20.366828&quot;</td></tr></tbody></table></div>"
      ],
      "text/plain": [
       "shape: (9, 3)\n",
       "┌────────────┬──────────────┬─────────────────────────────────┐\n",
       "│ statistic  ┆ article_id   ┆ keywords                        │\n",
       "│ ---        ┆ ---          ┆ ---                             │\n",
       "│ str        ┆ f64          ┆ str                             │\n",
       "╞════════════╪══════════════╪═════════════════════════════════╡\n",
       "│ count      ┆ 633388.0     ┆ 622407                          │\n",
       "│ null_count ┆ 0.0          ┆ 10981                           │\n",
       "│ mean       ┆ 4.6462e8     ┆ null                            │\n",
       "│ std        ┆ 1.5769e6     ┆ null                            │\n",
       "│ min        ┆ 3.25279629e8 ┆ #^^0000ff:10.539391,0000ff:10.… │\n",
       "│ 25%        ┆ 4.6344849e8  ┆ null                            │\n",
       "│ 50%        ┆ 4.64618782e8 ┆ null                            │\n",
       "│ 75%        ┆ 4.65814182e8 ┆ null                            │\n",
       "│ max        ┆ 4.67278131e8 ┆ 龙泉:20.366828                  │\n",
       "└────────────┴──────────────┴─────────────────────────────────┘"
      ]
     },
     "execution_count": 4,
     "metadata": {},
     "output_type": "execute_result"
    }
   ],
   "source": [
    "doc_info.describe()"
   ]
  },
  {
   "cell_type": "markdown",
   "metadata": {},
   "source": [
    "#### 3. 过滤掉null or 空字符串的情况"
   ]
  },
  {
   "cell_type": "code",
   "execution_count": 5,
   "metadata": {},
   "outputs": [
    {
     "data": {
      "text/html": [
       "<div><style>\n",
       ".dataframe > thead > tr,\n",
       ".dataframe > tbody > tr {\n",
       "  text-align: right;\n",
       "  white-space: pre-wrap;\n",
       "}\n",
       "</style>\n",
       "<small>shape: (622_407, 2)</small><table border=\"1\" class=\"dataframe\"><thead><tr><th>article_id</th><th>keywords</th></tr><tr><td>i64</td><td>str</td></tr></thead><tbody><tr><td>349635709</td><td>&quot;上班族:8.469502,买车:8.137443,二手车:9…</td></tr><tr><td>361653323</td><td>&quot;医生:14.760494,吸烟:16.474872,板蓝根:…</td></tr><tr><td>426732705</td><td>&quot;155n:8.979802,polo:7.951116,中控…</td></tr><tr><td>430221183</td><td>&quot;etc:12.055207,代表:8.878175,内饰:5…</td></tr><tr><td>441756326</td><td>&quot;丰田凯美瑞:12.772149,充电器:8.394001,品…</td></tr><tr><td>&hellip;</td><td>&hellip;</td></tr><tr><td>467277215</td><td>&quot;人因:6.528161,健康:6.471880,儿童:7.5…</td></tr><tr><td>467277413</td><td>&quot;体力:5.064578,吕钦:14.577604,唐丹:24…</td></tr><tr><td>467277503</td><td>&quot;伊朗:7.489791,刷釉:18.557439,北宋:8.…</td></tr><tr><td>467278115</td><td>&quot;cj:16.306715,三巨头:9.342195,争冠:8…</td></tr><tr><td>467278124</td><td>&quot;t恤:7.948009,主理人:6.483395,优雅:5.…</td></tr></tbody></table></div>"
      ],
      "text/plain": [
       "shape: (622_407, 2)\n",
       "┌────────────┬─────────────────────────────────┐\n",
       "│ article_id ┆ keywords                        │\n",
       "│ ---        ┆ ---                             │\n",
       "│ i64        ┆ str                             │\n",
       "╞════════════╪═════════════════════════════════╡\n",
       "│ 349635709  ┆ 上班族:8.469502,买车:8.137443,  │\n",
       "│            ┆ 二手车:9…                       │\n",
       "│ 361653323  ┆ 医生:14.760494,吸烟:16.474872,  │\n",
       "│            ┆ 板蓝根:…                        │\n",
       "│ 426732705  ┆ 155n:8.979802,polo:7.951116,中  │\n",
       "│            ┆ 控…                             │\n",
       "│ 430221183  ┆ etc:12.055207,代表:8.878175,内  │\n",
       "│            ┆ 饰:5…                           │\n",
       "│ 441756326  ┆ 丰田凯美瑞:12.772149,充电器:8.3 │\n",
       "│            ┆ 94001,品…                       │\n",
       "│ …          ┆ …                               │\n",
       "│ 467277215  ┆ 人因:6.528161,健康:6.471880,儿  │\n",
       "│            ┆ 童:7.5…                         │\n",
       "│ 467277413  ┆ 体力:5.064578,吕钦:14.577604,唐 │\n",
       "│            ┆ 丹:24…                          │\n",
       "│ 467277503  ┆ 伊朗:7.489791,刷釉:18.557439,北 │\n",
       "│            ┆ 宋:8.…                          │\n",
       "│ 467278115  ┆ cj:16.306715,三巨头:9.342195,争 │\n",
       "│            ┆ 冠:8…                           │\n",
       "│ 467278124  ┆ t恤:7.948009,主理人:6.483395,优 │\n",
       "│            ┆ 雅:5.…                          │\n",
       "└────────────┴─────────────────────────────────┘"
      ]
     },
     "execution_count": 5,
     "metadata": {},
     "output_type": "execute_result"
    }
   ],
   "source": [
    "doc_info = doc_info.filter((pl.col(\"keywords\").is_not_null()) & (pl.col(\"keywords\") != \"\"))\n",
    "doc_info"
   ]
  },
  {
   "cell_type": "markdown",
   "metadata": {},
   "source": [
    "#### 4. 将文章ID和关键字的DataFrame转换为归一化字典"
   ]
  },
  {
   "cell_type": "code",
   "execution_count": 9,
   "metadata": {},
   "outputs": [],
   "source": [
    "def build_normalized_dict(doc_info_df):\n",
    "    \"\"\"\n",
    "    将包含文章ID和关键字的DataFrame转换为归一化字典\n",
    "    参数：\n",
    "        doc_info_df : pd.DataFrame，包含两列 [article_id, keywords]\n",
    "    \n",
    "    返回：\n",
    "        dict，结构为 {article_id: {keyword: normalized_score, ...}, ...}\n",
    "        set，所有出现过的关键字集合\n",
    "        int，最多出现的关键字数\n",
    "    \"\"\"\n",
    "    result = {}\n",
    "    all_keywords = set()  # 用于存储所有出现过的关键字\n",
    "    max_keywords_count = 0  # 记录每条记录中最多出现的关键字数\n",
    "\n",
    "    for _, row in doc_info_df.iterrows():\n",
    "        article_id = row['article_id']\n",
    "        keywords_str = row['keywords'].strip('\"')  # 移除首尾可能的引号\n",
    "        \n",
    "        # 分割键值对并转换数值\n",
    "        pairs = []\n",
    "        total = 0.0\n",
    "        current_keywords_count = 0  # 记录当前记录中关键字的数量\n",
    "        for pair in keywords_str.split(','):\n",
    "            if ':' not in pair:\n",
    "                continue\n",
    "            \n",
    "            key, value = pair.split(':', 1)  # 只分割第一个冒号\n",
    "            try:\n",
    "                num = float(value)\n",
    "                pairs.append((key.strip(), num))\n",
    "                total += num\n",
    "                all_keywords.add(key.strip())  # 将关键字添加到集合中\n",
    "                current_keywords_count += 1  # 增加当前记录中的关键字数\n",
    "            except ValueError:\n",
    "                continue\n",
    "        \n",
    "        # 更新最多出现的关键字数\n",
    "        max_keywords_count = max(max_keywords_count, current_keywords_count)\n",
    "        \n",
    "        # 归一化处理（避免除零错误）\n",
    "        normalized_dict = {}\n",
    "        if total > 0:\n",
    "            normalized_dict = {k: v/total for k, v in pairs}\n",
    "        \n",
    "        result[article_id] = normalized_dict\n",
    "\n",
    "    return result, all_keywords, max_keywords_count  # 返回归一化字典、所有出现过的关键字集合和最多出现的关键字数"
   ]
  },
  {
   "cell_type": "code",
   "execution_count": 10,
   "metadata": {},
   "outputs": [],
   "source": [
    "# 构建字典\n",
    "normalized_dict, all_keywords_set, maxlen = build_normalized_dict(doc_info.to_pandas())"
   ]
  },
  {
   "cell_type": "code",
   "execution_count": 9,
   "metadata": {},
   "outputs": [
    {
     "data": {
      "text/html": [
       "<div><style>\n",
       ".dataframe > thead > tr,\n",
       ".dataframe > tbody > tr {\n",
       "  text-align: right;\n",
       "  white-space: pre-wrap;\n",
       "}\n",
       "</style>\n",
       "<small>shape: (622_407, 2)</small><table border=\"1\" class=\"dataframe\"><thead><tr><th>article_id</th><th>keywords</th></tr><tr><td>i64</td><td>str</td></tr></thead><tbody><tr><td>349635709</td><td>&quot;上班族:0.052498,买车:0.050440,二手车:0…</td></tr><tr><td>361653323</td><td>&quot;医生:0.133734,吸烟:0.149266,板蓝根:0.…</td></tr><tr><td>426732705</td><td>&quot;155n:0.033340,polo:0.029521,中控…</td></tr><tr><td>430221183</td><td>&quot;etc:0.038040,代表:0.028015,内饰:0.…</td></tr><tr><td>441756326</td><td>&quot;丰田凯美瑞:0.089051,充电器:0.058525,品牌…</td></tr><tr><td>&hellip;</td><td>&hellip;</td></tr><tr><td>467277215</td><td>&quot;人因:0.021596,健康:0.021410,儿童:0.0…</td></tr><tr><td>467277413</td><td>&quot;体力:0.017298,吕钦:0.049790,唐丹:0.0…</td></tr><tr><td>467277503</td><td>&quot;伊朗:0.021034,刷釉:0.052117,北宋:0.0…</td></tr><tr><td>467278115</td><td>&quot;cj:0.048329,三巨头:0.027688,争冠:0.…</td></tr><tr><td>467278124</td><td>&quot;t恤:0.031757,主理人:0.025905,优雅:0.…</td></tr></tbody></table></div>"
      ],
      "text/plain": [
       "shape: (622_407, 2)\n",
       "┌────────────┬─────────────────────────────────┐\n",
       "│ article_id ┆ keywords                        │\n",
       "│ ---        ┆ ---                             │\n",
       "│ i64        ┆ str                             │\n",
       "╞════════════╪═════════════════════════════════╡\n",
       "│ 349635709  ┆ 上班族:0.052498,买车:0.050440,  │\n",
       "│            ┆ 二手车:0…                       │\n",
       "│ 361653323  ┆ 医生:0.133734,吸烟:0.149266,板  │\n",
       "│            ┆ 蓝根:0.…                        │\n",
       "│ 426732705  ┆ 155n:0.033340,polo:0.029521,中  │\n",
       "│            ┆ 控…                             │\n",
       "│ 430221183  ┆ etc:0.038040,代表:0.028015,内饰 │\n",
       "│            ┆ :0.…                            │\n",
       "│ 441756326  ┆ 丰田凯美瑞:0.089051,充电器:0.05 │\n",
       "│            ┆ 8525,品牌…                      │\n",
       "│ …          ┆ …                               │\n",
       "│ 467277215  ┆ 人因:0.021596,健康:0.021410,儿  │\n",
       "│            ┆ 童:0.0…                         │\n",
       "│ 467277413  ┆ 体力:0.017298,吕钦:0.049790,唐  │\n",
       "│            ┆ 丹:0.0…                         │\n",
       "│ 467277503  ┆ 伊朗:0.021034,刷釉:0.052117,北  │\n",
       "│            ┆ 宋:0.0…                         │\n",
       "│ 467278115  ┆ cj:0.048329,三巨头:0.027688,争  │\n",
       "│            ┆ 冠:0.…                          │\n",
       "│ 467278124  ┆ t恤:0.031757,主理人:0.025905,优 │\n",
       "│            ┆ 雅:0.…                          │\n",
       "└────────────┴─────────────────────────────────┘"
      ]
     },
     "execution_count": 9,
     "metadata": {},
     "output_type": "execute_result"
    }
   ],
   "source": [
    "# 转换为 polars 的 DataFrame\n",
    "def convert_to_polars(doc_keyword_dict):\n",
    "    data = []\n",
    "    for doc_id, keywords in doc_keyword_dict.items():\n",
    "        # 转换 key-value 形式为 \"关键词:权重\"\n",
    "        keywords_str = \",\".join(f\"{k}:{v:.6f}\" for k, v in keywords.items())\n",
    "        data.append((doc_id, keywords_str))\n",
    "    \n",
    "    # 创建 Polars DataFrame\n",
    "    df = pl.DataFrame(data, schema=[\"article_id\", \"keywords\"], orient=\"row\")\n",
    "    return df\n",
    "doc_keywords = convert_to_polars(normalized_dict)\n",
    "doc_keywords"
   ]
  },
  {
   "cell_type": "code",
   "execution_count": 10,
   "metadata": {},
   "outputs": [],
   "source": [
    "# 保存数据\n",
    "public_path = \"/data3/zxh/news_rec/public_data\" \n",
    "doc_keywords.write_ipc(f\"{public_path}/doc_keywords_feature.ipc\")"
   ]
  }
 ],
 "metadata": {
  "kernelspec": {
   "display_name": "tensorflow",
   "language": "python",
   "name": "python3"
  },
  "language_info": {
   "codemirror_mode": {
    "name": "ipython",
    "version": 3
   },
   "file_extension": ".py",
   "mimetype": "text/x-python",
   "name": "python",
   "nbconvert_exporter": "python",
   "pygments_lexer": "ipython3",
   "version": "3.9.21"
  }
 },
 "nbformat": 4,
 "nbformat_minor": 2
}
