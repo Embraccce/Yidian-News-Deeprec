{
 "cells": [
  {
   "cell_type": "code",
   "execution_count": 17,
   "metadata": {},
   "outputs": [],
   "source": [
    "import polars as pl\n",
    "from scipy.stats import boxcox\n",
    "from sklearn.preprocessing import MinMaxScaler\n",
    "import numpy as np\n",
    "from typing import List\n",
    "import pandas as pd"
   ]
  },
  {
   "cell_type": "markdown",
   "metadata": {},
   "source": [
    "### 1. 读取数据"
   ]
  },
  {
   "cell_type": "code",
   "execution_count": 18,
   "metadata": {},
   "outputs": [],
   "source": [
    "offline_path = \"/data3/zxh/news_rec/offline_data\"\n",
    "online_path = \"/data3/zxh/news_rec/online_data\"\n",
    "raw_path = \"/data3/zxh/news_rec/raw_data\""
   ]
  },
  {
   "cell_type": "code",
   "execution_count": 19,
   "metadata": {},
   "outputs": [],
   "source": [
    "# 读取用户交互记录\n",
    "train_data_offline = pl.read_ipc(f\"{offline_path}/train_data_offline.ipc\")\n",
    "val_data_offline =  pl.read_ipc(f\"{offline_path}/val_data_offline.ipc\")\n",
    "test_data_online = pl.read_ipc(f\"{online_path}/test_data_online.ipc\")\n",
    "\n",
    "# 读取文章和用户信息\n",
    "user_info = pl.read_ipc(f\"{raw_path}/user_info.arrow\")\n",
    "doc_info = pl.read_ipc(f\"{raw_path}/doc_info.arrow\")"
   ]
  },
  {
   "cell_type": "markdown",
   "metadata": {},
   "source": [
    "### 2. 合并数据"
   ]
  },
  {
   "cell_type": "code",
   "execution_count": 20,
   "metadata": {},
   "outputs": [],
   "source": [
    "# 线下训练只统计train_data的统计特征，而线上测试的时候需要train_data + val_data\n",
    "offline = False\n",
    "if offline:\n",
    "    train_data, val_data, test_data = train_data_offline, val_data_offline, test_data_online\n",
    "else:\n",
    "    train_data, test_data = pl.concat([train_data_offline, val_data_offline], how=\"vertical\"), test_data_online\n",
    "\n",
    "# 1. 合并数据\n",
    "merged_df = train_data.join(user_info, on=\"user_id\", how=\"left\")\n",
    "merged_df = merged_df.join(doc_info, on=\"article_id\", how=\"left\")\n",
    "\n",
    "# 2. 删除无关特征\n",
    "merged_df = merged_df.drop(\n",
    "    [\"expose_time\", \"network_env\", \"duration\", \"refresh_count\", \"refresh_count_transformed_box\", \n",
    "    \"expose_pos\",\"device_name\",\"os\",\"province\",\"city\",\"age\",\"gender\",\"title\",\"publish_time\",\"image_count\",\"keywords\"]\n",
    ")\n"
   ]
  },
  {
   "cell_type": "markdown",
   "metadata": {},
   "source": [
    "### 3. 计算基于 docid（文章）的点击率"
   ]
  },
  {
   "cell_type": "code",
   "execution_count": 21,
   "metadata": {},
   "outputs": [],
   "source": [
    "def min_max_scale(df: pl.DataFrame, columns: List[str], scaler=None) -> pl.DataFrame:\n",
    "    \"\"\"\n",
    "    Min-Max 标准化函数\n",
    "    \"\"\"\n",
    "    if scaler is None:\n",
    "        scaler = MinMaxScaler()\n",
    "        scaler.fit(df.select(columns).to_numpy())\n",
    "\n",
    "    scaled_values = scaler.transform(df.select(columns).to_numpy())\n",
    "\n",
    "    return df.with_columns([\n",
    "        pl.Series(scaled_values[:, i]).alias(f\"{col}\")\n",
    "        for i, col in enumerate(columns)\n",
    "    ])\n",
    "\n",
    "def compute_doc_ctr(merged_df: pl.DataFrame, columns_to_scale: List[str], z: float = 1.96) -> pl.DataFrame:\n",
    "    \"\"\"\n",
    "    计算文章的点击次数、曝光次数、CTR、Wilson 平滑 CTR，并对曝光次数和点击次数进行 Box-Cox 变换，同时进行 Min-Max 归一化。\n",
    "\n",
    "    参数：\n",
    "    - merged_df: 合并后的数据，包含 article_id、is_clicked 等列\n",
    "    - columns_to_scale: 需要进行 Min-Max 归一化的列\n",
    "    - z: Wilson 平滑的置信度（默认 1.96，95% 置信区间）\n",
    "\n",
    "    返回：\n",
    "    - 处理后的文章 CTR DataFrame\n",
    "    \"\"\"\n",
    "    \n",
    "    # 1. 计算文章的曝光次数和点击次数\n",
    "    doc_ctr = (\n",
    "        merged_df\n",
    "        .group_by(\"article_id\")\n",
    "        .agg([\n",
    "            pl.sum(\"is_clicked\").alias(\"docid_history_count\"),  # 文章总点击次数\n",
    "            pl.count(\"is_clicked\").alias(\"docid_expose_count\")  # 文章总曝光次数\n",
    "        ])\n",
    "        .with_columns(\n",
    "            (pl.col(\"docid_history_count\") / pl.col(\"docid_expose_count\")).alias(\"docid_ctr\")  # 计算CTR\n",
    "        )\n",
    "    )\n",
    "\n",
    "    # 2. 计算 Wilson 平滑 CTR\n",
    "    doc_ctr = doc_ctr.with_columns([\n",
    "        ((pl.col(\"docid_ctr\") + (z**2) / (2 * pl.col(\"docid_expose_count\")) -\n",
    "         z * ((pl.col(\"docid_ctr\") * (1 - pl.col(\"docid_ctr\")) / pl.col(\"docid_expose_count\") +\n",
    "         (z**2) / (4 * pl.col(\"docid_expose_count\")**2)).sqrt())) /\n",
    "         (1 + (z**2) / pl.col(\"docid_expose_count\"))).alias(\"docid_wilson_ctr\")\n",
    "    ])\n",
    "\n",
    "    # 3. 对 docid_expose_count 和 docid_history_count 进行 Box-Cox 变换（加 1 以避免 0 值）\n",
    "    doc_ctr = doc_ctr.with_columns(\n",
    "        (pl.Series(boxcox(doc_ctr[\"docid_expose_count\"].to_numpy() + 1)[0])).alias(\"docid_expose_count_transformed_box\")\n",
    "    )\n",
    "\n",
    "    doc_ctr = doc_ctr.with_columns(\n",
    "        (pl.Series(boxcox(doc_ctr[\"docid_history_count\"].to_numpy() + 1)[0])).alias(\"docid_history_count_transformed_box\")\n",
    "    )\n",
    "\n",
    "    # 4. 进行 Min - Max 归一化\n",
    "    doc_ctr = min_max_scale(doc_ctr, columns_to_scale)\n",
    "\n",
    "    return doc_ctr"
   ]
  },
  {
   "cell_type": "code",
   "execution_count": 22,
   "metadata": {},
   "outputs": [],
   "source": [
    "doc_ctr = compute_doc_ctr(merged_df, [\"docid_expose_count_transformed_box\", \"docid_history_count_transformed_box\"])\n",
    "\n",
    "if offline:\n",
    "    doc_ctr.write_ipc(f\"{offline_path}/doc_ctr_offline.ipc\")\n",
    "else:\n",
    "    doc_ctr.write_ipc(f\"{online_path}/doc_ctr_online.ipc\")"
   ]
  },
  {
   "cell_type": "markdown",
   "metadata": {},
   "source": [
    "### 4. **计算基于 category1（一级分类）的历史点击次数、ctr和热度**"
   ]
  },
  {
   "cell_type": "code",
   "execution_count": 23,
   "metadata": {},
   "outputs": [],
   "source": [
    "def compute_category1_stats(merged_df: pl.DataFrame) -> pl.DataFrame:\n",
    "    \"\"\"\n",
    "    计算一级分类的点击次数、CTR、平均停留时长，并归一化点击次数为热度。\n",
    "\n",
    "    参数：\n",
    "    - merged_df: 合并后的数据，包含 category_level1、is_clicked 和 duration 列。\n",
    "\n",
    "    返回：\n",
    "    - 处理后的 category1 统计 DataFrame\n",
    "    \"\"\"\n",
    "    \n",
    "    # 1. 计算 category1 的点击总次数和 CTR\n",
    "    category1_stats = merged_df.group_by(\"category_level1\").agg([\n",
    "        pl.col(\"is_clicked\").sum().alias(\"category1_history_count\"),  # 一级分类点击总次数\n",
    "        (pl.col(\"is_clicked\").sum() / pl.len()).alias(\"category1_ctr\"),  # 点击率\n",
    "    ])\n",
    "\n",
    "    # 2. 归一化 category1_history_count 作为热度\n",
    "    category1_stats = category1_stats.with_columns(\n",
    "        (pl.col(\"category1_history_count\") / pl.col(\"category1_history_count\").sum()).alias(\"category1_popularity\")\n",
    "    ).fill_null(\"\")\n",
    "\n",
    "    # 3. 计算 category1 的平均停留时长（仅统计点击过的记录）\n",
    "    category1_duration_mean = merged_df.filter(pl.col(\"is_clicked\") == 1).group_by(\"category_level1\").agg(\n",
    "        pl.col(\"duration_transformed_box\").mean().alias(\"category1_history_duration_mean\")\n",
    "    ).fill_null(\"\") # 缺失的类别统一用\"\"来代替\n",
    "\n",
    "    # 4. 连接 category1_stats 和 category1_duration_mean\n",
    "    category1_stats = category1_stats.join(\n",
    "        category1_duration_mean,  # 右表\n",
    "        on=\"category_level1\",     # 连接键\n",
    "        how=\"left\"                # 左连接，保留所有 category1_stats 里的类别\n",
    "    )\n",
    "\n",
    "    # 5. 按热度降序排列\n",
    "    category1_stats = category1_stats.sort(\"category1_popularity\", descending=True)\n",
    "\n",
    "    return category1_stats"
   ]
  },
  {
   "cell_type": "code",
   "execution_count": 24,
   "metadata": {},
   "outputs": [],
   "source": [
    "category1_result = compute_category1_stats(merged_df)\n",
    "\n",
    "# 存储数据\n",
    "if offline:\n",
    "    category1_result.write_ipc(f\"{offline_path}/doc_category1_stats_offline.ipc\")\n",
    "else:\n",
    "    category1_result.write_ipc(f\"{online_path}/doc_category1_stats_online.ipc\")"
   ]
  },
  {
   "cell_type": "markdown",
   "metadata": {},
   "source": [
    "### 5. **计算基于 category2（二级分类）的历史点击次数、ctr和热度**"
   ]
  },
  {
   "cell_type": "code",
   "execution_count": 25,
   "metadata": {},
   "outputs": [],
   "source": [
    "def compute_category2_stats(merged_df: pl.DataFrame) -> pl.DataFrame:\n",
    "    \"\"\"\n",
    "    计算一级分类的点击次数、CTR、平均停留时长，并归一化点击次数为热度。\n",
    "\n",
    "    参数：\n",
    "    - merged_df: 合并后的数据，包含 category_level2、is_clicked 和 duration 列。\n",
    "\n",
    "    返回：\n",
    "    - 处理后的 category2 统计 DataFrame\n",
    "    \"\"\"\n",
    "    \n",
    "    # 1. 计算 category2 的点击总次数和 CTR\n",
    "    category2_stats = merged_df.group_by(\"category_level2\").agg([\n",
    "        pl.col(\"is_clicked\").sum().alias(\"category2_history_count\"),  # 二级分类点击总次数\n",
    "        (pl.col(\"is_clicked\").sum() / pl.len()).alias(\"category2_ctr\"),  # 点击率\n",
    "    ])\n",
    "\n",
    "    # 2. 归一化 category2_history_count 作为热度\n",
    "    category2_stats = category2_stats.with_columns(\n",
    "        (pl.col(\"category2_history_count\") / pl.col(\"category2_history_count\").sum()).alias(\"category2_popularity\")\n",
    "    ).fill_null(\"\")\n",
    "\n",
    "    # 3. 计算 category2 的平均停留时长（仅统计点击过的记录）\n",
    "    category2_duration_mean = merged_df.filter(pl.col(\"is_clicked\") == 1).group_by(\"category_level2\").agg(\n",
    "        pl.col(\"duration_transformed_box\").mean().alias(\"category2_history_duration_mean\")\n",
    "    ).fill_null(\"\") # 缺失的类别统一用\"\"来代替\n",
    "\n",
    "    # 4. 连接 category2_stats 和 category2_duration_mean\n",
    "    category2_stats = category2_stats.join(\n",
    "        category2_duration_mean,  # 右表\n",
    "        on=\"category_level2\",     # 连接键\n",
    "        how=\"left\"                # 左连接，保留所有 category2_stats 里的类别\n",
    "    )\n",
    "\n",
    "    # 5. 按热度降序排列\n",
    "    category2_stats = category2_stats.sort(\"category2_popularity\", descending=True)\n",
    "\n",
    "    return category2_stats"
   ]
  },
  {
   "cell_type": "code",
   "execution_count": 26,
   "metadata": {},
   "outputs": [],
   "source": [
    "category2_result = compute_category2_stats(merged_df)\n",
    "\n",
    "# 存储数据\n",
    "if offline:\n",
    "    category2_result.write_ipc(f\"{offline_path}/doc_category2_stats_offline.ipc\")\n",
    "else:\n",
    "    category2_result.write_ipc(f\"{online_path}/doc_category2_stats_online.ipc\")"
   ]
  },
  {
   "cell_type": "code",
   "execution_count": 27,
   "metadata": {},
   "outputs": [
    {
     "data": {
      "text/html": [
       "<div><style>\n",
       ".dataframe > thead > tr,\n",
       ".dataframe > tbody > tr {\n",
       "  text-align: right;\n",
       "  white-space: pre-wrap;\n",
       "}\n",
       "</style>\n",
       "<small>shape: (198, 5)</small><table border=\"1\" class=\"dataframe\"><thead><tr><th>category_level2</th><th>category2_history_count</th><th>category2_ctr</th><th>category2_popularity</th><th>category2_history_duration_mean</th></tr><tr><td>str</td><td>i64</td><td>f64</td><td>f64</td><td>f64</td></tr></thead><tbody><tr><td>&quot;情感/婚姻与家庭&quot;</td><td>2059011</td><td>0.155137</td><td>0.082589</td><td>0.378579</td></tr><tr><td>&quot;娱乐/内地明星&quot;</td><td>1925265</td><td>0.135733</td><td>0.077224</td><td>0.343158</td></tr><tr><td>&quot;军事/军事新闻&quot;</td><td>1015236</td><td>0.171002</td><td>0.040722</td><td>0.343749</td></tr><tr><td>&quot;健康/疾病防护治疗及西医用药&quot;</td><td>969574</td><td>0.12753</td><td>0.038891</td><td>0.329706</td></tr><tr><td>&quot;星座运势/风水与算命&quot;</td><td>910410</td><td>0.200625</td><td>0.036517</td><td>0.251325</td></tr><tr><td>&hellip;</td><td>&hellip;</td><td>&hellip;</td><td>&hellip;</td><td>&hellip;</td></tr><tr><td>&quot;汽车/其他&quot;</td><td>0</td><td>0.0</td><td>0.0</td><td>null</td></tr><tr><td>&quot;颜值才艺/男神&quot;</td><td>0</td><td>0.0</td><td>0.0</td><td>null</td></tr><tr><td>&quot;音乐/日本音乐&quot;</td><td>0</td><td>0.0</td><td>0.0</td><td>null</td></tr><tr><td>&quot;搞笑/小品&quot;</td><td>0</td><td>0.0</td><td>0.0</td><td>null</td></tr><tr><td>&quot;生活/室内游戏&quot;</td><td>0</td><td>0.0</td><td>0.0</td><td>null</td></tr></tbody></table></div>"
      ],
      "text/plain": [
       "shape: (198, 5)\n",
       "┌────────────────────┬────────────────────┬───────────────┬────────────────────┬───────────────────┐\n",
       "│ category_level2    ┆ category2_history_ ┆ category2_ctr ┆ category2_populari ┆ category2_history │\n",
       "│ ---                ┆ count              ┆ ---           ┆ ty                 ┆ _duration_mea…    │\n",
       "│ str                ┆ ---                ┆ f64           ┆ ---                ┆ ---               │\n",
       "│                    ┆ i64                ┆               ┆ f64                ┆ f64               │\n",
       "╞════════════════════╪════════════════════╪═══════════════╪════════════════════╪═══════════════════╡\n",
       "│ 情感/婚姻与家庭    ┆ 2059011            ┆ 0.155137      ┆ 0.082589           ┆ 0.378579          │\n",
       "│ 娱乐/内地明星      ┆ 1925265            ┆ 0.135733      ┆ 0.077224           ┆ 0.343158          │\n",
       "│ 军事/军事新闻      ┆ 1015236            ┆ 0.171002      ┆ 0.040722           ┆ 0.343749          │\n",
       "│ 健康/疾病防护治疗  ┆ 969574             ┆ 0.12753       ┆ 0.038891           ┆ 0.329706          │\n",
       "│ 及西医用药         ┆                    ┆               ┆                    ┆                   │\n",
       "│ 星座运势/风水与算  ┆ 910410             ┆ 0.200625      ┆ 0.036517           ┆ 0.251325          │\n",
       "│ 命                 ┆                    ┆               ┆                    ┆                   │\n",
       "│ …                  ┆ …                  ┆ …             ┆ …                  ┆ …                 │\n",
       "│ 汽车/其他          ┆ 0                  ┆ 0.0           ┆ 0.0                ┆ null              │\n",
       "│ 颜值才艺/男神      ┆ 0                  ┆ 0.0           ┆ 0.0                ┆ null              │\n",
       "│ 音乐/日本音乐      ┆ 0                  ┆ 0.0           ┆ 0.0                ┆ null              │\n",
       "│ 搞笑/小品          ┆ 0                  ┆ 0.0           ┆ 0.0                ┆ null              │\n",
       "│ 生活/室内游戏      ┆ 0                  ┆ 0.0           ┆ 0.0                ┆ null              │\n",
       "└────────────────────┴────────────────────┴───────────────┴────────────────────┴───────────────────┘"
      ]
     },
     "execution_count": 27,
     "metadata": {},
     "output_type": "execute_result"
    }
   ],
   "source": [
    "category2_result"
   ]
  },
  {
   "cell_type": "markdown",
   "metadata": {},
   "source": [
    "### 6. 计算文章的平均阅读时长"
   ]
  },
  {
   "cell_type": "code",
   "execution_count": 28,
   "metadata": {},
   "outputs": [],
   "source": [
    "# **计算文章的平均阅读时长**\n",
    "def compute_doc_duration_mean(merged_df: pl.DataFrame) -> pl.DataFrame:\n",
    "    \"\"\"\n",
    "    计算文章的的平均阅读时长\n",
    "    \"\"\"\n",
    "    return (\n",
    "        merged_df.\n",
    "        filter(pl.col(\"is_clicked\") == 1)\n",
    "        .group_by(\"article_id\")\n",
    "        .agg(pl.mean(\"duration_transformed_box\").alias(\"docid_history_duration_mean\"))\n",
    "    )"
   ]
  },
  {
   "cell_type": "code",
   "execution_count": 29,
   "metadata": {},
   "outputs": [],
   "source": [
    "doc_duration_mean = compute_doc_duration_mean(merged_df.fill_null(\"\"))\n",
    "if offline:\n",
    "    doc_duration_mean.write_ipc(f\"{offline_path}/doc_duration_mean_offline.ipc\")\n",
    "else:\n",
    "    doc_duration_mean.write_ipc(f\"{online_path}/doc_duration_mean_online.ipc\")"
   ]
  }
 ],
 "metadata": {
  "kernelspec": {
   "display_name": "tensorflow",
   "language": "python",
   "name": "python3"
  },
  "language_info": {
   "codemirror_mode": {
    "name": "ipython",
    "version": 3
   },
   "file_extension": ".py",
   "mimetype": "text/x-python",
   "name": "python",
   "nbconvert_exporter": "python",
   "pygments_lexer": "ipython3",
   "version": "3.9.21"
  }
 },
 "nbformat": 4,
 "nbformat_minor": 2
}
