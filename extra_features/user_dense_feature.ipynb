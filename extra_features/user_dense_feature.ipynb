{
 "cells": [
  {
   "cell_type": "code",
   "execution_count": 1,
   "metadata": {},
   "outputs": [],
   "source": [
    "import polars as pl\n",
    "import pandas as pd"
   ]
  },
  {
   "cell_type": "markdown",
   "metadata": {},
   "source": [
    "### 1. 读取数据"
   ]
  },
  {
   "cell_type": "code",
   "execution_count": 2,
   "metadata": {},
   "outputs": [],
   "source": [
    "temp_path = \"/data3/zxh/news_rec/temp_results\""
   ]
  },
  {
   "cell_type": "code",
   "execution_count": 3,
   "metadata": {},
   "outputs": [],
   "source": [
    "train_data_offline = pl.read_ipc(f\"{temp_path}/train_data_offline.ipc\")\n",
    "val_data_offline =  pl.read_ipc(f\"{temp_path}/val_data_offline.ipc\")\n",
    "test_data_online = pl.read_ipc(f\"{temp_path}/test_data_online.ipc\")"
   ]
  },
  {
   "cell_type": "markdown",
   "metadata": {},
   "source": [
    "### 2. 处理duration的异常值"
   ]
  },
  {
   "cell_type": "markdown",
   "metadata": {},
   "source": [
    "#### 2.1 处理duration为619315213的异常值"
   ]
  },
  {
   "cell_type": "code",
   "execution_count": 7,
   "metadata": {},
   "outputs": [
    {
     "data": {
      "text/html": [
       "<div><style>\n",
       ".dataframe > thead > tr,\n",
       ".dataframe > tbody > tr {\n",
       "  text-align: right;\n",
       "  white-space: pre-wrap;\n",
       "}\n",
       "</style>\n",
       "<small>shape: (9, 2)</small><table border=\"1\" class=\"dataframe\"><thead><tr><th>statistic</th><th>value</th></tr><tr><td>str</td><td>f64</td></tr></thead><tbody><tr><td>&quot;count&quot;</td><td>1.5893872e7</td></tr><tr><td>&quot;null_count&quot;</td><td>7739.0</td></tr><tr><td>&quot;mean&quot;</td><td>60.670086</td></tr><tr><td>&quot;std&quot;</td><td>155344.878725</td></tr><tr><td>&quot;min&quot;</td><td>0.0</td></tr><tr><td>&quot;25%&quot;</td><td>0.0</td></tr><tr><td>&quot;50%&quot;</td><td>0.0</td></tr><tr><td>&quot;75%&quot;</td><td>0.0</td></tr><tr><td>&quot;max&quot;</td><td>6.19315213e8</td></tr></tbody></table></div>"
      ],
      "text/plain": [
       "shape: (9, 2)\n",
       "┌────────────┬───────────────┐\n",
       "│ statistic  ┆ value         │\n",
       "│ ---        ┆ ---           │\n",
       "│ str        ┆ f64           │\n",
       "╞════════════╪═══════════════╡\n",
       "│ count      ┆ 1.5893872e7   │\n",
       "│ null_count ┆ 7739.0        │\n",
       "│ mean       ┆ 60.670086     │\n",
       "│ std        ┆ 155344.878725 │\n",
       "│ min        ┆ 0.0           │\n",
       "│ 25%        ┆ 0.0           │\n",
       "│ 50%        ┆ 0.0           │\n",
       "│ 75%        ┆ 0.0           │\n",
       "│ max        ┆ 6.19315213e8  │\n",
       "└────────────┴───────────────┘"
      ]
     },
     "execution_count": 7,
     "metadata": {},
     "output_type": "execute_result"
    }
   ],
   "source": [
    "# 发现619315213出现在val_data_offline中\n",
    "val_data_offline[\"duration\"].describe()"
   ]
  },
  {
   "cell_type": "code",
   "execution_count": 8,
   "metadata": {},
   "outputs": [
    {
     "data": {
      "text/html": [
       "<div><style>\n",
       ".dataframe > thead > tr,\n",
       ".dataframe > tbody > tr {\n",
       "  text-align: right;\n",
       "  white-space: pre-wrap;\n",
       "}\n",
       "</style>\n",
       "<small>shape: (9, 2)</small><table border=\"1\" class=\"dataframe\"><thead><tr><th>statistic</th><th>value</th></tr><tr><td>str</td><td>f64</td></tr></thead><tbody><tr><td>&quot;count&quot;</td><td>1.5893871e7</td></tr><tr><td>&quot;null_count&quot;</td><td>7740.0</td></tr><tr><td>&quot;mean&quot;</td><td>21.704428</td></tr><tr><td>&quot;std&quot;</td><td>83.623885</td></tr><tr><td>&quot;min&quot;</td><td>0.0</td></tr><tr><td>&quot;25%&quot;</td><td>0.0</td></tr><tr><td>&quot;50%&quot;</td><td>0.0</td></tr><tr><td>&quot;75%&quot;</td><td>0.0</td></tr><tr><td>&quot;max&quot;</td><td>3505.0</td></tr></tbody></table></div>"
      ],
      "text/plain": [
       "shape: (9, 2)\n",
       "┌────────────┬─────────────┐\n",
       "│ statistic  ┆ value       │\n",
       "│ ---        ┆ ---         │\n",
       "│ str        ┆ f64         │\n",
       "╞════════════╪═════════════╡\n",
       "│ count      ┆ 1.5893871e7 │\n",
       "│ null_count ┆ 7740.0      │\n",
       "│ mean       ┆ 21.704428   │\n",
       "│ std        ┆ 83.623885   │\n",
       "│ min        ┆ 0.0         │\n",
       "│ 25%        ┆ 0.0         │\n",
       "│ 50%        ┆ 0.0         │\n",
       "│ 75%        ┆ 0.0         │\n",
       "│ max        ┆ 3505.0      │\n",
       "└────────────┴─────────────┘"
      ]
     },
     "execution_count": 8,
     "metadata": {},
     "output_type": "execute_result"
    }
   ],
   "source": [
    "# 使用train_data_offline的均值进行替换\n",
    "mean_duration = (\n",
    "    train_data_offline\n",
    "    .filter(\n",
    "        (pl.col(\"article_id\") == 466400260) & \n",
    "        (pl.col(\"is_clicked\") == 1) & \n",
    "        (pl.col(\"duration\") != 619315213)  # 先去掉异常值\n",
    "    ).select(pl.col(\"duration\"))\n",
    "    .mean()\n",
    "    .item()\n",
    ")\n",
    "\n",
    "# 用计算出的平均值替换异常值 619315213\n",
    "val_data_offline = val_data_offline.with_columns(\n",
    "    pl.when((pl.col(\"article_id\") == 466400260) & (pl.col(\"duration\") == 619315213))\n",
    "    .then(mean_duration)\n",
    "    .otherwise(pl.col(\"duration\"))\n",
    "    .alias(\"duration\")\n",
    ")\n",
    "val_data_offline[\"duration\"].describe()"
   ]
  },
  {
   "cell_type": "markdown",
   "metadata": {},
   "source": [
    "#### 2.2 处理duration为null的情况"
   ]
  },
  {
   "cell_type": "code",
   "execution_count": 9,
   "metadata": {},
   "outputs": [
    {
     "data": {
      "text/html": [
       "<div><style>\n",
       ".dataframe > thead > tr,\n",
       ".dataframe > tbody > tr {\n",
       "  text-align: right;\n",
       "  white-space: pre-wrap;\n",
       "}\n",
       "</style>\n",
       "<small>shape: (263_042, 2)</small><table border=\"1\" class=\"dataframe\"><thead><tr><th>article_id</th><th>avg_duration</th></tr><tr><td>i64</td><td>f64</td></tr></thead><tbody><tr><td>462916213</td><td>108.0</td></tr><tr><td>465425345</td><td>5.0</td></tr><tr><td>463191874</td><td>128.0</td></tr><tr><td>463827349</td><td>189.0</td></tr><tr><td>465881769</td><td>153.0</td></tr><tr><td>&hellip;</td><td>&hellip;</td></tr><tr><td>463701770</td><td>102.0</td></tr><tr><td>464723536</td><td>308.0</td></tr><tr><td>464882279</td><td>84.0</td></tr><tr><td>463823675</td><td>146.0</td></tr><tr><td>463065637</td><td>254.0</td></tr></tbody></table></div>"
      ],
      "text/plain": [
       "shape: (263_042, 2)\n",
       "┌────────────┬──────────────┐\n",
       "│ article_id ┆ avg_duration │\n",
       "│ ---        ┆ ---          │\n",
       "│ i64        ┆ f64          │\n",
       "╞════════════╪══════════════╡\n",
       "│ 462916213  ┆ 108.0        │\n",
       "│ 465425345  ┆ 5.0          │\n",
       "│ 463191874  ┆ 128.0        │\n",
       "│ 463827349  ┆ 189.0        │\n",
       "│ 465881769  ┆ 153.0        │\n",
       "│ …          ┆ …            │\n",
       "│ 463701770  ┆ 102.0        │\n",
       "│ 464723536  ┆ 308.0        │\n",
       "│ 464882279  ┆ 84.0         │\n",
       "│ 463823675  ┆ 146.0        │\n",
       "│ 463065637  ┆ 254.0        │\n",
       "└────────────┴──────────────┘"
      ]
     },
     "execution_count": 9,
     "metadata": {},
     "output_type": "execute_result"
    }
   ],
   "source": [
    "# 计算各个 article_id 上的平均值填充为null的duration\n",
    "article_avg_duration = (\n",
    "    train_data_offline.filter((pl.col(\"duration\").is_not_null()) & (pl.col(\"is_clicked\") == 1))  # 先去掉NULL值\n",
    "    .group_by(\"article_id\")\n",
    "    .agg(pl.col(\"duration\").mean().round().alias(\"avg_duration\"))  # 计算均值并取整\n",
    ")\n",
    "article_avg_duration"
   ]
  },
  {
   "cell_type": "code",
   "execution_count": 10,
   "metadata": {},
   "outputs": [],
   "source": [
    "# 进行 left join，将从训练集中计算出的平均消费时长映射到各个df上面\n",
    "train_data_offline = train_data_offline.join(article_avg_duration, on=\"article_id\", how=\"left\")\n",
    "val_data_offline = val_data_offline.join(article_avg_duration, on=\"article_id\", how=\"left\")\n",
    "test_data_online = test_data_online.join(article_avg_duration, on=\"article_id\", how=\"left\")"
   ]
  },
  {
   "cell_type": "code",
   "execution_count": 11,
   "metadata": {},
   "outputs": [
    {
     "name": "stdout",
     "output_type": "stream",
     "text": [
      "shape: (9, 11)\n",
      "┌───────────┬───────────┬───────────┬───────────┬───┬───────────┬───────────┬───────────┬──────────┐\n",
      "│ statistic ┆ user_id   ┆ article_i ┆ expose_ti ┆ … ┆ is_clicke ┆ duration  ┆ date      ┆ avg_dura │\n",
      "│ ---       ┆ ---       ┆ d         ┆ me        ┆   ┆ d         ┆ ---       ┆ ---       ┆ tion     │\n",
      "│ str       ┆ f64       ┆ ---       ┆ ---       ┆   ┆ ---       ┆ f64       ┆ str       ┆ ---      │\n",
      "│           ┆           ┆ f64       ┆ f64       ┆   ┆ f64       ┆           ┆           ┆ f64      │\n",
      "╞═══════════╪═══════════╪═══════════╪═══════════╪═══╪═══════════╪═══════════╪═══════════╪══════════╡\n",
      "│ count     ┆ 1.6105985 ┆ 1.6105985 ┆ 1.6105985 ┆ … ┆ 1.6105985 ┆ 1.6105899 ┆ 161059858 ┆ 1.596976 │\n",
      "│           ┆ 8e8       ┆ 8e8       ┆ 8e8       ┆   ┆ 8e8       ┆ 6e8       ┆           ┆ 43e8     │\n",
      "│ null_coun ┆ 0.0       ┆ 0.0       ┆ 0.0       ┆ … ┆ 0.0       ┆ 862.0     ┆ 0         ┆ 1.362215 │\n",
      "│ t         ┆           ┆           ┆           ┆   ┆           ┆           ┆           ┆ e6       │\n",
      "│ mean      ┆ 1.8988e9  ┆ 4.6420e8  ┆ 1.6250e12 ┆ … ┆ 0.141279  ┆ 21.44876  ┆ 2021-06-2 ┆ 151.7658 │\n",
      "│           ┆           ┆           ┆           ┆   ┆           ┆           ┆ 9 07:26:2 ┆ 71       │\n",
      "│           ┆           ┆           ┆           ┆   ┆           ┆           ┆ 1.181000  ┆          │\n",
      "│ std       ┆ 5.5333e8  ┆ 1.0311e6  ┆ 2.5261e8  ┆ … ┆ 0.348309  ┆ 80.840954 ┆ null      ┆ 79.85498 │\n",
      "│           ┆           ┆           ┆           ┆   ┆           ┆           ┆           ┆ 2        │\n",
      "│ min       ┆ 17340.0   ┆ 3.2527962 ┆ 1.6245e12 ┆ … ┆ 0.0       ┆ 0.0       ┆ 2021-06-2 ┆ 1.0      │\n",
      "│           ┆           ┆ 9e8       ┆           ┆   ┆           ┆           ┆ 4         ┆          │\n",
      "│ 25%       ┆ 1.4662e9  ┆ 4.6339090 ┆ 1.6248e12 ┆ … ┆ 0.0       ┆ 0.0       ┆ 2021-06-2 ┆ 104.0    │\n",
      "│           ┆           ┆ 1e8       ┆           ┆   ┆           ┆           ┆ 7         ┆          │\n",
      "│ 50%       ┆ 2.2081e9  ┆ 4.6418344 ┆ 1.6250e12 ┆ … ┆ 0.0       ┆ 0.0       ┆ 2021-06-2 ┆ 142.0    │\n",
      "│           ┆           ┆ e8        ┆           ┆   ┆           ┆           ┆ 9         ┆          │\n",
      "│ 75%       ┆ 2.3973e9  ┆ 4.6506888 ┆ 1.6252e12 ┆ … ┆ 0.0       ┆ 0.0       ┆ 2021-07-0 ┆ 184.0    │\n",
      "│           ┆           ┆ e8        ┆           ┆   ┆           ┆           ┆ 2         ┆          │\n",
      "│ max       ┆ 2.4471e9  ┆ 4.6616372 ┆ 1.6254e12 ┆ … ┆ 1.0       ┆ 3565.0    ┆ 2021-07-0 ┆ 3080.0   │\n",
      "│           ┆           ┆ 7e8       ┆           ┆   ┆           ┆           ┆ 4         ┆          │\n",
      "└───────────┴───────────┴───────────┴───────────┴───┴───────────┴───────────┴───────────┴──────────┘\n",
      "shape: (9, 11)\n",
      "┌───────────┬───────────┬───────────┬───────────┬───┬───────────┬───────────┬───────────┬──────────┐\n",
      "│ statistic ┆ user_id   ┆ article_i ┆ expose_ti ┆ … ┆ is_clicke ┆ duration  ┆ date      ┆ avg_dura │\n",
      "│ ---       ┆ ---       ┆ d         ┆ me        ┆   ┆ d         ┆ ---       ┆ ---       ┆ tion     │\n",
      "│ str       ┆ f64       ┆ ---       ┆ ---       ┆   ┆ ---       ┆ f64       ┆ str       ┆ ---      │\n",
      "│           ┆           ┆ f64       ┆ f64       ┆   ┆ f64       ┆           ┆           ┆ f64      │\n",
      "╞═══════════╪═══════════╪═══════════╪═══════════╪═══╪═══════════╪═══════════╪═══════════╪══════════╡\n",
      "│ count     ┆ 1.5901611 ┆ 1.5901611 ┆ 1.5901611 ┆ … ┆ 1.5901611 ┆ 1.589839e ┆ 15901611  ┆ 9.354297 │\n",
      "│           ┆ e7        ┆ e7        ┆ e7        ┆   ┆ e7        ┆ 7         ┆           ┆ e6       │\n",
      "│ null_coun ┆ 0.0       ┆ 0.0       ┆ 0.0       ┆ … ┆ 0.0       ┆ 3221.0    ┆ 0         ┆ 6.547314 │\n",
      "│ t         ┆           ┆           ┆           ┆   ┆           ┆           ┆           ┆ e6       │\n",
      "│ mean      ┆ 1.9012e9  ┆ 4.6600e8  ┆ 1.6255e12 ┆ … ┆ 0.137358  ┆ 21.742009 ┆ 2021-07-0 ┆ 165.8703 │\n",
      "│           ┆           ┆           ┆           ┆   ┆           ┆           ┆ 5         ┆ 09       │\n",
      "│           ┆           ┆           ┆           ┆   ┆           ┆           ┆ 00:00:00  ┆          │\n",
      "│ std       ┆ 5.5428e8  ┆ 1.1671e6  ┆ 2.2929e7  ┆ … ┆ 0.344225  ┆ 83.665099 ┆ null      ┆ 105.5147 │\n",
      "│           ┆           ┆           ┆           ┆   ┆           ┆           ┆           ┆ 51       │\n",
      "│ min       ┆ 17340.0   ┆ 3.6165332 ┆ 1.6254e12 ┆ … ┆ 0.0       ┆ 0.0       ┆ 2021-07-0 ┆ 1.0      │\n",
      "│           ┆           ┆ 3e8       ┆           ┆   ┆           ┆           ┆ 5         ┆          │\n",
      "│ 25%       ┆ 1.4674e9  ┆ 4.6586854 ┆ 1.6255e12 ┆ … ┆ 0.0       ┆ 0.0       ┆ 2021-07-0 ┆ 108.0    │\n",
      "│           ┆           ┆ 6e8       ┆           ┆   ┆           ┆           ┆ 5         ┆          │\n",
      "│ 50%       ┆ 2.2082e9  ┆ 4.6607900 ┆ 1.6255e12 ┆ … ┆ 0.0       ┆ 0.0       ┆ 2021-07-0 ┆ 150.0    │\n",
      "│           ┆           ┆ 5e8       ┆           ┆   ┆           ┆           ┆ 5         ┆          │\n",
      "│ 75%       ┆ 2.3986e9  ┆ 4.6622671 ┆ 1.6255e12 ┆ … ┆ 0.0       ┆ 0.0       ┆ 2021-07-0 ┆ 200.0    │\n",
      "│           ┆           ┆ 8e8       ┆           ┆   ┆           ┆           ┆ 5         ┆          │\n",
      "│ max       ┆ 2.4472e9  ┆ 4.6656173 ┆ 1.6255e12 ┆ … ┆ 1.0       ┆ 3505.0    ┆ 2021-07-0 ┆ 2022.0   │\n",
      "│           ┆           ┆ 2e8       ┆           ┆   ┆           ┆           ┆ 5         ┆          │\n",
      "└───────────┴───────────┴───────────┴───────────┴───┴───────────┴───────────┴───────────┴──────────┘\n",
      "shape: (9, 11)\n",
      "┌───────────┬───────────┬───────────┬───────────┬───┬───────────┬───────────┬───────────┬──────────┐\n",
      "│ statistic ┆ user_id   ┆ article_i ┆ expose_ti ┆ … ┆ is_clicke ┆ duration  ┆ date      ┆ avg_dura │\n",
      "│ ---       ┆ ---       ┆ d         ┆ me        ┆   ┆ d         ┆ ---       ┆ ---       ┆ tion     │\n",
      "│ str       ┆ f64       ┆ ---       ┆ ---       ┆   ┆ ---       ┆ f64       ┆ str       ┆ ---      │\n",
      "│           ┆           ┆ f64       ┆ f64       ┆   ┆ f64       ┆           ┆           ┆ f64      │\n",
      "╞═══════════╪═══════════╪═══════════╪═══════════╪═══╪═══════════╪═══════════╪═══════════╪══════════╡\n",
      "│ count     ┆ 1.2388057 ┆ 1.2388057 ┆ 1.2388057 ┆ … ┆ 1.2388057 ┆ 1.2383255 ┆ 12388057  ┆ 2.66179e │\n",
      "│           ┆ e7        ┆ e7        ┆ e7        ┆   ┆ e7        ┆ e7        ┆           ┆ 6        │\n",
      "│ null_coun ┆ 0.0       ┆ 0.0       ┆ 0.0       ┆ … ┆ 0.0       ┆ 4802.0    ┆ 0         ┆ 9.726267 │\n",
      "│ t         ┆           ┆           ┆           ┆   ┆           ┆           ┆           ┆ e6       │\n",
      "│ mean      ┆ 1.9028e9  ┆ 4.6634e8  ┆ 1.6256e12 ┆ … ┆ 0.140144  ┆ 20.963771 ┆ 2021-07-0 ┆ 171.8050 │\n",
      "│           ┆           ┆           ┆           ┆   ┆           ┆           ┆ 6         ┆ 18       │\n",
      "│           ┆           ┆           ┆           ┆   ┆           ┆           ┆ 00:00:00  ┆          │\n",
      "│ std       ┆ 5.5448e8  ┆ 956454.33 ┆ 1.6427e7  ┆ … ┆ 0.347136  ┆ 79.646087 ┆ null      ┆ 127.5390 │\n",
      "│           ┆           ┆ 9048      ┆           ┆   ┆           ┆           ┆           ┆ 07       │\n",
      "│ min       ┆ 17340.0   ┆ 3.2527962 ┆ 1.6255e12 ┆ … ┆ 0.0       ┆ 0.0       ┆ 2021-07-0 ┆ 1.0      │\n",
      "│           ┆           ┆ 9e8       ┆           ┆   ┆           ┆           ┆ 6         ┆          │\n",
      "│ 25%       ┆ 1.4674e9  ┆ 4.6616185 ┆ 1.6255e12 ┆ … ┆ 0.0       ┆ 0.0       ┆ 2021-07-0 ┆ 107.0    │\n",
      "│           ┆           ┆ 9e8       ┆           ┆   ┆           ┆           ┆ 6         ┆          │\n",
      "│ 50%       ┆ 2.2085e9  ┆ 4.6639020 ┆ 1.6256e12 ┆ … ┆ 0.0       ┆ 0.0       ┆ 2021-07-0 ┆ 148.0    │\n",
      "│           ┆           ┆ 9e8       ┆           ┆   ┆           ┆           ┆ 6         ┆          │\n",
      "│ 75%       ┆ 2.3999e9  ┆ 4.6658939 ┆ 1.6256e12 ┆ … ┆ 0.0       ┆ 0.0       ┆ 2021-07-0 ┆ 196.0    │\n",
      "│           ┆           ┆ 4e8       ┆           ┆   ┆           ┆           ┆ 6         ┆          │\n",
      "│ max       ┆ 2.4473e9  ┆ 4.6691067 ┆ 1.6256e12 ┆ … ┆ 1.0       ┆ 3484.0    ┆ 2021-07-0 ┆ 1168.0   │\n",
      "│           ┆           ┆ 5e8       ┆           ┆   ┆           ┆           ┆ 6         ┆          │\n",
      "└───────────┴───────────┴───────────┴───────────┴───┴───────────┴───────────┴───────────┴──────────┘\n"
     ]
    }
   ],
   "source": [
    "# 替换 duration 为对应 article_id 的平均消费时长\n",
    "train_data_offline = train_data_offline.with_columns(\n",
    "    pl.when(pl.col(\"duration\").is_null())\n",
    "    .then(pl.col(\"avg_duration\"))\n",
    "    .otherwise(pl.col(\"duration\"))\n",
    "    .alias(\"duration\")\n",
    ")\n",
    "\n",
    "val_data_offline = val_data_offline.with_columns(\n",
    "    pl.when(pl.col(\"duration\").is_null())\n",
    "    .then(pl.col(\"avg_duration\"))\n",
    "    .otherwise(pl.col(\"duration\"))\n",
    "    .alias(\"duration\")\n",
    ")\n",
    "\n",
    "test_data_online = test_data_online.with_columns(\n",
    "    pl.when(pl.col(\"duration\").is_null())\n",
    "    .then(pl.col(\"avg_duration\"))\n",
    "    .otherwise(pl.col(\"duration\"))\n",
    "    .alias(\"duration\")\n",
    ")\n",
    "\n",
    "print(train_data_offline.describe())\n",
    "print(val_data_offline.describe())\n",
    "print(test_data_online.describe())"
   ]
  },
  {
   "cell_type": "code",
   "execution_count": 12,
   "metadata": {},
   "outputs": [
    {
     "name": "stdout",
     "output_type": "stream",
     "text": [
      "shape: (9, 9)\n",
      "┌───────────┬───────────┬───────────┬───────────┬───┬───────────┬───────────┬───────────┬──────────┐\n",
      "│ statistic ┆ user_id   ┆ article_i ┆ expose_ti ┆ … ┆ refresh_c ┆ expose_po ┆ is_clicke ┆ duration │\n",
      "│ ---       ┆ ---       ┆ d         ┆ me        ┆   ┆ ount      ┆ s         ┆ d         ┆ ---      │\n",
      "│ str       ┆ f64       ┆ ---       ┆ ---       ┆   ┆ ---       ┆ ---       ┆ ---       ┆ f64      │\n",
      "│           ┆           ┆ f64       ┆ f64       ┆   ┆ f64       ┆ f64       ┆ f64       ┆          │\n",
      "╞═══════════╪═══════════╪═══════════╪═══════════╪═══╪═══════════╪═══════════╪═══════════╪══════════╡\n",
      "│ count     ┆ 1.6105985 ┆ 1.6105985 ┆ 1.6105985 ┆ … ┆ 1.6105985 ┆ 1.6105985 ┆ 1.6105985 ┆ 1.610598 │\n",
      "│           ┆ 8e8       ┆ 8e8       ┆ 8e8       ┆   ┆ 8e8       ┆ 8e8       ┆ 8e8       ┆ 58e8     │\n",
      "│ null_coun ┆ 0.0       ┆ 0.0       ┆ 0.0       ┆ … ┆ 0.0       ┆ 0.0       ┆ 0.0       ┆ 0.0      │\n",
      "│ t         ┆           ┆           ┆           ┆   ┆           ┆           ┆           ┆          │\n",
      "│ mean      ┆ 1.8988e9  ┆ 4.6420e8  ┆ 1.6250e12 ┆ … ┆ 8.886434  ┆ 52.722585 ┆ 0.141279  ┆ 21.44945 │\n",
      "│           ┆           ┆           ┆           ┆   ┆           ┆           ┆           ┆ 8        │\n",
      "│ std       ┆ 5.5333e8  ┆ 1.0311e6  ┆ 2.5261e8  ┆ … ┆ 14.978544 ┆ 63.924452 ┆ 0.348309  ┆ 80.8413  │\n",
      "│ min       ┆ 17340.0   ┆ 3.2527962 ┆ 1.6245e12 ┆ … ┆ 0.0       ┆ 0.0       ┆ 0.0       ┆ 0.0      │\n",
      "│           ┆           ┆ 9e8       ┆           ┆   ┆           ┆           ┆           ┆          │\n",
      "│ 25%       ┆ 1.4662e9  ┆ 4.6339090 ┆ 1.6248e12 ┆ … ┆ 2.0       ┆ 17.0      ┆ 0.0       ┆ 0.0      │\n",
      "│           ┆           ┆ 1e8       ┆           ┆   ┆           ┆           ┆           ┆          │\n",
      "│ 50%       ┆ 2.2081e9  ┆ 4.6418344 ┆ 1.6250e12 ┆ … ┆ 4.0       ┆ 32.0      ┆ 0.0       ┆ 0.0      │\n",
      "│           ┆           ┆ e8        ┆           ┆   ┆           ┆           ┆           ┆          │\n",
      "│ 75%       ┆ 2.3973e9  ┆ 4.6506888 ┆ 1.6252e12 ┆ … ┆ 10.0      ┆ 64.0      ┆ 0.0       ┆ 0.0      │\n",
      "│           ┆           ┆ e8        ┆           ┆   ┆           ┆           ┆           ┆          │\n",
      "│ max       ┆ 2.4471e9  ┆ 4.6616372 ┆ 1.6254e12 ┆ … ┆ 650.0     ┆ 2698.0    ┆ 1.0       ┆ 3565.0   │\n",
      "│           ┆           ┆ 7e8       ┆           ┆   ┆           ┆           ┆           ┆          │\n",
      "└───────────┴───────────┴───────────┴───────────┴───┴───────────┴───────────┴───────────┴──────────┘\n",
      "shape: (9, 9)\n",
      "┌───────────┬───────────┬───────────┬───────────┬───┬───────────┬───────────┬───────────┬──────────┐\n",
      "│ statistic ┆ user_id   ┆ article_i ┆ expose_ti ┆ … ┆ refresh_c ┆ expose_po ┆ is_clicke ┆ duration │\n",
      "│ ---       ┆ ---       ┆ d         ┆ me        ┆   ┆ ount      ┆ s         ┆ d         ┆ ---      │\n",
      "│ str       ┆ f64       ┆ ---       ┆ ---       ┆   ┆ ---       ┆ ---       ┆ ---       ┆ f64      │\n",
      "│           ┆           ┆ f64       ┆ f64       ┆   ┆ f64       ┆ f64       ┆ f64       ┆          │\n",
      "╞═══════════╪═══════════╪═══════════╪═══════════╪═══╪═══════════╪═══════════╪═══════════╪══════════╡\n",
      "│ count     ┆ 1.5901611 ┆ 1.5901611 ┆ 1.5901611 ┆ … ┆ 1.5901611 ┆ 1.5901611 ┆ 1.5901611 ┆ 1.590161 │\n",
      "│           ┆ e7        ┆ e7        ┆ e7        ┆   ┆ e7        ┆ e7        ┆ e7        ┆ 1e7      │\n",
      "│ null_coun ┆ 0.0       ┆ 0.0       ┆ 0.0       ┆ … ┆ 0.0       ┆ 0.0       ┆ 0.0       ┆ 0.0      │\n",
      "│ t         ┆           ┆           ┆           ┆   ┆           ┆           ┆           ┆          │\n",
      "│ mean      ┆ 1.9012e9  ┆ 4.6600e8  ┆ 1.6255e12 ┆ … ┆ 9.018746  ┆ 53.292184 ┆ 0.137358  ┆ 21.76835 │\n",
      "│           ┆           ┆           ┆           ┆   ┆           ┆           ┆           ┆ 8        │\n",
      "│ std       ┆ 5.5428e8  ┆ 1.1671e6  ┆ 2.2929e7  ┆ … ┆ 14.894795 ┆ 65.356662 ┆ 0.344225  ┆ 83.67710 │\n",
      "│           ┆           ┆           ┆           ┆   ┆           ┆           ┆           ┆ 4        │\n",
      "│ min       ┆ 17340.0   ┆ 3.6165332 ┆ 1.6254e12 ┆ … ┆ 0.0       ┆ 0.0       ┆ 0.0       ┆ 0.0      │\n",
      "│           ┆           ┆ 3e8       ┆           ┆   ┆           ┆           ┆           ┆          │\n",
      "│ 25%       ┆ 1.4674e9  ┆ 4.6586854 ┆ 1.6255e12 ┆ … ┆ 2.0       ┆ 18.0      ┆ 0.0       ┆ 0.0      │\n",
      "│           ┆           ┆ 6e8       ┆           ┆   ┆           ┆           ┆           ┆          │\n",
      "│ 50%       ┆ 2.2082e9  ┆ 4.6607900 ┆ 1.6255e12 ┆ … ┆ 5.0       ┆ 32.0      ┆ 0.0       ┆ 0.0      │\n",
      "│           ┆           ┆ 5e8       ┆           ┆   ┆           ┆           ┆           ┆          │\n",
      "│ 75%       ┆ 2.3986e9  ┆ 4.6622671 ┆ 1.6255e12 ┆ … ┆ 11.0      ┆ 64.0      ┆ 0.0       ┆ 0.0      │\n",
      "│           ┆           ┆ 8e8       ┆           ┆   ┆           ┆           ┆           ┆          │\n",
      "│ max       ┆ 2.4472e9  ┆ 4.6656173 ┆ 1.6255e12 ┆ … ┆ 580.0     ┆ 2171.0    ┆ 1.0       ┆ 3505.0   │\n",
      "│           ┆           ┆ 2e8       ┆           ┆   ┆           ┆           ┆           ┆          │\n",
      "└───────────┴───────────┴───────────┴───────────┴───┴───────────┴───────────┴───────────┴──────────┘\n",
      "shape: (9, 9)\n",
      "┌───────────┬───────────┬───────────┬───────────┬───┬───────────┬───────────┬───────────┬──────────┐\n",
      "│ statistic ┆ user_id   ┆ article_i ┆ expose_ti ┆ … ┆ refresh_c ┆ expose_po ┆ is_clicke ┆ duration │\n",
      "│ ---       ┆ ---       ┆ d         ┆ me        ┆   ┆ ount      ┆ s         ┆ d         ┆ ---      │\n",
      "│ str       ┆ f64       ┆ ---       ┆ ---       ┆   ┆ ---       ┆ ---       ┆ ---       ┆ f64      │\n",
      "│           ┆           ┆ f64       ┆ f64       ┆   ┆ f64       ┆ f64       ┆ f64       ┆          │\n",
      "╞═══════════╪═══════════╪═══════════╪═══════════╪═══╪═══════════╪═══════════╪═══════════╪══════════╡\n",
      "│ count     ┆ 1.2388057 ┆ 1.2388057 ┆ 1.2388057 ┆ … ┆ 1.2388057 ┆ 1.2388057 ┆ 1.2388057 ┆ 1.238805 │\n",
      "│           ┆ e7        ┆ e7        ┆ e7        ┆   ┆ e7        ┆ e7        ┆ e7        ┆ 7e7      │\n",
      "│ null_coun ┆ 0.0       ┆ 0.0       ┆ 0.0       ┆ … ┆ 0.0       ┆ 0.0       ┆ 0.0       ┆ 0.0      │\n",
      "│ t         ┆           ┆           ┆           ┆   ┆           ┆           ┆           ┆          │\n",
      "│ mean      ┆ 1.9028e9  ┆ 4.6634e8  ┆ 1.6256e12 ┆ … ┆ 9.419106  ┆ 53.507832 ┆ 0.140144  ┆ 21.01449 │\n",
      "│           ┆           ┆           ┆           ┆   ┆           ┆           ┆           ┆ 6        │\n",
      "│ std       ┆ 5.5448e8  ┆ 956454.33 ┆ 1.6427e7  ┆ … ┆ 15.873339 ┆ 61.513511 ┆ 0.347136  ┆ 79.67230 │\n",
      "│           ┆           ┆ 9048      ┆           ┆   ┆           ┆           ┆           ┆ 1        │\n",
      "│ min       ┆ 17340.0   ┆ 3.2527962 ┆ 1.6255e12 ┆ … ┆ 0.0       ┆ 0.0       ┆ 0.0       ┆ 0.0      │\n",
      "│           ┆           ┆ 9e8       ┆           ┆   ┆           ┆           ┆           ┆          │\n",
      "│ 25%       ┆ 1.4674e9  ┆ 4.6616185 ┆ 1.6255e12 ┆ … ┆ 2.0       ┆ 18.0      ┆ 0.0       ┆ 0.0      │\n",
      "│           ┆           ┆ 9e8       ┆           ┆   ┆           ┆           ┆           ┆          │\n",
      "│ 50%       ┆ 2.2085e9  ┆ 4.6639020 ┆ 1.6256e12 ┆ … ┆ 5.0       ┆ 33.0      ┆ 0.0       ┆ 0.0      │\n",
      "│           ┆           ┆ 9e8       ┆           ┆   ┆           ┆           ┆           ┆          │\n",
      "│ 75%       ┆ 2.3999e9  ┆ 4.6658939 ┆ 1.6256e12 ┆ … ┆ 11.0      ┆ 65.0      ┆ 0.0       ┆ 0.0      │\n",
      "│           ┆           ┆ 4e8       ┆           ┆   ┆           ┆           ┆           ┆          │\n",
      "│ max       ┆ 2.4473e9  ┆ 4.6691067 ┆ 1.6256e12 ┆ … ┆ 600.0     ┆ 1459.0    ┆ 1.0       ┆ 3484.0   │\n",
      "│           ┆           ┆ 5e8       ┆           ┆   ┆           ┆           ┆           ┆          │\n",
      "└───────────┴───────────┴───────────┴───────────┴───┴───────────┴───────────┴───────────┴──────────┘\n"
     ]
    }
   ],
   "source": [
    "# 计算 is_clicked 为 1 的 duration 的全局平均值(因为剩下的文章是没有历史均值的数据的)\n",
    "mean_duration = train_data_offline.filter(pl.col(\"is_clicked\") == 1)[\"duration\"].mean()\n",
    "\n",
    "# 填充null值\n",
    "train_data_offline = train_data_offline.with_columns(\n",
    "    pl.when(pl.col(\"duration\").is_null())\n",
    "      .then(mean_duration)\n",
    "      .otherwise(pl.col(\"duration\"))\n",
    "      .alias(\"duration\")\n",
    ").drop([\"date\", \"avg_duration\"])\n",
    "\n",
    "\n",
    "val_data_offline = val_data_offline.with_columns(\n",
    "    pl.when(pl.col(\"duration\").is_null())\n",
    "      .then(mean_duration)\n",
    "      .otherwise(pl.col(\"duration\"))\n",
    "      .alias(\"duration\")\n",
    ").drop([\"date\", \"avg_duration\"])\n",
    "\n",
    "\n",
    "test_data_online = test_data_online.with_columns(\n",
    "    pl.when(pl.col(\"duration\").is_null())\n",
    "      .then(mean_duration)\n",
    "      .otherwise(pl.col(\"duration\"))\n",
    "      .alias(\"duration\")\n",
    ").drop([\"date\", \"avg_duration\"])\n",
    "\n",
    "print(train_data_offline.describe())\n",
    "print(val_data_offline.describe())\n",
    "print(test_data_online.describe())"
   ]
  },
  {
   "cell_type": "markdown",
   "metadata": {},
   "source": [
    "#### 2.3 聚合数据"
   ]
  },
  {
   "cell_type": "code",
   "execution_count": 13,
   "metadata": {},
   "outputs": [],
   "source": [
    "# 填充完成之后，可能会存在重复消费的情况，需要把这部分数据聚合起来\n",
    "train_data_offline = train_data_offline.group_by([\n",
    "    \"user_id\", \"article_id\", \"expose_time\", \"network_env\", \n",
    "    \"refresh_count\", \"expose_pos\", \"is_clicked\"\n",
    "]).agg(\n",
    "    pl.when(pl.col(\"is_clicked\") == 1)  # 只计算有效时长\n",
    "    .then(pl.col(\"duration\"))\n",
    "    .otherwise(0)  # 其他情况，duration 视为 0\n",
    "    .sum()\n",
    "    .alias(\"duration\")\n",
    ")\n",
    "\n",
    "val_data_offline = val_data_offline.group_by([\n",
    "    \"user_id\", \"article_id\", \"expose_time\", \"network_env\", \n",
    "    \"refresh_count\", \"expose_pos\", \"is_clicked\"\n",
    "]).agg(\n",
    "    pl.when(pl.col(\"is_clicked\") == 1)  # 只计算有效时长\n",
    "    .then(pl.col(\"duration\"))\n",
    "    .otherwise(0)  # 其他情况，duration 视为 0\n",
    "    .sum()\n",
    "    .alias(\"duration\")\n",
    ")\n",
    "\n",
    "test_data_online = test_data_online.group_by([\n",
    "    \"user_id\", \"article_id\", \"expose_time\", \"network_env\", \n",
    "    \"refresh_count\", \"expose_pos\", \"is_clicked\"\n",
    "]).agg(\n",
    "    pl.when(pl.col(\"is_clicked\") == 1)  # 只计算有效时长\n",
    "    .then(pl.col(\"duration\"))\n",
    "    .otherwise(0)  # 其他情况，duration 视为 0\n",
    "    .sum()\n",
    "    .alias(\"duration\")\n",
    ")"
   ]
  },
  {
   "cell_type": "code",
   "execution_count": 14,
   "metadata": {},
   "outputs": [],
   "source": [
    "# 存在一条记录又被记录为点击又被记录为未点击的情况，所以需要聚合起来(在is_clicked 和 duration上加和就可以了)\n",
    "# 这是因为发现一条点击数据对应一条相同的未点击数据\n",
    "train_data_offline = train_data_offline.group_by([\n",
    "    \"user_id\", \"article_id\", \"expose_time\", \n",
    "    \"network_env\", \"refresh_count\", \"expose_pos\"\n",
    "]).agg(\n",
    "    pl.col(\"is_clicked\").sum().alias(\"is_clicked\"),  # is_clicked 列求和\n",
    "    pl.col(\"duration\").sum().alias(\"duration\")       # duration 列求和\n",
    ")\n",
    "\n",
    "val_data_offline = val_data_offline.group_by([\n",
    "    \"user_id\", \"article_id\", \"expose_time\", \n",
    "    \"network_env\", \"refresh_count\", \"expose_pos\"\n",
    "]).agg(\n",
    "    pl.col(\"is_clicked\").sum().alias(\"is_clicked\"),  # is_clicked 列求和\n",
    "    pl.col(\"duration\").sum().alias(\"duration\")       # duration 列求和\n",
    ")\n",
    "\n",
    "\n",
    "test_data_online = test_data_online.group_by([\n",
    "    \"user_id\", \"article_id\", \"expose_time\", \n",
    "    \"network_env\", \"refresh_count\", \"expose_pos\"\n",
    "]).agg(\n",
    "    pl.col(\"is_clicked\").sum().alias(\"is_clicked\"),  # is_clicked 列求和\n",
    "    pl.col(\"duration\").sum().alias(\"duration\")       # duration 列求和\n",
    ")"
   ]
  },
  {
   "cell_type": "markdown",
   "metadata": {},
   "source": [
    "### 3. 将长尾分布压缩为正态分布"
   ]
  },
  {
   "cell_type": "markdown",
   "metadata": {},
   "source": [
    "#### 3.1 处理duration"
   ]
  },
  {
   "cell_type": "code",
   "execution_count": 15,
   "metadata": {},
   "outputs": [],
   "source": [
    "import scipy.stats as stats\n",
    "import numpy as np\n",
    "import pandas as pd"
   ]
  },
  {
   "cell_type": "code",
   "execution_count": 16,
   "metadata": {},
   "outputs": [],
   "source": [
    "# 只处理is_clicked为1的数据\n",
    "train_data_filtered = train_data_offline.filter(pl.col(\"is_clicked\") == 1)\n",
    "val_data_filtered = val_data_offline.filter(pl.col(\"is_clicked\") == 1)\n",
    "test_data_filtered = test_data_online.filter(pl.col(\"is_clicked\") == 1)"
   ]
  },
  {
   "cell_type": "code",
   "execution_count": 17,
   "metadata": {},
   "outputs": [],
   "source": [
    "# 计算 train_data_filtered 的 boxcox 变换及 lambda 参数\n",
    "train_duration_np = train_data_filtered[\"duration\"].to_numpy()\n",
    "train_boxcox, boxcox_lambda = stats.boxcox(train_duration_np + 1)  # 避免 log(0) 问题\n",
    "\n",
    "# 应用变换到 train_data_filtered\n",
    "train_data_filtered = train_data_filtered.with_columns(\n",
    "    pl.Series(train_boxcox).alias(\"duration_transformed_box\")\n",
    ")\n",
    "\n",
    "# 在 val_data_filtered 和 test_data_filtered 上应用相同的 lambda 参数\n",
    "val_data_filtered = val_data_filtered.with_columns(\n",
    "    pl.Series(stats.boxcox(val_data_filtered[\"duration\"].to_numpy() + 1, lmbda=boxcox_lambda)).alias(\"duration_transformed_box\")\n",
    ")\n",
    "\n",
    "test_data_filtered = test_data_filtered.with_columns(\n",
    "    pl.Series(stats.boxcox(test_data_filtered[\"duration\"].to_numpy() + 1, lmbda=boxcox_lambda)).alias(\"duration_transformed_box\")\n",
    ")"
   ]
  },
  {
   "cell_type": "code",
   "execution_count": 18,
   "metadata": {},
   "outputs": [
    {
     "name": "stdout",
     "output_type": "stream",
     "text": [
      "shape: (9, 3)\n",
      "┌────────────┬─────────────┬──────────────────────────┐\n",
      "│ statistic  ┆ duration    ┆ duration_transformed_box │\n",
      "│ ---        ┆ ---         ┆ ---                      │\n",
      "│ str        ┆ f64         ┆ f64                      │\n",
      "╞════════════╪═════════════╪══════════════════════════╡\n",
      "│ count      ┆ 2.2747279e7 ┆ 2.2747279e7              │\n",
      "│ null_count ┆ 0.0         ┆ 0.0                      │\n",
      "│ mean       ┆ 151.870764  ┆ 8.500939                 │\n",
      "│ std        ┆ 162.829197  ┆ 3.364397                 │\n",
      "│ min        ┆ 1.0         ┆ 0.75407                  │\n",
      "│ 25%        ┆ 45.0        ┆ 6.273527                 │\n",
      "│ 50%        ┆ 109.0       ┆ 8.701629                 │\n",
      "│ 75%        ┆ 204.0       ┆ 10.773692                │\n",
      "│ max        ┆ 3565.0      ┆ 25.469292                │\n",
      "└────────────┴─────────────┴──────────────────────────┘\n",
      "shape: (9, 3)\n",
      "┌────────────┬────────────┬──────────────────────────┐\n",
      "│ statistic  ┆ duration   ┆ duration_transformed_box │\n",
      "│ ---        ┆ ---        ┆ ---                      │\n",
      "│ str        ┆ f64        ┆ f64                      │\n",
      "╞════════════╪════════════╪══════════════════════════╡\n",
      "│ count      ┆ 2.183545e6 ┆ 2.183545e6               │\n",
      "│ null_count ┆ 0.0        ┆ 0.0                      │\n",
      "│ mean       ┆ 158.527512 ┆ 8.599724                 │\n",
      "│ std        ┆ 171.346594 ┆ 3.439237                 │\n",
      "│ min        ┆ 1.0        ┆ 0.75407                  │\n",
      "│ 25%        ┆ 45.0       ┆ 6.273527                 │\n",
      "│ 50%        ┆ 112.0      ┆ 8.784941                 │\n",
      "│ 75%        ┆ 213.0      ┆ 10.928436                │\n",
      "│ max        ┆ 3505.0     ┆ 25.348952                │\n",
      "└────────────┴────────────┴──────────────────────────┘\n",
      "shape: (9, 3)\n",
      "┌────────────┬────────────┬──────────────────────────┐\n",
      "│ statistic  ┆ duration   ┆ duration_transformed_box │\n",
      "│ ---        ┆ ---        ┆ ---                      │\n",
      "│ str        ┆ f64        ┆ f64                      │\n",
      "╞════════════╪════════════╪══════════════════════════╡\n",
      "│ count      ┆ 1.735567e6 ┆ 1.735567e6               │\n",
      "│ null_count ┆ 0.0        ┆ 0.0                      │\n",
      "│ mean       ┆ 149.996383 ┆ 8.450593                 │\n",
      "│ std        ┆ 161.232498 ┆ 3.370438                 │\n",
      "│ min        ┆ 1.0        ┆ 0.75407                  │\n",
      "│ 25%        ┆ 43.0       ┆ 6.162806                 │\n",
      "│ 50%        ┆ 107.0      ┆ 8.645124                 │\n",
      "│ 75%        ┆ 202.0      ┆ 10.738605                │\n",
      "│ max        ┆ 3484.0     ┆ 25.306463                │\n",
      "└────────────┴────────────┴──────────────────────────┘\n"
     ]
    }
   ],
   "source": [
    "# 查看 boxcox 变换的效果\n",
    "print(train_data_filtered.select(\"duration\", \"duration_transformed_box\").describe())\n",
    "print(val_data_filtered.select(\"duration\", \"duration_transformed_box\").describe())\n",
    "print(test_data_filtered.select(\"duration\", \"duration_transformed_box\").describe())"
   ]
  },
  {
   "cell_type": "code",
   "execution_count": 19,
   "metadata": {},
   "outputs": [
    {
     "name": "stdout",
     "output_type": "stream",
     "text": [
      "训练集原始数据 的偏度 (Skewness): 3.2896 训练集原始数据 的峰度 (Kurtosis): 22.7731\n",
      "\n",
      "验证集原始数据 的偏度 (Skewness): 3.1356 验证集原始数据 的峰度 (Kurtosis): 19.7851\n",
      "\n",
      "测试集原始数据 的偏度 (Skewness): 3.2267 测试集原始数据 的峰度 (Kurtosis): 21.7571\n",
      "\n",
      "训练集 Box-Cox 变换 的偏度 (Skewness): -0.0276 训练集 Box-Cox 变换 的峰度 (Kurtosis): -0.1048\n",
      "\n",
      "验证集 Box-Cox 变换 的偏度 (Skewness): -0.0165 验证集 Box-Cox 变换 的峰度 (Kurtosis): -0.1460\n",
      "\n",
      "测试集 Box-Cox 变换 的偏度 (Skewness): -0.0191 测试集 Box-Cox 变换 的峰度 (Kurtosis): -0.1430\n",
      "\n"
     ]
    }
   ],
   "source": [
    "from scipy.stats import kurtosis, skew\n",
    "\n",
    "# 定义一个函数计算偏度和峰度\n",
    "def calc_skew_kurtosis(series, name):\n",
    "    skewness = skew(series, nan_policy='omit')\n",
    "    kurt = kurtosis(series, nan_policy='omit')\n",
    "    print(f\"{name} 的偏度 (Skewness): {skewness:.4f}\", f\"{name} 的峰度 (Kurtosis): {kurt:.4f}\\n\")\n",
    "\n",
    "# 计算变换前的偏度和峰度\n",
    "calc_skew_kurtosis(train_data_filtered[\"duration\"].to_numpy(), \"训练集原始数据\")\n",
    "calc_skew_kurtosis(val_data_filtered[\"duration\"].to_numpy(), \"验证集原始数据\")\n",
    "calc_skew_kurtosis(test_data_filtered[\"duration\"].to_numpy(), \"测试集原始数据\")\n",
    "\n",
    "# 计算变换后的偏度和峰度\n",
    "calc_skew_kurtosis(train_data_filtered[\"duration_transformed_box\"].to_numpy(), \"训练集 Box-Cox 变换\")\n",
    "calc_skew_kurtosis(val_data_filtered[\"duration_transformed_box\"].to_numpy(), \"验证集 Box-Cox 变换\")\n",
    "calc_skew_kurtosis(test_data_filtered[\"duration_transformed_box\"].to_numpy(), \"测试集 Box-Cox 变换\")"
   ]
  },
  {
   "cell_type": "code",
   "execution_count": 20,
   "metadata": {},
   "outputs": [],
   "source": [
    "# 将数据拼接回去，并将null置为0\n",
    "train_data_offline = train_data_offline.join(\n",
    "    train_data_filtered.select([\"user_id\", \"article_id\", \"expose_time\", \"network_env\", \"refresh_count\", \"expose_pos\", \"is_clicked\", \"duration_transformed_box\"]),\n",
    "    on=[\"user_id\", \"article_id\", \"expose_time\", \"network_env\", \"refresh_count\", \"expose_pos\", \"is_clicked\"],\n",
    "    how=\"left\"\n",
    ").fill_null(0)\n",
    "\n",
    "val_data_offline = val_data_offline.join(\n",
    "    val_data_filtered.select([\"user_id\", \"article_id\", \"expose_time\", \"network_env\", \"refresh_count\", \"expose_pos\", \"is_clicked\", \"duration_transformed_box\"]),\n",
    "    on=[\"user_id\", \"article_id\", \"expose_time\", \"network_env\", \"refresh_count\", \"expose_pos\", \"is_clicked\"],\n",
    "    how=\"left\"\n",
    ").fill_null(0)\n",
    "\n",
    "test_data_online = test_data_online.join(\n",
    "    test_data_filtered.select([\"user_id\", \"article_id\", \"expose_time\", \"network_env\", \"refresh_count\", \"expose_pos\", \"is_clicked\", \"duration_transformed_box\"]),\n",
    "    on=[\"user_id\", \"article_id\", \"expose_time\", \"network_env\", \"refresh_count\", \"expose_pos\", \"is_clicked\"],\n",
    "    how=\"left\"\n",
    ").fill_null(0)"
   ]
  },
  {
   "cell_type": "markdown",
   "metadata": {},
   "source": [
    "#### 3.2 处理refresh_count"
   ]
  },
  {
   "cell_type": "code",
   "execution_count": 21,
   "metadata": {},
   "outputs": [],
   "source": [
    "# 计算 train_data_offline 的 boxcox 变换及 lambda 参数\n",
    "train_refresh_count_np = train_data_offline[\"refresh_count\"].to_numpy()\n",
    "train_boxcox, boxcox_lambda = stats.boxcox(train_refresh_count_np + 1)  # 避免 log(0) 问题\n",
    "\n",
    "# 应用变换到 train_data_offline\n",
    "train_data_offline = train_data_offline.with_columns(\n",
    "    pl.Series(train_boxcox).alias(\"refresh_count_transformed_box\")\n",
    ")\n",
    "\n",
    "# 在 val_data_offline 和 test_data_online 上应用相同的 lambda 参数\n",
    "val_data_offline = val_data_offline.with_columns(\n",
    "    pl.Series(stats.boxcox(val_data_offline[\"refresh_count\"].to_numpy() + 1, lmbda=boxcox_lambda)).alias(\"refresh_count_transformed_box\")\n",
    ")\n",
    "\n",
    "test_data_online = test_data_online.with_columns(\n",
    "    pl.Series(stats.boxcox(test_data_online[\"refresh_count\"].to_numpy() + 1, lmbda=boxcox_lambda)).alias(\"refresh_count_transformed_box\")\n",
    ")"
   ]
  },
  {
   "cell_type": "code",
   "execution_count": 22,
   "metadata": {},
   "outputs": [
    {
     "name": "stdout",
     "output_type": "stream",
     "text": [
      "shape: (9, 3)\n",
      "┌────────────┬───────────────┬───────────────────────────────┐\n",
      "│ statistic  ┆ refresh_count ┆ refresh_count_transformed_box │\n",
      "│ ---        ┆ ---           ┆ ---                           │\n",
      "│ str        ┆ f64           ┆ f64                           │\n",
      "╞════════════╪═══════════════╪═══════════════════════════════╡\n",
      "│ count      ┆ 1.59283939e8  ┆ 1.59283939e8                  │\n",
      "│ null_count ┆ 0.0           ┆ 0.0                           │\n",
      "│ mean       ┆ 8.951377      ┆ 1.559789                      │\n",
      "│ std        ┆ 15.037508     ┆ 0.872285                      │\n",
      "│ min        ┆ 0.0           ┆ 0.0                           │\n",
      "│ 25%        ┆ 2.0           ┆ 1.04409                       │\n",
      "│ 50%        ┆ 4.0           ┆ 1.494234                      │\n",
      "│ 75%        ┆ 11.0          ┆ 2.217441                      │\n",
      "│ max        ┆ 650.0         ┆ 4.859617                      │\n",
      "└────────────┴───────────────┴───────────────────────────────┘\n",
      "shape: (9, 3)\n",
      "┌────────────┬───────────────┬───────────────────────────────┐\n",
      "│ statistic  ┆ refresh_count ┆ refresh_count_transformed_box │\n",
      "│ ---        ┆ ---           ┆ ---                           │\n",
      "│ str        ┆ f64           ┆ f64                           │\n",
      "╞════════════╪═══════════════╪═══════════════════════════════╡\n",
      "│ count      ┆ 1.5730319e7   ┆ 1.5730319e7                   │\n",
      "│ null_count ┆ 0.0           ┆ 0.0                           │\n",
      "│ mean       ┆ 9.081932      ┆ 1.58831                       │\n",
      "│ std        ┆ 14.952229     ┆ 0.851028                      │\n",
      "│ min        ┆ 0.0           ┆ 0.0                           │\n",
      "│ 25%        ┆ 2.0           ┆ 1.04409                       │\n",
      "│ 50%        ┆ 5.0           ┆ 1.649763                      │\n",
      "│ 75%        ┆ 11.0          ┆ 2.217441                      │\n",
      "│ max        ┆ 580.0         ┆ 4.797197                      │\n",
      "└────────────┴───────────────┴───────────────────────────────┘\n",
      "shape: (9, 3)\n",
      "┌────────────┬───────────────┬───────────────────────────────┐\n",
      "│ statistic  ┆ refresh_count ┆ refresh_count_transformed_box │\n",
      "│ ---        ┆ ---           ┆ ---                           │\n",
      "│ str        ┆ f64           ┆ f64                           │\n",
      "╞════════════╪═══════════════╪═══════════════════════════════╡\n",
      "│ count      ┆ 1.2261868e7   ┆ 1.2261868e7                   │\n",
      "│ null_count ┆ 0.0           ┆ 0.0                           │\n",
      "│ mean       ┆ 9.480156      ┆ 1.612006                      │\n",
      "│ std        ┆ 15.931655     ┆ 0.856767                      │\n",
      "│ min        ┆ 0.0           ┆ 0.0                           │\n",
      "│ 25%        ┆ 2.0           ┆ 1.04409                       │\n",
      "│ 50%        ┆ 5.0           ┆ 1.649763                      │\n",
      "│ 75%        ┆ 11.0          ┆ 2.217441                      │\n",
      "│ max        ┆ 600.0         ┆ 4.815837                      │\n",
      "└────────────┴───────────────┴───────────────────────────────┘\n"
     ]
    }
   ],
   "source": [
    "# 查看 boxcox 变换的效果\n",
    "print(train_data_offline.select(\"refresh_count\", \"refresh_count_transformed_box\").describe())\n",
    "print(val_data_offline.select(\"refresh_count\", \"refresh_count_transformed_box\").describe())\n",
    "print(test_data_online.select(\"refresh_count\", \"refresh_count_transformed_box\").describe())"
   ]
  },
  {
   "cell_type": "code",
   "execution_count": 23,
   "metadata": {},
   "outputs": [
    {
     "name": "stdout",
     "output_type": "stream",
     "text": [
      "训练集原始数据 的偏度 (Skewness): 8.0006 训练集原始数据 的峰度 (Kurtosis): 142.7083\n",
      "\n",
      "验证集原始数据 的偏度 (Skewness): 7.2799 验证集原始数据 的峰度 (Kurtosis): 110.2773\n",
      "\n",
      "测试集原始数据 的偏度 (Skewness): 8.1811 测试集原始数据 的峰度 (Kurtosis): 141.2875\n",
      "\n",
      "训练集 Box-Cox 变换 的偏度 (Skewness): 0.0161 训练集 Box-Cox 变换 的峰度 (Kurtosis): -0.5207\n",
      "\n",
      "验证集 Box-Cox 变换 的偏度 (Skewness): 0.0291 验证集 Box-Cox 变换 的峰度 (Kurtosis): -0.4522\n",
      "\n",
      "测试集 Box-Cox 变换 的偏度 (Skewness): 0.0267 测试集 Box-Cox 变换 的峰度 (Kurtosis): -0.4584\n",
      "\n"
     ]
    }
   ],
   "source": [
    "from scipy.stats import kurtosis, skew\n",
    "\n",
    "# 定义一个函数计算偏度和峰度\n",
    "def calc_skew_kurtosis(series, name):\n",
    "    skewness = skew(series, nan_policy='omit')\n",
    "    kurt = kurtosis(series, nan_policy='omit')\n",
    "    print(f\"{name} 的偏度 (Skewness): {skewness:.4f}\", f\"{name} 的峰度 (Kurtosis): {kurt:.4f}\\n\")\n",
    "\n",
    "# 计算变换前的偏度和峰度\n",
    "calc_skew_kurtosis(train_data_offline[\"refresh_count\"].to_numpy(), \"训练集原始数据\")\n",
    "calc_skew_kurtosis(val_data_offline[\"refresh_count\"].to_numpy(), \"验证集原始数据\")\n",
    "calc_skew_kurtosis(test_data_online[\"refresh_count\"].to_numpy(), \"测试集原始数据\")\n",
    "\n",
    "# 计算变换后的偏度和峰度\n",
    "calc_skew_kurtosis(train_data_offline[\"refresh_count_transformed_box\"].to_numpy(), \"训练集 Box-Cox 变换\")\n",
    "calc_skew_kurtosis(val_data_offline[\"refresh_count_transformed_box\"].to_numpy(), \"验证集 Box-Cox 变换\")\n",
    "calc_skew_kurtosis(test_data_online[\"refresh_count_transformed_box\"].to_numpy(), \"测试集 Box-Cox 变换\")"
   ]
  },
  {
   "cell_type": "markdown",
   "metadata": {},
   "source": [
    "#### 3.3 对refresh_count, duration, expose_time 进行Min-Max 标准化"
   ]
  },
  {
   "cell_type": "code",
   "execution_count": 24,
   "metadata": {},
   "outputs": [
    {
     "name": "stdout",
     "output_type": "stream",
     "text": [
      "shape: (9, 3)\n",
      "┌────────────┬───────────────────────────────┬──────────────────────────┐\n",
      "│ statistic  ┆ refresh_count_transformed_box ┆ duration_transformed_box │\n",
      "│ ---        ┆ ---                           ┆ ---                      │\n",
      "│ str        ┆ f64                           ┆ f64                      │\n",
      "╞════════════╪═══════════════════════════════╪══════════════════════════╡\n",
      "│ count      ┆ 1.59283939e8                  ┆ 1.59283939e8             │\n",
      "│ null_count ┆ 0.0                           ┆ 0.0                      │\n",
      "│ mean       ┆ 0.32097                       ┆ 0.047666                 │\n",
      "│ std        ┆ 0.179497                      ┆ 0.127002                 │\n",
      "│ min        ┆ 0.0                           ┆ 0.0                      │\n",
      "│ 25%        ┆ 0.21485                       ┆ 0.0                      │\n",
      "│ 50%        ┆ 0.30748                       ┆ 0.0                      │\n",
      "│ 75%        ┆ 0.4563                        ┆ 0.0                      │\n",
      "│ max        ┆ 1.0                           ┆ 1.0                      │\n",
      "└────────────┴───────────────────────────────┴──────────────────────────┘\n",
      "shape: (9, 3)\n",
      "┌────────────┬───────────────────────────────┬──────────────────────────┐\n",
      "│ statistic  ┆ refresh_count_transformed_box ┆ duration_transformed_box │\n",
      "│ ---        ┆ ---                           ┆ ---                      │\n",
      "│ str        ┆ f64                           ┆ f64                      │\n",
      "╞════════════╪═══════════════════════════════╪══════════════════════════╡\n",
      "│ count      ┆ 1.5730319e7                   ┆ 1.5730319e7              │\n",
      "│ null_count ┆ 0.0                           ┆ 0.0                      │\n",
      "│ mean       ┆ 0.326839                      ┆ 0.04687                  │\n",
      "│ std        ┆ 0.175122                      ┆ 0.127122                 │\n",
      "│ min        ┆ 0.0                           ┆ 0.0                      │\n",
      "│ 25%        ┆ 0.21485                       ┆ 0.0                      │\n",
      "│ 50%        ┆ 0.339484                      ┆ 0.0                      │\n",
      "│ 75%        ┆ 0.4563                        ┆ 0.0                      │\n",
      "│ max        ┆ 0.987155                      ┆ 0.995275                 │\n",
      "└────────────┴───────────────────────────────┴──────────────────────────┘\n",
      "shape: (9, 3)\n",
      "┌────────────┬───────────────────────────────┬──────────────────────────┐\n",
      "│ statistic  ┆ refresh_count_transformed_box ┆ duration_transformed_box │\n",
      "│ ---        ┆ ---                           ┆ ---                      │\n",
      "│ str        ┆ f64                           ┆ f64                      │\n",
      "╞════════════╪═══════════════════════════════╪══════════════════════════╡\n",
      "│ count      ┆ 1.2261868e7                   ┆ 1.2261868e7              │\n",
      "│ null_count ┆ 0.0                           ┆ 0.0                      │\n",
      "│ mean       ┆ 0.331715                      ┆ 0.046963                 │\n",
      "│ std        ┆ 0.176303                      ┆ 0.125918                 │\n",
      "│ min        ┆ 0.0                           ┆ 0.0                      │\n",
      "│ 25%        ┆ 0.21485                       ┆ 0.0                      │\n",
      "│ 50%        ┆ 0.339484                      ┆ 0.0                      │\n",
      "│ 75%        ┆ 0.4563                        ┆ 0.0                      │\n",
      "│ max        ┆ 0.990991                      ┆ 0.993607                 │\n",
      "└────────────┴───────────────────────────────┴──────────────────────────┘\n"
     ]
    }
   ],
   "source": [
    "from sklearn.preprocessing import MinMaxScaler\n",
    "import numpy as np\n",
    "\n",
    "# 定义 Min-Max 标准化函数\n",
    "def min_max_scale(df, columns, scaler=None):\n",
    "    if scaler is None:\n",
    "        scaler = MinMaxScaler()\n",
    "        scaler.fit(df.select(columns).to_numpy())\n",
    "    \n",
    "    scaled_values = scaler.transform(df.select(columns).to_numpy())\n",
    "    \n",
    "    return df.with_columns([\n",
    "        pl.Series(scaled_values[:, i]).alias(f\"{col}\")\n",
    "        for i, col in enumerate(columns)\n",
    "    ]), scaler\n",
    "\n",
    "# 选择需要标准化的列\n",
    "columns_to_scale = [\"refresh_count_transformed_box\", \"duration_transformed_box\"]\n",
    "\n",
    "# 对 train_data_offline 进行标准化\n",
    "train_data_offline, scaler = min_max_scale(train_data_offline, columns_to_scale)\n",
    "\n",
    "# 使用相同的 scaler 对 val_data_offline 和 test_data_online 进行标准化\n",
    "val_data_offline, _ = min_max_scale(val_data_offline, columns_to_scale, scaler)\n",
    "test_data_online, _ = min_max_scale(test_data_online, columns_to_scale, scaler)\n",
    "\n",
    "# 查看标准化后的结果\n",
    "print(train_data_offline.select([f\"{col}\" for col in columns_to_scale]).describe())\n",
    "print(val_data_offline.select([f\"{col}\" for col in columns_to_scale]).describe())\n",
    "print(test_data_online.select([f\"{col}\" for col in columns_to_scale]).describe())"
   ]
  },
  {
   "cell_type": "markdown",
   "metadata": {},
   "source": [
    "### 4. 保存数据"
   ]
  },
  {
   "cell_type": "markdown",
   "metadata": {},
   "source": [
    "#### 4.1 线下数据"
   ]
  },
  {
   "cell_type": "code",
   "execution_count": 25,
   "metadata": {},
   "outputs": [],
   "source": [
    "# 保存数据\n",
    "offline_path = \"/data1/zxh/news_rec/offline_data\" \n",
    "\n",
    "train_data_offline.write_ipc(f\"{offline_path}/train_data_offline.ipc\")\n",
    "val_data_offline.write_ipc(f\"{offline_path}/val_data_offline.ipc\")"
   ]
  },
  {
   "cell_type": "markdown",
   "metadata": {},
   "source": [
    "#### 4.2 线上数据"
   ]
  },
  {
   "cell_type": "code",
   "execution_count": 26,
   "metadata": {},
   "outputs": [],
   "source": [
    "online_path = \"/data1/zxh/news_rec/online_data\"\n",
    "\n",
    "train_data_online = pl.concat([train_data_offline, val_data_offline], how=\"vertical\")\n",
    "\n",
    "train_data_online.write_ipc(f\"{online_path}/train_data_online.ipc\")\n",
    "test_data_online.write_ipc(f\"{online_path}/test_data_online.ipc\")"
   ]
  }
 ],
 "metadata": {
  "kernelspec": {
   "display_name": "tensorflow",
   "language": "python",
   "name": "python3"
  },
  "language_info": {
   "codemirror_mode": {
    "name": "ipython",
    "version": 3
   },
   "file_extension": ".py",
   "mimetype": "text/x-python",
   "name": "python",
   "nbconvert_exporter": "python",
   "pygments_lexer": "ipython3",
   "version": "3.9.21"
  }
 },
 "nbformat": 4,
 "nbformat_minor": 2
}
